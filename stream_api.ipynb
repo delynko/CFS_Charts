{
 "cells": [
  {
   "cell_type": "code",
   "execution_count": 1,
   "metadata": {},
   "outputs": [],
   "source": [
    "import requests\n",
    "import csv\n",
    "import json\n",
    "import pandas as pd\n",
    "import plotly.graph_objects as go\n",
    "from datetime import datetime"
   ]
  },
  {
   "cell_type": "code",
   "execution_count": 2,
   "metadata": {},
   "outputs": [],
   "source": [
    "site_id = '06719505'\n",
    "\n",
    "hist_req = requests.get(\"https://waterservices.usgs.gov/nwis/dv/?format=json&sites={}&period=P520W&statCd=00003&siteStatus=all\".format(site_id))\n",
    "recent_req = requests.get(\"https://waterservices.usgs.gov/nwis/dv/?format=json&sites={}&startDT=2020-01-01&endDT=2020-05-13&statCd=00003&siteStatus=all\".format(site_id))"
   ]
  },
  {
   "cell_type": "code",
   "execution_count": 3,
   "metadata": {},
   "outputs": [],
   "source": [
    "# recent data\n",
    "res = recent_req.json()\n",
    "\n",
    "rec_days = []\n",
    "rec_cfss = []\n",
    "\n",
    "site_name = res[\"value\"][\"timeSeries\"][0][\"sourceInfo\"][\"siteName\"]\n",
    "lat = res[\"value\"][\"timeSeries\"][0][\"sourceInfo\"][\"geoLocation\"][\"geogLocation\"][\"latitude\"]\n",
    "lon = res[\"value\"][\"timeSeries\"][0][\"sourceInfo\"][\"geoLocation\"][\"geogLocation\"][\"longitude\"]\n",
    "\n",
    "for vals in res[\"value\"][\"timeSeries\"][0][\"values\"][0][\"value\"]:\n",
    "    cfs = round(float(vals[\"value\"]),0)\n",
    "    day = vals[\"dateTime\"]\n",
    "    date = datetime.strptime(day.split(\"T\")[0], \"%Y-%m-%d\")\n",
    "    doy = datetime.strftime(date, \"%B %d\")\n",
    "    montInt = datetime.strftime(date, \"%m\")\n",
    "    rec_days.append(\"{} {}\".format(montInt, doy))\n",
    "    rec_cfss.append(cfs)\n",
    "\n",
    "# historical data\n",
    "res = hist_req.json()\n",
    "his_days = []\n",
    "his_cfss = []\n",
    "for vals in res[\"value\"][\"timeSeries\"][0][\"values\"][0][\"value\"]:\n",
    "    cfs = round(float(vals[\"value\"]),0)\n",
    "    day = vals[\"dateTime\"]\n",
    "    date = datetime.strptime(day.split(\"T\")[0], \"%Y-%m-%d\")\n",
    "    doy = datetime.strftime(date, \"%B %d\")\n",
    "    montInt = datetime.strftime(date, \"%m\")\n",
    "    his_days.append(\"{} {}\".format(montInt, doy))\n",
    "    his_cfss.append(cfs)"
   ]
  },
  {
   "cell_type": "code",
   "execution_count": 4,
   "metadata": {},
   "outputs": [],
   "source": [
    "rec_d = {'day': rec_days, 'cfs': rec_cfss}\n",
    "rec_df = pd.DataFrame(data=rec_d)\n",
    "\n",
    "his_d = {'day': his_days, 'cfs': his_cfss}\n",
    "his_df = pd.DataFrame(data=his_d)"
   ]
  },
  {
   "cell_type": "code",
   "execution_count": 23,
   "metadata": {},
   "outputs": [],
   "source": [
    "stat = \"mean\"\n",
    "\n",
    "rec_cfs_df = rec_df.groupby(['day']).agg({\"cfs\": [\"{}\".format(stat)]}).reset_index()\n",
    "\n",
    "cols = rec_cfs_df.columns.tolist()\n",
    "\n",
    "rec_cfs_df[\"mean_cfs\"] = rec_cfs_df[cols[1]]\n",
    "\n",
    "his_cfs_df = his_df.groupby(['day']).agg({\"cfs\": [\"{}\".format(stat)]}).reset_index()\n",
    "\n",
    "cols = his_cfs_df.columns.tolist()\n",
    "\n",
    "his_cfs_df[\"mean_cfs\"] = his_cfs_df[cols[1]]"
   ]
  },
  {
   "cell_type": "code",
   "execution_count": 24,
   "metadata": {},
   "outputs": [],
   "source": [
    "rec_cfs_df[['month', 'new_day']] = rec_cfs_df.day.str.split(expand=True, n=1)\n",
    "his_cfs_df[['month', 'new_day']] = his_cfs_df.day.str.split(expand=True, n=1)"
   ]
  },
  {
   "cell_type": "code",
   "execution_count": 25,
   "metadata": {},
   "outputs": [
    {
     "data": {
      "application/vnd.plotly.v1+json": {
       "config": {
        "plotlyServerURL": "https://plot.ly"
       },
       "data": [
        {
         "line": {
          "color": "orange",
          "width": 2
         },
         "name": "Mean CFS for the Day<br>(Over Last 10 Years)",
         "type": "scatter",
         "x": [
          "January 01",
          "January 02",
          "January 03",
          "January 04",
          "January 05",
          "January 06",
          "January 07",
          "January 08",
          "January 09",
          "January 10",
          "January 11",
          "January 12",
          "January 13",
          "January 14",
          "January 15",
          "January 16",
          "January 17",
          "January 18",
          "January 19",
          "January 20",
          "January 21",
          "January 22",
          "January 23",
          "January 24",
          "January 25",
          "January 26",
          "January 27",
          "January 28",
          "January 29",
          "January 30",
          "January 31",
          "February 01",
          "February 02",
          "February 03",
          "February 04",
          "February 05",
          "February 06",
          "February 07",
          "February 08",
          "February 09",
          "February 10",
          "February 11",
          "February 12",
          "February 13",
          "February 14",
          "February 15",
          "February 16",
          "February 17",
          "February 18",
          "February 19",
          "February 20",
          "February 21",
          "February 22",
          "February 23",
          "February 24",
          "February 25",
          "February 26",
          "February 27",
          "February 28",
          "February 29",
          "March 01",
          "March 02",
          "March 03",
          "March 04",
          "March 05",
          "March 06",
          "March 07",
          "March 08",
          "March 09",
          "March 10",
          "March 11",
          "March 12",
          "March 13",
          "March 14",
          "March 15",
          "March 16",
          "March 17",
          "March 18",
          "March 19",
          "March 20",
          "March 21",
          "March 22",
          "March 23",
          "March 24",
          "March 25",
          "March 26",
          "March 27",
          "March 28",
          "March 29",
          "March 30",
          "March 31",
          "April 01",
          "April 02",
          "April 03",
          "April 04",
          "April 05",
          "April 06",
          "April 07",
          "April 08",
          "April 09",
          "April 10",
          "April 11",
          "April 12",
          "April 13",
          "April 14",
          "April 15",
          "April 16",
          "April 17",
          "April 18",
          "April 19",
          "April 20",
          "April 21",
          "April 22",
          "April 23",
          "April 24",
          "April 25",
          "April 26",
          "April 27",
          "April 28",
          "April 29",
          "April 30",
          "May 01",
          "May 02",
          "May 03",
          "May 04",
          "May 05",
          "May 06",
          "May 07",
          "May 08",
          "May 09",
          "May 10",
          "May 11",
          "May 12",
          "May 13",
          "May 14",
          "May 15",
          "May 16",
          "May 17",
          "May 18",
          "May 19",
          "May 20",
          "May 21",
          "May 22",
          "May 23",
          "May 24",
          "May 25",
          "May 26",
          "May 27",
          "May 28",
          "May 29",
          "May 30",
          "May 31",
          "June 01",
          "June 02",
          "June 03",
          "June 04",
          "June 05",
          "June 06",
          "June 07",
          "June 08",
          "June 09",
          "June 10",
          "June 11",
          "June 12",
          "June 13",
          "June 14",
          "June 15",
          "June 16",
          "June 17",
          "June 18",
          "June 19",
          "June 20",
          "June 21",
          "June 22",
          "June 23",
          "June 24",
          "June 25",
          "June 26",
          "June 27",
          "June 28",
          "June 29",
          "June 30",
          "July 01",
          "July 02",
          "July 03",
          "July 04",
          "July 05",
          "July 06",
          "July 07",
          "July 08",
          "July 09",
          "July 10",
          "July 11",
          "July 12",
          "July 13",
          "July 14",
          "July 15",
          "July 16",
          "July 17",
          "July 18",
          "July 19",
          "July 20",
          "July 21",
          "July 22",
          "July 23",
          "July 24",
          "July 25",
          "July 26",
          "July 27",
          "July 28",
          "July 29",
          "July 30",
          "July 31",
          "August 01",
          "August 02",
          "August 03",
          "August 04",
          "August 05",
          "August 06",
          "August 07",
          "August 08",
          "August 09",
          "August 10",
          "August 11",
          "August 12",
          "August 13",
          "August 14",
          "August 15",
          "August 16",
          "August 17",
          "August 18",
          "August 19",
          "August 20",
          "August 21",
          "August 22",
          "August 23",
          "August 24",
          "August 25",
          "August 26",
          "August 27",
          "August 28",
          "August 29",
          "August 30",
          "August 31",
          "September 01",
          "September 02",
          "September 03",
          "September 04",
          "September 05",
          "September 06",
          "September 07",
          "September 08",
          "September 09",
          "September 10",
          "September 11",
          "September 12",
          "September 13",
          "September 14",
          "September 15",
          "September 16",
          "September 17",
          "September 18",
          "September 19",
          "September 20",
          "September 21",
          "September 22",
          "September 23",
          "September 24",
          "September 25",
          "September 26",
          "September 27",
          "September 28",
          "September 29",
          "September 30",
          "October 01",
          "October 02",
          "October 03",
          "October 04",
          "October 05",
          "October 06",
          "October 07",
          "October 08",
          "October 09",
          "October 10",
          "October 11",
          "October 12",
          "October 13",
          "October 14",
          "October 15",
          "October 16",
          "October 17",
          "October 18",
          "October 19",
          "October 20",
          "October 21",
          "October 22",
          "October 23",
          "October 24",
          "October 25",
          "October 26",
          "October 27",
          "October 28",
          "October 29",
          "October 30",
          "October 31",
          "November 01",
          "November 02",
          "November 03",
          "November 04",
          "November 05",
          "November 06",
          "November 07",
          "November 08",
          "November 09",
          "November 10",
          "November 11",
          "November 12",
          "November 13",
          "November 14",
          "November 15",
          "November 16",
          "November 17",
          "November 18",
          "November 19",
          "November 20",
          "November 21",
          "November 22",
          "November 23",
          "November 24",
          "November 25",
          "November 26",
          "November 27",
          "November 28",
          "November 29",
          "November 30",
          "December 01",
          "December 02",
          "December 03",
          "December 04",
          "December 05",
          "December 06",
          "December 07",
          "December 08",
          "December 09",
          "December 10",
          "December 11",
          "December 12",
          "December 13",
          "December 14",
          "December 15",
          "December 16",
          "December 17",
          "December 18",
          "December 19",
          "December 20",
          "December 21",
          "December 22",
          "December 23",
          "December 24",
          "December 25",
          "December 26",
          "December 27",
          "December 28",
          "December 29",
          "December 30",
          "December 31"
         ],
         "y": [
          42.1,
          44.7,
          45,
          46.1,
          45.3,
          46.4,
          47,
          47,
          48.8,
          46.3,
          43.3,
          42.5,
          42.8,
          43.3,
          43.6,
          43.3,
          42.6,
          43.8,
          45.4,
          44.8,
          43.6,
          41.6,
          40,
          42.1,
          41.7,
          40.3,
          40,
          41.6,
          44.1,
          44,
          42.8,
          42.6,
          40.9,
          39.7,
          41.9,
          41.7,
          42,
          41.8,
          41.8,
          42,
          42.7,
          42.7,
          42.5,
          44.2,
          44.5,
          42.2,
          42.5,
          40.6,
          41.2,
          40.7,
          40.4,
          38.8,
          42.3,
          43,
          40.1,
          37.8,
          39.7,
          42.5,
          43.6,
          41,
          40.4,
          39.9,
          39.9,
          40.4,
          40.6,
          42.5,
          43.3,
          44.4,
          43.5,
          43.3,
          44.2,
          44.9,
          47.6,
          46.1,
          46.3,
          47.7,
          49.2,
          51.4,
          51.5,
          48.9,
          50.2,
          50.8,
          51.7,
          53.1,
          52.7,
          53.5,
          55.4,
          56.3,
          56.5,
          57.9,
          57.8,
          59,
          61.8,
          63.5,
          61.2,
          62,
          60.3,
          62.2,
          64.1,
          67.6,
          70.8,
          72.9,
          76,
          78.3,
          76.4,
          79.8,
          79.8,
          80.3,
          78.4,
          83.9,
          90.4,
          94.1,
          99.5,
          106.3,
          115.9,
          114.5,
          123.4,
          129.2,
          125.5,
          126.7,
          132.2,
          138,
          136.4,
          146.1,
          154.1,
          171.7,
          179.5,
          190.4,
          202,
          231.2,
          235.9,
          245.5,
          240.2,
          253.2,
          264.7,
          282.55555555555554,
          295.77777777777777,
          310.8888888888889,
          333.1111111111111,
          340.22222222222223,
          328.3333333333333,
          338.77777777777777,
          368.6666666666667,
          398.77777777777777,
          418.44444444444446,
          459,
          469.55555555555554,
          478.3333333333333,
          514.1,
          548.8,
          560.3,
          573.7,
          616.7,
          652.3,
          712.2,
          768.5,
          875.5,
          954.2,
          1004.7,
          1037.8,
          1052.4,
          1058.2,
          1062.6,
          1137.7,
          1103.1,
          1058.3,
          991.3,
          974.5,
          989.7,
          996.8,
          982.2,
          973,
          932.5,
          900.2,
          873.1,
          822.5,
          794.2,
          766.6,
          741.3,
          722.4,
          704.1,
          703.1,
          710.1,
          697.6,
          666.3,
          641.3,
          606.6,
          594.2,
          612.2,
          603.1,
          565.9,
          537,
          518.2,
          519.8,
          510.5,
          498.9,
          473.2,
          447,
          419.1,
          400.9,
          399.1,
          383.9,
          376.1,
          349.4,
          320.7,
          304,
          293.6,
          290.5,
          278.6,
          274,
          286.6,
          293,
          283.4,
          264.2,
          257.8,
          279,
          252.3,
          246.3,
          233.9,
          223.3,
          224.7,
          219.3,
          207,
          201.2,
          194.8,
          183.3,
          180.1,
          179.8,
          164.8,
          161.1,
          147.8,
          142.3,
          145.9,
          138.9,
          137.8,
          138.9,
          141.8,
          132.8,
          137.7,
          141.9,
          134.4,
          134.7,
          131.7,
          130.6,
          125.8,
          119.6,
          116.3,
          115.3,
          118.7,
          114.7,
          123.9,
          119.1,
          115.4,
          129.6,
          129.2,
          147,
          216.9,
          177.9,
          178.2,
          176.3,
          161.9,
          151.8,
          142.4,
          133.9,
          129.1,
          128.1,
          130.4,
          126.6,
          121.4,
          118.9,
          116.7,
          112.1,
          114.8,
          113.8,
          108.3,
          110.3,
          106.8,
          105.2,
          103.1,
          103.8,
          104.1,
          103.1,
          99.1,
          101.8,
          99,
          96.3,
          95.6,
          89.9,
          85,
          84.3,
          83.1,
          84.9,
          83.3,
          84.2,
          85.5,
          84.4,
          84.7,
          81.1,
          80.3,
          81.1,
          77,
          74.1,
          75.5,
          76.4,
          76,
          76.1,
          71,
          71.6,
          69.9,
          69.2,
          65.7,
          64.8,
          65.1,
          62.5,
          62.8,
          62.3,
          56.8,
          59.8,
          60.5,
          61.2,
          60.6,
          59.6,
          59.5,
          59.7,
          60.9,
          59.8,
          58.2,
          56.5,
          55.6,
          52.9,
          50.4,
          52.5,
          54.8,
          57.5,
          55.3,
          51.5,
          52.7,
          55.7,
          50.6,
          49.1,
          50,
          50.5,
          49.7,
          49.6,
          47.77777777777778,
          50,
          50.9,
          51.8,
          49.6,
          49.3,
          47.2,
          43,
          45.4,
          46.5,
          48.5,
          48.9,
          47.1,
          48.5,
          44.7,
          45.2,
          43.1,
          40.8,
          43.9,
          42.3,
          40.9,
          41.2
         ]
        },
        {
         "line": {
          "color": "blue",
          "width": 2
         },
         "name": "Mean CFS for the Day<br>(2020)",
         "type": "scatter",
         "x": [
          "January 01",
          "January 02",
          "January 03",
          "January 04",
          "January 05",
          "January 06",
          "January 07",
          "January 08",
          "January 09",
          "January 10",
          "January 11",
          "January 12",
          "January 13",
          "January 14",
          "January 15",
          "January 16",
          "January 17",
          "January 18",
          "January 19",
          "January 20",
          "January 21",
          "January 22",
          "January 23",
          "January 24",
          "January 25",
          "January 26",
          "January 27",
          "January 28",
          "January 29",
          "January 30",
          "January 31",
          "February 01",
          "February 02",
          "February 03",
          "February 04",
          "February 05",
          "February 06",
          "February 07",
          "February 08",
          "February 09",
          "February 10",
          "February 11",
          "February 12",
          "February 13",
          "February 14",
          "February 15",
          "February 16",
          "February 17",
          "February 18",
          "February 19",
          "February 20",
          "February 21",
          "February 22",
          "February 23",
          "February 24",
          "February 25",
          "February 26",
          "February 27",
          "February 28",
          "February 29",
          "March 01",
          "March 02",
          "March 03",
          "March 04",
          "March 05",
          "March 06",
          "March 07",
          "March 08",
          "March 09",
          "March 10",
          "March 11",
          "March 12",
          "March 13",
          "March 14",
          "March 15",
          "March 16",
          "March 17",
          "March 18",
          "March 19",
          "March 20",
          "March 21",
          "March 22",
          "March 23",
          "March 24",
          "March 25",
          "March 26",
          "March 27",
          "March 28",
          "March 29",
          "March 30",
          "March 31",
          "April 01",
          "April 02",
          "April 03",
          "April 04",
          "April 05",
          "April 06",
          "April 07",
          "April 08",
          "April 09",
          "April 10",
          "April 11",
          "April 12",
          "April 13",
          "April 14",
          "April 15",
          "April 16",
          "April 17",
          "April 18",
          "April 19",
          "April 20",
          "April 21",
          "April 22",
          "April 23",
          "April 24",
          "April 25",
          "April 26",
          "April 27",
          "April 28",
          "April 29",
          "April 30",
          "May 01",
          "May 02",
          "May 03",
          "May 04",
          "May 05",
          "May 06",
          "May 07",
          "May 08",
          "May 09",
          "May 10",
          "May 11",
          "May 12",
          "May 13"
         ],
         "y": [
          47,
          47,
          40,
          47,
          45,
          37,
          39,
          38,
          36,
          32,
          29,
          27,
          32,
          34,
          37,
          40,
          41,
          34,
          33,
          40,
          43,
          42,
          38,
          37,
          38,
          37,
          38,
          34,
          36,
          34,
          29,
          41,
          38,
          34,
          29,
          18,
          24,
          38,
          39,
          46,
          41,
          43,
          42,
          40,
          41,
          40,
          40,
          42,
          38,
          33,
          32,
          36,
          47,
          43,
          38,
          26,
          21,
          41,
          42,
          40,
          38,
          38,
          38,
          39,
          40,
          42,
          42,
          45,
          50,
          47,
          45,
          49,
          46,
          47,
          47,
          48,
          46,
          47,
          52,
          45,
          46,
          47,
          46,
          47,
          49,
          48,
          50,
          48,
          43,
          48,
          46,
          45,
          45,
          41,
          44,
          46,
          48,
          52,
          56,
          62,
          68,
          73,
          74,
          63,
          59,
          65,
          70,
          62,
          67,
          62,
          64,
          67,
          67,
          69,
          78,
          79,
          83,
          88,
          107,
          124,
          145,
          169,
          210,
          237,
          245,
          205,
          195,
          202,
          200,
          191,
          191,
          201,
          196,
          208
         ]
        }
       ],
       "layout": {
        "font": {
         "color": "#7f7f7f",
         "family": "Courier New, monospace",
         "size": 12
        },
        "template": {
         "data": {
          "bar": [
           {
            "error_x": {
             "color": "#2a3f5f"
            },
            "error_y": {
             "color": "#2a3f5f"
            },
            "marker": {
             "line": {
              "color": "#E5ECF6",
              "width": 0.5
             }
            },
            "type": "bar"
           }
          ],
          "barpolar": [
           {
            "marker": {
             "line": {
              "color": "#E5ECF6",
              "width": 0.5
             }
            },
            "type": "barpolar"
           }
          ],
          "carpet": [
           {
            "aaxis": {
             "endlinecolor": "#2a3f5f",
             "gridcolor": "white",
             "linecolor": "white",
             "minorgridcolor": "white",
             "startlinecolor": "#2a3f5f"
            },
            "baxis": {
             "endlinecolor": "#2a3f5f",
             "gridcolor": "white",
             "linecolor": "white",
             "minorgridcolor": "white",
             "startlinecolor": "#2a3f5f"
            },
            "type": "carpet"
           }
          ],
          "choropleth": [
           {
            "colorbar": {
             "outlinewidth": 0,
             "ticks": ""
            },
            "type": "choropleth"
           }
          ],
          "contour": [
           {
            "colorbar": {
             "outlinewidth": 0,
             "ticks": ""
            },
            "colorscale": [
             [
              0,
              "#0d0887"
             ],
             [
              0.1111111111111111,
              "#46039f"
             ],
             [
              0.2222222222222222,
              "#7201a8"
             ],
             [
              0.3333333333333333,
              "#9c179e"
             ],
             [
              0.4444444444444444,
              "#bd3786"
             ],
             [
              0.5555555555555556,
              "#d8576b"
             ],
             [
              0.6666666666666666,
              "#ed7953"
             ],
             [
              0.7777777777777778,
              "#fb9f3a"
             ],
             [
              0.8888888888888888,
              "#fdca26"
             ],
             [
              1,
              "#f0f921"
             ]
            ],
            "type": "contour"
           }
          ],
          "contourcarpet": [
           {
            "colorbar": {
             "outlinewidth": 0,
             "ticks": ""
            },
            "type": "contourcarpet"
           }
          ],
          "heatmap": [
           {
            "colorbar": {
             "outlinewidth": 0,
             "ticks": ""
            },
            "colorscale": [
             [
              0,
              "#0d0887"
             ],
             [
              0.1111111111111111,
              "#46039f"
             ],
             [
              0.2222222222222222,
              "#7201a8"
             ],
             [
              0.3333333333333333,
              "#9c179e"
             ],
             [
              0.4444444444444444,
              "#bd3786"
             ],
             [
              0.5555555555555556,
              "#d8576b"
             ],
             [
              0.6666666666666666,
              "#ed7953"
             ],
             [
              0.7777777777777778,
              "#fb9f3a"
             ],
             [
              0.8888888888888888,
              "#fdca26"
             ],
             [
              1,
              "#f0f921"
             ]
            ],
            "type": "heatmap"
           }
          ],
          "heatmapgl": [
           {
            "colorbar": {
             "outlinewidth": 0,
             "ticks": ""
            },
            "colorscale": [
             [
              0,
              "#0d0887"
             ],
             [
              0.1111111111111111,
              "#46039f"
             ],
             [
              0.2222222222222222,
              "#7201a8"
             ],
             [
              0.3333333333333333,
              "#9c179e"
             ],
             [
              0.4444444444444444,
              "#bd3786"
             ],
             [
              0.5555555555555556,
              "#d8576b"
             ],
             [
              0.6666666666666666,
              "#ed7953"
             ],
             [
              0.7777777777777778,
              "#fb9f3a"
             ],
             [
              0.8888888888888888,
              "#fdca26"
             ],
             [
              1,
              "#f0f921"
             ]
            ],
            "type": "heatmapgl"
           }
          ],
          "histogram": [
           {
            "marker": {
             "colorbar": {
              "outlinewidth": 0,
              "ticks": ""
             }
            },
            "type": "histogram"
           }
          ],
          "histogram2d": [
           {
            "colorbar": {
             "outlinewidth": 0,
             "ticks": ""
            },
            "colorscale": [
             [
              0,
              "#0d0887"
             ],
             [
              0.1111111111111111,
              "#46039f"
             ],
             [
              0.2222222222222222,
              "#7201a8"
             ],
             [
              0.3333333333333333,
              "#9c179e"
             ],
             [
              0.4444444444444444,
              "#bd3786"
             ],
             [
              0.5555555555555556,
              "#d8576b"
             ],
             [
              0.6666666666666666,
              "#ed7953"
             ],
             [
              0.7777777777777778,
              "#fb9f3a"
             ],
             [
              0.8888888888888888,
              "#fdca26"
             ],
             [
              1,
              "#f0f921"
             ]
            ],
            "type": "histogram2d"
           }
          ],
          "histogram2dcontour": [
           {
            "colorbar": {
             "outlinewidth": 0,
             "ticks": ""
            },
            "colorscale": [
             [
              0,
              "#0d0887"
             ],
             [
              0.1111111111111111,
              "#46039f"
             ],
             [
              0.2222222222222222,
              "#7201a8"
             ],
             [
              0.3333333333333333,
              "#9c179e"
             ],
             [
              0.4444444444444444,
              "#bd3786"
             ],
             [
              0.5555555555555556,
              "#d8576b"
             ],
             [
              0.6666666666666666,
              "#ed7953"
             ],
             [
              0.7777777777777778,
              "#fb9f3a"
             ],
             [
              0.8888888888888888,
              "#fdca26"
             ],
             [
              1,
              "#f0f921"
             ]
            ],
            "type": "histogram2dcontour"
           }
          ],
          "mesh3d": [
           {
            "colorbar": {
             "outlinewidth": 0,
             "ticks": ""
            },
            "type": "mesh3d"
           }
          ],
          "parcoords": [
           {
            "line": {
             "colorbar": {
              "outlinewidth": 0,
              "ticks": ""
             }
            },
            "type": "parcoords"
           }
          ],
          "pie": [
           {
            "automargin": true,
            "type": "pie"
           }
          ],
          "scatter": [
           {
            "marker": {
             "colorbar": {
              "outlinewidth": 0,
              "ticks": ""
             }
            },
            "type": "scatter"
           }
          ],
          "scatter3d": [
           {
            "line": {
             "colorbar": {
              "outlinewidth": 0,
              "ticks": ""
             }
            },
            "marker": {
             "colorbar": {
              "outlinewidth": 0,
              "ticks": ""
             }
            },
            "type": "scatter3d"
           }
          ],
          "scattercarpet": [
           {
            "marker": {
             "colorbar": {
              "outlinewidth": 0,
              "ticks": ""
             }
            },
            "type": "scattercarpet"
           }
          ],
          "scattergeo": [
           {
            "marker": {
             "colorbar": {
              "outlinewidth": 0,
              "ticks": ""
             }
            },
            "type": "scattergeo"
           }
          ],
          "scattergl": [
           {
            "marker": {
             "colorbar": {
              "outlinewidth": 0,
              "ticks": ""
             }
            },
            "type": "scattergl"
           }
          ],
          "scattermapbox": [
           {
            "marker": {
             "colorbar": {
              "outlinewidth": 0,
              "ticks": ""
             }
            },
            "type": "scattermapbox"
           }
          ],
          "scatterpolar": [
           {
            "marker": {
             "colorbar": {
              "outlinewidth": 0,
              "ticks": ""
             }
            },
            "type": "scatterpolar"
           }
          ],
          "scatterpolargl": [
           {
            "marker": {
             "colorbar": {
              "outlinewidth": 0,
              "ticks": ""
             }
            },
            "type": "scatterpolargl"
           }
          ],
          "scatterternary": [
           {
            "marker": {
             "colorbar": {
              "outlinewidth": 0,
              "ticks": ""
             }
            },
            "type": "scatterternary"
           }
          ],
          "surface": [
           {
            "colorbar": {
             "outlinewidth": 0,
             "ticks": ""
            },
            "colorscale": [
             [
              0,
              "#0d0887"
             ],
             [
              0.1111111111111111,
              "#46039f"
             ],
             [
              0.2222222222222222,
              "#7201a8"
             ],
             [
              0.3333333333333333,
              "#9c179e"
             ],
             [
              0.4444444444444444,
              "#bd3786"
             ],
             [
              0.5555555555555556,
              "#d8576b"
             ],
             [
              0.6666666666666666,
              "#ed7953"
             ],
             [
              0.7777777777777778,
              "#fb9f3a"
             ],
             [
              0.8888888888888888,
              "#fdca26"
             ],
             [
              1,
              "#f0f921"
             ]
            ],
            "type": "surface"
           }
          ],
          "table": [
           {
            "cells": {
             "fill": {
              "color": "#EBF0F8"
             },
             "line": {
              "color": "white"
             }
            },
            "header": {
             "fill": {
              "color": "#C8D4E3"
             },
             "line": {
              "color": "white"
             }
            },
            "type": "table"
           }
          ]
         },
         "layout": {
          "annotationdefaults": {
           "arrowcolor": "#2a3f5f",
           "arrowhead": 0,
           "arrowwidth": 1
          },
          "coloraxis": {
           "colorbar": {
            "outlinewidth": 0,
            "ticks": ""
           }
          },
          "colorscale": {
           "diverging": [
            [
             0,
             "#8e0152"
            ],
            [
             0.1,
             "#c51b7d"
            ],
            [
             0.2,
             "#de77ae"
            ],
            [
             0.3,
             "#f1b6da"
            ],
            [
             0.4,
             "#fde0ef"
            ],
            [
             0.5,
             "#f7f7f7"
            ],
            [
             0.6,
             "#e6f5d0"
            ],
            [
             0.7,
             "#b8e186"
            ],
            [
             0.8,
             "#7fbc41"
            ],
            [
             0.9,
             "#4d9221"
            ],
            [
             1,
             "#276419"
            ]
           ],
           "sequential": [
            [
             0,
             "#0d0887"
            ],
            [
             0.1111111111111111,
             "#46039f"
            ],
            [
             0.2222222222222222,
             "#7201a8"
            ],
            [
             0.3333333333333333,
             "#9c179e"
            ],
            [
             0.4444444444444444,
             "#bd3786"
            ],
            [
             0.5555555555555556,
             "#d8576b"
            ],
            [
             0.6666666666666666,
             "#ed7953"
            ],
            [
             0.7777777777777778,
             "#fb9f3a"
            ],
            [
             0.8888888888888888,
             "#fdca26"
            ],
            [
             1,
             "#f0f921"
            ]
           ],
           "sequentialminus": [
            [
             0,
             "#0d0887"
            ],
            [
             0.1111111111111111,
             "#46039f"
            ],
            [
             0.2222222222222222,
             "#7201a8"
            ],
            [
             0.3333333333333333,
             "#9c179e"
            ],
            [
             0.4444444444444444,
             "#bd3786"
            ],
            [
             0.5555555555555556,
             "#d8576b"
            ],
            [
             0.6666666666666666,
             "#ed7953"
            ],
            [
             0.7777777777777778,
             "#fb9f3a"
            ],
            [
             0.8888888888888888,
             "#fdca26"
            ],
            [
             1,
             "#f0f921"
            ]
           ]
          },
          "colorway": [
           "#636efa",
           "#EF553B",
           "#00cc96",
           "#ab63fa",
           "#FFA15A",
           "#19d3f3",
           "#FF6692",
           "#B6E880",
           "#FF97FF",
           "#FECB52"
          ],
          "font": {
           "color": "#2a3f5f"
          },
          "geo": {
           "bgcolor": "white",
           "lakecolor": "white",
           "landcolor": "#E5ECF6",
           "showlakes": true,
           "showland": true,
           "subunitcolor": "white"
          },
          "hoverlabel": {
           "align": "left"
          },
          "hovermode": "closest",
          "mapbox": {
           "style": "light"
          },
          "paper_bgcolor": "white",
          "plot_bgcolor": "#E5ECF6",
          "polar": {
           "angularaxis": {
            "gridcolor": "white",
            "linecolor": "white",
            "ticks": ""
           },
           "bgcolor": "#E5ECF6",
           "radialaxis": {
            "gridcolor": "white",
            "linecolor": "white",
            "ticks": ""
           }
          },
          "scene": {
           "xaxis": {
            "backgroundcolor": "#E5ECF6",
            "gridcolor": "white",
            "gridwidth": 2,
            "linecolor": "white",
            "showbackground": true,
            "ticks": "",
            "zerolinecolor": "white"
           },
           "yaxis": {
            "backgroundcolor": "#E5ECF6",
            "gridcolor": "white",
            "gridwidth": 2,
            "linecolor": "white",
            "showbackground": true,
            "ticks": "",
            "zerolinecolor": "white"
           },
           "zaxis": {
            "backgroundcolor": "#E5ECF6",
            "gridcolor": "white",
            "gridwidth": 2,
            "linecolor": "white",
            "showbackground": true,
            "ticks": "",
            "zerolinecolor": "white"
           }
          },
          "shapedefaults": {
           "line": {
            "color": "#2a3f5f"
           }
          },
          "ternary": {
           "aaxis": {
            "gridcolor": "white",
            "linecolor": "white",
            "ticks": ""
           },
           "baxis": {
            "gridcolor": "white",
            "linecolor": "white",
            "ticks": ""
           },
           "bgcolor": "#E5ECF6",
           "caxis": {
            "gridcolor": "white",
            "linecolor": "white",
            "ticks": ""
           }
          },
          "title": {
           "x": 0.05
          },
          "xaxis": {
           "automargin": true,
           "gridcolor": "white",
           "linecolor": "white",
           "ticks": "",
           "title": {
            "standoff": 15
           },
           "zerolinecolor": "white",
           "zerolinewidth": 2
          },
          "yaxis": {
           "automargin": true,
           "gridcolor": "white",
           "linecolor": "white",
           "ticks": "",
           "title": {
            "standoff": 15
           },
           "zerolinecolor": "white",
           "zerolinewidth": 2
          }
         }
        },
        "title": {
         "text": "CFS for Clear Creek At Golden, Co<br>Coordinates: 39.75304299, -105.2352667"
        },
        "yaxis": {
         "title": {
          "text": "Cubic Feet per Second (CFS)"
         }
        }
       }
      },
      "text/html": [
       "<div>\n",
       "        \n",
       "        \n",
       "            <div id=\"7dbcafdc-6b93-4d61-a1ef-23313e85b3f9\" class=\"plotly-graph-div\" style=\"height:525px; width:100%;\"></div>\n",
       "            <script type=\"text/javascript\">\n",
       "                require([\"plotly\"], function(Plotly) {\n",
       "                    window.PLOTLYENV=window.PLOTLYENV || {};\n",
       "                    \n",
       "                if (document.getElementById(\"7dbcafdc-6b93-4d61-a1ef-23313e85b3f9\")) {\n",
       "                    Plotly.newPlot(\n",
       "                        '7dbcafdc-6b93-4d61-a1ef-23313e85b3f9',\n",
       "                        [{\"line\": {\"color\": \"orange\", \"width\": 2}, \"name\": \"Mean CFS for the Day<br>(Over Last 10 Years)\", \"type\": \"scatter\", \"x\": [\"January 01\", \"January 02\", \"January 03\", \"January 04\", \"January 05\", \"January 06\", \"January 07\", \"January 08\", \"January 09\", \"January 10\", \"January 11\", \"January 12\", \"January 13\", \"January 14\", \"January 15\", \"January 16\", \"January 17\", \"January 18\", \"January 19\", \"January 20\", \"January 21\", \"January 22\", \"January 23\", \"January 24\", \"January 25\", \"January 26\", \"January 27\", \"January 28\", \"January 29\", \"January 30\", \"January 31\", \"February 01\", \"February 02\", \"February 03\", \"February 04\", \"February 05\", \"February 06\", \"February 07\", \"February 08\", \"February 09\", \"February 10\", \"February 11\", \"February 12\", \"February 13\", \"February 14\", \"February 15\", \"February 16\", \"February 17\", \"February 18\", \"February 19\", \"February 20\", \"February 21\", \"February 22\", \"February 23\", \"February 24\", \"February 25\", \"February 26\", \"February 27\", \"February 28\", \"February 29\", \"March 01\", \"March 02\", \"March 03\", \"March 04\", \"March 05\", \"March 06\", \"March 07\", \"March 08\", \"March 09\", \"March 10\", \"March 11\", \"March 12\", \"March 13\", \"March 14\", \"March 15\", \"March 16\", \"March 17\", \"March 18\", \"March 19\", \"March 20\", \"March 21\", \"March 22\", \"March 23\", \"March 24\", \"March 25\", \"March 26\", \"March 27\", \"March 28\", \"March 29\", \"March 30\", \"March 31\", \"April 01\", \"April 02\", \"April 03\", \"April 04\", \"April 05\", \"April 06\", \"April 07\", \"April 08\", \"April 09\", \"April 10\", \"April 11\", \"April 12\", \"April 13\", \"April 14\", \"April 15\", \"April 16\", \"April 17\", \"April 18\", \"April 19\", \"April 20\", \"April 21\", \"April 22\", \"April 23\", \"April 24\", \"April 25\", \"April 26\", \"April 27\", \"April 28\", \"April 29\", \"April 30\", \"May 01\", \"May 02\", \"May 03\", \"May 04\", \"May 05\", \"May 06\", \"May 07\", \"May 08\", \"May 09\", \"May 10\", \"May 11\", \"May 12\", \"May 13\", \"May 14\", \"May 15\", \"May 16\", \"May 17\", \"May 18\", \"May 19\", \"May 20\", \"May 21\", \"May 22\", \"May 23\", \"May 24\", \"May 25\", \"May 26\", \"May 27\", \"May 28\", \"May 29\", \"May 30\", \"May 31\", \"June 01\", \"June 02\", \"June 03\", \"June 04\", \"June 05\", \"June 06\", \"June 07\", \"June 08\", \"June 09\", \"June 10\", \"June 11\", \"June 12\", \"June 13\", \"June 14\", \"June 15\", \"June 16\", \"June 17\", \"June 18\", \"June 19\", \"June 20\", \"June 21\", \"June 22\", \"June 23\", \"June 24\", \"June 25\", \"June 26\", \"June 27\", \"June 28\", \"June 29\", \"June 30\", \"July 01\", \"July 02\", \"July 03\", \"July 04\", \"July 05\", \"July 06\", \"July 07\", \"July 08\", \"July 09\", \"July 10\", \"July 11\", \"July 12\", \"July 13\", \"July 14\", \"July 15\", \"July 16\", \"July 17\", \"July 18\", \"July 19\", \"July 20\", \"July 21\", \"July 22\", \"July 23\", \"July 24\", \"July 25\", \"July 26\", \"July 27\", \"July 28\", \"July 29\", \"July 30\", \"July 31\", \"August 01\", \"August 02\", \"August 03\", \"August 04\", \"August 05\", \"August 06\", \"August 07\", \"August 08\", \"August 09\", \"August 10\", \"August 11\", \"August 12\", \"August 13\", \"August 14\", \"August 15\", \"August 16\", \"August 17\", \"August 18\", \"August 19\", \"August 20\", \"August 21\", \"August 22\", \"August 23\", \"August 24\", \"August 25\", \"August 26\", \"August 27\", \"August 28\", \"August 29\", \"August 30\", \"August 31\", \"September 01\", \"September 02\", \"September 03\", \"September 04\", \"September 05\", \"September 06\", \"September 07\", \"September 08\", \"September 09\", \"September 10\", \"September 11\", \"September 12\", \"September 13\", \"September 14\", \"September 15\", \"September 16\", \"September 17\", \"September 18\", \"September 19\", \"September 20\", \"September 21\", \"September 22\", \"September 23\", \"September 24\", \"September 25\", \"September 26\", \"September 27\", \"September 28\", \"September 29\", \"September 30\", \"October 01\", \"October 02\", \"October 03\", \"October 04\", \"October 05\", \"October 06\", \"October 07\", \"October 08\", \"October 09\", \"October 10\", \"October 11\", \"October 12\", \"October 13\", \"October 14\", \"October 15\", \"October 16\", \"October 17\", \"October 18\", \"October 19\", \"October 20\", \"October 21\", \"October 22\", \"October 23\", \"October 24\", \"October 25\", \"October 26\", \"October 27\", \"October 28\", \"October 29\", \"October 30\", \"October 31\", \"November 01\", \"November 02\", \"November 03\", \"November 04\", \"November 05\", \"November 06\", \"November 07\", \"November 08\", \"November 09\", \"November 10\", \"November 11\", \"November 12\", \"November 13\", \"November 14\", \"November 15\", \"November 16\", \"November 17\", \"November 18\", \"November 19\", \"November 20\", \"November 21\", \"November 22\", \"November 23\", \"November 24\", \"November 25\", \"November 26\", \"November 27\", \"November 28\", \"November 29\", \"November 30\", \"December 01\", \"December 02\", \"December 03\", \"December 04\", \"December 05\", \"December 06\", \"December 07\", \"December 08\", \"December 09\", \"December 10\", \"December 11\", \"December 12\", \"December 13\", \"December 14\", \"December 15\", \"December 16\", \"December 17\", \"December 18\", \"December 19\", \"December 20\", \"December 21\", \"December 22\", \"December 23\", \"December 24\", \"December 25\", \"December 26\", \"December 27\", \"December 28\", \"December 29\", \"December 30\", \"December 31\"], \"y\": [42.1, 44.7, 45.0, 46.1, 45.3, 46.4, 47.0, 47.0, 48.8, 46.3, 43.3, 42.5, 42.8, 43.3, 43.6, 43.3, 42.6, 43.8, 45.4, 44.8, 43.6, 41.6, 40.0, 42.1, 41.7, 40.3, 40.0, 41.6, 44.1, 44.0, 42.8, 42.6, 40.9, 39.7, 41.9, 41.7, 42.0, 41.8, 41.8, 42.0, 42.7, 42.7, 42.5, 44.2, 44.5, 42.2, 42.5, 40.6, 41.2, 40.7, 40.4, 38.8, 42.3, 43.0, 40.1, 37.8, 39.7, 42.5, 43.6, 41.0, 40.4, 39.9, 39.9, 40.4, 40.6, 42.5, 43.3, 44.4, 43.5, 43.3, 44.2, 44.9, 47.6, 46.1, 46.3, 47.7, 49.2, 51.4, 51.5, 48.9, 50.2, 50.8, 51.7, 53.1, 52.7, 53.5, 55.4, 56.3, 56.5, 57.9, 57.8, 59.0, 61.8, 63.5, 61.2, 62.0, 60.3, 62.2, 64.1, 67.6, 70.8, 72.9, 76.0, 78.3, 76.4, 79.8, 79.8, 80.3, 78.4, 83.9, 90.4, 94.1, 99.5, 106.3, 115.9, 114.5, 123.4, 129.2, 125.5, 126.7, 132.2, 138.0, 136.4, 146.1, 154.1, 171.7, 179.5, 190.4, 202.0, 231.2, 235.9, 245.5, 240.2, 253.2, 264.7, 282.55555555555554, 295.77777777777777, 310.8888888888889, 333.1111111111111, 340.22222222222223, 328.3333333333333, 338.77777777777777, 368.6666666666667, 398.77777777777777, 418.44444444444446, 459.0, 469.55555555555554, 478.3333333333333, 514.1, 548.8, 560.3, 573.7, 616.7, 652.3, 712.2, 768.5, 875.5, 954.2, 1004.7, 1037.8, 1052.4, 1058.2, 1062.6, 1137.7, 1103.1, 1058.3, 991.3, 974.5, 989.7, 996.8, 982.2, 973.0, 932.5, 900.2, 873.1, 822.5, 794.2, 766.6, 741.3, 722.4, 704.1, 703.1, 710.1, 697.6, 666.3, 641.3, 606.6, 594.2, 612.2, 603.1, 565.9, 537.0, 518.2, 519.8, 510.5, 498.9, 473.2, 447.0, 419.1, 400.9, 399.1, 383.9, 376.1, 349.4, 320.7, 304.0, 293.6, 290.5, 278.6, 274.0, 286.6, 293.0, 283.4, 264.2, 257.8, 279.0, 252.3, 246.3, 233.9, 223.3, 224.7, 219.3, 207.0, 201.2, 194.8, 183.3, 180.1, 179.8, 164.8, 161.1, 147.8, 142.3, 145.9, 138.9, 137.8, 138.9, 141.8, 132.8, 137.7, 141.9, 134.4, 134.7, 131.7, 130.6, 125.8, 119.6, 116.3, 115.3, 118.7, 114.7, 123.9, 119.1, 115.4, 129.6, 129.2, 147.0, 216.9, 177.9, 178.2, 176.3, 161.9, 151.8, 142.4, 133.9, 129.1, 128.1, 130.4, 126.6, 121.4, 118.9, 116.7, 112.1, 114.8, 113.8, 108.3, 110.3, 106.8, 105.2, 103.1, 103.8, 104.1, 103.1, 99.1, 101.8, 99.0, 96.3, 95.6, 89.9, 85.0, 84.3, 83.1, 84.9, 83.3, 84.2, 85.5, 84.4, 84.7, 81.1, 80.3, 81.1, 77.0, 74.1, 75.5, 76.4, 76.0, 76.1, 71.0, 71.6, 69.9, 69.2, 65.7, 64.8, 65.1, 62.5, 62.8, 62.3, 56.8, 59.8, 60.5, 61.2, 60.6, 59.6, 59.5, 59.7, 60.9, 59.8, 58.2, 56.5, 55.6, 52.9, 50.4, 52.5, 54.8, 57.5, 55.3, 51.5, 52.7, 55.7, 50.6, 49.1, 50.0, 50.5, 49.7, 49.6, 47.77777777777778, 50.0, 50.9, 51.8, 49.6, 49.3, 47.2, 43.0, 45.4, 46.5, 48.5, 48.9, 47.1, 48.5, 44.7, 45.2, 43.1, 40.8, 43.9, 42.3, 40.9, 41.2]}, {\"line\": {\"color\": \"blue\", \"width\": 2}, \"name\": \"Mean CFS for the Day<br>(2020)\", \"type\": \"scatter\", \"x\": [\"January 01\", \"January 02\", \"January 03\", \"January 04\", \"January 05\", \"January 06\", \"January 07\", \"January 08\", \"January 09\", \"January 10\", \"January 11\", \"January 12\", \"January 13\", \"January 14\", \"January 15\", \"January 16\", \"January 17\", \"January 18\", \"January 19\", \"January 20\", \"January 21\", \"January 22\", \"January 23\", \"January 24\", \"January 25\", \"January 26\", \"January 27\", \"January 28\", \"January 29\", \"January 30\", \"January 31\", \"February 01\", \"February 02\", \"February 03\", \"February 04\", \"February 05\", \"February 06\", \"February 07\", \"February 08\", \"February 09\", \"February 10\", \"February 11\", \"February 12\", \"February 13\", \"February 14\", \"February 15\", \"February 16\", \"February 17\", \"February 18\", \"February 19\", \"February 20\", \"February 21\", \"February 22\", \"February 23\", \"February 24\", \"February 25\", \"February 26\", \"February 27\", \"February 28\", \"February 29\", \"March 01\", \"March 02\", \"March 03\", \"March 04\", \"March 05\", \"March 06\", \"March 07\", \"March 08\", \"March 09\", \"March 10\", \"March 11\", \"March 12\", \"March 13\", \"March 14\", \"March 15\", \"March 16\", \"March 17\", \"March 18\", \"March 19\", \"March 20\", \"March 21\", \"March 22\", \"March 23\", \"March 24\", \"March 25\", \"March 26\", \"March 27\", \"March 28\", \"March 29\", \"March 30\", \"March 31\", \"April 01\", \"April 02\", \"April 03\", \"April 04\", \"April 05\", \"April 06\", \"April 07\", \"April 08\", \"April 09\", \"April 10\", \"April 11\", \"April 12\", \"April 13\", \"April 14\", \"April 15\", \"April 16\", \"April 17\", \"April 18\", \"April 19\", \"April 20\", \"April 21\", \"April 22\", \"April 23\", \"April 24\", \"April 25\", \"April 26\", \"April 27\", \"April 28\", \"April 29\", \"April 30\", \"May 01\", \"May 02\", \"May 03\", \"May 04\", \"May 05\", \"May 06\", \"May 07\", \"May 08\", \"May 09\", \"May 10\", \"May 11\", \"May 12\", \"May 13\"], \"y\": [47.0, 47.0, 40.0, 47.0, 45.0, 37.0, 39.0, 38.0, 36.0, 32.0, 29.0, 27.0, 32.0, 34.0, 37.0, 40.0, 41.0, 34.0, 33.0, 40.0, 43.0, 42.0, 38.0, 37.0, 38.0, 37.0, 38.0, 34.0, 36.0, 34.0, 29.0, 41.0, 38.0, 34.0, 29.0, 18.0, 24.0, 38.0, 39.0, 46.0, 41.0, 43.0, 42.0, 40.0, 41.0, 40.0, 40.0, 42.0, 38.0, 33.0, 32.0, 36.0, 47.0, 43.0, 38.0, 26.0, 21.0, 41.0, 42.0, 40.0, 38.0, 38.0, 38.0, 39.0, 40.0, 42.0, 42.0, 45.0, 50.0, 47.0, 45.0, 49.0, 46.0, 47.0, 47.0, 48.0, 46.0, 47.0, 52.0, 45.0, 46.0, 47.0, 46.0, 47.0, 49.0, 48.0, 50.0, 48.0, 43.0, 48.0, 46.0, 45.0, 45.0, 41.0, 44.0, 46.0, 48.0, 52.0, 56.0, 62.0, 68.0, 73.0, 74.0, 63.0, 59.0, 65.0, 70.0, 62.0, 67.0, 62.0, 64.0, 67.0, 67.0, 69.0, 78.0, 79.0, 83.0, 88.0, 107.0, 124.0, 145.0, 169.0, 210.0, 237.0, 245.0, 205.0, 195.0, 202.0, 200.0, 191.0, 191.0, 201.0, 196.0, 208.0]}],\n",
       "                        {\"font\": {\"color\": \"#7f7f7f\", \"family\": \"Courier New, monospace\", \"size\": 12}, \"template\": {\"data\": {\"bar\": [{\"error_x\": {\"color\": \"#2a3f5f\"}, \"error_y\": {\"color\": \"#2a3f5f\"}, \"marker\": {\"line\": {\"color\": \"#E5ECF6\", \"width\": 0.5}}, \"type\": \"bar\"}], \"barpolar\": [{\"marker\": {\"line\": {\"color\": \"#E5ECF6\", \"width\": 0.5}}, \"type\": \"barpolar\"}], \"carpet\": [{\"aaxis\": {\"endlinecolor\": \"#2a3f5f\", \"gridcolor\": \"white\", \"linecolor\": \"white\", \"minorgridcolor\": \"white\", \"startlinecolor\": \"#2a3f5f\"}, \"baxis\": {\"endlinecolor\": \"#2a3f5f\", \"gridcolor\": \"white\", \"linecolor\": \"white\", \"minorgridcolor\": \"white\", \"startlinecolor\": \"#2a3f5f\"}, \"type\": \"carpet\"}], \"choropleth\": [{\"colorbar\": {\"outlinewidth\": 0, \"ticks\": \"\"}, \"type\": \"choropleth\"}], \"contour\": [{\"colorbar\": {\"outlinewidth\": 0, \"ticks\": \"\"}, \"colorscale\": [[0.0, \"#0d0887\"], [0.1111111111111111, \"#46039f\"], [0.2222222222222222, \"#7201a8\"], [0.3333333333333333, \"#9c179e\"], [0.4444444444444444, \"#bd3786\"], [0.5555555555555556, \"#d8576b\"], [0.6666666666666666, \"#ed7953\"], [0.7777777777777778, \"#fb9f3a\"], [0.8888888888888888, \"#fdca26\"], [1.0, \"#f0f921\"]], \"type\": \"contour\"}], \"contourcarpet\": [{\"colorbar\": {\"outlinewidth\": 0, \"ticks\": \"\"}, \"type\": \"contourcarpet\"}], \"heatmap\": [{\"colorbar\": {\"outlinewidth\": 0, \"ticks\": \"\"}, \"colorscale\": [[0.0, \"#0d0887\"], [0.1111111111111111, \"#46039f\"], [0.2222222222222222, \"#7201a8\"], [0.3333333333333333, \"#9c179e\"], [0.4444444444444444, \"#bd3786\"], [0.5555555555555556, \"#d8576b\"], [0.6666666666666666, \"#ed7953\"], [0.7777777777777778, \"#fb9f3a\"], [0.8888888888888888, \"#fdca26\"], [1.0, \"#f0f921\"]], \"type\": \"heatmap\"}], \"heatmapgl\": [{\"colorbar\": {\"outlinewidth\": 0, \"ticks\": \"\"}, \"colorscale\": [[0.0, \"#0d0887\"], [0.1111111111111111, \"#46039f\"], [0.2222222222222222, \"#7201a8\"], [0.3333333333333333, \"#9c179e\"], [0.4444444444444444, \"#bd3786\"], [0.5555555555555556, \"#d8576b\"], [0.6666666666666666, \"#ed7953\"], [0.7777777777777778, \"#fb9f3a\"], [0.8888888888888888, \"#fdca26\"], [1.0, \"#f0f921\"]], \"type\": \"heatmapgl\"}], \"histogram\": [{\"marker\": {\"colorbar\": {\"outlinewidth\": 0, \"ticks\": \"\"}}, \"type\": \"histogram\"}], \"histogram2d\": [{\"colorbar\": {\"outlinewidth\": 0, \"ticks\": \"\"}, \"colorscale\": [[0.0, \"#0d0887\"], [0.1111111111111111, \"#46039f\"], [0.2222222222222222, \"#7201a8\"], [0.3333333333333333, \"#9c179e\"], [0.4444444444444444, \"#bd3786\"], [0.5555555555555556, \"#d8576b\"], [0.6666666666666666, \"#ed7953\"], [0.7777777777777778, \"#fb9f3a\"], [0.8888888888888888, \"#fdca26\"], [1.0, \"#f0f921\"]], \"type\": \"histogram2d\"}], \"histogram2dcontour\": [{\"colorbar\": {\"outlinewidth\": 0, \"ticks\": \"\"}, \"colorscale\": [[0.0, \"#0d0887\"], [0.1111111111111111, \"#46039f\"], [0.2222222222222222, \"#7201a8\"], [0.3333333333333333, \"#9c179e\"], [0.4444444444444444, \"#bd3786\"], [0.5555555555555556, \"#d8576b\"], [0.6666666666666666, \"#ed7953\"], [0.7777777777777778, \"#fb9f3a\"], [0.8888888888888888, \"#fdca26\"], [1.0, \"#f0f921\"]], \"type\": \"histogram2dcontour\"}], \"mesh3d\": [{\"colorbar\": {\"outlinewidth\": 0, \"ticks\": \"\"}, \"type\": \"mesh3d\"}], \"parcoords\": [{\"line\": {\"colorbar\": {\"outlinewidth\": 0, \"ticks\": \"\"}}, \"type\": \"parcoords\"}], \"pie\": [{\"automargin\": true, \"type\": \"pie\"}], \"scatter\": [{\"marker\": {\"colorbar\": {\"outlinewidth\": 0, \"ticks\": \"\"}}, \"type\": \"scatter\"}], \"scatter3d\": [{\"line\": {\"colorbar\": {\"outlinewidth\": 0, \"ticks\": \"\"}}, \"marker\": {\"colorbar\": {\"outlinewidth\": 0, \"ticks\": \"\"}}, \"type\": \"scatter3d\"}], \"scattercarpet\": [{\"marker\": {\"colorbar\": {\"outlinewidth\": 0, \"ticks\": \"\"}}, \"type\": \"scattercarpet\"}], \"scattergeo\": [{\"marker\": {\"colorbar\": {\"outlinewidth\": 0, \"ticks\": \"\"}}, \"type\": \"scattergeo\"}], \"scattergl\": [{\"marker\": {\"colorbar\": {\"outlinewidth\": 0, \"ticks\": \"\"}}, \"type\": \"scattergl\"}], \"scattermapbox\": [{\"marker\": {\"colorbar\": {\"outlinewidth\": 0, \"ticks\": \"\"}}, \"type\": \"scattermapbox\"}], \"scatterpolar\": [{\"marker\": {\"colorbar\": {\"outlinewidth\": 0, \"ticks\": \"\"}}, \"type\": \"scatterpolar\"}], \"scatterpolargl\": [{\"marker\": {\"colorbar\": {\"outlinewidth\": 0, \"ticks\": \"\"}}, \"type\": \"scatterpolargl\"}], \"scatterternary\": [{\"marker\": {\"colorbar\": {\"outlinewidth\": 0, \"ticks\": \"\"}}, \"type\": \"scatterternary\"}], \"surface\": [{\"colorbar\": {\"outlinewidth\": 0, \"ticks\": \"\"}, \"colorscale\": [[0.0, \"#0d0887\"], [0.1111111111111111, \"#46039f\"], [0.2222222222222222, \"#7201a8\"], [0.3333333333333333, \"#9c179e\"], [0.4444444444444444, \"#bd3786\"], [0.5555555555555556, \"#d8576b\"], [0.6666666666666666, \"#ed7953\"], [0.7777777777777778, \"#fb9f3a\"], [0.8888888888888888, \"#fdca26\"], [1.0, \"#f0f921\"]], \"type\": \"surface\"}], \"table\": [{\"cells\": {\"fill\": {\"color\": \"#EBF0F8\"}, \"line\": {\"color\": \"white\"}}, \"header\": {\"fill\": {\"color\": \"#C8D4E3\"}, \"line\": {\"color\": \"white\"}}, \"type\": \"table\"}]}, \"layout\": {\"annotationdefaults\": {\"arrowcolor\": \"#2a3f5f\", \"arrowhead\": 0, \"arrowwidth\": 1}, \"coloraxis\": {\"colorbar\": {\"outlinewidth\": 0, \"ticks\": \"\"}}, \"colorscale\": {\"diverging\": [[0, \"#8e0152\"], [0.1, \"#c51b7d\"], [0.2, \"#de77ae\"], [0.3, \"#f1b6da\"], [0.4, \"#fde0ef\"], [0.5, \"#f7f7f7\"], [0.6, \"#e6f5d0\"], [0.7, \"#b8e186\"], [0.8, \"#7fbc41\"], [0.9, \"#4d9221\"], [1, \"#276419\"]], \"sequential\": [[0.0, \"#0d0887\"], [0.1111111111111111, \"#46039f\"], [0.2222222222222222, \"#7201a8\"], [0.3333333333333333, \"#9c179e\"], [0.4444444444444444, \"#bd3786\"], [0.5555555555555556, \"#d8576b\"], [0.6666666666666666, \"#ed7953\"], [0.7777777777777778, \"#fb9f3a\"], [0.8888888888888888, \"#fdca26\"], [1.0, \"#f0f921\"]], \"sequentialminus\": [[0.0, \"#0d0887\"], [0.1111111111111111, \"#46039f\"], [0.2222222222222222, \"#7201a8\"], [0.3333333333333333, \"#9c179e\"], [0.4444444444444444, \"#bd3786\"], [0.5555555555555556, \"#d8576b\"], [0.6666666666666666, \"#ed7953\"], [0.7777777777777778, \"#fb9f3a\"], [0.8888888888888888, \"#fdca26\"], [1.0, \"#f0f921\"]]}, \"colorway\": [\"#636efa\", \"#EF553B\", \"#00cc96\", \"#ab63fa\", \"#FFA15A\", \"#19d3f3\", \"#FF6692\", \"#B6E880\", \"#FF97FF\", \"#FECB52\"], \"font\": {\"color\": \"#2a3f5f\"}, \"geo\": {\"bgcolor\": \"white\", \"lakecolor\": \"white\", \"landcolor\": \"#E5ECF6\", \"showlakes\": true, \"showland\": true, \"subunitcolor\": \"white\"}, \"hoverlabel\": {\"align\": \"left\"}, \"hovermode\": \"closest\", \"mapbox\": {\"style\": \"light\"}, \"paper_bgcolor\": \"white\", \"plot_bgcolor\": \"#E5ECF6\", \"polar\": {\"angularaxis\": {\"gridcolor\": \"white\", \"linecolor\": \"white\", \"ticks\": \"\"}, \"bgcolor\": \"#E5ECF6\", \"radialaxis\": {\"gridcolor\": \"white\", \"linecolor\": \"white\", \"ticks\": \"\"}}, \"scene\": {\"xaxis\": {\"backgroundcolor\": \"#E5ECF6\", \"gridcolor\": \"white\", \"gridwidth\": 2, \"linecolor\": \"white\", \"showbackground\": true, \"ticks\": \"\", \"zerolinecolor\": \"white\"}, \"yaxis\": {\"backgroundcolor\": \"#E5ECF6\", \"gridcolor\": \"white\", \"gridwidth\": 2, \"linecolor\": \"white\", \"showbackground\": true, \"ticks\": \"\", \"zerolinecolor\": \"white\"}, \"zaxis\": {\"backgroundcolor\": \"#E5ECF6\", \"gridcolor\": \"white\", \"gridwidth\": 2, \"linecolor\": \"white\", \"showbackground\": true, \"ticks\": \"\", \"zerolinecolor\": \"white\"}}, \"shapedefaults\": {\"line\": {\"color\": \"#2a3f5f\"}}, \"ternary\": {\"aaxis\": {\"gridcolor\": \"white\", \"linecolor\": \"white\", \"ticks\": \"\"}, \"baxis\": {\"gridcolor\": \"white\", \"linecolor\": \"white\", \"ticks\": \"\"}, \"bgcolor\": \"#E5ECF6\", \"caxis\": {\"gridcolor\": \"white\", \"linecolor\": \"white\", \"ticks\": \"\"}}, \"title\": {\"x\": 0.05}, \"xaxis\": {\"automargin\": true, \"gridcolor\": \"white\", \"linecolor\": \"white\", \"ticks\": \"\", \"title\": {\"standoff\": 15}, \"zerolinecolor\": \"white\", \"zerolinewidth\": 2}, \"yaxis\": {\"automargin\": true, \"gridcolor\": \"white\", \"linecolor\": \"white\", \"ticks\": \"\", \"title\": {\"standoff\": 15}, \"zerolinecolor\": \"white\", \"zerolinewidth\": 2}}}, \"title\": {\"text\": \"CFS for Clear Creek At Golden, Co<br>Coordinates: 39.75304299, -105.2352667\"}, \"yaxis\": {\"title\": {\"text\": \"Cubic Feet per Second (CFS)\"}}},\n",
       "                        {\"responsive\": true}\n",
       "                    ).then(function(){\n",
       "                            \n",
       "var gd = document.getElementById('7dbcafdc-6b93-4d61-a1ef-23313e85b3f9');\n",
       "var x = new MutationObserver(function (mutations, observer) {{\n",
       "        var display = window.getComputedStyle(gd).display;\n",
       "        if (!display || display === 'none') {{\n",
       "            console.log([gd, 'removed!']);\n",
       "            Plotly.purge(gd);\n",
       "            observer.disconnect();\n",
       "        }}\n",
       "}});\n",
       "\n",
       "// Listen for the removal of the full notebook cells\n",
       "var notebookContainer = gd.closest('#notebook-container');\n",
       "if (notebookContainer) {{\n",
       "    x.observe(notebookContainer, {childList: true});\n",
       "}}\n",
       "\n",
       "// Listen for the clearing of the current output cell\n",
       "var outputEl = gd.closest('.output');\n",
       "if (outputEl) {{\n",
       "    x.observe(outputEl, {childList: true});\n",
       "}}\n",
       "\n",
       "                        })\n",
       "                };\n",
       "                });\n",
       "            </script>\n",
       "        </div>"
      ]
     },
     "metadata": {},
     "output_type": "display_data"
    }
   ],
   "source": [
    "import plotly.graph_objects as go\n",
    "fig = go.Figure()\n",
    "\n",
    "fig.add_trace(go.Scatter(x=his_cfs_df['new_day'], y=his_cfs_df['mean_cfs'], name='{} CFS for the Day<br>(Over Last 10 Years)'.format(stat.title()),\n",
    "                         line=dict(color='orange', width=2)))\n",
    "\n",
    "fig.add_trace(go.Scatter(x=rec_cfs_df['new_day'], y=rec_cfs_df['mean_cfs'], name='{} CFS for the Day<br>(2020)'.format(stat.title()),\n",
    "                         line=dict(color='blue', width=2)))\n",
    "\n",
    "fig.update_layout(\n",
    "    title_text=\"CFS for {}<br>Coordinates: {}, {}\".format(site_name.title(), lat, lon),\n",
    "    font=dict(family='Courier New, monospace', size=12, color='#7f7f7f'),\n",
    "    yaxis_title=\"Cubic Feet per Second (CFS)\"\n",
    ")\n",
    "fig.show()"
   ]
  },
  {
   "cell_type": "code",
   "execution_count": 27,
   "metadata": {},
   "outputs": [],
   "source": [
    "fig.write_html(r\"Z:\\Dev\\CFS_Charts\\index.html\")"
   ]
  },
  {
   "cell_type": "code",
   "execution_count": null,
   "metadata": {},
   "outputs": [],
   "source": []
  }
 ],
 "metadata": {
  "kernelspec": {
   "display_name": "Python 3",
   "language": "python",
   "name": "python3"
  },
  "language_info": {
   "codemirror_mode": {
    "name": "ipython",
    "version": 3
   },
   "file_extension": ".py",
   "mimetype": "text/x-python",
   "name": "python",
   "nbconvert_exporter": "python",
   "pygments_lexer": "ipython3",
   "version": "3.8.0"
  }
 },
 "nbformat": 4,
 "nbformat_minor": 4
}
