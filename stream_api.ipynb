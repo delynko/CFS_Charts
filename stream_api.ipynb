{
 "cells": [
  {
   "cell_type": "code",
   "execution_count": 1,
   "metadata": {},
   "outputs": [],
   "source": [
    "import requests\n",
    "import csv\n",
    "import json\n",
    "import pandas as pd\n",
    "import plotly.graph_objects as go\n",
    "from datetime import datetime\n",
    "from plotly.subplots import make_subplots"
   ]
  },
  {
   "cell_type": "code",
   "execution_count": 18,
   "metadata": {},
   "outputs": [],
   "source": [
    "# site_id = '06719505' #clear creek at golden\n",
    "# site_id = '06710385' #bear creek abov evergreen\n",
    "site_id = '06710605' #bear creek above bear creek lake\n",
    "\n",
    "hist_req = requests.get(\"https://waterservices.usgs.gov/nwis/dv/?format=json&sites={}&period=P520W&statCd=00003&siteStatus=all\".format(site_id))\n",
    "recent_req = requests.get(\"https://waterservices.usgs.gov/nwis/dv/?format=json&sites={}&startDT=2020-01-01&endDT=2020-05-13&statCd=00003&siteStatus=all\".format(site_id))\n",
    "\n",
    "# recent data\n",
    "res = recent_req.json()\n",
    "\n",
    "rec_days = []\n",
    "rec_cfss = []\n",
    "\n",
    "site_name = res[\"value\"][\"timeSeries\"][0][\"sourceInfo\"][\"siteName\"]\n",
    "lat = res[\"value\"][\"timeSeries\"][0][\"sourceInfo\"][\"geoLocation\"][\"geogLocation\"][\"latitude\"]\n",
    "lon = res[\"value\"][\"timeSeries\"][0][\"sourceInfo\"][\"geoLocation\"][\"geogLocation\"][\"longitude\"]\n",
    "\n",
    "for vals in res[\"value\"][\"timeSeries\"][0][\"values\"][0][\"value\"]:\n",
    "    cfs = round(float(vals[\"value\"]),0)\n",
    "    day = vals[\"dateTime\"]\n",
    "    date = datetime.strptime(day.split(\"T\")[0], \"%Y-%m-%d\")\n",
    "    doy = datetime.strftime(date, \"%B %d\")\n",
    "    montInt = datetime.strftime(date, \"%m\")\n",
    "    rec_days.append(\"{} {}\".format(montInt, doy))\n",
    "    rec_cfss.append(cfs)\n",
    "\n",
    "# historical data\n",
    "res = hist_req.json()\n",
    "his_days = []\n",
    "his_cfss = []\n",
    "for vals in res[\"value\"][\"timeSeries\"][0][\"values\"][0][\"value\"]:\n",
    "    cfs = round(float(vals[\"value\"]),0)\n",
    "    day = vals[\"dateTime\"]\n",
    "    date = datetime.strptime(day.split(\"T\")[0], \"%Y-%m-%d\")\n",
    "    doy = datetime.strftime(date, \"%B %d\")\n",
    "    montInt = datetime.strftime(date, \"%m\")\n",
    "    his_days.append(\"{} {}\".format(montInt, doy))\n",
    "    his_cfss.append(cfs)"
   ]
  },
  {
   "cell_type": "code",
   "execution_count": 19,
   "metadata": {},
   "outputs": [],
   "source": [
    "rec_d = {'day': rec_days, 'cfs': rec_cfss}\n",
    "rec_df = pd.DataFrame(data=rec_d)\n",
    "\n",
    "his_d = {'day': his_days, 'cfs': his_cfss}\n",
    "his_df = pd.DataFrame(data=his_d)"
   ]
  },
  {
   "cell_type": "code",
   "execution_count": 20,
   "metadata": {},
   "outputs": [],
   "source": [
    "rec_cfs_df = rec_df.groupby(['day']).agg({\"cfs\": [\"mean\"]}).reset_index()\n",
    "cols = rec_cfs_df.columns.tolist()\n",
    "rec_cfs_df[\"mean_cfs\"] = rec_cfs_df[cols[1]]\n",
    "\n",
    "his_cfs_df = his_df.groupby(['day']).agg({\"cfs\": [\"mean\"]}).reset_index()\n",
    "cols = his_cfs_df.columns.tolist()\n",
    "his_cfs_df[\"mean_cfs\"] = his_cfs_df[cols[1]]\n",
    "\n",
    "max_cfs_df = his_df.groupby(['day']).agg({\"cfs\": [\"max\"]}).reset_index()\n",
    "cols = max_cfs_df.columns.tolist()\n",
    "max_cfs_df[\"max_cfs\"] = max_cfs_df[cols[1]]\n",
    "\n",
    "min_cfs_df = his_df.groupby(['day']).agg({\"cfs\": [\"min\"]}).reset_index()\n",
    "cols = min_cfs_df.columns.tolist()\n",
    "min_cfs_df[\"min_cfs\"] = min_cfs_df[cols[1]]"
   ]
  },
  {
   "cell_type": "code",
   "execution_count": 21,
   "metadata": {},
   "outputs": [],
   "source": [
    "rec_cfs_df[['month', 'new_day']] = rec_cfs_df.day.str.split(expand=True, n=1)\n",
    "his_cfs_df[['month', 'new_day']] = his_cfs_df.day.str.split(expand=True, n=1)\n",
    "max_cfs_df[['month', 'new_day']] = his_cfs_df.day.str.split(expand=True, n=1)\n",
    "min_cfs_df[['month', 'new_day']] = his_cfs_df.day.str.split(expand=True, n=1)"
   ]
  },
  {
   "cell_type": "code",
   "execution_count": 22,
   "metadata": {},
   "outputs": [
    {
     "data": {
      "application/vnd.plotly.v1+json": {
       "config": {
        "plotlyServerURL": "https://plot.ly"
       },
       "data": [
        {
         "line": {
          "color": "orange",
          "width": 2
         },
         "name": "Mean CFS for the Day<br>(Last 10 Years)",
         "type": "scatter",
         "x": [
          "April 01",
          "April 02",
          "April 03",
          "April 04",
          "April 05",
          "April 06",
          "April 07",
          "April 08",
          "April 09",
          "April 10",
          "April 11",
          "April 12",
          "April 13",
          "April 14",
          "April 15",
          "April 16",
          "April 17",
          "April 18",
          "April 19",
          "April 20",
          "April 21",
          "April 22",
          "April 23",
          "April 24",
          "April 25",
          "April 26",
          "April 27",
          "April 28",
          "April 29",
          "April 30",
          "May 01",
          "May 02",
          "May 03",
          "May 04",
          "May 05",
          "May 06",
          "May 07",
          "May 08",
          "May 09",
          "May 10",
          "May 11",
          "May 12",
          "May 13",
          "May 14",
          "May 15",
          "May 16",
          "May 17",
          "May 18",
          "May 19",
          "May 20",
          "May 21",
          "May 22",
          "May 23",
          "May 24",
          "May 25",
          "May 26",
          "May 27",
          "May 28",
          "May 29",
          "May 30",
          "May 31",
          "June 01",
          "June 02",
          "June 03",
          "June 04",
          "June 05",
          "June 06",
          "June 07",
          "June 08",
          "June 09",
          "June 10",
          "June 11",
          "June 12",
          "June 13",
          "June 14",
          "June 15",
          "June 16",
          "June 17",
          "June 18",
          "June 19",
          "June 20",
          "June 21",
          "June 22",
          "June 23",
          "June 24",
          "June 25",
          "June 26",
          "June 27",
          "June 28",
          "June 29",
          "June 30",
          "July 01",
          "July 02",
          "July 03",
          "July 04",
          "July 05",
          "July 06",
          "July 07",
          "July 08",
          "July 09",
          "July 10",
          "July 11",
          "July 12",
          "July 13",
          "July 14",
          "July 15",
          "July 16",
          "July 17",
          "July 18",
          "July 19",
          "July 20",
          "July 21",
          "July 22",
          "July 23",
          "July 24",
          "July 25",
          "July 26",
          "July 27",
          "July 28",
          "July 29",
          "July 30",
          "July 31",
          "August 01",
          "August 02",
          "August 03",
          "August 04",
          "August 05",
          "August 06",
          "August 07",
          "August 08",
          "August 09",
          "August 10",
          "August 11",
          "August 12",
          "August 13",
          "August 14",
          "August 15",
          "August 16",
          "August 17",
          "August 18",
          "August 19",
          "August 20",
          "August 21",
          "August 22",
          "August 23",
          "August 24",
          "August 25",
          "August 26",
          "August 27",
          "August 28",
          "August 29",
          "August 30",
          "August 31",
          "September 01",
          "September 02",
          "September 03",
          "September 04",
          "September 05",
          "September 06",
          "September 07",
          "September 08",
          "September 09",
          "September 10",
          "September 11",
          "September 12",
          "September 13",
          "September 14",
          "September 15",
          "September 16",
          "September 17",
          "September 18",
          "September 19",
          "September 20",
          "September 21",
          "September 22",
          "September 23",
          "September 24",
          "September 25",
          "September 26",
          "September 27",
          "September 28",
          "September 29",
          "September 30"
         ],
         "y": [
          11.555555555555555,
          11.333333333333334,
          14,
          13.88888888888889,
          14.88888888888889,
          14.88888888888889,
          15.555555555555555,
          16.333333333333332,
          17.333333333333332,
          17.555555555555557,
          19.333333333333332,
          18.444444444444443,
          18.88888888888889,
          18.22222222222222,
          20.88888888888889,
          24.77777777777778,
          25.444444444444443,
          27,
          30.11111111111111,
          32.55555555555556,
          38,
          46.55555555555556,
          55.666666666666664,
          59,
          54.111111111111114,
          56,
          55.333333333333336,
          52,
          55.111111111111114,
          56.77777777777778,
          61,
          63.333333333333336,
          67.88888888888889,
          75.11111111111111,
          98.33333333333333,
          105.22222222222223,
          100.22222222222223,
          105.33333333333333,
          150.33333333333334,
          149,
          144.22222222222223,
          117.88888888888889,
          102.55555555555556,
          98.33333333333333,
          92,
          87.88888888888889,
          86.22222222222223,
          99.25,
          128.625,
          124.875,
          125.125,
          128.875,
          135.75,
          133.25,
          137.125,
          128.375,
          120.375,
          115.875,
          111.75,
          109.625,
          98.875,
          97.125,
          94.75,
          96.375,
          94,
          102.125,
          116.625,
          106.75,
          99.75,
          94.75,
          92.875,
          102,
          111.25,
          104.75,
          104.5,
          93.625,
          97.125,
          89.375,
          90.5,
          80,
          82.375,
          76.5,
          74.125,
          70.375,
          63.125,
          61.625,
          57.75,
          51.75,
          46.75,
          43.375,
          43.5,
          51,
          53.75,
          47.125,
          43.125,
          47.625,
          46.25,
          49.75,
          57.625,
          55.375,
          50.625,
          47.125,
          53.875,
          61.875,
          62.125,
          55.625,
          53.375,
          51.25,
          42.625,
          40.375,
          41.25,
          43.375,
          40.875,
          35.75,
          35,
          33.375,
          38.75,
          42.875,
          34.75,
          31.75,
          36.125,
          38.125,
          32.875,
          31.125,
          33.5,
          30.5,
          31.25,
          29.875,
          27,
          28.75,
          29,
          25.125,
          25.375,
          33,
          25.375,
          24.75,
          25.625,
          23.375,
          23.625,
          19.875,
          19.375,
          19.25,
          19.25,
          18.5,
          21.125,
          18.5,
          17.125,
          19.75,
          21.625,
          20.875,
          16.75,
          17.25,
          17,
          16.875,
          15,
          14.375,
          13.375,
          18.125,
          19.125,
          16.25,
          15.75,
          18.875,
          30.125,
          62.25,
          95.25,
          194.75,
          144.375,
          157.25,
          173,
          127.5,
          106.625,
          88.25,
          83,
          69.625,
          62.125,
          54.5,
          41.25,
          32.875,
          30.625,
          32.5,
          36.625,
          39.625,
          41.285714285714285
         ]
        },
        {
         "line": {
          "color": "rgb(231, 29, 53)",
          "dash": "dot",
          "width": 1
         },
         "name": "Max CFS for the Day<br>(Last 10 Years)",
         "type": "scatter",
         "x": [
          "April 01",
          "April 02",
          "April 03",
          "April 04",
          "April 05",
          "April 06",
          "April 07",
          "April 08",
          "April 09",
          "April 10",
          "April 11",
          "April 12",
          "April 13",
          "April 14",
          "April 15",
          "April 16",
          "April 17",
          "April 18",
          "April 19",
          "April 20",
          "April 21",
          "April 22",
          "April 23",
          "April 24",
          "April 25",
          "April 26",
          "April 27",
          "April 28",
          "April 29",
          "April 30",
          "May 01",
          "May 02",
          "May 03",
          "May 04",
          "May 05",
          "May 06",
          "May 07",
          "May 08",
          "May 09",
          "May 10",
          "May 11",
          "May 12",
          "May 13",
          "May 14",
          "May 15",
          "May 16",
          "May 17",
          "May 18",
          "May 19",
          "May 20",
          "May 21",
          "May 22",
          "May 23",
          "May 24",
          "May 25",
          "May 26",
          "May 27",
          "May 28",
          "May 29",
          "May 30",
          "May 31",
          "June 01",
          "June 02",
          "June 03",
          "June 04",
          "June 05",
          "June 06",
          "June 07",
          "June 08",
          "June 09",
          "June 10",
          "June 11",
          "June 12",
          "June 13",
          "June 14",
          "June 15",
          "June 16",
          "June 17",
          "June 18",
          "June 19",
          "June 20",
          "June 21",
          "June 22",
          "June 23",
          "June 24",
          "June 25",
          "June 26",
          "June 27",
          "June 28",
          "June 29",
          "June 30",
          "July 01",
          "July 02",
          "July 03",
          "July 04",
          "July 05",
          "July 06",
          "July 07",
          "July 08",
          "July 09",
          "July 10",
          "July 11",
          "July 12",
          "July 13",
          "July 14",
          "July 15",
          "July 16",
          "July 17",
          "July 18",
          "July 19",
          "July 20",
          "July 21",
          "July 22",
          "July 23",
          "July 24",
          "July 25",
          "July 26",
          "July 27",
          "July 28",
          "July 29",
          "July 30",
          "July 31",
          "August 01",
          "August 02",
          "August 03",
          "August 04",
          "August 05",
          "August 06",
          "August 07",
          "August 08",
          "August 09",
          "August 10",
          "August 11",
          "August 12",
          "August 13",
          "August 14",
          "August 15",
          "August 16",
          "August 17",
          "August 18",
          "August 19",
          "August 20",
          "August 21",
          "August 22",
          "August 23",
          "August 24",
          "August 25",
          "August 26",
          "August 27",
          "August 28",
          "August 29",
          "August 30",
          "August 31",
          "September 01",
          "September 02",
          "September 03",
          "September 04",
          "September 05",
          "September 06",
          "September 07",
          "September 08",
          "September 09",
          "September 10",
          "September 11",
          "September 12",
          "September 13",
          "September 14",
          "September 15",
          "September 16",
          "September 17",
          "September 18",
          "September 19",
          "September 20",
          "September 21",
          "September 22",
          "September 23",
          "September 24",
          "September 25",
          "September 26",
          "September 27",
          "September 28",
          "September 29",
          "September 30"
         ],
         "y": [
          47,
          54,
          64,
          65,
          66,
          58,
          61,
          63,
          63,
          64,
          78,
          73,
          70,
          68,
          76,
          94,
          86,
          88,
          90,
          100,
          139,
          199,
          243,
          259,
          231,
          214,
          186,
          167,
          173,
          196,
          234,
          255,
          245,
          334,
          529,
          581,
          513,
          543,
          915,
          917,
          808,
          616,
          503,
          427,
          350,
          311,
          294,
          284,
          546,
          528,
          511,
          538,
          557,
          542,
          516,
          476,
          403,
          372,
          334,
          323,
          280,
          281,
          269,
          283,
          287,
          333,
          418,
          353,
          318,
          304,
          333,
          435,
          512,
          448,
          460,
          411,
          456,
          391,
          361,
          324,
          289,
          259,
          242,
          219,
          214,
          229,
          222,
          198,
          169,
          157,
          145,
          150,
          170,
          140,
          127,
          154,
          153,
          203,
          228,
          241,
          221,
          187,
          171,
          185,
          188,
          169,
          156,
          141,
          133,
          132,
          130,
          153,
          148,
          127,
          122,
          127,
          118,
          112,
          92,
          85,
          87,
          113,
          88,
          80,
          82,
          73,
          67,
          66,
          55,
          57,
          52,
          52,
          58,
          89,
          52,
          57,
          60,
          57,
          66,
          53,
          45,
          43,
          45,
          34,
          38,
          35,
          25,
          48,
          60,
          52,
          36,
          34,
          41,
          35,
          37,
          37,
          33,
          47,
          47,
          35,
          26,
          57,
          152,
          420,
          679,
          1480,
          1080,
          1170,
          1310,
          949,
          786,
          651,
          611,
          502,
          415,
          364,
          254,
          199,
          181,
          180,
          206,
          217,
          189
         ]
        },
        {
         "line": {
          "color": "rgb(30, 100, 46)",
          "dash": "dot",
          "width": 1
         },
         "name": "Min CFS for the Day<br>(Last 10 Years)",
         "type": "scatter",
         "x": [
          "April 01",
          "April 02",
          "April 03",
          "April 04",
          "April 05",
          "April 06",
          "April 07",
          "April 08",
          "April 09",
          "April 10",
          "April 11",
          "April 12",
          "April 13",
          "April 14",
          "April 15",
          "April 16",
          "April 17",
          "April 18",
          "April 19",
          "April 20",
          "April 21",
          "April 22",
          "April 23",
          "April 24",
          "April 25",
          "April 26",
          "April 27",
          "April 28",
          "April 29",
          "April 30",
          "May 01",
          "May 02",
          "May 03",
          "May 04",
          "May 05",
          "May 06",
          "May 07",
          "May 08",
          "May 09",
          "May 10",
          "May 11",
          "May 12",
          "May 13",
          "May 14",
          "May 15",
          "May 16",
          "May 17",
          "May 18",
          "May 19",
          "May 20",
          "May 21",
          "May 22",
          "May 23",
          "May 24",
          "May 25",
          "May 26",
          "May 27",
          "May 28",
          "May 29",
          "May 30",
          "May 31",
          "June 01",
          "June 02",
          "June 03",
          "June 04",
          "June 05",
          "June 06",
          "June 07",
          "June 08",
          "June 09",
          "June 10",
          "June 11",
          "June 12",
          "June 13",
          "June 14",
          "June 15",
          "June 16",
          "June 17",
          "June 18",
          "June 19",
          "June 20",
          "June 21",
          "June 22",
          "June 23",
          "June 24",
          "June 25",
          "June 26",
          "June 27",
          "June 28",
          "June 29",
          "June 30",
          "July 01",
          "July 02",
          "July 03",
          "July 04",
          "July 05",
          "July 06",
          "July 07",
          "July 08",
          "July 09",
          "July 10",
          "July 11",
          "July 12",
          "July 13",
          "July 14",
          "July 15",
          "July 16",
          "July 17",
          "July 18",
          "July 19",
          "July 20",
          "July 21",
          "July 22",
          "July 23",
          "July 24",
          "July 25",
          "July 26",
          "July 27",
          "July 28",
          "July 29",
          "July 30",
          "July 31",
          "August 01",
          "August 02",
          "August 03",
          "August 04",
          "August 05",
          "August 06",
          "August 07",
          "August 08",
          "August 09",
          "August 10",
          "August 11",
          "August 12",
          "August 13",
          "August 14",
          "August 15",
          "August 16",
          "August 17",
          "August 18",
          "August 19",
          "August 20",
          "August 21",
          "August 22",
          "August 23",
          "August 24",
          "August 25",
          "August 26",
          "August 27",
          "August 28",
          "August 29",
          "August 30",
          "August 31",
          "September 01",
          "September 02",
          "September 03",
          "September 04",
          "September 05",
          "September 06",
          "September 07",
          "September 08",
          "September 09",
          "September 10",
          "September 11",
          "September 12",
          "September 13",
          "September 14",
          "September 15",
          "September 16",
          "September 17",
          "September 18",
          "September 19",
          "September 20",
          "September 21",
          "September 22",
          "September 23",
          "September 24",
          "September 25",
          "September 26",
          "September 27",
          "September 28",
          "September 29",
          "September 30"
         ],
         "y": [
          1,
          1,
          2,
          2,
          4,
          3,
          2,
          2,
          3,
          2,
          3,
          3,
          2,
          4,
          4,
          5,
          7,
          5,
          4,
          6,
          5,
          5,
          3,
          5,
          5,
          5,
          5,
          5,
          7,
          3,
          8,
          7,
          5,
          5,
          5,
          5,
          4,
          6,
          8,
          9,
          23,
          13,
          9,
          18,
          17,
          14,
          18,
          26,
          28,
          28,
          21,
          17,
          14,
          8,
          18,
          18,
          17,
          19,
          28,
          21,
          19,
          18,
          15,
          16,
          15,
          13,
          13,
          12,
          10,
          9,
          9,
          7,
          6,
          6,
          6,
          5,
          5,
          14,
          13,
          12,
          10,
          11,
          11,
          10,
          10,
          10,
          7,
          6,
          5,
          4,
          3,
          4,
          4,
          2,
          2,
          3,
          4,
          3,
          2,
          2,
          2,
          3,
          2,
          3,
          4,
          3,
          12,
          8,
          5,
          2,
          1,
          2,
          3,
          6,
          6,
          7,
          10,
          8,
          6,
          8,
          7,
          6,
          3,
          4,
          4,
          4,
          3,
          3,
          2,
          3,
          2,
          2,
          2,
          2,
          2,
          1,
          5,
          5,
          2,
          1,
          2,
          1,
          2,
          6,
          5,
          2,
          2,
          1,
          1,
          1,
          2,
          3,
          2,
          2,
          1,
          3,
          2,
          7,
          7,
          9,
          7,
          7,
          8,
          5,
          6,
          3,
          3,
          3,
          3,
          3,
          3,
          3,
          3,
          3,
          3,
          3,
          2,
          2,
          4,
          3,
          3,
          3,
          2
         ]
        },
        {
         "line": {
          "color": "navy",
          "width": 2
         },
         "name": "Mean CFS for the Day<br>(2020)",
         "type": "scatter",
         "x": [
          "April 01",
          "April 02",
          "April 03",
          "April 04",
          "April 05",
          "April 06",
          "April 07",
          "April 08",
          "April 09",
          "April 10",
          "April 11",
          "April 12",
          "April 13",
          "April 14",
          "April 15",
          "April 16",
          "April 17",
          "April 18",
          "April 19",
          "April 20",
          "April 21",
          "April 22",
          "April 23",
          "April 24",
          "April 25",
          "April 26",
          "April 27",
          "April 28",
          "April 29",
          "April 30",
          "May 01",
          "May 02",
          "May 03",
          "May 04",
          "May 05",
          "May 06",
          "May 07",
          "May 08",
          "May 09",
          "May 10",
          "May 11",
          "May 12",
          "May 13"
         ],
         "y": [
          5,
          5,
          3,
          3,
          11,
          18,
          17,
          17,
          18,
          19,
          21,
          25,
          23,
          19,
          23,
          31,
          24,
          34,
          34,
          30,
          27,
          25,
          21,
          20,
          21,
          20,
          23,
          29,
          30,
          33,
          32,
          38,
          42,
          42,
          36,
          28,
          27,
          26,
          26,
          24,
          25,
          25,
          22
         ]
        }
       ],
       "layout": {
        "font": {
         "color": "#7f7f7f",
         "family": "Courier New, monospace",
         "size": 12
        },
        "template": {
         "data": {
          "bar": [
           {
            "error_x": {
             "color": "#2a3f5f"
            },
            "error_y": {
             "color": "#2a3f5f"
            },
            "marker": {
             "line": {
              "color": "#E5ECF6",
              "width": 0.5
             }
            },
            "type": "bar"
           }
          ],
          "barpolar": [
           {
            "marker": {
             "line": {
              "color": "#E5ECF6",
              "width": 0.5
             }
            },
            "type": "barpolar"
           }
          ],
          "carpet": [
           {
            "aaxis": {
             "endlinecolor": "#2a3f5f",
             "gridcolor": "white",
             "linecolor": "white",
             "minorgridcolor": "white",
             "startlinecolor": "#2a3f5f"
            },
            "baxis": {
             "endlinecolor": "#2a3f5f",
             "gridcolor": "white",
             "linecolor": "white",
             "minorgridcolor": "white",
             "startlinecolor": "#2a3f5f"
            },
            "type": "carpet"
           }
          ],
          "choropleth": [
           {
            "colorbar": {
             "outlinewidth": 0,
             "ticks": ""
            },
            "type": "choropleth"
           }
          ],
          "contour": [
           {
            "colorbar": {
             "outlinewidth": 0,
             "ticks": ""
            },
            "colorscale": [
             [
              0,
              "#0d0887"
             ],
             [
              0.1111111111111111,
              "#46039f"
             ],
             [
              0.2222222222222222,
              "#7201a8"
             ],
             [
              0.3333333333333333,
              "#9c179e"
             ],
             [
              0.4444444444444444,
              "#bd3786"
             ],
             [
              0.5555555555555556,
              "#d8576b"
             ],
             [
              0.6666666666666666,
              "#ed7953"
             ],
             [
              0.7777777777777778,
              "#fb9f3a"
             ],
             [
              0.8888888888888888,
              "#fdca26"
             ],
             [
              1,
              "#f0f921"
             ]
            ],
            "type": "contour"
           }
          ],
          "contourcarpet": [
           {
            "colorbar": {
             "outlinewidth": 0,
             "ticks": ""
            },
            "type": "contourcarpet"
           }
          ],
          "heatmap": [
           {
            "colorbar": {
             "outlinewidth": 0,
             "ticks": ""
            },
            "colorscale": [
             [
              0,
              "#0d0887"
             ],
             [
              0.1111111111111111,
              "#46039f"
             ],
             [
              0.2222222222222222,
              "#7201a8"
             ],
             [
              0.3333333333333333,
              "#9c179e"
             ],
             [
              0.4444444444444444,
              "#bd3786"
             ],
             [
              0.5555555555555556,
              "#d8576b"
             ],
             [
              0.6666666666666666,
              "#ed7953"
             ],
             [
              0.7777777777777778,
              "#fb9f3a"
             ],
             [
              0.8888888888888888,
              "#fdca26"
             ],
             [
              1,
              "#f0f921"
             ]
            ],
            "type": "heatmap"
           }
          ],
          "heatmapgl": [
           {
            "colorbar": {
             "outlinewidth": 0,
             "ticks": ""
            },
            "colorscale": [
             [
              0,
              "#0d0887"
             ],
             [
              0.1111111111111111,
              "#46039f"
             ],
             [
              0.2222222222222222,
              "#7201a8"
             ],
             [
              0.3333333333333333,
              "#9c179e"
             ],
             [
              0.4444444444444444,
              "#bd3786"
             ],
             [
              0.5555555555555556,
              "#d8576b"
             ],
             [
              0.6666666666666666,
              "#ed7953"
             ],
             [
              0.7777777777777778,
              "#fb9f3a"
             ],
             [
              0.8888888888888888,
              "#fdca26"
             ],
             [
              1,
              "#f0f921"
             ]
            ],
            "type": "heatmapgl"
           }
          ],
          "histogram": [
           {
            "marker": {
             "colorbar": {
              "outlinewidth": 0,
              "ticks": ""
             }
            },
            "type": "histogram"
           }
          ],
          "histogram2d": [
           {
            "colorbar": {
             "outlinewidth": 0,
             "ticks": ""
            },
            "colorscale": [
             [
              0,
              "#0d0887"
             ],
             [
              0.1111111111111111,
              "#46039f"
             ],
             [
              0.2222222222222222,
              "#7201a8"
             ],
             [
              0.3333333333333333,
              "#9c179e"
             ],
             [
              0.4444444444444444,
              "#bd3786"
             ],
             [
              0.5555555555555556,
              "#d8576b"
             ],
             [
              0.6666666666666666,
              "#ed7953"
             ],
             [
              0.7777777777777778,
              "#fb9f3a"
             ],
             [
              0.8888888888888888,
              "#fdca26"
             ],
             [
              1,
              "#f0f921"
             ]
            ],
            "type": "histogram2d"
           }
          ],
          "histogram2dcontour": [
           {
            "colorbar": {
             "outlinewidth": 0,
             "ticks": ""
            },
            "colorscale": [
             [
              0,
              "#0d0887"
             ],
             [
              0.1111111111111111,
              "#46039f"
             ],
             [
              0.2222222222222222,
              "#7201a8"
             ],
             [
              0.3333333333333333,
              "#9c179e"
             ],
             [
              0.4444444444444444,
              "#bd3786"
             ],
             [
              0.5555555555555556,
              "#d8576b"
             ],
             [
              0.6666666666666666,
              "#ed7953"
             ],
             [
              0.7777777777777778,
              "#fb9f3a"
             ],
             [
              0.8888888888888888,
              "#fdca26"
             ],
             [
              1,
              "#f0f921"
             ]
            ],
            "type": "histogram2dcontour"
           }
          ],
          "mesh3d": [
           {
            "colorbar": {
             "outlinewidth": 0,
             "ticks": ""
            },
            "type": "mesh3d"
           }
          ],
          "parcoords": [
           {
            "line": {
             "colorbar": {
              "outlinewidth": 0,
              "ticks": ""
             }
            },
            "type": "parcoords"
           }
          ],
          "pie": [
           {
            "automargin": true,
            "type": "pie"
           }
          ],
          "scatter": [
           {
            "marker": {
             "colorbar": {
              "outlinewidth": 0,
              "ticks": ""
             }
            },
            "type": "scatter"
           }
          ],
          "scatter3d": [
           {
            "line": {
             "colorbar": {
              "outlinewidth": 0,
              "ticks": ""
             }
            },
            "marker": {
             "colorbar": {
              "outlinewidth": 0,
              "ticks": ""
             }
            },
            "type": "scatter3d"
           }
          ],
          "scattercarpet": [
           {
            "marker": {
             "colorbar": {
              "outlinewidth": 0,
              "ticks": ""
             }
            },
            "type": "scattercarpet"
           }
          ],
          "scattergeo": [
           {
            "marker": {
             "colorbar": {
              "outlinewidth": 0,
              "ticks": ""
             }
            },
            "type": "scattergeo"
           }
          ],
          "scattergl": [
           {
            "marker": {
             "colorbar": {
              "outlinewidth": 0,
              "ticks": ""
             }
            },
            "type": "scattergl"
           }
          ],
          "scattermapbox": [
           {
            "marker": {
             "colorbar": {
              "outlinewidth": 0,
              "ticks": ""
             }
            },
            "type": "scattermapbox"
           }
          ],
          "scatterpolar": [
           {
            "marker": {
             "colorbar": {
              "outlinewidth": 0,
              "ticks": ""
             }
            },
            "type": "scatterpolar"
           }
          ],
          "scatterpolargl": [
           {
            "marker": {
             "colorbar": {
              "outlinewidth": 0,
              "ticks": ""
             }
            },
            "type": "scatterpolargl"
           }
          ],
          "scatterternary": [
           {
            "marker": {
             "colorbar": {
              "outlinewidth": 0,
              "ticks": ""
             }
            },
            "type": "scatterternary"
           }
          ],
          "surface": [
           {
            "colorbar": {
             "outlinewidth": 0,
             "ticks": ""
            },
            "colorscale": [
             [
              0,
              "#0d0887"
             ],
             [
              0.1111111111111111,
              "#46039f"
             ],
             [
              0.2222222222222222,
              "#7201a8"
             ],
             [
              0.3333333333333333,
              "#9c179e"
             ],
             [
              0.4444444444444444,
              "#bd3786"
             ],
             [
              0.5555555555555556,
              "#d8576b"
             ],
             [
              0.6666666666666666,
              "#ed7953"
             ],
             [
              0.7777777777777778,
              "#fb9f3a"
             ],
             [
              0.8888888888888888,
              "#fdca26"
             ],
             [
              1,
              "#f0f921"
             ]
            ],
            "type": "surface"
           }
          ],
          "table": [
           {
            "cells": {
             "fill": {
              "color": "#EBF0F8"
             },
             "line": {
              "color": "white"
             }
            },
            "header": {
             "fill": {
              "color": "#C8D4E3"
             },
             "line": {
              "color": "white"
             }
            },
            "type": "table"
           }
          ]
         },
         "layout": {
          "annotationdefaults": {
           "arrowcolor": "#2a3f5f",
           "arrowhead": 0,
           "arrowwidth": 1
          },
          "coloraxis": {
           "colorbar": {
            "outlinewidth": 0,
            "ticks": ""
           }
          },
          "colorscale": {
           "diverging": [
            [
             0,
             "#8e0152"
            ],
            [
             0.1,
             "#c51b7d"
            ],
            [
             0.2,
             "#de77ae"
            ],
            [
             0.3,
             "#f1b6da"
            ],
            [
             0.4,
             "#fde0ef"
            ],
            [
             0.5,
             "#f7f7f7"
            ],
            [
             0.6,
             "#e6f5d0"
            ],
            [
             0.7,
             "#b8e186"
            ],
            [
             0.8,
             "#7fbc41"
            ],
            [
             0.9,
             "#4d9221"
            ],
            [
             1,
             "#276419"
            ]
           ],
           "sequential": [
            [
             0,
             "#0d0887"
            ],
            [
             0.1111111111111111,
             "#46039f"
            ],
            [
             0.2222222222222222,
             "#7201a8"
            ],
            [
             0.3333333333333333,
             "#9c179e"
            ],
            [
             0.4444444444444444,
             "#bd3786"
            ],
            [
             0.5555555555555556,
             "#d8576b"
            ],
            [
             0.6666666666666666,
             "#ed7953"
            ],
            [
             0.7777777777777778,
             "#fb9f3a"
            ],
            [
             0.8888888888888888,
             "#fdca26"
            ],
            [
             1,
             "#f0f921"
            ]
           ],
           "sequentialminus": [
            [
             0,
             "#0d0887"
            ],
            [
             0.1111111111111111,
             "#46039f"
            ],
            [
             0.2222222222222222,
             "#7201a8"
            ],
            [
             0.3333333333333333,
             "#9c179e"
            ],
            [
             0.4444444444444444,
             "#bd3786"
            ],
            [
             0.5555555555555556,
             "#d8576b"
            ],
            [
             0.6666666666666666,
             "#ed7953"
            ],
            [
             0.7777777777777778,
             "#fb9f3a"
            ],
            [
             0.8888888888888888,
             "#fdca26"
            ],
            [
             1,
             "#f0f921"
            ]
           ]
          },
          "colorway": [
           "#636efa",
           "#EF553B",
           "#00cc96",
           "#ab63fa",
           "#FFA15A",
           "#19d3f3",
           "#FF6692",
           "#B6E880",
           "#FF97FF",
           "#FECB52"
          ],
          "font": {
           "color": "#2a3f5f"
          },
          "geo": {
           "bgcolor": "white",
           "lakecolor": "white",
           "landcolor": "#E5ECF6",
           "showlakes": true,
           "showland": true,
           "subunitcolor": "white"
          },
          "hoverlabel": {
           "align": "left"
          },
          "hovermode": "closest",
          "mapbox": {
           "style": "light"
          },
          "paper_bgcolor": "white",
          "plot_bgcolor": "#E5ECF6",
          "polar": {
           "angularaxis": {
            "gridcolor": "white",
            "linecolor": "white",
            "ticks": ""
           },
           "bgcolor": "#E5ECF6",
           "radialaxis": {
            "gridcolor": "white",
            "linecolor": "white",
            "ticks": ""
           }
          },
          "scene": {
           "xaxis": {
            "backgroundcolor": "#E5ECF6",
            "gridcolor": "white",
            "gridwidth": 2,
            "linecolor": "white",
            "showbackground": true,
            "ticks": "",
            "zerolinecolor": "white"
           },
           "yaxis": {
            "backgroundcolor": "#E5ECF6",
            "gridcolor": "white",
            "gridwidth": 2,
            "linecolor": "white",
            "showbackground": true,
            "ticks": "",
            "zerolinecolor": "white"
           },
           "zaxis": {
            "backgroundcolor": "#E5ECF6",
            "gridcolor": "white",
            "gridwidth": 2,
            "linecolor": "white",
            "showbackground": true,
            "ticks": "",
            "zerolinecolor": "white"
           }
          },
          "shapedefaults": {
           "line": {
            "color": "#2a3f5f"
           }
          },
          "ternary": {
           "aaxis": {
            "gridcolor": "white",
            "linecolor": "white",
            "ticks": ""
           },
           "baxis": {
            "gridcolor": "white",
            "linecolor": "white",
            "ticks": ""
           },
           "bgcolor": "#E5ECF6",
           "caxis": {
            "gridcolor": "white",
            "linecolor": "white",
            "ticks": ""
           }
          },
          "title": {
           "x": 0.05
          },
          "xaxis": {
           "automargin": true,
           "gridcolor": "white",
           "linecolor": "white",
           "ticks": "",
           "title": {
            "standoff": 15
           },
           "zerolinecolor": "white",
           "zerolinewidth": 2
          },
          "yaxis": {
           "automargin": true,
           "gridcolor": "white",
           "linecolor": "white",
           "ticks": "",
           "title": {
            "standoff": 15
           },
           "zerolinecolor": "white",
           "zerolinewidth": 2
          }
         }
        },
        "title": {
         "text": "CFS for Bear Creek Above Bear Creek Lake Near Morrison, Co<br>Coordinates: 39.65202778, -105.17325"
        },
        "yaxis": {
         "title": {
          "text": "Cubic Feet per Second (CFS)"
         }
        }
       }
      },
      "text/html": [
       "<div>\n",
       "        \n",
       "        \n",
       "            <div id=\"a431ea8f-c6d2-493d-8625-57b6d865a23e\" class=\"plotly-graph-div\" style=\"height:525px; width:100%;\"></div>\n",
       "            <script type=\"text/javascript\">\n",
       "                require([\"plotly\"], function(Plotly) {\n",
       "                    window.PLOTLYENV=window.PLOTLYENV || {};\n",
       "                    \n",
       "                if (document.getElementById(\"a431ea8f-c6d2-493d-8625-57b6d865a23e\")) {\n",
       "                    Plotly.newPlot(\n",
       "                        'a431ea8f-c6d2-493d-8625-57b6d865a23e',\n",
       "                        [{\"line\": {\"color\": \"orange\", \"width\": 2}, \"name\": \"Mean CFS for the Day<br>(Last 10 Years)\", \"type\": \"scatter\", \"x\": [\"April 01\", \"April 02\", \"April 03\", \"April 04\", \"April 05\", \"April 06\", \"April 07\", \"April 08\", \"April 09\", \"April 10\", \"April 11\", \"April 12\", \"April 13\", \"April 14\", \"April 15\", \"April 16\", \"April 17\", \"April 18\", \"April 19\", \"April 20\", \"April 21\", \"April 22\", \"April 23\", \"April 24\", \"April 25\", \"April 26\", \"April 27\", \"April 28\", \"April 29\", \"April 30\", \"May 01\", \"May 02\", \"May 03\", \"May 04\", \"May 05\", \"May 06\", \"May 07\", \"May 08\", \"May 09\", \"May 10\", \"May 11\", \"May 12\", \"May 13\", \"May 14\", \"May 15\", \"May 16\", \"May 17\", \"May 18\", \"May 19\", \"May 20\", \"May 21\", \"May 22\", \"May 23\", \"May 24\", \"May 25\", \"May 26\", \"May 27\", \"May 28\", \"May 29\", \"May 30\", \"May 31\", \"June 01\", \"June 02\", \"June 03\", \"June 04\", \"June 05\", \"June 06\", \"June 07\", \"June 08\", \"June 09\", \"June 10\", \"June 11\", \"June 12\", \"June 13\", \"June 14\", \"June 15\", \"June 16\", \"June 17\", \"June 18\", \"June 19\", \"June 20\", \"June 21\", \"June 22\", \"June 23\", \"June 24\", \"June 25\", \"June 26\", \"June 27\", \"June 28\", \"June 29\", \"June 30\", \"July 01\", \"July 02\", \"July 03\", \"July 04\", \"July 05\", \"July 06\", \"July 07\", \"July 08\", \"July 09\", \"July 10\", \"July 11\", \"July 12\", \"July 13\", \"July 14\", \"July 15\", \"July 16\", \"July 17\", \"July 18\", \"July 19\", \"July 20\", \"July 21\", \"July 22\", \"July 23\", \"July 24\", \"July 25\", \"July 26\", \"July 27\", \"July 28\", \"July 29\", \"July 30\", \"July 31\", \"August 01\", \"August 02\", \"August 03\", \"August 04\", \"August 05\", \"August 06\", \"August 07\", \"August 08\", \"August 09\", \"August 10\", \"August 11\", \"August 12\", \"August 13\", \"August 14\", \"August 15\", \"August 16\", \"August 17\", \"August 18\", \"August 19\", \"August 20\", \"August 21\", \"August 22\", \"August 23\", \"August 24\", \"August 25\", \"August 26\", \"August 27\", \"August 28\", \"August 29\", \"August 30\", \"August 31\", \"September 01\", \"September 02\", \"September 03\", \"September 04\", \"September 05\", \"September 06\", \"September 07\", \"September 08\", \"September 09\", \"September 10\", \"September 11\", \"September 12\", \"September 13\", \"September 14\", \"September 15\", \"September 16\", \"September 17\", \"September 18\", \"September 19\", \"September 20\", \"September 21\", \"September 22\", \"September 23\", \"September 24\", \"September 25\", \"September 26\", \"September 27\", \"September 28\", \"September 29\", \"September 30\"], \"y\": [11.555555555555555, 11.333333333333334, 14.0, 13.88888888888889, 14.88888888888889, 14.88888888888889, 15.555555555555555, 16.333333333333332, 17.333333333333332, 17.555555555555557, 19.333333333333332, 18.444444444444443, 18.88888888888889, 18.22222222222222, 20.88888888888889, 24.77777777777778, 25.444444444444443, 27.0, 30.11111111111111, 32.55555555555556, 38.0, 46.55555555555556, 55.666666666666664, 59.0, 54.111111111111114, 56.0, 55.333333333333336, 52.0, 55.111111111111114, 56.77777777777778, 61.0, 63.333333333333336, 67.88888888888889, 75.11111111111111, 98.33333333333333, 105.22222222222223, 100.22222222222223, 105.33333333333333, 150.33333333333334, 149.0, 144.22222222222223, 117.88888888888889, 102.55555555555556, 98.33333333333333, 92.0, 87.88888888888889, 86.22222222222223, 99.25, 128.625, 124.875, 125.125, 128.875, 135.75, 133.25, 137.125, 128.375, 120.375, 115.875, 111.75, 109.625, 98.875, 97.125, 94.75, 96.375, 94.0, 102.125, 116.625, 106.75, 99.75, 94.75, 92.875, 102.0, 111.25, 104.75, 104.5, 93.625, 97.125, 89.375, 90.5, 80.0, 82.375, 76.5, 74.125, 70.375, 63.125, 61.625, 57.75, 51.75, 46.75, 43.375, 43.5, 51.0, 53.75, 47.125, 43.125, 47.625, 46.25, 49.75, 57.625, 55.375, 50.625, 47.125, 53.875, 61.875, 62.125, 55.625, 53.375, 51.25, 42.625, 40.375, 41.25, 43.375, 40.875, 35.75, 35.0, 33.375, 38.75, 42.875, 34.75, 31.75, 36.125, 38.125, 32.875, 31.125, 33.5, 30.5, 31.25, 29.875, 27.0, 28.75, 29.0, 25.125, 25.375, 33.0, 25.375, 24.75, 25.625, 23.375, 23.625, 19.875, 19.375, 19.25, 19.25, 18.5, 21.125, 18.5, 17.125, 19.75, 21.625, 20.875, 16.75, 17.25, 17.0, 16.875, 15.0, 14.375, 13.375, 18.125, 19.125, 16.25, 15.75, 18.875, 30.125, 62.25, 95.25, 194.75, 144.375, 157.25, 173.0, 127.5, 106.625, 88.25, 83.0, 69.625, 62.125, 54.5, 41.25, 32.875, 30.625, 32.5, 36.625, 39.625, 41.285714285714285]}, {\"line\": {\"color\": \"rgb(231, 29, 53)\", \"dash\": \"dot\", \"width\": 1}, \"name\": \"Max CFS for the Day<br>(Last 10 Years)\", \"type\": \"scatter\", \"x\": [\"April 01\", \"April 02\", \"April 03\", \"April 04\", \"April 05\", \"April 06\", \"April 07\", \"April 08\", \"April 09\", \"April 10\", \"April 11\", \"April 12\", \"April 13\", \"April 14\", \"April 15\", \"April 16\", \"April 17\", \"April 18\", \"April 19\", \"April 20\", \"April 21\", \"April 22\", \"April 23\", \"April 24\", \"April 25\", \"April 26\", \"April 27\", \"April 28\", \"April 29\", \"April 30\", \"May 01\", \"May 02\", \"May 03\", \"May 04\", \"May 05\", \"May 06\", \"May 07\", \"May 08\", \"May 09\", \"May 10\", \"May 11\", \"May 12\", \"May 13\", \"May 14\", \"May 15\", \"May 16\", \"May 17\", \"May 18\", \"May 19\", \"May 20\", \"May 21\", \"May 22\", \"May 23\", \"May 24\", \"May 25\", \"May 26\", \"May 27\", \"May 28\", \"May 29\", \"May 30\", \"May 31\", \"June 01\", \"June 02\", \"June 03\", \"June 04\", \"June 05\", \"June 06\", \"June 07\", \"June 08\", \"June 09\", \"June 10\", \"June 11\", \"June 12\", \"June 13\", \"June 14\", \"June 15\", \"June 16\", \"June 17\", \"June 18\", \"June 19\", \"June 20\", \"June 21\", \"June 22\", \"June 23\", \"June 24\", \"June 25\", \"June 26\", \"June 27\", \"June 28\", \"June 29\", \"June 30\", \"July 01\", \"July 02\", \"July 03\", \"July 04\", \"July 05\", \"July 06\", \"July 07\", \"July 08\", \"July 09\", \"July 10\", \"July 11\", \"July 12\", \"July 13\", \"July 14\", \"July 15\", \"July 16\", \"July 17\", \"July 18\", \"July 19\", \"July 20\", \"July 21\", \"July 22\", \"July 23\", \"July 24\", \"July 25\", \"July 26\", \"July 27\", \"July 28\", \"July 29\", \"July 30\", \"July 31\", \"August 01\", \"August 02\", \"August 03\", \"August 04\", \"August 05\", \"August 06\", \"August 07\", \"August 08\", \"August 09\", \"August 10\", \"August 11\", \"August 12\", \"August 13\", \"August 14\", \"August 15\", \"August 16\", \"August 17\", \"August 18\", \"August 19\", \"August 20\", \"August 21\", \"August 22\", \"August 23\", \"August 24\", \"August 25\", \"August 26\", \"August 27\", \"August 28\", \"August 29\", \"August 30\", \"August 31\", \"September 01\", \"September 02\", \"September 03\", \"September 04\", \"September 05\", \"September 06\", \"September 07\", \"September 08\", \"September 09\", \"September 10\", \"September 11\", \"September 12\", \"September 13\", \"September 14\", \"September 15\", \"September 16\", \"September 17\", \"September 18\", \"September 19\", \"September 20\", \"September 21\", \"September 22\", \"September 23\", \"September 24\", \"September 25\", \"September 26\", \"September 27\", \"September 28\", \"September 29\", \"September 30\"], \"y\": [47.0, 54.0, 64.0, 65.0, 66.0, 58.0, 61.0, 63.0, 63.0, 64.0, 78.0, 73.0, 70.0, 68.0, 76.0, 94.0, 86.0, 88.0, 90.0, 100.0, 139.0, 199.0, 243.0, 259.0, 231.0, 214.0, 186.0, 167.0, 173.0, 196.0, 234.0, 255.0, 245.0, 334.0, 529.0, 581.0, 513.0, 543.0, 915.0, 917.0, 808.0, 616.0, 503.0, 427.0, 350.0, 311.0, 294.0, 284.0, 546.0, 528.0, 511.0, 538.0, 557.0, 542.0, 516.0, 476.0, 403.0, 372.0, 334.0, 323.0, 280.0, 281.0, 269.0, 283.0, 287.0, 333.0, 418.0, 353.0, 318.0, 304.0, 333.0, 435.0, 512.0, 448.0, 460.0, 411.0, 456.0, 391.0, 361.0, 324.0, 289.0, 259.0, 242.0, 219.0, 214.0, 229.0, 222.0, 198.0, 169.0, 157.0, 145.0, 150.0, 170.0, 140.0, 127.0, 154.0, 153.0, 203.0, 228.0, 241.0, 221.0, 187.0, 171.0, 185.0, 188.0, 169.0, 156.0, 141.0, 133.0, 132.0, 130.0, 153.0, 148.0, 127.0, 122.0, 127.0, 118.0, 112.0, 92.0, 85.0, 87.0, 113.0, 88.0, 80.0, 82.0, 73.0, 67.0, 66.0, 55.0, 57.0, 52.0, 52.0, 58.0, 89.0, 52.0, 57.0, 60.0, 57.0, 66.0, 53.0, 45.0, 43.0, 45.0, 34.0, 38.0, 35.0, 25.0, 48.0, 60.0, 52.0, 36.0, 34.0, 41.0, 35.0, 37.0, 37.0, 33.0, 47.0, 47.0, 35.0, 26.0, 57.0, 152.0, 420.0, 679.0, 1480.0, 1080.0, 1170.0, 1310.0, 949.0, 786.0, 651.0, 611.0, 502.0, 415.0, 364.0, 254.0, 199.0, 181.0, 180.0, 206.0, 217.0, 189.0]}, {\"line\": {\"color\": \"rgb(30, 100, 46)\", \"dash\": \"dot\", \"width\": 1}, \"name\": \"Min CFS for the Day<br>(Last 10 Years)\", \"type\": \"scatter\", \"x\": [\"April 01\", \"April 02\", \"April 03\", \"April 04\", \"April 05\", \"April 06\", \"April 07\", \"April 08\", \"April 09\", \"April 10\", \"April 11\", \"April 12\", \"April 13\", \"April 14\", \"April 15\", \"April 16\", \"April 17\", \"April 18\", \"April 19\", \"April 20\", \"April 21\", \"April 22\", \"April 23\", \"April 24\", \"April 25\", \"April 26\", \"April 27\", \"April 28\", \"April 29\", \"April 30\", \"May 01\", \"May 02\", \"May 03\", \"May 04\", \"May 05\", \"May 06\", \"May 07\", \"May 08\", \"May 09\", \"May 10\", \"May 11\", \"May 12\", \"May 13\", \"May 14\", \"May 15\", \"May 16\", \"May 17\", \"May 18\", \"May 19\", \"May 20\", \"May 21\", \"May 22\", \"May 23\", \"May 24\", \"May 25\", \"May 26\", \"May 27\", \"May 28\", \"May 29\", \"May 30\", \"May 31\", \"June 01\", \"June 02\", \"June 03\", \"June 04\", \"June 05\", \"June 06\", \"June 07\", \"June 08\", \"June 09\", \"June 10\", \"June 11\", \"June 12\", \"June 13\", \"June 14\", \"June 15\", \"June 16\", \"June 17\", \"June 18\", \"June 19\", \"June 20\", \"June 21\", \"June 22\", \"June 23\", \"June 24\", \"June 25\", \"June 26\", \"June 27\", \"June 28\", \"June 29\", \"June 30\", \"July 01\", \"July 02\", \"July 03\", \"July 04\", \"July 05\", \"July 06\", \"July 07\", \"July 08\", \"July 09\", \"July 10\", \"July 11\", \"July 12\", \"July 13\", \"July 14\", \"July 15\", \"July 16\", \"July 17\", \"July 18\", \"July 19\", \"July 20\", \"July 21\", \"July 22\", \"July 23\", \"July 24\", \"July 25\", \"July 26\", \"July 27\", \"July 28\", \"July 29\", \"July 30\", \"July 31\", \"August 01\", \"August 02\", \"August 03\", \"August 04\", \"August 05\", \"August 06\", \"August 07\", \"August 08\", \"August 09\", \"August 10\", \"August 11\", \"August 12\", \"August 13\", \"August 14\", \"August 15\", \"August 16\", \"August 17\", \"August 18\", \"August 19\", \"August 20\", \"August 21\", \"August 22\", \"August 23\", \"August 24\", \"August 25\", \"August 26\", \"August 27\", \"August 28\", \"August 29\", \"August 30\", \"August 31\", \"September 01\", \"September 02\", \"September 03\", \"September 04\", \"September 05\", \"September 06\", \"September 07\", \"September 08\", \"September 09\", \"September 10\", \"September 11\", \"September 12\", \"September 13\", \"September 14\", \"September 15\", \"September 16\", \"September 17\", \"September 18\", \"September 19\", \"September 20\", \"September 21\", \"September 22\", \"September 23\", \"September 24\", \"September 25\", \"September 26\", \"September 27\", \"September 28\", \"September 29\", \"September 30\"], \"y\": [1.0, 1.0, 2.0, 2.0, 4.0, 3.0, 2.0, 2.0, 3.0, 2.0, 3.0, 3.0, 2.0, 4.0, 4.0, 5.0, 7.0, 5.0, 4.0, 6.0, 5.0, 5.0, 3.0, 5.0, 5.0, 5.0, 5.0, 5.0, 7.0, 3.0, 8.0, 7.0, 5.0, 5.0, 5.0, 5.0, 4.0, 6.0, 8.0, 9.0, 23.0, 13.0, 9.0, 18.0, 17.0, 14.0, 18.0, 26.0, 28.0, 28.0, 21.0, 17.0, 14.0, 8.0, 18.0, 18.0, 17.0, 19.0, 28.0, 21.0, 19.0, 18.0, 15.0, 16.0, 15.0, 13.0, 13.0, 12.0, 10.0, 9.0, 9.0, 7.0, 6.0, 6.0, 6.0, 5.0, 5.0, 14.0, 13.0, 12.0, 10.0, 11.0, 11.0, 10.0, 10.0, 10.0, 7.0, 6.0, 5.0, 4.0, 3.0, 4.0, 4.0, 2.0, 2.0, 3.0, 4.0, 3.0, 2.0, 2.0, 2.0, 3.0, 2.0, 3.0, 4.0, 3.0, 12.0, 8.0, 5.0, 2.0, 1.0, 2.0, 3.0, 6.0, 6.0, 7.0, 10.0, 8.0, 6.0, 8.0, 7.0, 6.0, 3.0, 4.0, 4.0, 4.0, 3.0, 3.0, 2.0, 3.0, 2.0, 2.0, 2.0, 2.0, 2.0, 1.0, 5.0, 5.0, 2.0, 1.0, 2.0, 1.0, 2.0, 6.0, 5.0, 2.0, 2.0, 1.0, 1.0, 1.0, 2.0, 3.0, 2.0, 2.0, 1.0, 3.0, 2.0, 7.0, 7.0, 9.0, 7.0, 7.0, 8.0, 5.0, 6.0, 3.0, 3.0, 3.0, 3.0, 3.0, 3.0, 3.0, 3.0, 3.0, 3.0, 3.0, 2.0, 2.0, 4.0, 3.0, 3.0, 3.0, 2.0]}, {\"line\": {\"color\": \"navy\", \"width\": 2}, \"name\": \"Mean CFS for the Day<br>(2020)\", \"type\": \"scatter\", \"x\": [\"April 01\", \"April 02\", \"April 03\", \"April 04\", \"April 05\", \"April 06\", \"April 07\", \"April 08\", \"April 09\", \"April 10\", \"April 11\", \"April 12\", \"April 13\", \"April 14\", \"April 15\", \"April 16\", \"April 17\", \"April 18\", \"April 19\", \"April 20\", \"April 21\", \"April 22\", \"April 23\", \"April 24\", \"April 25\", \"April 26\", \"April 27\", \"April 28\", \"April 29\", \"April 30\", \"May 01\", \"May 02\", \"May 03\", \"May 04\", \"May 05\", \"May 06\", \"May 07\", \"May 08\", \"May 09\", \"May 10\", \"May 11\", \"May 12\", \"May 13\"], \"y\": [5.0, 5.0, 3.0, 3.0, 11.0, 18.0, 17.0, 17.0, 18.0, 19.0, 21.0, 25.0, 23.0, 19.0, 23.0, 31.0, 24.0, 34.0, 34.0, 30.0, 27.0, 25.0, 21.0, 20.0, 21.0, 20.0, 23.0, 29.0, 30.0, 33.0, 32.0, 38.0, 42.0, 42.0, 36.0, 28.0, 27.0, 26.0, 26.0, 24.0, 25.0, 25.0, 22.0]}],\n",
       "                        {\"font\": {\"color\": \"#7f7f7f\", \"family\": \"Courier New, monospace\", \"size\": 12}, \"template\": {\"data\": {\"bar\": [{\"error_x\": {\"color\": \"#2a3f5f\"}, \"error_y\": {\"color\": \"#2a3f5f\"}, \"marker\": {\"line\": {\"color\": \"#E5ECF6\", \"width\": 0.5}}, \"type\": \"bar\"}], \"barpolar\": [{\"marker\": {\"line\": {\"color\": \"#E5ECF6\", \"width\": 0.5}}, \"type\": \"barpolar\"}], \"carpet\": [{\"aaxis\": {\"endlinecolor\": \"#2a3f5f\", \"gridcolor\": \"white\", \"linecolor\": \"white\", \"minorgridcolor\": \"white\", \"startlinecolor\": \"#2a3f5f\"}, \"baxis\": {\"endlinecolor\": \"#2a3f5f\", \"gridcolor\": \"white\", \"linecolor\": \"white\", \"minorgridcolor\": \"white\", \"startlinecolor\": \"#2a3f5f\"}, \"type\": \"carpet\"}], \"choropleth\": [{\"colorbar\": {\"outlinewidth\": 0, \"ticks\": \"\"}, \"type\": \"choropleth\"}], \"contour\": [{\"colorbar\": {\"outlinewidth\": 0, \"ticks\": \"\"}, \"colorscale\": [[0.0, \"#0d0887\"], [0.1111111111111111, \"#46039f\"], [0.2222222222222222, \"#7201a8\"], [0.3333333333333333, \"#9c179e\"], [0.4444444444444444, \"#bd3786\"], [0.5555555555555556, \"#d8576b\"], [0.6666666666666666, \"#ed7953\"], [0.7777777777777778, \"#fb9f3a\"], [0.8888888888888888, \"#fdca26\"], [1.0, \"#f0f921\"]], \"type\": \"contour\"}], \"contourcarpet\": [{\"colorbar\": {\"outlinewidth\": 0, \"ticks\": \"\"}, \"type\": \"contourcarpet\"}], \"heatmap\": [{\"colorbar\": {\"outlinewidth\": 0, \"ticks\": \"\"}, \"colorscale\": [[0.0, \"#0d0887\"], [0.1111111111111111, \"#46039f\"], [0.2222222222222222, \"#7201a8\"], [0.3333333333333333, \"#9c179e\"], [0.4444444444444444, \"#bd3786\"], [0.5555555555555556, \"#d8576b\"], [0.6666666666666666, \"#ed7953\"], [0.7777777777777778, \"#fb9f3a\"], [0.8888888888888888, \"#fdca26\"], [1.0, \"#f0f921\"]], \"type\": \"heatmap\"}], \"heatmapgl\": [{\"colorbar\": {\"outlinewidth\": 0, \"ticks\": \"\"}, \"colorscale\": [[0.0, \"#0d0887\"], [0.1111111111111111, \"#46039f\"], [0.2222222222222222, \"#7201a8\"], [0.3333333333333333, \"#9c179e\"], [0.4444444444444444, \"#bd3786\"], [0.5555555555555556, \"#d8576b\"], [0.6666666666666666, \"#ed7953\"], [0.7777777777777778, \"#fb9f3a\"], [0.8888888888888888, \"#fdca26\"], [1.0, \"#f0f921\"]], \"type\": \"heatmapgl\"}], \"histogram\": [{\"marker\": {\"colorbar\": {\"outlinewidth\": 0, \"ticks\": \"\"}}, \"type\": \"histogram\"}], \"histogram2d\": [{\"colorbar\": {\"outlinewidth\": 0, \"ticks\": \"\"}, \"colorscale\": [[0.0, \"#0d0887\"], [0.1111111111111111, \"#46039f\"], [0.2222222222222222, \"#7201a8\"], [0.3333333333333333, \"#9c179e\"], [0.4444444444444444, \"#bd3786\"], [0.5555555555555556, \"#d8576b\"], [0.6666666666666666, \"#ed7953\"], [0.7777777777777778, \"#fb9f3a\"], [0.8888888888888888, \"#fdca26\"], [1.0, \"#f0f921\"]], \"type\": \"histogram2d\"}], \"histogram2dcontour\": [{\"colorbar\": {\"outlinewidth\": 0, \"ticks\": \"\"}, \"colorscale\": [[0.0, \"#0d0887\"], [0.1111111111111111, \"#46039f\"], [0.2222222222222222, \"#7201a8\"], [0.3333333333333333, \"#9c179e\"], [0.4444444444444444, \"#bd3786\"], [0.5555555555555556, \"#d8576b\"], [0.6666666666666666, \"#ed7953\"], [0.7777777777777778, \"#fb9f3a\"], [0.8888888888888888, \"#fdca26\"], [1.0, \"#f0f921\"]], \"type\": \"histogram2dcontour\"}], \"mesh3d\": [{\"colorbar\": {\"outlinewidth\": 0, \"ticks\": \"\"}, \"type\": \"mesh3d\"}], \"parcoords\": [{\"line\": {\"colorbar\": {\"outlinewidth\": 0, \"ticks\": \"\"}}, \"type\": \"parcoords\"}], \"pie\": [{\"automargin\": true, \"type\": \"pie\"}], \"scatter\": [{\"marker\": {\"colorbar\": {\"outlinewidth\": 0, \"ticks\": \"\"}}, \"type\": \"scatter\"}], \"scatter3d\": [{\"line\": {\"colorbar\": {\"outlinewidth\": 0, \"ticks\": \"\"}}, \"marker\": {\"colorbar\": {\"outlinewidth\": 0, \"ticks\": \"\"}}, \"type\": \"scatter3d\"}], \"scattercarpet\": [{\"marker\": {\"colorbar\": {\"outlinewidth\": 0, \"ticks\": \"\"}}, \"type\": \"scattercarpet\"}], \"scattergeo\": [{\"marker\": {\"colorbar\": {\"outlinewidth\": 0, \"ticks\": \"\"}}, \"type\": \"scattergeo\"}], \"scattergl\": [{\"marker\": {\"colorbar\": {\"outlinewidth\": 0, \"ticks\": \"\"}}, \"type\": \"scattergl\"}], \"scattermapbox\": [{\"marker\": {\"colorbar\": {\"outlinewidth\": 0, \"ticks\": \"\"}}, \"type\": \"scattermapbox\"}], \"scatterpolar\": [{\"marker\": {\"colorbar\": {\"outlinewidth\": 0, \"ticks\": \"\"}}, \"type\": \"scatterpolar\"}], \"scatterpolargl\": [{\"marker\": {\"colorbar\": {\"outlinewidth\": 0, \"ticks\": \"\"}}, \"type\": \"scatterpolargl\"}], \"scatterternary\": [{\"marker\": {\"colorbar\": {\"outlinewidth\": 0, \"ticks\": \"\"}}, \"type\": \"scatterternary\"}], \"surface\": [{\"colorbar\": {\"outlinewidth\": 0, \"ticks\": \"\"}, \"colorscale\": [[0.0, \"#0d0887\"], [0.1111111111111111, \"#46039f\"], [0.2222222222222222, \"#7201a8\"], [0.3333333333333333, \"#9c179e\"], [0.4444444444444444, \"#bd3786\"], [0.5555555555555556, \"#d8576b\"], [0.6666666666666666, \"#ed7953\"], [0.7777777777777778, \"#fb9f3a\"], [0.8888888888888888, \"#fdca26\"], [1.0, \"#f0f921\"]], \"type\": \"surface\"}], \"table\": [{\"cells\": {\"fill\": {\"color\": \"#EBF0F8\"}, \"line\": {\"color\": \"white\"}}, \"header\": {\"fill\": {\"color\": \"#C8D4E3\"}, \"line\": {\"color\": \"white\"}}, \"type\": \"table\"}]}, \"layout\": {\"annotationdefaults\": {\"arrowcolor\": \"#2a3f5f\", \"arrowhead\": 0, \"arrowwidth\": 1}, \"coloraxis\": {\"colorbar\": {\"outlinewidth\": 0, \"ticks\": \"\"}}, \"colorscale\": {\"diverging\": [[0, \"#8e0152\"], [0.1, \"#c51b7d\"], [0.2, \"#de77ae\"], [0.3, \"#f1b6da\"], [0.4, \"#fde0ef\"], [0.5, \"#f7f7f7\"], [0.6, \"#e6f5d0\"], [0.7, \"#b8e186\"], [0.8, \"#7fbc41\"], [0.9, \"#4d9221\"], [1, \"#276419\"]], \"sequential\": [[0.0, \"#0d0887\"], [0.1111111111111111, \"#46039f\"], [0.2222222222222222, \"#7201a8\"], [0.3333333333333333, \"#9c179e\"], [0.4444444444444444, \"#bd3786\"], [0.5555555555555556, \"#d8576b\"], [0.6666666666666666, \"#ed7953\"], [0.7777777777777778, \"#fb9f3a\"], [0.8888888888888888, \"#fdca26\"], [1.0, \"#f0f921\"]], \"sequentialminus\": [[0.0, \"#0d0887\"], [0.1111111111111111, \"#46039f\"], [0.2222222222222222, \"#7201a8\"], [0.3333333333333333, \"#9c179e\"], [0.4444444444444444, \"#bd3786\"], [0.5555555555555556, \"#d8576b\"], [0.6666666666666666, \"#ed7953\"], [0.7777777777777778, \"#fb9f3a\"], [0.8888888888888888, \"#fdca26\"], [1.0, \"#f0f921\"]]}, \"colorway\": [\"#636efa\", \"#EF553B\", \"#00cc96\", \"#ab63fa\", \"#FFA15A\", \"#19d3f3\", \"#FF6692\", \"#B6E880\", \"#FF97FF\", \"#FECB52\"], \"font\": {\"color\": \"#2a3f5f\"}, \"geo\": {\"bgcolor\": \"white\", \"lakecolor\": \"white\", \"landcolor\": \"#E5ECF6\", \"showlakes\": true, \"showland\": true, \"subunitcolor\": \"white\"}, \"hoverlabel\": {\"align\": \"left\"}, \"hovermode\": \"closest\", \"mapbox\": {\"style\": \"light\"}, \"paper_bgcolor\": \"white\", \"plot_bgcolor\": \"#E5ECF6\", \"polar\": {\"angularaxis\": {\"gridcolor\": \"white\", \"linecolor\": \"white\", \"ticks\": \"\"}, \"bgcolor\": \"#E5ECF6\", \"radialaxis\": {\"gridcolor\": \"white\", \"linecolor\": \"white\", \"ticks\": \"\"}}, \"scene\": {\"xaxis\": {\"backgroundcolor\": \"#E5ECF6\", \"gridcolor\": \"white\", \"gridwidth\": 2, \"linecolor\": \"white\", \"showbackground\": true, \"ticks\": \"\", \"zerolinecolor\": \"white\"}, \"yaxis\": {\"backgroundcolor\": \"#E5ECF6\", \"gridcolor\": \"white\", \"gridwidth\": 2, \"linecolor\": \"white\", \"showbackground\": true, \"ticks\": \"\", \"zerolinecolor\": \"white\"}, \"zaxis\": {\"backgroundcolor\": \"#E5ECF6\", \"gridcolor\": \"white\", \"gridwidth\": 2, \"linecolor\": \"white\", \"showbackground\": true, \"ticks\": \"\", \"zerolinecolor\": \"white\"}}, \"shapedefaults\": {\"line\": {\"color\": \"#2a3f5f\"}}, \"ternary\": {\"aaxis\": {\"gridcolor\": \"white\", \"linecolor\": \"white\", \"ticks\": \"\"}, \"baxis\": {\"gridcolor\": \"white\", \"linecolor\": \"white\", \"ticks\": \"\"}, \"bgcolor\": \"#E5ECF6\", \"caxis\": {\"gridcolor\": \"white\", \"linecolor\": \"white\", \"ticks\": \"\"}}, \"title\": {\"x\": 0.05}, \"xaxis\": {\"automargin\": true, \"gridcolor\": \"white\", \"linecolor\": \"white\", \"ticks\": \"\", \"title\": {\"standoff\": 15}, \"zerolinecolor\": \"white\", \"zerolinewidth\": 2}, \"yaxis\": {\"automargin\": true, \"gridcolor\": \"white\", \"linecolor\": \"white\", \"ticks\": \"\", \"title\": {\"standoff\": 15}, \"zerolinecolor\": \"white\", \"zerolinewidth\": 2}}}, \"title\": {\"text\": \"CFS for Bear Creek Above Bear Creek Lake Near Morrison, Co<br>Coordinates: 39.65202778, -105.17325\"}, \"yaxis\": {\"title\": {\"text\": \"Cubic Feet per Second (CFS)\"}}},\n",
       "                        {\"responsive\": true}\n",
       "                    ).then(function(){\n",
       "                            \n",
       "var gd = document.getElementById('a431ea8f-c6d2-493d-8625-57b6d865a23e');\n",
       "var x = new MutationObserver(function (mutations, observer) {{\n",
       "        var display = window.getComputedStyle(gd).display;\n",
       "        if (!display || display === 'none') {{\n",
       "            console.log([gd, 'removed!']);\n",
       "            Plotly.purge(gd);\n",
       "            observer.disconnect();\n",
       "        }}\n",
       "}});\n",
       "\n",
       "// Listen for the removal of the full notebook cells\n",
       "var notebookContainer = gd.closest('#notebook-container');\n",
       "if (notebookContainer) {{\n",
       "    x.observe(notebookContainer, {childList: true});\n",
       "}}\n",
       "\n",
       "// Listen for the clearing of the current output cell\n",
       "var outputEl = gd.closest('.output');\n",
       "if (outputEl) {{\n",
       "    x.observe(outputEl, {childList: true});\n",
       "}}\n",
       "\n",
       "                        })\n",
       "                };\n",
       "                });\n",
       "            </script>\n",
       "        </div>"
      ]
     },
     "metadata": {},
     "output_type": "display_data"
    }
   ],
   "source": [
    "import plotly.graph_objects as go\n",
    "fig = go.Figure()\n",
    "\n",
    "fig.add_trace(go.Scatter(x=his_cfs_df['new_day'], y=his_cfs_df['mean_cfs'], name='Mean CFS for the Day<br>(Last 10 Years)',\n",
    "                         line=dict(color='orange', width=2)))\n",
    "\n",
    "fig.add_trace(go.Scatter(x=max_cfs_df['new_day'], y=max_cfs_df['max_cfs'], name='Max CFS for the Day<br>(Last 10 Years)',\n",
    "                         line=dict(color=\"rgb(231, 29, 53)\", width=1, dash='dot')))\n",
    "\n",
    "fig.add_trace(go.Scatter(x=min_cfs_df['new_day'], y=min_cfs_df['min_cfs'], name='Min CFS for the Day<br>(Last 10 Years)',\n",
    "                         line=dict(color=\"rgb(30, 100, 46)\", width=1, dash='dot')))\n",
    "\n",
    "fig.add_trace(go.Scatter(x=rec_cfs_df['new_day'], y=rec_cfs_df['mean_cfs'], name='Mean CFS for the Day<br>(2020)',\n",
    "                         line=dict(color=\"navy\", width=2)))\n",
    "\n",
    "fig.update_layout(\n",
    "    title_text=\"CFS for {}<br>Coordinates: {}, {}\".format(site_name.title(), lat, lon),\n",
    "    font=dict(family='Courier New, monospace', size=12, color='#7f7f7f'),\n",
    "    yaxis_title=\"Cubic Feet per Second (CFS)\"\n",
    ")\n",
    "fig.show()"
   ]
  },
  {
   "cell_type": "code",
   "execution_count": 27,
   "metadata": {},
   "outputs": [],
   "source": [
    "#fig.write_html(r\"Z:\\Dev\\CFS_Charts\\index.html\")"
   ]
  },
  {
   "cell_type": "code",
   "execution_count": 23,
   "metadata": {},
   "outputs": [
    {
     "data": {
      "application/vnd.plotly.v1+json": {
       "config": {
        "plotlyServerURL": "https://plot.ly"
       },
       "data": [
        {
         "lat": [
          39.65202778
         ],
         "lon": [
          -105.17325
         ],
         "marker": {
          "color": "red",
          "size": 20
         },
         "mode": "markers",
         "text": [
          "BEAR CREEK ABOVE BEAR CREEK LAKE NEAR MORRISON, CO"
         ],
         "type": "scattermapbox"
        }
       ],
       "layout": {
        "mapbox": {
         "center": {
          "lat": 39.65202778,
          "lon": -105.17325
         },
         "style": "open-street-map",
         "zoom": 13
        },
        "template": {
         "data": {
          "bar": [
           {
            "error_x": {
             "color": "#2a3f5f"
            },
            "error_y": {
             "color": "#2a3f5f"
            },
            "marker": {
             "line": {
              "color": "#E5ECF6",
              "width": 0.5
             }
            },
            "type": "bar"
           }
          ],
          "barpolar": [
           {
            "marker": {
             "line": {
              "color": "#E5ECF6",
              "width": 0.5
             }
            },
            "type": "barpolar"
           }
          ],
          "carpet": [
           {
            "aaxis": {
             "endlinecolor": "#2a3f5f",
             "gridcolor": "white",
             "linecolor": "white",
             "minorgridcolor": "white",
             "startlinecolor": "#2a3f5f"
            },
            "baxis": {
             "endlinecolor": "#2a3f5f",
             "gridcolor": "white",
             "linecolor": "white",
             "minorgridcolor": "white",
             "startlinecolor": "#2a3f5f"
            },
            "type": "carpet"
           }
          ],
          "choropleth": [
           {
            "colorbar": {
             "outlinewidth": 0,
             "ticks": ""
            },
            "type": "choropleth"
           }
          ],
          "contour": [
           {
            "colorbar": {
             "outlinewidth": 0,
             "ticks": ""
            },
            "colorscale": [
             [
              0,
              "#0d0887"
             ],
             [
              0.1111111111111111,
              "#46039f"
             ],
             [
              0.2222222222222222,
              "#7201a8"
             ],
             [
              0.3333333333333333,
              "#9c179e"
             ],
             [
              0.4444444444444444,
              "#bd3786"
             ],
             [
              0.5555555555555556,
              "#d8576b"
             ],
             [
              0.6666666666666666,
              "#ed7953"
             ],
             [
              0.7777777777777778,
              "#fb9f3a"
             ],
             [
              0.8888888888888888,
              "#fdca26"
             ],
             [
              1,
              "#f0f921"
             ]
            ],
            "type": "contour"
           }
          ],
          "contourcarpet": [
           {
            "colorbar": {
             "outlinewidth": 0,
             "ticks": ""
            },
            "type": "contourcarpet"
           }
          ],
          "heatmap": [
           {
            "colorbar": {
             "outlinewidth": 0,
             "ticks": ""
            },
            "colorscale": [
             [
              0,
              "#0d0887"
             ],
             [
              0.1111111111111111,
              "#46039f"
             ],
             [
              0.2222222222222222,
              "#7201a8"
             ],
             [
              0.3333333333333333,
              "#9c179e"
             ],
             [
              0.4444444444444444,
              "#bd3786"
             ],
             [
              0.5555555555555556,
              "#d8576b"
             ],
             [
              0.6666666666666666,
              "#ed7953"
             ],
             [
              0.7777777777777778,
              "#fb9f3a"
             ],
             [
              0.8888888888888888,
              "#fdca26"
             ],
             [
              1,
              "#f0f921"
             ]
            ],
            "type": "heatmap"
           }
          ],
          "heatmapgl": [
           {
            "colorbar": {
             "outlinewidth": 0,
             "ticks": ""
            },
            "colorscale": [
             [
              0,
              "#0d0887"
             ],
             [
              0.1111111111111111,
              "#46039f"
             ],
             [
              0.2222222222222222,
              "#7201a8"
             ],
             [
              0.3333333333333333,
              "#9c179e"
             ],
             [
              0.4444444444444444,
              "#bd3786"
             ],
             [
              0.5555555555555556,
              "#d8576b"
             ],
             [
              0.6666666666666666,
              "#ed7953"
             ],
             [
              0.7777777777777778,
              "#fb9f3a"
             ],
             [
              0.8888888888888888,
              "#fdca26"
             ],
             [
              1,
              "#f0f921"
             ]
            ],
            "type": "heatmapgl"
           }
          ],
          "histogram": [
           {
            "marker": {
             "colorbar": {
              "outlinewidth": 0,
              "ticks": ""
             }
            },
            "type": "histogram"
           }
          ],
          "histogram2d": [
           {
            "colorbar": {
             "outlinewidth": 0,
             "ticks": ""
            },
            "colorscale": [
             [
              0,
              "#0d0887"
             ],
             [
              0.1111111111111111,
              "#46039f"
             ],
             [
              0.2222222222222222,
              "#7201a8"
             ],
             [
              0.3333333333333333,
              "#9c179e"
             ],
             [
              0.4444444444444444,
              "#bd3786"
             ],
             [
              0.5555555555555556,
              "#d8576b"
             ],
             [
              0.6666666666666666,
              "#ed7953"
             ],
             [
              0.7777777777777778,
              "#fb9f3a"
             ],
             [
              0.8888888888888888,
              "#fdca26"
             ],
             [
              1,
              "#f0f921"
             ]
            ],
            "type": "histogram2d"
           }
          ],
          "histogram2dcontour": [
           {
            "colorbar": {
             "outlinewidth": 0,
             "ticks": ""
            },
            "colorscale": [
             [
              0,
              "#0d0887"
             ],
             [
              0.1111111111111111,
              "#46039f"
             ],
             [
              0.2222222222222222,
              "#7201a8"
             ],
             [
              0.3333333333333333,
              "#9c179e"
             ],
             [
              0.4444444444444444,
              "#bd3786"
             ],
             [
              0.5555555555555556,
              "#d8576b"
             ],
             [
              0.6666666666666666,
              "#ed7953"
             ],
             [
              0.7777777777777778,
              "#fb9f3a"
             ],
             [
              0.8888888888888888,
              "#fdca26"
             ],
             [
              1,
              "#f0f921"
             ]
            ],
            "type": "histogram2dcontour"
           }
          ],
          "mesh3d": [
           {
            "colorbar": {
             "outlinewidth": 0,
             "ticks": ""
            },
            "type": "mesh3d"
           }
          ],
          "parcoords": [
           {
            "line": {
             "colorbar": {
              "outlinewidth": 0,
              "ticks": ""
             }
            },
            "type": "parcoords"
           }
          ],
          "pie": [
           {
            "automargin": true,
            "type": "pie"
           }
          ],
          "scatter": [
           {
            "marker": {
             "colorbar": {
              "outlinewidth": 0,
              "ticks": ""
             }
            },
            "type": "scatter"
           }
          ],
          "scatter3d": [
           {
            "line": {
             "colorbar": {
              "outlinewidth": 0,
              "ticks": ""
             }
            },
            "marker": {
             "colorbar": {
              "outlinewidth": 0,
              "ticks": ""
             }
            },
            "type": "scatter3d"
           }
          ],
          "scattercarpet": [
           {
            "marker": {
             "colorbar": {
              "outlinewidth": 0,
              "ticks": ""
             }
            },
            "type": "scattercarpet"
           }
          ],
          "scattergeo": [
           {
            "marker": {
             "colorbar": {
              "outlinewidth": 0,
              "ticks": ""
             }
            },
            "type": "scattergeo"
           }
          ],
          "scattergl": [
           {
            "marker": {
             "colorbar": {
              "outlinewidth": 0,
              "ticks": ""
             }
            },
            "type": "scattergl"
           }
          ],
          "scattermapbox": [
           {
            "marker": {
             "colorbar": {
              "outlinewidth": 0,
              "ticks": ""
             }
            },
            "type": "scattermapbox"
           }
          ],
          "scatterpolar": [
           {
            "marker": {
             "colorbar": {
              "outlinewidth": 0,
              "ticks": ""
             }
            },
            "type": "scatterpolar"
           }
          ],
          "scatterpolargl": [
           {
            "marker": {
             "colorbar": {
              "outlinewidth": 0,
              "ticks": ""
             }
            },
            "type": "scatterpolargl"
           }
          ],
          "scatterternary": [
           {
            "marker": {
             "colorbar": {
              "outlinewidth": 0,
              "ticks": ""
             }
            },
            "type": "scatterternary"
           }
          ],
          "surface": [
           {
            "colorbar": {
             "outlinewidth": 0,
             "ticks": ""
            },
            "colorscale": [
             [
              0,
              "#0d0887"
             ],
             [
              0.1111111111111111,
              "#46039f"
             ],
             [
              0.2222222222222222,
              "#7201a8"
             ],
             [
              0.3333333333333333,
              "#9c179e"
             ],
             [
              0.4444444444444444,
              "#bd3786"
             ],
             [
              0.5555555555555556,
              "#d8576b"
             ],
             [
              0.6666666666666666,
              "#ed7953"
             ],
             [
              0.7777777777777778,
              "#fb9f3a"
             ],
             [
              0.8888888888888888,
              "#fdca26"
             ],
             [
              1,
              "#f0f921"
             ]
            ],
            "type": "surface"
           }
          ],
          "table": [
           {
            "cells": {
             "fill": {
              "color": "#EBF0F8"
             },
             "line": {
              "color": "white"
             }
            },
            "header": {
             "fill": {
              "color": "#C8D4E3"
             },
             "line": {
              "color": "white"
             }
            },
            "type": "table"
           }
          ]
         },
         "layout": {
          "annotationdefaults": {
           "arrowcolor": "#2a3f5f",
           "arrowhead": 0,
           "arrowwidth": 1
          },
          "coloraxis": {
           "colorbar": {
            "outlinewidth": 0,
            "ticks": ""
           }
          },
          "colorscale": {
           "diverging": [
            [
             0,
             "#8e0152"
            ],
            [
             0.1,
             "#c51b7d"
            ],
            [
             0.2,
             "#de77ae"
            ],
            [
             0.3,
             "#f1b6da"
            ],
            [
             0.4,
             "#fde0ef"
            ],
            [
             0.5,
             "#f7f7f7"
            ],
            [
             0.6,
             "#e6f5d0"
            ],
            [
             0.7,
             "#b8e186"
            ],
            [
             0.8,
             "#7fbc41"
            ],
            [
             0.9,
             "#4d9221"
            ],
            [
             1,
             "#276419"
            ]
           ],
           "sequential": [
            [
             0,
             "#0d0887"
            ],
            [
             0.1111111111111111,
             "#46039f"
            ],
            [
             0.2222222222222222,
             "#7201a8"
            ],
            [
             0.3333333333333333,
             "#9c179e"
            ],
            [
             0.4444444444444444,
             "#bd3786"
            ],
            [
             0.5555555555555556,
             "#d8576b"
            ],
            [
             0.6666666666666666,
             "#ed7953"
            ],
            [
             0.7777777777777778,
             "#fb9f3a"
            ],
            [
             0.8888888888888888,
             "#fdca26"
            ],
            [
             1,
             "#f0f921"
            ]
           ],
           "sequentialminus": [
            [
             0,
             "#0d0887"
            ],
            [
             0.1111111111111111,
             "#46039f"
            ],
            [
             0.2222222222222222,
             "#7201a8"
            ],
            [
             0.3333333333333333,
             "#9c179e"
            ],
            [
             0.4444444444444444,
             "#bd3786"
            ],
            [
             0.5555555555555556,
             "#d8576b"
            ],
            [
             0.6666666666666666,
             "#ed7953"
            ],
            [
             0.7777777777777778,
             "#fb9f3a"
            ],
            [
             0.8888888888888888,
             "#fdca26"
            ],
            [
             1,
             "#f0f921"
            ]
           ]
          },
          "colorway": [
           "#636efa",
           "#EF553B",
           "#00cc96",
           "#ab63fa",
           "#FFA15A",
           "#19d3f3",
           "#FF6692",
           "#B6E880",
           "#FF97FF",
           "#FECB52"
          ],
          "font": {
           "color": "#2a3f5f"
          },
          "geo": {
           "bgcolor": "white",
           "lakecolor": "white",
           "landcolor": "#E5ECF6",
           "showlakes": true,
           "showland": true,
           "subunitcolor": "white"
          },
          "hoverlabel": {
           "align": "left"
          },
          "hovermode": "closest",
          "mapbox": {
           "style": "light"
          },
          "paper_bgcolor": "white",
          "plot_bgcolor": "#E5ECF6",
          "polar": {
           "angularaxis": {
            "gridcolor": "white",
            "linecolor": "white",
            "ticks": ""
           },
           "bgcolor": "#E5ECF6",
           "radialaxis": {
            "gridcolor": "white",
            "linecolor": "white",
            "ticks": ""
           }
          },
          "scene": {
           "xaxis": {
            "backgroundcolor": "#E5ECF6",
            "gridcolor": "white",
            "gridwidth": 2,
            "linecolor": "white",
            "showbackground": true,
            "ticks": "",
            "zerolinecolor": "white"
           },
           "yaxis": {
            "backgroundcolor": "#E5ECF6",
            "gridcolor": "white",
            "gridwidth": 2,
            "linecolor": "white",
            "showbackground": true,
            "ticks": "",
            "zerolinecolor": "white"
           },
           "zaxis": {
            "backgroundcolor": "#E5ECF6",
            "gridcolor": "white",
            "gridwidth": 2,
            "linecolor": "white",
            "showbackground": true,
            "ticks": "",
            "zerolinecolor": "white"
           }
          },
          "shapedefaults": {
           "line": {
            "color": "#2a3f5f"
           }
          },
          "ternary": {
           "aaxis": {
            "gridcolor": "white",
            "linecolor": "white",
            "ticks": ""
           },
           "baxis": {
            "gridcolor": "white",
            "linecolor": "white",
            "ticks": ""
           },
           "bgcolor": "#E5ECF6",
           "caxis": {
            "gridcolor": "white",
            "linecolor": "white",
            "ticks": ""
           }
          },
          "title": {
           "x": 0.05
          },
          "xaxis": {
           "automargin": true,
           "gridcolor": "white",
           "linecolor": "white",
           "ticks": "",
           "title": {
            "standoff": 15
           },
           "zerolinecolor": "white",
           "zerolinewidth": 2
          },
          "yaxis": {
           "automargin": true,
           "gridcolor": "white",
           "linecolor": "white",
           "ticks": "",
           "title": {
            "standoff": 15
           },
           "zerolinecolor": "white",
           "zerolinewidth": 2
          }
         }
        }
       }
      },
      "text/html": [
       "<div>\n",
       "        \n",
       "        \n",
       "            <div id=\"7c327f24-a645-4c7d-b6ff-e33ecebfee03\" class=\"plotly-graph-div\" style=\"height:525px; width:100%;\"></div>\n",
       "            <script type=\"text/javascript\">\n",
       "                require([\"plotly\"], function(Plotly) {\n",
       "                    window.PLOTLYENV=window.PLOTLYENV || {};\n",
       "                    \n",
       "                if (document.getElementById(\"7c327f24-a645-4c7d-b6ff-e33ecebfee03\")) {\n",
       "                    Plotly.newPlot(\n",
       "                        '7c327f24-a645-4c7d-b6ff-e33ecebfee03',\n",
       "                        [{\"lat\": [39.65202778], \"lon\": [-105.17325], \"marker\": {\"color\": \"red\", \"size\": 20}, \"mode\": \"markers\", \"text\": [\"BEAR CREEK ABOVE BEAR CREEK LAKE NEAR MORRISON, CO\"], \"type\": \"scattermapbox\"}],\n",
       "                        {\"mapbox\": {\"center\": {\"lat\": 39.65202778, \"lon\": -105.17325}, \"style\": \"open-street-map\", \"zoom\": 13}, \"template\": {\"data\": {\"bar\": [{\"error_x\": {\"color\": \"#2a3f5f\"}, \"error_y\": {\"color\": \"#2a3f5f\"}, \"marker\": {\"line\": {\"color\": \"#E5ECF6\", \"width\": 0.5}}, \"type\": \"bar\"}], \"barpolar\": [{\"marker\": {\"line\": {\"color\": \"#E5ECF6\", \"width\": 0.5}}, \"type\": \"barpolar\"}], \"carpet\": [{\"aaxis\": {\"endlinecolor\": \"#2a3f5f\", \"gridcolor\": \"white\", \"linecolor\": \"white\", \"minorgridcolor\": \"white\", \"startlinecolor\": \"#2a3f5f\"}, \"baxis\": {\"endlinecolor\": \"#2a3f5f\", \"gridcolor\": \"white\", \"linecolor\": \"white\", \"minorgridcolor\": \"white\", \"startlinecolor\": \"#2a3f5f\"}, \"type\": \"carpet\"}], \"choropleth\": [{\"colorbar\": {\"outlinewidth\": 0, \"ticks\": \"\"}, \"type\": \"choropleth\"}], \"contour\": [{\"colorbar\": {\"outlinewidth\": 0, \"ticks\": \"\"}, \"colorscale\": [[0.0, \"#0d0887\"], [0.1111111111111111, \"#46039f\"], [0.2222222222222222, \"#7201a8\"], [0.3333333333333333, \"#9c179e\"], [0.4444444444444444, \"#bd3786\"], [0.5555555555555556, \"#d8576b\"], [0.6666666666666666, \"#ed7953\"], [0.7777777777777778, \"#fb9f3a\"], [0.8888888888888888, \"#fdca26\"], [1.0, \"#f0f921\"]], \"type\": \"contour\"}], \"contourcarpet\": [{\"colorbar\": {\"outlinewidth\": 0, \"ticks\": \"\"}, \"type\": \"contourcarpet\"}], \"heatmap\": [{\"colorbar\": {\"outlinewidth\": 0, \"ticks\": \"\"}, \"colorscale\": [[0.0, \"#0d0887\"], [0.1111111111111111, \"#46039f\"], [0.2222222222222222, \"#7201a8\"], [0.3333333333333333, \"#9c179e\"], [0.4444444444444444, \"#bd3786\"], [0.5555555555555556, \"#d8576b\"], [0.6666666666666666, \"#ed7953\"], [0.7777777777777778, \"#fb9f3a\"], [0.8888888888888888, \"#fdca26\"], [1.0, \"#f0f921\"]], \"type\": \"heatmap\"}], \"heatmapgl\": [{\"colorbar\": {\"outlinewidth\": 0, \"ticks\": \"\"}, \"colorscale\": [[0.0, \"#0d0887\"], [0.1111111111111111, \"#46039f\"], [0.2222222222222222, \"#7201a8\"], [0.3333333333333333, \"#9c179e\"], [0.4444444444444444, \"#bd3786\"], [0.5555555555555556, \"#d8576b\"], [0.6666666666666666, \"#ed7953\"], [0.7777777777777778, \"#fb9f3a\"], [0.8888888888888888, \"#fdca26\"], [1.0, \"#f0f921\"]], \"type\": \"heatmapgl\"}], \"histogram\": [{\"marker\": {\"colorbar\": {\"outlinewidth\": 0, \"ticks\": \"\"}}, \"type\": \"histogram\"}], \"histogram2d\": [{\"colorbar\": {\"outlinewidth\": 0, \"ticks\": \"\"}, \"colorscale\": [[0.0, \"#0d0887\"], [0.1111111111111111, \"#46039f\"], [0.2222222222222222, \"#7201a8\"], [0.3333333333333333, \"#9c179e\"], [0.4444444444444444, \"#bd3786\"], [0.5555555555555556, \"#d8576b\"], [0.6666666666666666, \"#ed7953\"], [0.7777777777777778, \"#fb9f3a\"], [0.8888888888888888, \"#fdca26\"], [1.0, \"#f0f921\"]], \"type\": \"histogram2d\"}], \"histogram2dcontour\": [{\"colorbar\": {\"outlinewidth\": 0, \"ticks\": \"\"}, \"colorscale\": [[0.0, \"#0d0887\"], [0.1111111111111111, \"#46039f\"], [0.2222222222222222, \"#7201a8\"], [0.3333333333333333, \"#9c179e\"], [0.4444444444444444, \"#bd3786\"], [0.5555555555555556, \"#d8576b\"], [0.6666666666666666, \"#ed7953\"], [0.7777777777777778, \"#fb9f3a\"], [0.8888888888888888, \"#fdca26\"], [1.0, \"#f0f921\"]], \"type\": \"histogram2dcontour\"}], \"mesh3d\": [{\"colorbar\": {\"outlinewidth\": 0, \"ticks\": \"\"}, \"type\": \"mesh3d\"}], \"parcoords\": [{\"line\": {\"colorbar\": {\"outlinewidth\": 0, \"ticks\": \"\"}}, \"type\": \"parcoords\"}], \"pie\": [{\"automargin\": true, \"type\": \"pie\"}], \"scatter\": [{\"marker\": {\"colorbar\": {\"outlinewidth\": 0, \"ticks\": \"\"}}, \"type\": \"scatter\"}], \"scatter3d\": [{\"line\": {\"colorbar\": {\"outlinewidth\": 0, \"ticks\": \"\"}}, \"marker\": {\"colorbar\": {\"outlinewidth\": 0, \"ticks\": \"\"}}, \"type\": \"scatter3d\"}], \"scattercarpet\": [{\"marker\": {\"colorbar\": {\"outlinewidth\": 0, \"ticks\": \"\"}}, \"type\": \"scattercarpet\"}], \"scattergeo\": [{\"marker\": {\"colorbar\": {\"outlinewidth\": 0, \"ticks\": \"\"}}, \"type\": \"scattergeo\"}], \"scattergl\": [{\"marker\": {\"colorbar\": {\"outlinewidth\": 0, \"ticks\": \"\"}}, \"type\": \"scattergl\"}], \"scattermapbox\": [{\"marker\": {\"colorbar\": {\"outlinewidth\": 0, \"ticks\": \"\"}}, \"type\": \"scattermapbox\"}], \"scatterpolar\": [{\"marker\": {\"colorbar\": {\"outlinewidth\": 0, \"ticks\": \"\"}}, \"type\": \"scatterpolar\"}], \"scatterpolargl\": [{\"marker\": {\"colorbar\": {\"outlinewidth\": 0, \"ticks\": \"\"}}, \"type\": \"scatterpolargl\"}], \"scatterternary\": [{\"marker\": {\"colorbar\": {\"outlinewidth\": 0, \"ticks\": \"\"}}, \"type\": \"scatterternary\"}], \"surface\": [{\"colorbar\": {\"outlinewidth\": 0, \"ticks\": \"\"}, \"colorscale\": [[0.0, \"#0d0887\"], [0.1111111111111111, \"#46039f\"], [0.2222222222222222, \"#7201a8\"], [0.3333333333333333, \"#9c179e\"], [0.4444444444444444, \"#bd3786\"], [0.5555555555555556, \"#d8576b\"], [0.6666666666666666, \"#ed7953\"], [0.7777777777777778, \"#fb9f3a\"], [0.8888888888888888, \"#fdca26\"], [1.0, \"#f0f921\"]], \"type\": \"surface\"}], \"table\": [{\"cells\": {\"fill\": {\"color\": \"#EBF0F8\"}, \"line\": {\"color\": \"white\"}}, \"header\": {\"fill\": {\"color\": \"#C8D4E3\"}, \"line\": {\"color\": \"white\"}}, \"type\": \"table\"}]}, \"layout\": {\"annotationdefaults\": {\"arrowcolor\": \"#2a3f5f\", \"arrowhead\": 0, \"arrowwidth\": 1}, \"coloraxis\": {\"colorbar\": {\"outlinewidth\": 0, \"ticks\": \"\"}}, \"colorscale\": {\"diverging\": [[0, \"#8e0152\"], [0.1, \"#c51b7d\"], [0.2, \"#de77ae\"], [0.3, \"#f1b6da\"], [0.4, \"#fde0ef\"], [0.5, \"#f7f7f7\"], [0.6, \"#e6f5d0\"], [0.7, \"#b8e186\"], [0.8, \"#7fbc41\"], [0.9, \"#4d9221\"], [1, \"#276419\"]], \"sequential\": [[0.0, \"#0d0887\"], [0.1111111111111111, \"#46039f\"], [0.2222222222222222, \"#7201a8\"], [0.3333333333333333, \"#9c179e\"], [0.4444444444444444, \"#bd3786\"], [0.5555555555555556, \"#d8576b\"], [0.6666666666666666, \"#ed7953\"], [0.7777777777777778, \"#fb9f3a\"], [0.8888888888888888, \"#fdca26\"], [1.0, \"#f0f921\"]], \"sequentialminus\": [[0.0, \"#0d0887\"], [0.1111111111111111, \"#46039f\"], [0.2222222222222222, \"#7201a8\"], [0.3333333333333333, \"#9c179e\"], [0.4444444444444444, \"#bd3786\"], [0.5555555555555556, \"#d8576b\"], [0.6666666666666666, \"#ed7953\"], [0.7777777777777778, \"#fb9f3a\"], [0.8888888888888888, \"#fdca26\"], [1.0, \"#f0f921\"]]}, \"colorway\": [\"#636efa\", \"#EF553B\", \"#00cc96\", \"#ab63fa\", \"#FFA15A\", \"#19d3f3\", \"#FF6692\", \"#B6E880\", \"#FF97FF\", \"#FECB52\"], \"font\": {\"color\": \"#2a3f5f\"}, \"geo\": {\"bgcolor\": \"white\", \"lakecolor\": \"white\", \"landcolor\": \"#E5ECF6\", \"showlakes\": true, \"showland\": true, \"subunitcolor\": \"white\"}, \"hoverlabel\": {\"align\": \"left\"}, \"hovermode\": \"closest\", \"mapbox\": {\"style\": \"light\"}, \"paper_bgcolor\": \"white\", \"plot_bgcolor\": \"#E5ECF6\", \"polar\": {\"angularaxis\": {\"gridcolor\": \"white\", \"linecolor\": \"white\", \"ticks\": \"\"}, \"bgcolor\": \"#E5ECF6\", \"radialaxis\": {\"gridcolor\": \"white\", \"linecolor\": \"white\", \"ticks\": \"\"}}, \"scene\": {\"xaxis\": {\"backgroundcolor\": \"#E5ECF6\", \"gridcolor\": \"white\", \"gridwidth\": 2, \"linecolor\": \"white\", \"showbackground\": true, \"ticks\": \"\", \"zerolinecolor\": \"white\"}, \"yaxis\": {\"backgroundcolor\": \"#E5ECF6\", \"gridcolor\": \"white\", \"gridwidth\": 2, \"linecolor\": \"white\", \"showbackground\": true, \"ticks\": \"\", \"zerolinecolor\": \"white\"}, \"zaxis\": {\"backgroundcolor\": \"#E5ECF6\", \"gridcolor\": \"white\", \"gridwidth\": 2, \"linecolor\": \"white\", \"showbackground\": true, \"ticks\": \"\", \"zerolinecolor\": \"white\"}}, \"shapedefaults\": {\"line\": {\"color\": \"#2a3f5f\"}}, \"ternary\": {\"aaxis\": {\"gridcolor\": \"white\", \"linecolor\": \"white\", \"ticks\": \"\"}, \"baxis\": {\"gridcolor\": \"white\", \"linecolor\": \"white\", \"ticks\": \"\"}, \"bgcolor\": \"#E5ECF6\", \"caxis\": {\"gridcolor\": \"white\", \"linecolor\": \"white\", \"ticks\": \"\"}}, \"title\": {\"x\": 0.05}, \"xaxis\": {\"automargin\": true, \"gridcolor\": \"white\", \"linecolor\": \"white\", \"ticks\": \"\", \"title\": {\"standoff\": 15}, \"zerolinecolor\": \"white\", \"zerolinewidth\": 2}, \"yaxis\": {\"automargin\": true, \"gridcolor\": \"white\", \"linecolor\": \"white\", \"ticks\": \"\", \"title\": {\"standoff\": 15}, \"zerolinecolor\": \"white\", \"zerolinewidth\": 2}}}},\n",
       "                        {\"responsive\": true}\n",
       "                    ).then(function(){\n",
       "                            \n",
       "var gd = document.getElementById('7c327f24-a645-4c7d-b6ff-e33ecebfee03');\n",
       "var x = new MutationObserver(function (mutations, observer) {{\n",
       "        var display = window.getComputedStyle(gd).display;\n",
       "        if (!display || display === 'none') {{\n",
       "            console.log([gd, 'removed!']);\n",
       "            Plotly.purge(gd);\n",
       "            observer.disconnect();\n",
       "        }}\n",
       "}});\n",
       "\n",
       "// Listen for the removal of the full notebook cells\n",
       "var notebookContainer = gd.closest('#notebook-container');\n",
       "if (notebookContainer) {{\n",
       "    x.observe(notebookContainer, {childList: true});\n",
       "}}\n",
       "\n",
       "// Listen for the clearing of the current output cell\n",
       "var outputEl = gd.closest('.output');\n",
       "if (outputEl) {{\n",
       "    x.observe(outputEl, {childList: true});\n",
       "}}\n",
       "\n",
       "                        })\n",
       "                };\n",
       "                });\n",
       "            </script>\n",
       "        </div>"
      ]
     },
     "metadata": {},
     "output_type": "display_data"
    }
   ],
   "source": [
    "locs = pd.DataFrame({'lat': [lat], 'lon': [lon], 'site_name': [site_name]})\n",
    "\n",
    "m_fig = go.Figure(go.Scattermapbox(\n",
    "    lat=locs[\"lat\"],\n",
    "    lon=locs[\"lon\"],\n",
    "    mode=\"markers\",\n",
    "    marker=go.scattermapbox.Marker(\n",
    "        size=20,\n",
    "        color='red'\n",
    "    ),\n",
    "    text=locs[\"site_name\"]\n",
    "))\n",
    "\n",
    "m_fig.update_layout(\n",
    "    mapbox_style=\"open-street-map\",\n",
    "    mapbox=dict(\n",
    "        center=dict(\n",
    "        lat=lat,\n",
    "        lon=lon\n",
    "        ),\n",
    "        zoom=13\n",
    "    )\n",
    "    \n",
    ")\n",
    "m_fig.show()"
   ]
  },
  {
   "cell_type": "code",
   "execution_count": 24,
   "metadata": {},
   "outputs": [
    {
     "data": {
      "application/vnd.plotly.v1+json": {
       "config": {
        "plotlyServerURL": "https://plot.ly"
       },
       "data": [
        {
         "lat": [
          39.65202778
         ],
         "lon": [
          -105.17325
         ],
         "marker": {
          "color": "red",
          "size": 20
         },
         "mode": "markers",
         "showlegend": false,
         "subplot": "mapbox",
         "text": [
          "BEAR CREEK ABOVE BEAR CREEK LAKE NEAR MORRISON, CO"
         ],
         "type": "scattermapbox"
        },
        {
         "line": {
          "color": "orange",
          "width": 2
         },
         "name": "Mean CFS for the Day<br>(Last 10 Years)",
         "type": "scatter",
         "x": [
          "April 01",
          "April 02",
          "April 03",
          "April 04",
          "April 05",
          "April 06",
          "April 07",
          "April 08",
          "April 09",
          "April 10",
          "April 11",
          "April 12",
          "April 13",
          "April 14",
          "April 15",
          "April 16",
          "April 17",
          "April 18",
          "April 19",
          "April 20",
          "April 21",
          "April 22",
          "April 23",
          "April 24",
          "April 25",
          "April 26",
          "April 27",
          "April 28",
          "April 29",
          "April 30",
          "May 01",
          "May 02",
          "May 03",
          "May 04",
          "May 05",
          "May 06",
          "May 07",
          "May 08",
          "May 09",
          "May 10",
          "May 11",
          "May 12",
          "May 13",
          "May 14",
          "May 15",
          "May 16",
          "May 17",
          "May 18",
          "May 19",
          "May 20",
          "May 21",
          "May 22",
          "May 23",
          "May 24",
          "May 25",
          "May 26",
          "May 27",
          "May 28",
          "May 29",
          "May 30",
          "May 31",
          "June 01",
          "June 02",
          "June 03",
          "June 04",
          "June 05",
          "June 06",
          "June 07",
          "June 08",
          "June 09",
          "June 10",
          "June 11",
          "June 12",
          "June 13",
          "June 14",
          "June 15",
          "June 16",
          "June 17",
          "June 18",
          "June 19",
          "June 20",
          "June 21",
          "June 22",
          "June 23",
          "June 24",
          "June 25",
          "June 26",
          "June 27",
          "June 28",
          "June 29",
          "June 30",
          "July 01",
          "July 02",
          "July 03",
          "July 04",
          "July 05",
          "July 06",
          "July 07",
          "July 08",
          "July 09",
          "July 10",
          "July 11",
          "July 12",
          "July 13",
          "July 14",
          "July 15",
          "July 16",
          "July 17",
          "July 18",
          "July 19",
          "July 20",
          "July 21",
          "July 22",
          "July 23",
          "July 24",
          "July 25",
          "July 26",
          "July 27",
          "July 28",
          "July 29",
          "July 30",
          "July 31",
          "August 01",
          "August 02",
          "August 03",
          "August 04",
          "August 05",
          "August 06",
          "August 07",
          "August 08",
          "August 09",
          "August 10",
          "August 11",
          "August 12",
          "August 13",
          "August 14",
          "August 15",
          "August 16",
          "August 17",
          "August 18",
          "August 19",
          "August 20",
          "August 21",
          "August 22",
          "August 23",
          "August 24",
          "August 25",
          "August 26",
          "August 27",
          "August 28",
          "August 29",
          "August 30",
          "August 31",
          "September 01",
          "September 02",
          "September 03",
          "September 04",
          "September 05",
          "September 06",
          "September 07",
          "September 08",
          "September 09",
          "September 10",
          "September 11",
          "September 12",
          "September 13",
          "September 14",
          "September 15",
          "September 16",
          "September 17",
          "September 18",
          "September 19",
          "September 20",
          "September 21",
          "September 22",
          "September 23",
          "September 24",
          "September 25",
          "September 26",
          "September 27",
          "September 28",
          "September 29",
          "September 30"
         ],
         "xaxis": "x",
         "y": [
          11.555555555555555,
          11.333333333333334,
          14,
          13.88888888888889,
          14.88888888888889,
          14.88888888888889,
          15.555555555555555,
          16.333333333333332,
          17.333333333333332,
          17.555555555555557,
          19.333333333333332,
          18.444444444444443,
          18.88888888888889,
          18.22222222222222,
          20.88888888888889,
          24.77777777777778,
          25.444444444444443,
          27,
          30.11111111111111,
          32.55555555555556,
          38,
          46.55555555555556,
          55.666666666666664,
          59,
          54.111111111111114,
          56,
          55.333333333333336,
          52,
          55.111111111111114,
          56.77777777777778,
          61,
          63.333333333333336,
          67.88888888888889,
          75.11111111111111,
          98.33333333333333,
          105.22222222222223,
          100.22222222222223,
          105.33333333333333,
          150.33333333333334,
          149,
          144.22222222222223,
          117.88888888888889,
          102.55555555555556,
          98.33333333333333,
          92,
          87.88888888888889,
          86.22222222222223,
          99.25,
          128.625,
          124.875,
          125.125,
          128.875,
          135.75,
          133.25,
          137.125,
          128.375,
          120.375,
          115.875,
          111.75,
          109.625,
          98.875,
          97.125,
          94.75,
          96.375,
          94,
          102.125,
          116.625,
          106.75,
          99.75,
          94.75,
          92.875,
          102,
          111.25,
          104.75,
          104.5,
          93.625,
          97.125,
          89.375,
          90.5,
          80,
          82.375,
          76.5,
          74.125,
          70.375,
          63.125,
          61.625,
          57.75,
          51.75,
          46.75,
          43.375,
          43.5,
          51,
          53.75,
          47.125,
          43.125,
          47.625,
          46.25,
          49.75,
          57.625,
          55.375,
          50.625,
          47.125,
          53.875,
          61.875,
          62.125,
          55.625,
          53.375,
          51.25,
          42.625,
          40.375,
          41.25,
          43.375,
          40.875,
          35.75,
          35,
          33.375,
          38.75,
          42.875,
          34.75,
          31.75,
          36.125,
          38.125,
          32.875,
          31.125,
          33.5,
          30.5,
          31.25,
          29.875,
          27,
          28.75,
          29,
          25.125,
          25.375,
          33,
          25.375,
          24.75,
          25.625,
          23.375,
          23.625,
          19.875,
          19.375,
          19.25,
          19.25,
          18.5,
          21.125,
          18.5,
          17.125,
          19.75,
          21.625,
          20.875,
          16.75,
          17.25,
          17,
          16.875,
          15,
          14.375,
          13.375,
          18.125,
          19.125,
          16.25,
          15.75,
          18.875,
          30.125,
          62.25,
          95.25,
          194.75,
          144.375,
          157.25,
          173,
          127.5,
          106.625,
          88.25,
          83,
          69.625,
          62.125,
          54.5,
          41.25,
          32.875,
          30.625,
          32.5,
          36.625,
          39.625,
          41.285714285714285
         ],
         "yaxis": "y"
        },
        {
         "line": {
          "color": "rgb(231, 29, 53)",
          "dash": "dot",
          "width": 1
         },
         "name": "Max CFS for the Day<br>(Last 10 Years)",
         "type": "scatter",
         "x": [
          "April 01",
          "April 02",
          "April 03",
          "April 04",
          "April 05",
          "April 06",
          "April 07",
          "April 08",
          "April 09",
          "April 10",
          "April 11",
          "April 12",
          "April 13",
          "April 14",
          "April 15",
          "April 16",
          "April 17",
          "April 18",
          "April 19",
          "April 20",
          "April 21",
          "April 22",
          "April 23",
          "April 24",
          "April 25",
          "April 26",
          "April 27",
          "April 28",
          "April 29",
          "April 30",
          "May 01",
          "May 02",
          "May 03",
          "May 04",
          "May 05",
          "May 06",
          "May 07",
          "May 08",
          "May 09",
          "May 10",
          "May 11",
          "May 12",
          "May 13",
          "May 14",
          "May 15",
          "May 16",
          "May 17",
          "May 18",
          "May 19",
          "May 20",
          "May 21",
          "May 22",
          "May 23",
          "May 24",
          "May 25",
          "May 26",
          "May 27",
          "May 28",
          "May 29",
          "May 30",
          "May 31",
          "June 01",
          "June 02",
          "June 03",
          "June 04",
          "June 05",
          "June 06",
          "June 07",
          "June 08",
          "June 09",
          "June 10",
          "June 11",
          "June 12",
          "June 13",
          "June 14",
          "June 15",
          "June 16",
          "June 17",
          "June 18",
          "June 19",
          "June 20",
          "June 21",
          "June 22",
          "June 23",
          "June 24",
          "June 25",
          "June 26",
          "June 27",
          "June 28",
          "June 29",
          "June 30",
          "July 01",
          "July 02",
          "July 03",
          "July 04",
          "July 05",
          "July 06",
          "July 07",
          "July 08",
          "July 09",
          "July 10",
          "July 11",
          "July 12",
          "July 13",
          "July 14",
          "July 15",
          "July 16",
          "July 17",
          "July 18",
          "July 19",
          "July 20",
          "July 21",
          "July 22",
          "July 23",
          "July 24",
          "July 25",
          "July 26",
          "July 27",
          "July 28",
          "July 29",
          "July 30",
          "July 31",
          "August 01",
          "August 02",
          "August 03",
          "August 04",
          "August 05",
          "August 06",
          "August 07",
          "August 08",
          "August 09",
          "August 10",
          "August 11",
          "August 12",
          "August 13",
          "August 14",
          "August 15",
          "August 16",
          "August 17",
          "August 18",
          "August 19",
          "August 20",
          "August 21",
          "August 22",
          "August 23",
          "August 24",
          "August 25",
          "August 26",
          "August 27",
          "August 28",
          "August 29",
          "August 30",
          "August 31",
          "September 01",
          "September 02",
          "September 03",
          "September 04",
          "September 05",
          "September 06",
          "September 07",
          "September 08",
          "September 09",
          "September 10",
          "September 11",
          "September 12",
          "September 13",
          "September 14",
          "September 15",
          "September 16",
          "September 17",
          "September 18",
          "September 19",
          "September 20",
          "September 21",
          "September 22",
          "September 23",
          "September 24",
          "September 25",
          "September 26",
          "September 27",
          "September 28",
          "September 29",
          "September 30"
         ],
         "xaxis": "x",
         "y": [
          47,
          54,
          64,
          65,
          66,
          58,
          61,
          63,
          63,
          64,
          78,
          73,
          70,
          68,
          76,
          94,
          86,
          88,
          90,
          100,
          139,
          199,
          243,
          259,
          231,
          214,
          186,
          167,
          173,
          196,
          234,
          255,
          245,
          334,
          529,
          581,
          513,
          543,
          915,
          917,
          808,
          616,
          503,
          427,
          350,
          311,
          294,
          284,
          546,
          528,
          511,
          538,
          557,
          542,
          516,
          476,
          403,
          372,
          334,
          323,
          280,
          281,
          269,
          283,
          287,
          333,
          418,
          353,
          318,
          304,
          333,
          435,
          512,
          448,
          460,
          411,
          456,
          391,
          361,
          324,
          289,
          259,
          242,
          219,
          214,
          229,
          222,
          198,
          169,
          157,
          145,
          150,
          170,
          140,
          127,
          154,
          153,
          203,
          228,
          241,
          221,
          187,
          171,
          185,
          188,
          169,
          156,
          141,
          133,
          132,
          130,
          153,
          148,
          127,
          122,
          127,
          118,
          112,
          92,
          85,
          87,
          113,
          88,
          80,
          82,
          73,
          67,
          66,
          55,
          57,
          52,
          52,
          58,
          89,
          52,
          57,
          60,
          57,
          66,
          53,
          45,
          43,
          45,
          34,
          38,
          35,
          25,
          48,
          60,
          52,
          36,
          34,
          41,
          35,
          37,
          37,
          33,
          47,
          47,
          35,
          26,
          57,
          152,
          420,
          679,
          1480,
          1080,
          1170,
          1310,
          949,
          786,
          651,
          611,
          502,
          415,
          364,
          254,
          199,
          181,
          180,
          206,
          217,
          189
         ],
         "yaxis": "y"
        },
        {
         "line": {
          "color": "rgb(30, 100, 46)",
          "dash": "dot",
          "width": 1
         },
         "name": "Min CFS for the Day<br>(Last 10 Years)",
         "type": "scatter",
         "x": [
          "April 01",
          "April 02",
          "April 03",
          "April 04",
          "April 05",
          "April 06",
          "April 07",
          "April 08",
          "April 09",
          "April 10",
          "April 11",
          "April 12",
          "April 13",
          "April 14",
          "April 15",
          "April 16",
          "April 17",
          "April 18",
          "April 19",
          "April 20",
          "April 21",
          "April 22",
          "April 23",
          "April 24",
          "April 25",
          "April 26",
          "April 27",
          "April 28",
          "April 29",
          "April 30",
          "May 01",
          "May 02",
          "May 03",
          "May 04",
          "May 05",
          "May 06",
          "May 07",
          "May 08",
          "May 09",
          "May 10",
          "May 11",
          "May 12",
          "May 13",
          "May 14",
          "May 15",
          "May 16",
          "May 17",
          "May 18",
          "May 19",
          "May 20",
          "May 21",
          "May 22",
          "May 23",
          "May 24",
          "May 25",
          "May 26",
          "May 27",
          "May 28",
          "May 29",
          "May 30",
          "May 31",
          "June 01",
          "June 02",
          "June 03",
          "June 04",
          "June 05",
          "June 06",
          "June 07",
          "June 08",
          "June 09",
          "June 10",
          "June 11",
          "June 12",
          "June 13",
          "June 14",
          "June 15",
          "June 16",
          "June 17",
          "June 18",
          "June 19",
          "June 20",
          "June 21",
          "June 22",
          "June 23",
          "June 24",
          "June 25",
          "June 26",
          "June 27",
          "June 28",
          "June 29",
          "June 30",
          "July 01",
          "July 02",
          "July 03",
          "July 04",
          "July 05",
          "July 06",
          "July 07",
          "July 08",
          "July 09",
          "July 10",
          "July 11",
          "July 12",
          "July 13",
          "July 14",
          "July 15",
          "July 16",
          "July 17",
          "July 18",
          "July 19",
          "July 20",
          "July 21",
          "July 22",
          "July 23",
          "July 24",
          "July 25",
          "July 26",
          "July 27",
          "July 28",
          "July 29",
          "July 30",
          "July 31",
          "August 01",
          "August 02",
          "August 03",
          "August 04",
          "August 05",
          "August 06",
          "August 07",
          "August 08",
          "August 09",
          "August 10",
          "August 11",
          "August 12",
          "August 13",
          "August 14",
          "August 15",
          "August 16",
          "August 17",
          "August 18",
          "August 19",
          "August 20",
          "August 21",
          "August 22",
          "August 23",
          "August 24",
          "August 25",
          "August 26",
          "August 27",
          "August 28",
          "August 29",
          "August 30",
          "August 31",
          "September 01",
          "September 02",
          "September 03",
          "September 04",
          "September 05",
          "September 06",
          "September 07",
          "September 08",
          "September 09",
          "September 10",
          "September 11",
          "September 12",
          "September 13",
          "September 14",
          "September 15",
          "September 16",
          "September 17",
          "September 18",
          "September 19",
          "September 20",
          "September 21",
          "September 22",
          "September 23",
          "September 24",
          "September 25",
          "September 26",
          "September 27",
          "September 28",
          "September 29",
          "September 30"
         ],
         "xaxis": "x",
         "y": [
          1,
          1,
          2,
          2,
          4,
          3,
          2,
          2,
          3,
          2,
          3,
          3,
          2,
          4,
          4,
          5,
          7,
          5,
          4,
          6,
          5,
          5,
          3,
          5,
          5,
          5,
          5,
          5,
          7,
          3,
          8,
          7,
          5,
          5,
          5,
          5,
          4,
          6,
          8,
          9,
          23,
          13,
          9,
          18,
          17,
          14,
          18,
          26,
          28,
          28,
          21,
          17,
          14,
          8,
          18,
          18,
          17,
          19,
          28,
          21,
          19,
          18,
          15,
          16,
          15,
          13,
          13,
          12,
          10,
          9,
          9,
          7,
          6,
          6,
          6,
          5,
          5,
          14,
          13,
          12,
          10,
          11,
          11,
          10,
          10,
          10,
          7,
          6,
          5,
          4,
          3,
          4,
          4,
          2,
          2,
          3,
          4,
          3,
          2,
          2,
          2,
          3,
          2,
          3,
          4,
          3,
          12,
          8,
          5,
          2,
          1,
          2,
          3,
          6,
          6,
          7,
          10,
          8,
          6,
          8,
          7,
          6,
          3,
          4,
          4,
          4,
          3,
          3,
          2,
          3,
          2,
          2,
          2,
          2,
          2,
          1,
          5,
          5,
          2,
          1,
          2,
          1,
          2,
          6,
          5,
          2,
          2,
          1,
          1,
          1,
          2,
          3,
          2,
          2,
          1,
          3,
          2,
          7,
          7,
          9,
          7,
          7,
          8,
          5,
          6,
          3,
          3,
          3,
          3,
          3,
          3,
          3,
          3,
          3,
          3,
          3,
          2,
          2,
          4,
          3,
          3,
          3,
          2
         ],
         "yaxis": "y"
        },
        {
         "line": {
          "color": "navy",
          "width": 2
         },
         "name": "Mean CFS for the Day<br>(2020)",
         "type": "scatter",
         "x": [
          "April 01",
          "April 02",
          "April 03",
          "April 04",
          "April 05",
          "April 06",
          "April 07",
          "April 08",
          "April 09",
          "April 10",
          "April 11",
          "April 12",
          "April 13",
          "April 14",
          "April 15",
          "April 16",
          "April 17",
          "April 18",
          "April 19",
          "April 20",
          "April 21",
          "April 22",
          "April 23",
          "April 24",
          "April 25",
          "April 26",
          "April 27",
          "April 28",
          "April 29",
          "April 30",
          "May 01",
          "May 02",
          "May 03",
          "May 04",
          "May 05",
          "May 06",
          "May 07",
          "May 08",
          "May 09",
          "May 10",
          "May 11",
          "May 12",
          "May 13"
         ],
         "xaxis": "x",
         "y": [
          5,
          5,
          3,
          3,
          11,
          18,
          17,
          17,
          18,
          19,
          21,
          25,
          23,
          19,
          23,
          31,
          24,
          34,
          34,
          30,
          27,
          25,
          21,
          20,
          21,
          20,
          23,
          29,
          30,
          33,
          32,
          38,
          42,
          42,
          36,
          28,
          27,
          26,
          26,
          24,
          25,
          25,
          22
         ],
         "yaxis": "y"
        }
       ],
       "layout": {
        "font": {
         "color": "#7f7f7f",
         "family": "Courier New, monospace",
         "size": 10
        },
        "mapbox": {
         "center": {
          "lat": 39.65202778,
          "lon": -105.17325
         },
         "domain": {
          "x": [
           0,
           0.225
          ],
          "y": [
           0,
           1
          ]
         },
         "style": "open-street-map",
         "zoom": 11
        },
        "template": {
         "data": {
          "bar": [
           {
            "error_x": {
             "color": "#2a3f5f"
            },
            "error_y": {
             "color": "#2a3f5f"
            },
            "marker": {
             "line": {
              "color": "#E5ECF6",
              "width": 0.5
             }
            },
            "type": "bar"
           }
          ],
          "barpolar": [
           {
            "marker": {
             "line": {
              "color": "#E5ECF6",
              "width": 0.5
             }
            },
            "type": "barpolar"
           }
          ],
          "carpet": [
           {
            "aaxis": {
             "endlinecolor": "#2a3f5f",
             "gridcolor": "white",
             "linecolor": "white",
             "minorgridcolor": "white",
             "startlinecolor": "#2a3f5f"
            },
            "baxis": {
             "endlinecolor": "#2a3f5f",
             "gridcolor": "white",
             "linecolor": "white",
             "minorgridcolor": "white",
             "startlinecolor": "#2a3f5f"
            },
            "type": "carpet"
           }
          ],
          "choropleth": [
           {
            "colorbar": {
             "outlinewidth": 0,
             "ticks": ""
            },
            "type": "choropleth"
           }
          ],
          "contour": [
           {
            "colorbar": {
             "outlinewidth": 0,
             "ticks": ""
            },
            "colorscale": [
             [
              0,
              "#0d0887"
             ],
             [
              0.1111111111111111,
              "#46039f"
             ],
             [
              0.2222222222222222,
              "#7201a8"
             ],
             [
              0.3333333333333333,
              "#9c179e"
             ],
             [
              0.4444444444444444,
              "#bd3786"
             ],
             [
              0.5555555555555556,
              "#d8576b"
             ],
             [
              0.6666666666666666,
              "#ed7953"
             ],
             [
              0.7777777777777778,
              "#fb9f3a"
             ],
             [
              0.8888888888888888,
              "#fdca26"
             ],
             [
              1,
              "#f0f921"
             ]
            ],
            "type": "contour"
           }
          ],
          "contourcarpet": [
           {
            "colorbar": {
             "outlinewidth": 0,
             "ticks": ""
            },
            "type": "contourcarpet"
           }
          ],
          "heatmap": [
           {
            "colorbar": {
             "outlinewidth": 0,
             "ticks": ""
            },
            "colorscale": [
             [
              0,
              "#0d0887"
             ],
             [
              0.1111111111111111,
              "#46039f"
             ],
             [
              0.2222222222222222,
              "#7201a8"
             ],
             [
              0.3333333333333333,
              "#9c179e"
             ],
             [
              0.4444444444444444,
              "#bd3786"
             ],
             [
              0.5555555555555556,
              "#d8576b"
             ],
             [
              0.6666666666666666,
              "#ed7953"
             ],
             [
              0.7777777777777778,
              "#fb9f3a"
             ],
             [
              0.8888888888888888,
              "#fdca26"
             ],
             [
              1,
              "#f0f921"
             ]
            ],
            "type": "heatmap"
           }
          ],
          "heatmapgl": [
           {
            "colorbar": {
             "outlinewidth": 0,
             "ticks": ""
            },
            "colorscale": [
             [
              0,
              "#0d0887"
             ],
             [
              0.1111111111111111,
              "#46039f"
             ],
             [
              0.2222222222222222,
              "#7201a8"
             ],
             [
              0.3333333333333333,
              "#9c179e"
             ],
             [
              0.4444444444444444,
              "#bd3786"
             ],
             [
              0.5555555555555556,
              "#d8576b"
             ],
             [
              0.6666666666666666,
              "#ed7953"
             ],
             [
              0.7777777777777778,
              "#fb9f3a"
             ],
             [
              0.8888888888888888,
              "#fdca26"
             ],
             [
              1,
              "#f0f921"
             ]
            ],
            "type": "heatmapgl"
           }
          ],
          "histogram": [
           {
            "marker": {
             "colorbar": {
              "outlinewidth": 0,
              "ticks": ""
             }
            },
            "type": "histogram"
           }
          ],
          "histogram2d": [
           {
            "colorbar": {
             "outlinewidth": 0,
             "ticks": ""
            },
            "colorscale": [
             [
              0,
              "#0d0887"
             ],
             [
              0.1111111111111111,
              "#46039f"
             ],
             [
              0.2222222222222222,
              "#7201a8"
             ],
             [
              0.3333333333333333,
              "#9c179e"
             ],
             [
              0.4444444444444444,
              "#bd3786"
             ],
             [
              0.5555555555555556,
              "#d8576b"
             ],
             [
              0.6666666666666666,
              "#ed7953"
             ],
             [
              0.7777777777777778,
              "#fb9f3a"
             ],
             [
              0.8888888888888888,
              "#fdca26"
             ],
             [
              1,
              "#f0f921"
             ]
            ],
            "type": "histogram2d"
           }
          ],
          "histogram2dcontour": [
           {
            "colorbar": {
             "outlinewidth": 0,
             "ticks": ""
            },
            "colorscale": [
             [
              0,
              "#0d0887"
             ],
             [
              0.1111111111111111,
              "#46039f"
             ],
             [
              0.2222222222222222,
              "#7201a8"
             ],
             [
              0.3333333333333333,
              "#9c179e"
             ],
             [
              0.4444444444444444,
              "#bd3786"
             ],
             [
              0.5555555555555556,
              "#d8576b"
             ],
             [
              0.6666666666666666,
              "#ed7953"
             ],
             [
              0.7777777777777778,
              "#fb9f3a"
             ],
             [
              0.8888888888888888,
              "#fdca26"
             ],
             [
              1,
              "#f0f921"
             ]
            ],
            "type": "histogram2dcontour"
           }
          ],
          "mesh3d": [
           {
            "colorbar": {
             "outlinewidth": 0,
             "ticks": ""
            },
            "type": "mesh3d"
           }
          ],
          "parcoords": [
           {
            "line": {
             "colorbar": {
              "outlinewidth": 0,
              "ticks": ""
             }
            },
            "type": "parcoords"
           }
          ],
          "pie": [
           {
            "automargin": true,
            "type": "pie"
           }
          ],
          "scatter": [
           {
            "marker": {
             "colorbar": {
              "outlinewidth": 0,
              "ticks": ""
             }
            },
            "type": "scatter"
           }
          ],
          "scatter3d": [
           {
            "line": {
             "colorbar": {
              "outlinewidth": 0,
              "ticks": ""
             }
            },
            "marker": {
             "colorbar": {
              "outlinewidth": 0,
              "ticks": ""
             }
            },
            "type": "scatter3d"
           }
          ],
          "scattercarpet": [
           {
            "marker": {
             "colorbar": {
              "outlinewidth": 0,
              "ticks": ""
             }
            },
            "type": "scattercarpet"
           }
          ],
          "scattergeo": [
           {
            "marker": {
             "colorbar": {
              "outlinewidth": 0,
              "ticks": ""
             }
            },
            "type": "scattergeo"
           }
          ],
          "scattergl": [
           {
            "marker": {
             "colorbar": {
              "outlinewidth": 0,
              "ticks": ""
             }
            },
            "type": "scattergl"
           }
          ],
          "scattermapbox": [
           {
            "marker": {
             "colorbar": {
              "outlinewidth": 0,
              "ticks": ""
             }
            },
            "type": "scattermapbox"
           }
          ],
          "scatterpolar": [
           {
            "marker": {
             "colorbar": {
              "outlinewidth": 0,
              "ticks": ""
             }
            },
            "type": "scatterpolar"
           }
          ],
          "scatterpolargl": [
           {
            "marker": {
             "colorbar": {
              "outlinewidth": 0,
              "ticks": ""
             }
            },
            "type": "scatterpolargl"
           }
          ],
          "scatterternary": [
           {
            "marker": {
             "colorbar": {
              "outlinewidth": 0,
              "ticks": ""
             }
            },
            "type": "scatterternary"
           }
          ],
          "surface": [
           {
            "colorbar": {
             "outlinewidth": 0,
             "ticks": ""
            },
            "colorscale": [
             [
              0,
              "#0d0887"
             ],
             [
              0.1111111111111111,
              "#46039f"
             ],
             [
              0.2222222222222222,
              "#7201a8"
             ],
             [
              0.3333333333333333,
              "#9c179e"
             ],
             [
              0.4444444444444444,
              "#bd3786"
             ],
             [
              0.5555555555555556,
              "#d8576b"
             ],
             [
              0.6666666666666666,
              "#ed7953"
             ],
             [
              0.7777777777777778,
              "#fb9f3a"
             ],
             [
              0.8888888888888888,
              "#fdca26"
             ],
             [
              1,
              "#f0f921"
             ]
            ],
            "type": "surface"
           }
          ],
          "table": [
           {
            "cells": {
             "fill": {
              "color": "#EBF0F8"
             },
             "line": {
              "color": "white"
             }
            },
            "header": {
             "fill": {
              "color": "#C8D4E3"
             },
             "line": {
              "color": "white"
             }
            },
            "type": "table"
           }
          ]
         },
         "layout": {
          "annotationdefaults": {
           "arrowcolor": "#2a3f5f",
           "arrowhead": 0,
           "arrowwidth": 1
          },
          "coloraxis": {
           "colorbar": {
            "outlinewidth": 0,
            "ticks": ""
           }
          },
          "colorscale": {
           "diverging": [
            [
             0,
             "#8e0152"
            ],
            [
             0.1,
             "#c51b7d"
            ],
            [
             0.2,
             "#de77ae"
            ],
            [
             0.3,
             "#f1b6da"
            ],
            [
             0.4,
             "#fde0ef"
            ],
            [
             0.5,
             "#f7f7f7"
            ],
            [
             0.6,
             "#e6f5d0"
            ],
            [
             0.7,
             "#b8e186"
            ],
            [
             0.8,
             "#7fbc41"
            ],
            [
             0.9,
             "#4d9221"
            ],
            [
             1,
             "#276419"
            ]
           ],
           "sequential": [
            [
             0,
             "#0d0887"
            ],
            [
             0.1111111111111111,
             "#46039f"
            ],
            [
             0.2222222222222222,
             "#7201a8"
            ],
            [
             0.3333333333333333,
             "#9c179e"
            ],
            [
             0.4444444444444444,
             "#bd3786"
            ],
            [
             0.5555555555555556,
             "#d8576b"
            ],
            [
             0.6666666666666666,
             "#ed7953"
            ],
            [
             0.7777777777777778,
             "#fb9f3a"
            ],
            [
             0.8888888888888888,
             "#fdca26"
            ],
            [
             1,
             "#f0f921"
            ]
           ],
           "sequentialminus": [
            [
             0,
             "#0d0887"
            ],
            [
             0.1111111111111111,
             "#46039f"
            ],
            [
             0.2222222222222222,
             "#7201a8"
            ],
            [
             0.3333333333333333,
             "#9c179e"
            ],
            [
             0.4444444444444444,
             "#bd3786"
            ],
            [
             0.5555555555555556,
             "#d8576b"
            ],
            [
             0.6666666666666666,
             "#ed7953"
            ],
            [
             0.7777777777777778,
             "#fb9f3a"
            ],
            [
             0.8888888888888888,
             "#fdca26"
            ],
            [
             1,
             "#f0f921"
            ]
           ]
          },
          "colorway": [
           "#636efa",
           "#EF553B",
           "#00cc96",
           "#ab63fa",
           "#FFA15A",
           "#19d3f3",
           "#FF6692",
           "#B6E880",
           "#FF97FF",
           "#FECB52"
          ],
          "font": {
           "color": "#2a3f5f"
          },
          "geo": {
           "bgcolor": "white",
           "lakecolor": "white",
           "landcolor": "#E5ECF6",
           "showlakes": true,
           "showland": true,
           "subunitcolor": "white"
          },
          "hoverlabel": {
           "align": "left"
          },
          "hovermode": "closest",
          "mapbox": {
           "style": "light"
          },
          "paper_bgcolor": "white",
          "plot_bgcolor": "#E5ECF6",
          "polar": {
           "angularaxis": {
            "gridcolor": "white",
            "linecolor": "white",
            "ticks": ""
           },
           "bgcolor": "#E5ECF6",
           "radialaxis": {
            "gridcolor": "white",
            "linecolor": "white",
            "ticks": ""
           }
          },
          "scene": {
           "xaxis": {
            "backgroundcolor": "#E5ECF6",
            "gridcolor": "white",
            "gridwidth": 2,
            "linecolor": "white",
            "showbackground": true,
            "ticks": "",
            "zerolinecolor": "white"
           },
           "yaxis": {
            "backgroundcolor": "#E5ECF6",
            "gridcolor": "white",
            "gridwidth": 2,
            "linecolor": "white",
            "showbackground": true,
            "ticks": "",
            "zerolinecolor": "white"
           },
           "zaxis": {
            "backgroundcolor": "#E5ECF6",
            "gridcolor": "white",
            "gridwidth": 2,
            "linecolor": "white",
            "showbackground": true,
            "ticks": "",
            "zerolinecolor": "white"
           }
          },
          "shapedefaults": {
           "line": {
            "color": "#2a3f5f"
           }
          },
          "ternary": {
           "aaxis": {
            "gridcolor": "white",
            "linecolor": "white",
            "ticks": ""
           },
           "baxis": {
            "gridcolor": "white",
            "linecolor": "white",
            "ticks": ""
           },
           "bgcolor": "#E5ECF6",
           "caxis": {
            "gridcolor": "white",
            "linecolor": "white",
            "ticks": ""
           }
          },
          "title": {
           "x": 0.05
          },
          "xaxis": {
           "automargin": true,
           "gridcolor": "white",
           "linecolor": "white",
           "ticks": "",
           "title": {
            "standoff": 15
           },
           "zerolinecolor": "white",
           "zerolinewidth": 2
          },
          "yaxis": {
           "automargin": true,
           "gridcolor": "white",
           "linecolor": "white",
           "ticks": "",
           "title": {
            "standoff": 15
           },
           "zerolinecolor": "white",
           "zerolinewidth": 2
          }
         }
        },
        "title": {
         "text": "CFS for Bear Creek Above Bear Creek Lake Near Morrison, Co<br>Coordinates: 39.65202778, -105.17325"
        },
        "xaxis": {
         "anchor": "y",
         "domain": [
          0.325,
          1
         ]
        },
        "yaxis": {
         "anchor": "x",
         "domain": [
          0,
          1
         ],
         "title": {
          "text": "Cubic Feet per Second (CFS)"
         }
        }
       }
      },
      "text/html": [
       "<div>\n",
       "        \n",
       "        \n",
       "            <div id=\"dee00394-c97d-4833-b9ce-217950798595\" class=\"plotly-graph-div\" style=\"height:525px; width:100%;\"></div>\n",
       "            <script type=\"text/javascript\">\n",
       "                require([\"plotly\"], function(Plotly) {\n",
       "                    window.PLOTLYENV=window.PLOTLYENV || {};\n",
       "                    \n",
       "                if (document.getElementById(\"dee00394-c97d-4833-b9ce-217950798595\")) {\n",
       "                    Plotly.newPlot(\n",
       "                        'dee00394-c97d-4833-b9ce-217950798595',\n",
       "                        [{\"lat\": [39.65202778], \"lon\": [-105.17325], \"marker\": {\"color\": \"red\", \"size\": 20}, \"mode\": \"markers\", \"showlegend\": false, \"subplot\": \"mapbox\", \"text\": [\"BEAR CREEK ABOVE BEAR CREEK LAKE NEAR MORRISON, CO\"], \"type\": \"scattermapbox\"}, {\"line\": {\"color\": \"orange\", \"width\": 2}, \"name\": \"Mean CFS for the Day<br>(Last 10 Years)\", \"type\": \"scatter\", \"x\": [\"April 01\", \"April 02\", \"April 03\", \"April 04\", \"April 05\", \"April 06\", \"April 07\", \"April 08\", \"April 09\", \"April 10\", \"April 11\", \"April 12\", \"April 13\", \"April 14\", \"April 15\", \"April 16\", \"April 17\", \"April 18\", \"April 19\", \"April 20\", \"April 21\", \"April 22\", \"April 23\", \"April 24\", \"April 25\", \"April 26\", \"April 27\", \"April 28\", \"April 29\", \"April 30\", \"May 01\", \"May 02\", \"May 03\", \"May 04\", \"May 05\", \"May 06\", \"May 07\", \"May 08\", \"May 09\", \"May 10\", \"May 11\", \"May 12\", \"May 13\", \"May 14\", \"May 15\", \"May 16\", \"May 17\", \"May 18\", \"May 19\", \"May 20\", \"May 21\", \"May 22\", \"May 23\", \"May 24\", \"May 25\", \"May 26\", \"May 27\", \"May 28\", \"May 29\", \"May 30\", \"May 31\", \"June 01\", \"June 02\", \"June 03\", \"June 04\", \"June 05\", \"June 06\", \"June 07\", \"June 08\", \"June 09\", \"June 10\", \"June 11\", \"June 12\", \"June 13\", \"June 14\", \"June 15\", \"June 16\", \"June 17\", \"June 18\", \"June 19\", \"June 20\", \"June 21\", \"June 22\", \"June 23\", \"June 24\", \"June 25\", \"June 26\", \"June 27\", \"June 28\", \"June 29\", \"June 30\", \"July 01\", \"July 02\", \"July 03\", \"July 04\", \"July 05\", \"July 06\", \"July 07\", \"July 08\", \"July 09\", \"July 10\", \"July 11\", \"July 12\", \"July 13\", \"July 14\", \"July 15\", \"July 16\", \"July 17\", \"July 18\", \"July 19\", \"July 20\", \"July 21\", \"July 22\", \"July 23\", \"July 24\", \"July 25\", \"July 26\", \"July 27\", \"July 28\", \"July 29\", \"July 30\", \"July 31\", \"August 01\", \"August 02\", \"August 03\", \"August 04\", \"August 05\", \"August 06\", \"August 07\", \"August 08\", \"August 09\", \"August 10\", \"August 11\", \"August 12\", \"August 13\", \"August 14\", \"August 15\", \"August 16\", \"August 17\", \"August 18\", \"August 19\", \"August 20\", \"August 21\", \"August 22\", \"August 23\", \"August 24\", \"August 25\", \"August 26\", \"August 27\", \"August 28\", \"August 29\", \"August 30\", \"August 31\", \"September 01\", \"September 02\", \"September 03\", \"September 04\", \"September 05\", \"September 06\", \"September 07\", \"September 08\", \"September 09\", \"September 10\", \"September 11\", \"September 12\", \"September 13\", \"September 14\", \"September 15\", \"September 16\", \"September 17\", \"September 18\", \"September 19\", \"September 20\", \"September 21\", \"September 22\", \"September 23\", \"September 24\", \"September 25\", \"September 26\", \"September 27\", \"September 28\", \"September 29\", \"September 30\"], \"xaxis\": \"x\", \"y\": [11.555555555555555, 11.333333333333334, 14.0, 13.88888888888889, 14.88888888888889, 14.88888888888889, 15.555555555555555, 16.333333333333332, 17.333333333333332, 17.555555555555557, 19.333333333333332, 18.444444444444443, 18.88888888888889, 18.22222222222222, 20.88888888888889, 24.77777777777778, 25.444444444444443, 27.0, 30.11111111111111, 32.55555555555556, 38.0, 46.55555555555556, 55.666666666666664, 59.0, 54.111111111111114, 56.0, 55.333333333333336, 52.0, 55.111111111111114, 56.77777777777778, 61.0, 63.333333333333336, 67.88888888888889, 75.11111111111111, 98.33333333333333, 105.22222222222223, 100.22222222222223, 105.33333333333333, 150.33333333333334, 149.0, 144.22222222222223, 117.88888888888889, 102.55555555555556, 98.33333333333333, 92.0, 87.88888888888889, 86.22222222222223, 99.25, 128.625, 124.875, 125.125, 128.875, 135.75, 133.25, 137.125, 128.375, 120.375, 115.875, 111.75, 109.625, 98.875, 97.125, 94.75, 96.375, 94.0, 102.125, 116.625, 106.75, 99.75, 94.75, 92.875, 102.0, 111.25, 104.75, 104.5, 93.625, 97.125, 89.375, 90.5, 80.0, 82.375, 76.5, 74.125, 70.375, 63.125, 61.625, 57.75, 51.75, 46.75, 43.375, 43.5, 51.0, 53.75, 47.125, 43.125, 47.625, 46.25, 49.75, 57.625, 55.375, 50.625, 47.125, 53.875, 61.875, 62.125, 55.625, 53.375, 51.25, 42.625, 40.375, 41.25, 43.375, 40.875, 35.75, 35.0, 33.375, 38.75, 42.875, 34.75, 31.75, 36.125, 38.125, 32.875, 31.125, 33.5, 30.5, 31.25, 29.875, 27.0, 28.75, 29.0, 25.125, 25.375, 33.0, 25.375, 24.75, 25.625, 23.375, 23.625, 19.875, 19.375, 19.25, 19.25, 18.5, 21.125, 18.5, 17.125, 19.75, 21.625, 20.875, 16.75, 17.25, 17.0, 16.875, 15.0, 14.375, 13.375, 18.125, 19.125, 16.25, 15.75, 18.875, 30.125, 62.25, 95.25, 194.75, 144.375, 157.25, 173.0, 127.5, 106.625, 88.25, 83.0, 69.625, 62.125, 54.5, 41.25, 32.875, 30.625, 32.5, 36.625, 39.625, 41.285714285714285], \"yaxis\": \"y\"}, {\"line\": {\"color\": \"rgb(231, 29, 53)\", \"dash\": \"dot\", \"width\": 1}, \"name\": \"Max CFS for the Day<br>(Last 10 Years)\", \"type\": \"scatter\", \"x\": [\"April 01\", \"April 02\", \"April 03\", \"April 04\", \"April 05\", \"April 06\", \"April 07\", \"April 08\", \"April 09\", \"April 10\", \"April 11\", \"April 12\", \"April 13\", \"April 14\", \"April 15\", \"April 16\", \"April 17\", \"April 18\", \"April 19\", \"April 20\", \"April 21\", \"April 22\", \"April 23\", \"April 24\", \"April 25\", \"April 26\", \"April 27\", \"April 28\", \"April 29\", \"April 30\", \"May 01\", \"May 02\", \"May 03\", \"May 04\", \"May 05\", \"May 06\", \"May 07\", \"May 08\", \"May 09\", \"May 10\", \"May 11\", \"May 12\", \"May 13\", \"May 14\", \"May 15\", \"May 16\", \"May 17\", \"May 18\", \"May 19\", \"May 20\", \"May 21\", \"May 22\", \"May 23\", \"May 24\", \"May 25\", \"May 26\", \"May 27\", \"May 28\", \"May 29\", \"May 30\", \"May 31\", \"June 01\", \"June 02\", \"June 03\", \"June 04\", \"June 05\", \"June 06\", \"June 07\", \"June 08\", \"June 09\", \"June 10\", \"June 11\", \"June 12\", \"June 13\", \"June 14\", \"June 15\", \"June 16\", \"June 17\", \"June 18\", \"June 19\", \"June 20\", \"June 21\", \"June 22\", \"June 23\", \"June 24\", \"June 25\", \"June 26\", \"June 27\", \"June 28\", \"June 29\", \"June 30\", \"July 01\", \"July 02\", \"July 03\", \"July 04\", \"July 05\", \"July 06\", \"July 07\", \"July 08\", \"July 09\", \"July 10\", \"July 11\", \"July 12\", \"July 13\", \"July 14\", \"July 15\", \"July 16\", \"July 17\", \"July 18\", \"July 19\", \"July 20\", \"July 21\", \"July 22\", \"July 23\", \"July 24\", \"July 25\", \"July 26\", \"July 27\", \"July 28\", \"July 29\", \"July 30\", \"July 31\", \"August 01\", \"August 02\", \"August 03\", \"August 04\", \"August 05\", \"August 06\", \"August 07\", \"August 08\", \"August 09\", \"August 10\", \"August 11\", \"August 12\", \"August 13\", \"August 14\", \"August 15\", \"August 16\", \"August 17\", \"August 18\", \"August 19\", \"August 20\", \"August 21\", \"August 22\", \"August 23\", \"August 24\", \"August 25\", \"August 26\", \"August 27\", \"August 28\", \"August 29\", \"August 30\", \"August 31\", \"September 01\", \"September 02\", \"September 03\", \"September 04\", \"September 05\", \"September 06\", \"September 07\", \"September 08\", \"September 09\", \"September 10\", \"September 11\", \"September 12\", \"September 13\", \"September 14\", \"September 15\", \"September 16\", \"September 17\", \"September 18\", \"September 19\", \"September 20\", \"September 21\", \"September 22\", \"September 23\", \"September 24\", \"September 25\", \"September 26\", \"September 27\", \"September 28\", \"September 29\", \"September 30\"], \"xaxis\": \"x\", \"y\": [47.0, 54.0, 64.0, 65.0, 66.0, 58.0, 61.0, 63.0, 63.0, 64.0, 78.0, 73.0, 70.0, 68.0, 76.0, 94.0, 86.0, 88.0, 90.0, 100.0, 139.0, 199.0, 243.0, 259.0, 231.0, 214.0, 186.0, 167.0, 173.0, 196.0, 234.0, 255.0, 245.0, 334.0, 529.0, 581.0, 513.0, 543.0, 915.0, 917.0, 808.0, 616.0, 503.0, 427.0, 350.0, 311.0, 294.0, 284.0, 546.0, 528.0, 511.0, 538.0, 557.0, 542.0, 516.0, 476.0, 403.0, 372.0, 334.0, 323.0, 280.0, 281.0, 269.0, 283.0, 287.0, 333.0, 418.0, 353.0, 318.0, 304.0, 333.0, 435.0, 512.0, 448.0, 460.0, 411.0, 456.0, 391.0, 361.0, 324.0, 289.0, 259.0, 242.0, 219.0, 214.0, 229.0, 222.0, 198.0, 169.0, 157.0, 145.0, 150.0, 170.0, 140.0, 127.0, 154.0, 153.0, 203.0, 228.0, 241.0, 221.0, 187.0, 171.0, 185.0, 188.0, 169.0, 156.0, 141.0, 133.0, 132.0, 130.0, 153.0, 148.0, 127.0, 122.0, 127.0, 118.0, 112.0, 92.0, 85.0, 87.0, 113.0, 88.0, 80.0, 82.0, 73.0, 67.0, 66.0, 55.0, 57.0, 52.0, 52.0, 58.0, 89.0, 52.0, 57.0, 60.0, 57.0, 66.0, 53.0, 45.0, 43.0, 45.0, 34.0, 38.0, 35.0, 25.0, 48.0, 60.0, 52.0, 36.0, 34.0, 41.0, 35.0, 37.0, 37.0, 33.0, 47.0, 47.0, 35.0, 26.0, 57.0, 152.0, 420.0, 679.0, 1480.0, 1080.0, 1170.0, 1310.0, 949.0, 786.0, 651.0, 611.0, 502.0, 415.0, 364.0, 254.0, 199.0, 181.0, 180.0, 206.0, 217.0, 189.0], \"yaxis\": \"y\"}, {\"line\": {\"color\": \"rgb(30, 100, 46)\", \"dash\": \"dot\", \"width\": 1}, \"name\": \"Min CFS for the Day<br>(Last 10 Years)\", \"type\": \"scatter\", \"x\": [\"April 01\", \"April 02\", \"April 03\", \"April 04\", \"April 05\", \"April 06\", \"April 07\", \"April 08\", \"April 09\", \"April 10\", \"April 11\", \"April 12\", \"April 13\", \"April 14\", \"April 15\", \"April 16\", \"April 17\", \"April 18\", \"April 19\", \"April 20\", \"April 21\", \"April 22\", \"April 23\", \"April 24\", \"April 25\", \"April 26\", \"April 27\", \"April 28\", \"April 29\", \"April 30\", \"May 01\", \"May 02\", \"May 03\", \"May 04\", \"May 05\", \"May 06\", \"May 07\", \"May 08\", \"May 09\", \"May 10\", \"May 11\", \"May 12\", \"May 13\", \"May 14\", \"May 15\", \"May 16\", \"May 17\", \"May 18\", \"May 19\", \"May 20\", \"May 21\", \"May 22\", \"May 23\", \"May 24\", \"May 25\", \"May 26\", \"May 27\", \"May 28\", \"May 29\", \"May 30\", \"May 31\", \"June 01\", \"June 02\", \"June 03\", \"June 04\", \"June 05\", \"June 06\", \"June 07\", \"June 08\", \"June 09\", \"June 10\", \"June 11\", \"June 12\", \"June 13\", \"June 14\", \"June 15\", \"June 16\", \"June 17\", \"June 18\", \"June 19\", \"June 20\", \"June 21\", \"June 22\", \"June 23\", \"June 24\", \"June 25\", \"June 26\", \"June 27\", \"June 28\", \"June 29\", \"June 30\", \"July 01\", \"July 02\", \"July 03\", \"July 04\", \"July 05\", \"July 06\", \"July 07\", \"July 08\", \"July 09\", \"July 10\", \"July 11\", \"July 12\", \"July 13\", \"July 14\", \"July 15\", \"July 16\", \"July 17\", \"July 18\", \"July 19\", \"July 20\", \"July 21\", \"July 22\", \"July 23\", \"July 24\", \"July 25\", \"July 26\", \"July 27\", \"July 28\", \"July 29\", \"July 30\", \"July 31\", \"August 01\", \"August 02\", \"August 03\", \"August 04\", \"August 05\", \"August 06\", \"August 07\", \"August 08\", \"August 09\", \"August 10\", \"August 11\", \"August 12\", \"August 13\", \"August 14\", \"August 15\", \"August 16\", \"August 17\", \"August 18\", \"August 19\", \"August 20\", \"August 21\", \"August 22\", \"August 23\", \"August 24\", \"August 25\", \"August 26\", \"August 27\", \"August 28\", \"August 29\", \"August 30\", \"August 31\", \"September 01\", \"September 02\", \"September 03\", \"September 04\", \"September 05\", \"September 06\", \"September 07\", \"September 08\", \"September 09\", \"September 10\", \"September 11\", \"September 12\", \"September 13\", \"September 14\", \"September 15\", \"September 16\", \"September 17\", \"September 18\", \"September 19\", \"September 20\", \"September 21\", \"September 22\", \"September 23\", \"September 24\", \"September 25\", \"September 26\", \"September 27\", \"September 28\", \"September 29\", \"September 30\"], \"xaxis\": \"x\", \"y\": [1.0, 1.0, 2.0, 2.0, 4.0, 3.0, 2.0, 2.0, 3.0, 2.0, 3.0, 3.0, 2.0, 4.0, 4.0, 5.0, 7.0, 5.0, 4.0, 6.0, 5.0, 5.0, 3.0, 5.0, 5.0, 5.0, 5.0, 5.0, 7.0, 3.0, 8.0, 7.0, 5.0, 5.0, 5.0, 5.0, 4.0, 6.0, 8.0, 9.0, 23.0, 13.0, 9.0, 18.0, 17.0, 14.0, 18.0, 26.0, 28.0, 28.0, 21.0, 17.0, 14.0, 8.0, 18.0, 18.0, 17.0, 19.0, 28.0, 21.0, 19.0, 18.0, 15.0, 16.0, 15.0, 13.0, 13.0, 12.0, 10.0, 9.0, 9.0, 7.0, 6.0, 6.0, 6.0, 5.0, 5.0, 14.0, 13.0, 12.0, 10.0, 11.0, 11.0, 10.0, 10.0, 10.0, 7.0, 6.0, 5.0, 4.0, 3.0, 4.0, 4.0, 2.0, 2.0, 3.0, 4.0, 3.0, 2.0, 2.0, 2.0, 3.0, 2.0, 3.0, 4.0, 3.0, 12.0, 8.0, 5.0, 2.0, 1.0, 2.0, 3.0, 6.0, 6.0, 7.0, 10.0, 8.0, 6.0, 8.0, 7.0, 6.0, 3.0, 4.0, 4.0, 4.0, 3.0, 3.0, 2.0, 3.0, 2.0, 2.0, 2.0, 2.0, 2.0, 1.0, 5.0, 5.0, 2.0, 1.0, 2.0, 1.0, 2.0, 6.0, 5.0, 2.0, 2.0, 1.0, 1.0, 1.0, 2.0, 3.0, 2.0, 2.0, 1.0, 3.0, 2.0, 7.0, 7.0, 9.0, 7.0, 7.0, 8.0, 5.0, 6.0, 3.0, 3.0, 3.0, 3.0, 3.0, 3.0, 3.0, 3.0, 3.0, 3.0, 3.0, 2.0, 2.0, 4.0, 3.0, 3.0, 3.0, 2.0], \"yaxis\": \"y\"}, {\"line\": {\"color\": \"navy\", \"width\": 2}, \"name\": \"Mean CFS for the Day<br>(2020)\", \"type\": \"scatter\", \"x\": [\"April 01\", \"April 02\", \"April 03\", \"April 04\", \"April 05\", \"April 06\", \"April 07\", \"April 08\", \"April 09\", \"April 10\", \"April 11\", \"April 12\", \"April 13\", \"April 14\", \"April 15\", \"April 16\", \"April 17\", \"April 18\", \"April 19\", \"April 20\", \"April 21\", \"April 22\", \"April 23\", \"April 24\", \"April 25\", \"April 26\", \"April 27\", \"April 28\", \"April 29\", \"April 30\", \"May 01\", \"May 02\", \"May 03\", \"May 04\", \"May 05\", \"May 06\", \"May 07\", \"May 08\", \"May 09\", \"May 10\", \"May 11\", \"May 12\", \"May 13\"], \"xaxis\": \"x\", \"y\": [5.0, 5.0, 3.0, 3.0, 11.0, 18.0, 17.0, 17.0, 18.0, 19.0, 21.0, 25.0, 23.0, 19.0, 23.0, 31.0, 24.0, 34.0, 34.0, 30.0, 27.0, 25.0, 21.0, 20.0, 21.0, 20.0, 23.0, 29.0, 30.0, 33.0, 32.0, 38.0, 42.0, 42.0, 36.0, 28.0, 27.0, 26.0, 26.0, 24.0, 25.0, 25.0, 22.0], \"yaxis\": \"y\"}],\n",
       "                        {\"font\": {\"color\": \"#7f7f7f\", \"family\": \"Courier New, monospace\", \"size\": 10}, \"mapbox\": {\"center\": {\"lat\": 39.65202778, \"lon\": -105.17325}, \"domain\": {\"x\": [0.0, 0.225], \"y\": [0.0, 1.0]}, \"style\": \"open-street-map\", \"zoom\": 11}, \"template\": {\"data\": {\"bar\": [{\"error_x\": {\"color\": \"#2a3f5f\"}, \"error_y\": {\"color\": \"#2a3f5f\"}, \"marker\": {\"line\": {\"color\": \"#E5ECF6\", \"width\": 0.5}}, \"type\": \"bar\"}], \"barpolar\": [{\"marker\": {\"line\": {\"color\": \"#E5ECF6\", \"width\": 0.5}}, \"type\": \"barpolar\"}], \"carpet\": [{\"aaxis\": {\"endlinecolor\": \"#2a3f5f\", \"gridcolor\": \"white\", \"linecolor\": \"white\", \"minorgridcolor\": \"white\", \"startlinecolor\": \"#2a3f5f\"}, \"baxis\": {\"endlinecolor\": \"#2a3f5f\", \"gridcolor\": \"white\", \"linecolor\": \"white\", \"minorgridcolor\": \"white\", \"startlinecolor\": \"#2a3f5f\"}, \"type\": \"carpet\"}], \"choropleth\": [{\"colorbar\": {\"outlinewidth\": 0, \"ticks\": \"\"}, \"type\": \"choropleth\"}], \"contour\": [{\"colorbar\": {\"outlinewidth\": 0, \"ticks\": \"\"}, \"colorscale\": [[0.0, \"#0d0887\"], [0.1111111111111111, \"#46039f\"], [0.2222222222222222, \"#7201a8\"], [0.3333333333333333, \"#9c179e\"], [0.4444444444444444, \"#bd3786\"], [0.5555555555555556, \"#d8576b\"], [0.6666666666666666, \"#ed7953\"], [0.7777777777777778, \"#fb9f3a\"], [0.8888888888888888, \"#fdca26\"], [1.0, \"#f0f921\"]], \"type\": \"contour\"}], \"contourcarpet\": [{\"colorbar\": {\"outlinewidth\": 0, \"ticks\": \"\"}, \"type\": \"contourcarpet\"}], \"heatmap\": [{\"colorbar\": {\"outlinewidth\": 0, \"ticks\": \"\"}, \"colorscale\": [[0.0, \"#0d0887\"], [0.1111111111111111, \"#46039f\"], [0.2222222222222222, \"#7201a8\"], [0.3333333333333333, \"#9c179e\"], [0.4444444444444444, \"#bd3786\"], [0.5555555555555556, \"#d8576b\"], [0.6666666666666666, \"#ed7953\"], [0.7777777777777778, \"#fb9f3a\"], [0.8888888888888888, \"#fdca26\"], [1.0, \"#f0f921\"]], \"type\": \"heatmap\"}], \"heatmapgl\": [{\"colorbar\": {\"outlinewidth\": 0, \"ticks\": \"\"}, \"colorscale\": [[0.0, \"#0d0887\"], [0.1111111111111111, \"#46039f\"], [0.2222222222222222, \"#7201a8\"], [0.3333333333333333, \"#9c179e\"], [0.4444444444444444, \"#bd3786\"], [0.5555555555555556, \"#d8576b\"], [0.6666666666666666, \"#ed7953\"], [0.7777777777777778, \"#fb9f3a\"], [0.8888888888888888, \"#fdca26\"], [1.0, \"#f0f921\"]], \"type\": \"heatmapgl\"}], \"histogram\": [{\"marker\": {\"colorbar\": {\"outlinewidth\": 0, \"ticks\": \"\"}}, \"type\": \"histogram\"}], \"histogram2d\": [{\"colorbar\": {\"outlinewidth\": 0, \"ticks\": \"\"}, \"colorscale\": [[0.0, \"#0d0887\"], [0.1111111111111111, \"#46039f\"], [0.2222222222222222, \"#7201a8\"], [0.3333333333333333, \"#9c179e\"], [0.4444444444444444, \"#bd3786\"], [0.5555555555555556, \"#d8576b\"], [0.6666666666666666, \"#ed7953\"], [0.7777777777777778, \"#fb9f3a\"], [0.8888888888888888, \"#fdca26\"], [1.0, \"#f0f921\"]], \"type\": \"histogram2d\"}], \"histogram2dcontour\": [{\"colorbar\": {\"outlinewidth\": 0, \"ticks\": \"\"}, \"colorscale\": [[0.0, \"#0d0887\"], [0.1111111111111111, \"#46039f\"], [0.2222222222222222, \"#7201a8\"], [0.3333333333333333, \"#9c179e\"], [0.4444444444444444, \"#bd3786\"], [0.5555555555555556, \"#d8576b\"], [0.6666666666666666, \"#ed7953\"], [0.7777777777777778, \"#fb9f3a\"], [0.8888888888888888, \"#fdca26\"], [1.0, \"#f0f921\"]], \"type\": \"histogram2dcontour\"}], \"mesh3d\": [{\"colorbar\": {\"outlinewidth\": 0, \"ticks\": \"\"}, \"type\": \"mesh3d\"}], \"parcoords\": [{\"line\": {\"colorbar\": {\"outlinewidth\": 0, \"ticks\": \"\"}}, \"type\": \"parcoords\"}], \"pie\": [{\"automargin\": true, \"type\": \"pie\"}], \"scatter\": [{\"marker\": {\"colorbar\": {\"outlinewidth\": 0, \"ticks\": \"\"}}, \"type\": \"scatter\"}], \"scatter3d\": [{\"line\": {\"colorbar\": {\"outlinewidth\": 0, \"ticks\": \"\"}}, \"marker\": {\"colorbar\": {\"outlinewidth\": 0, \"ticks\": \"\"}}, \"type\": \"scatter3d\"}], \"scattercarpet\": [{\"marker\": {\"colorbar\": {\"outlinewidth\": 0, \"ticks\": \"\"}}, \"type\": \"scattercarpet\"}], \"scattergeo\": [{\"marker\": {\"colorbar\": {\"outlinewidth\": 0, \"ticks\": \"\"}}, \"type\": \"scattergeo\"}], \"scattergl\": [{\"marker\": {\"colorbar\": {\"outlinewidth\": 0, \"ticks\": \"\"}}, \"type\": \"scattergl\"}], \"scattermapbox\": [{\"marker\": {\"colorbar\": {\"outlinewidth\": 0, \"ticks\": \"\"}}, \"type\": \"scattermapbox\"}], \"scatterpolar\": [{\"marker\": {\"colorbar\": {\"outlinewidth\": 0, \"ticks\": \"\"}}, \"type\": \"scatterpolar\"}], \"scatterpolargl\": [{\"marker\": {\"colorbar\": {\"outlinewidth\": 0, \"ticks\": \"\"}}, \"type\": \"scatterpolargl\"}], \"scatterternary\": [{\"marker\": {\"colorbar\": {\"outlinewidth\": 0, \"ticks\": \"\"}}, \"type\": \"scatterternary\"}], \"surface\": [{\"colorbar\": {\"outlinewidth\": 0, \"ticks\": \"\"}, \"colorscale\": [[0.0, \"#0d0887\"], [0.1111111111111111, \"#46039f\"], [0.2222222222222222, \"#7201a8\"], [0.3333333333333333, \"#9c179e\"], [0.4444444444444444, \"#bd3786\"], [0.5555555555555556, \"#d8576b\"], [0.6666666666666666, \"#ed7953\"], [0.7777777777777778, \"#fb9f3a\"], [0.8888888888888888, \"#fdca26\"], [1.0, \"#f0f921\"]], \"type\": \"surface\"}], \"table\": [{\"cells\": {\"fill\": {\"color\": \"#EBF0F8\"}, \"line\": {\"color\": \"white\"}}, \"header\": {\"fill\": {\"color\": \"#C8D4E3\"}, \"line\": {\"color\": \"white\"}}, \"type\": \"table\"}]}, \"layout\": {\"annotationdefaults\": {\"arrowcolor\": \"#2a3f5f\", \"arrowhead\": 0, \"arrowwidth\": 1}, \"coloraxis\": {\"colorbar\": {\"outlinewidth\": 0, \"ticks\": \"\"}}, \"colorscale\": {\"diverging\": [[0, \"#8e0152\"], [0.1, \"#c51b7d\"], [0.2, \"#de77ae\"], [0.3, \"#f1b6da\"], [0.4, \"#fde0ef\"], [0.5, \"#f7f7f7\"], [0.6, \"#e6f5d0\"], [0.7, \"#b8e186\"], [0.8, \"#7fbc41\"], [0.9, \"#4d9221\"], [1, \"#276419\"]], \"sequential\": [[0.0, \"#0d0887\"], [0.1111111111111111, \"#46039f\"], [0.2222222222222222, \"#7201a8\"], [0.3333333333333333, \"#9c179e\"], [0.4444444444444444, \"#bd3786\"], [0.5555555555555556, \"#d8576b\"], [0.6666666666666666, \"#ed7953\"], [0.7777777777777778, \"#fb9f3a\"], [0.8888888888888888, \"#fdca26\"], [1.0, \"#f0f921\"]], \"sequentialminus\": [[0.0, \"#0d0887\"], [0.1111111111111111, \"#46039f\"], [0.2222222222222222, \"#7201a8\"], [0.3333333333333333, \"#9c179e\"], [0.4444444444444444, \"#bd3786\"], [0.5555555555555556, \"#d8576b\"], [0.6666666666666666, \"#ed7953\"], [0.7777777777777778, \"#fb9f3a\"], [0.8888888888888888, \"#fdca26\"], [1.0, \"#f0f921\"]]}, \"colorway\": [\"#636efa\", \"#EF553B\", \"#00cc96\", \"#ab63fa\", \"#FFA15A\", \"#19d3f3\", \"#FF6692\", \"#B6E880\", \"#FF97FF\", \"#FECB52\"], \"font\": {\"color\": \"#2a3f5f\"}, \"geo\": {\"bgcolor\": \"white\", \"lakecolor\": \"white\", \"landcolor\": \"#E5ECF6\", \"showlakes\": true, \"showland\": true, \"subunitcolor\": \"white\"}, \"hoverlabel\": {\"align\": \"left\"}, \"hovermode\": \"closest\", \"mapbox\": {\"style\": \"light\"}, \"paper_bgcolor\": \"white\", \"plot_bgcolor\": \"#E5ECF6\", \"polar\": {\"angularaxis\": {\"gridcolor\": \"white\", \"linecolor\": \"white\", \"ticks\": \"\"}, \"bgcolor\": \"#E5ECF6\", \"radialaxis\": {\"gridcolor\": \"white\", \"linecolor\": \"white\", \"ticks\": \"\"}}, \"scene\": {\"xaxis\": {\"backgroundcolor\": \"#E5ECF6\", \"gridcolor\": \"white\", \"gridwidth\": 2, \"linecolor\": \"white\", \"showbackground\": true, \"ticks\": \"\", \"zerolinecolor\": \"white\"}, \"yaxis\": {\"backgroundcolor\": \"#E5ECF6\", \"gridcolor\": \"white\", \"gridwidth\": 2, \"linecolor\": \"white\", \"showbackground\": true, \"ticks\": \"\", \"zerolinecolor\": \"white\"}, \"zaxis\": {\"backgroundcolor\": \"#E5ECF6\", \"gridcolor\": \"white\", \"gridwidth\": 2, \"linecolor\": \"white\", \"showbackground\": true, \"ticks\": \"\", \"zerolinecolor\": \"white\"}}, \"shapedefaults\": {\"line\": {\"color\": \"#2a3f5f\"}}, \"ternary\": {\"aaxis\": {\"gridcolor\": \"white\", \"linecolor\": \"white\", \"ticks\": \"\"}, \"baxis\": {\"gridcolor\": \"white\", \"linecolor\": \"white\", \"ticks\": \"\"}, \"bgcolor\": \"#E5ECF6\", \"caxis\": {\"gridcolor\": \"white\", \"linecolor\": \"white\", \"ticks\": \"\"}}, \"title\": {\"x\": 0.05}, \"xaxis\": {\"automargin\": true, \"gridcolor\": \"white\", \"linecolor\": \"white\", \"ticks\": \"\", \"title\": {\"standoff\": 15}, \"zerolinecolor\": \"white\", \"zerolinewidth\": 2}, \"yaxis\": {\"automargin\": true, \"gridcolor\": \"white\", \"linecolor\": \"white\", \"ticks\": \"\", \"title\": {\"standoff\": 15}, \"zerolinecolor\": \"white\", \"zerolinewidth\": 2}}}, \"title\": {\"text\": \"CFS for Bear Creek Above Bear Creek Lake Near Morrison, Co<br>Coordinates: 39.65202778, -105.17325\"}, \"xaxis\": {\"anchor\": \"y\", \"domain\": [0.325, 1.0]}, \"yaxis\": {\"anchor\": \"x\", \"domain\": [0.0, 1.0], \"title\": {\"text\": \"Cubic Feet per Second (CFS)\"}}},\n",
       "                        {\"responsive\": true}\n",
       "                    ).then(function(){\n",
       "                            \n",
       "var gd = document.getElementById('dee00394-c97d-4833-b9ce-217950798595');\n",
       "var x = new MutationObserver(function (mutations, observer) {{\n",
       "        var display = window.getComputedStyle(gd).display;\n",
       "        if (!display || display === 'none') {{\n",
       "            console.log([gd, 'removed!']);\n",
       "            Plotly.purge(gd);\n",
       "            observer.disconnect();\n",
       "        }}\n",
       "}});\n",
       "\n",
       "// Listen for the removal of the full notebook cells\n",
       "var notebookContainer = gd.closest('#notebook-container');\n",
       "if (notebookContainer) {{\n",
       "    x.observe(notebookContainer, {childList: true});\n",
       "}}\n",
       "\n",
       "// Listen for the clearing of the current output cell\n",
       "var outputEl = gd.closest('.output');\n",
       "if (outputEl) {{\n",
       "    x.observe(outputEl, {childList: true});\n",
       "}}\n",
       "\n",
       "                        })\n",
       "                };\n",
       "                });\n",
       "            </script>\n",
       "        </div>"
      ]
     },
     "metadata": {},
     "output_type": "display_data"
    }
   ],
   "source": [
    "fig = make_subplots(\n",
    "    rows=1, cols=2,\n",
    "    column_widths=[0.25, 0.75],\n",
    "    specs=[[{\"type\": \"mapbox\"}, {\"type\": \"xy\"}]]\n",
    ")\n",
    "\n",
    "fig.add_trace(go.Scattermapbox(\n",
    "    lat=locs[\"lat\"],\n",
    "    lon=locs[\"lon\"],\n",
    "    mode=\"markers\",\n",
    "    showlegend=False,\n",
    "    marker=go.scattermapbox.Marker(\n",
    "        size=20,\n",
    "        color='red'\n",
    "    ),\n",
    "    text=locs[\"site_name\"]\n",
    "    ),row=1,col=1).update_layout(\n",
    "        mapbox_style=\"open-street-map\",\n",
    "        mapbox=dict(\n",
    "            center=dict(\n",
    "            lat=lat,\n",
    "            lon=lon\n",
    "            ),\n",
    "            zoom=11\n",
    "        )\n",
    "    \n",
    ")\n",
    "\n",
    "fig.add_trace(go.Scatter(x=his_cfs_df['new_day'], y=his_cfs_df['mean_cfs'], name='Mean CFS for the Day<br>(Last 10 Years)',\n",
    "                         line=dict(color='orange', width=2)),row=1,col=2)\n",
    "\n",
    "fig.add_trace(go.Scatter(x=max_cfs_df['new_day'], y=max_cfs_df['max_cfs'], name='Max CFS for the Day<br>(Last 10 Years)',\n",
    "                         line=dict(color=\"rgb(231, 29, 53)\", width=1, dash='dot')),row=1,col=2)\n",
    "\n",
    "fig.add_trace(go.Scatter(x=min_cfs_df['new_day'], y=min_cfs_df['min_cfs'], name='Min CFS for the Day<br>(Last 10 Years)',\n",
    "                         line=dict(color=\"rgb(30, 100, 46)\", width=1, dash='dot')),row=1,col=2)\n",
    "\n",
    "fig.add_trace(go.Scatter(x=rec_cfs_df['new_day'], y=rec_cfs_df['mean_cfs'], name='Mean CFS for the Day<br>(2020)',\n",
    "                         line=dict(color=\"navy\", width=2)),row=1,col=2).update_layout(\n",
    "                                                                            title_text=\"CFS for {}<br>Coordinates: {}, {}\".format(site_name.title(), lat, lon),\n",
    "                                                                            font=dict(family='Courier New, monospace', size=10, color='#7f7f7f'),\n",
    "                                                                            yaxis_title=\"Cubic Feet per Second (CFS)\")\n",
    "\n",
    "fig.show()"
   ]
  },
  {
   "cell_type": "code",
   "execution_count": 25,
   "metadata": {},
   "outputs": [],
   "source": [
    "fig.write_html(r\"Z:\\Dev\\CFS_Charts\\bear_creek_above_Mor.html\")"
   ]
  },
  {
   "cell_type": "code",
   "execution_count": null,
   "metadata": {},
   "outputs": [],
   "source": []
  },
  {
   "cell_type": "code",
   "execution_count": null,
   "metadata": {},
   "outputs": [],
   "source": []
  }
 ],
 "metadata": {
  "kernelspec": {
   "display_name": "Python 3",
   "language": "python",
   "name": "python3"
  },
  "language_info": {
   "codemirror_mode": {
    "name": "ipython",
    "version": 3
   },
   "file_extension": ".py",
   "mimetype": "text/x-python",
   "name": "python",
   "nbconvert_exporter": "python",
   "pygments_lexer": "ipython3",
   "version": "3.8.0"
  }
 },
 "nbformat": 4,
 "nbformat_minor": 4
}
