{
 "cells": [
  {
   "cell_type": "code",
   "execution_count": 1,
   "metadata": {},
   "outputs": [],
   "source": [
    "import requests\n",
    "import csv\n",
    "import json\n",
    "import pandas as pd\n",
    "import plotly.graph_objects as go\n",
    "from datetime import datetime\n",
    "from plotly.subplots import make_subplots"
   ]
  },
  {
   "cell_type": "code",
   "execution_count": 46,
   "metadata": {},
   "outputs": [],
   "source": [
    "site_id = '06724970'\n",
    "\n",
    "hist_req = requests.get(\"https://waterservices.usgs.gov/nwis/dv/?format=json&sites={}&period=P520W&statCd=00003&siteStatus=all\".format(site_id))\n",
    "recent_req = requests.get(\"https://waterservices.usgs.gov/nwis/dv/?format=json&sites={}&startDT=2020-01-01&endDT=2020-05-13&statCd=00003&siteStatus=all\".format(site_id))\n",
    "\n",
    "# recent data\n",
    "res = recent_req.json()\n",
    "\n",
    "rec_days = []\n",
    "rec_cfss = []\n",
    "\n",
    "site_name = res[\"value\"][\"timeSeries\"][0][\"sourceInfo\"][\"siteName\"]\n",
    "lat = res[\"value\"][\"timeSeries\"][0][\"sourceInfo\"][\"geoLocation\"][\"geogLocation\"][\"latitude\"]\n",
    "lon = res[\"value\"][\"timeSeries\"][0][\"sourceInfo\"][\"geoLocation\"][\"geogLocation\"][\"longitude\"]\n",
    "\n",
    "for vals in res[\"value\"][\"timeSeries\"][0][\"values\"][0][\"value\"]:\n",
    "    cfs = round(float(vals[\"value\"]),0)\n",
    "    day = vals[\"dateTime\"]\n",
    "    date = datetime.strptime(day.split(\"T\")[0], \"%Y-%m-%d\")\n",
    "    doy = datetime.strftime(date, \"%B %d\")\n",
    "    montInt = datetime.strftime(date, \"%m\")\n",
    "    rec_days.append(\"{} {}\".format(montInt, doy))\n",
    "    rec_cfss.append(cfs)\n",
    "\n",
    "# historical data\n",
    "res = hist_req.json()\n",
    "his_days = []\n",
    "his_cfss = []\n",
    "for vals in res[\"value\"][\"timeSeries\"][0][\"values\"][0][\"value\"]:\n",
    "    cfs = round(float(vals[\"value\"]),0)\n",
    "    day = vals[\"dateTime\"]\n",
    "    date = datetime.strptime(day.split(\"T\")[0], \"%Y-%m-%d\")\n",
    "    doy = datetime.strftime(date, \"%B %d\")\n",
    "    montInt = datetime.strftime(date, \"%m\")\n",
    "    his_days.append(\"{} {}\".format(montInt, doy))\n",
    "    his_cfss.append(cfs)"
   ]
  },
  {
   "cell_type": "code",
   "execution_count": 47,
   "metadata": {},
   "outputs": [],
   "source": [
    "rec_d = {'day': rec_days, 'cfs': rec_cfss}\n",
    "rec_df = pd.DataFrame(data=rec_d)\n",
    "\n",
    "his_d = {'day': his_days, 'cfs': his_cfss}\n",
    "his_df = pd.DataFrame(data=his_d)"
   ]
  },
  {
   "cell_type": "code",
   "execution_count": 48,
   "metadata": {},
   "outputs": [],
   "source": [
    "rec_cfs_df = rec_df.groupby(['day']).agg({\"cfs\": [\"mean\"]}).reset_index()\n",
    "cols = rec_cfs_df.columns.tolist()\n",
    "rec_cfs_df[\"mean_cfs\"] = rec_cfs_df[cols[1]]\n",
    "\n",
    "his_cfs_df = his_df.groupby(['day']).agg({\"cfs\": [\"mean\"]}).reset_index()\n",
    "cols = his_cfs_df.columns.tolist()\n",
    "his_cfs_df[\"mean_cfs\"] = his_cfs_df[cols[1]]\n",
    "\n",
    "max_cfs_df = his_df.groupby(['day']).agg({\"cfs\": [\"max\"]}).reset_index()\n",
    "cols = max_cfs_df.columns.tolist()\n",
    "max_cfs_df[\"max_cfs\"] = max_cfs_df[cols[1]]\n",
    "\n",
    "min_cfs_df = his_df.groupby(['day']).agg({\"cfs\": [\"min\"]}).reset_index()\n",
    "cols = min_cfs_df.columns.tolist()\n",
    "min_cfs_df[\"min_cfs\"] = min_cfs_df[cols[1]]"
   ]
  },
  {
   "cell_type": "code",
   "execution_count": 49,
   "metadata": {},
   "outputs": [],
   "source": [
    "rec_cfs_df[['month', 'new_day']] = rec_cfs_df.day.str.split(expand=True, n=1)\n",
    "his_cfs_df[['month', 'new_day']] = his_cfs_df.day.str.split(expand=True, n=1)\n",
    "max_cfs_df[['month', 'new_day']] = his_cfs_df.day.str.split(expand=True, n=1)\n",
    "min_cfs_df[['month', 'new_day']] = his_cfs_df.day.str.split(expand=True, n=1)"
   ]
  },
  {
   "cell_type": "code",
   "execution_count": 50,
   "metadata": {},
   "outputs": [
    {
     "data": {
      "application/vnd.plotly.v1+json": {
       "config": {
        "plotlyServerURL": "https://plot.ly"
       },
       "data": [
        {
         "line": {
          "color": "orange",
          "width": 2
         },
         "name": "Mean CFS for the Day<br>(Last 10 Years)",
         "type": "scatter",
         "x": [
          "January 01",
          "January 02",
          "January 03",
          "January 04",
          "January 05",
          "January 06",
          "January 07",
          "January 08",
          "January 09",
          "January 10",
          "January 11",
          "January 12",
          "January 13",
          "January 14",
          "January 15",
          "January 16",
          "January 17",
          "January 18",
          "January 19",
          "January 20",
          "January 21",
          "January 22",
          "January 23",
          "January 24",
          "January 25",
          "January 26",
          "January 27",
          "January 28",
          "January 29",
          "January 30",
          "January 31",
          "February 01",
          "February 02",
          "February 03",
          "February 04",
          "February 05",
          "February 06",
          "February 07",
          "February 08",
          "February 09",
          "February 10",
          "February 11",
          "February 12",
          "February 13",
          "February 14",
          "February 15",
          "February 16",
          "February 17",
          "February 18",
          "February 19",
          "February 20",
          "February 21",
          "February 22",
          "February 23",
          "February 24",
          "February 25",
          "February 26",
          "February 27",
          "February 28",
          "February 29",
          "March 01",
          "March 02",
          "March 03",
          "March 04",
          "March 05",
          "March 06",
          "March 07",
          "March 08",
          "March 09",
          "March 10",
          "March 11",
          "March 12",
          "March 13",
          "March 14",
          "March 15",
          "March 16",
          "March 17",
          "March 18",
          "March 19",
          "March 20",
          "March 21",
          "March 22",
          "March 23",
          "March 24",
          "March 25",
          "March 26",
          "March 27",
          "March 28",
          "March 29",
          "March 30",
          "March 31",
          "April 01",
          "April 02",
          "April 03",
          "April 04",
          "April 05",
          "April 06",
          "April 07",
          "April 08",
          "April 09",
          "April 10",
          "April 11",
          "April 12",
          "April 13",
          "April 14",
          "April 15",
          "April 16",
          "April 17",
          "April 18",
          "April 19",
          "April 20",
          "April 21",
          "April 22",
          "April 23",
          "April 24",
          "April 25",
          "April 26",
          "April 27",
          "April 28",
          "April 29",
          "April 30",
          "May 01",
          "May 02",
          "May 03",
          "May 04",
          "May 05",
          "May 06",
          "May 07",
          "May 08",
          "May 09",
          "May 10",
          "May 11",
          "May 12",
          "May 13",
          "May 14",
          "May 15",
          "May 16",
          "May 17",
          "May 18",
          "May 19",
          "May 20",
          "May 21",
          "May 22",
          "May 23",
          "May 24",
          "May 25",
          "May 26",
          "May 27",
          "May 28",
          "May 29",
          "May 30",
          "May 31",
          "June 01",
          "June 02",
          "June 03",
          "June 04",
          "June 05",
          "June 06",
          "June 07",
          "June 08",
          "June 09",
          "June 10",
          "June 11",
          "June 12",
          "June 13",
          "June 14",
          "June 15",
          "June 16",
          "June 17",
          "June 18",
          "June 19",
          "June 20",
          "June 21",
          "June 22",
          "June 23",
          "June 24",
          "June 25",
          "June 26",
          "June 27",
          "June 28",
          "June 29",
          "June 30",
          "July 01",
          "July 02",
          "July 03",
          "July 04",
          "July 05",
          "July 06",
          "July 07",
          "July 08",
          "July 09",
          "July 10",
          "July 11",
          "July 12",
          "July 13",
          "July 14",
          "July 15",
          "July 16",
          "July 17",
          "July 18",
          "July 19",
          "July 20",
          "July 21",
          "July 22",
          "July 23",
          "July 24",
          "July 25",
          "July 26",
          "July 27",
          "July 28",
          "July 29",
          "July 30",
          "July 31",
          "August 01",
          "August 02",
          "August 03",
          "August 04",
          "August 05",
          "August 06",
          "August 07",
          "August 08",
          "August 09",
          "August 10",
          "August 11",
          "August 12",
          "August 13",
          "August 14",
          "August 15",
          "August 16",
          "August 17",
          "August 18",
          "August 19",
          "August 20",
          "August 21",
          "August 22",
          "August 23",
          "August 24",
          "August 25",
          "August 26",
          "August 27",
          "August 28",
          "August 29",
          "August 30",
          "August 31",
          "September 01",
          "September 02",
          "September 03",
          "September 04",
          "September 05",
          "September 06",
          "September 07",
          "September 08",
          "September 09",
          "September 10",
          "September 11",
          "September 12",
          "September 13",
          "September 14",
          "September 15",
          "September 16",
          "September 17",
          "September 18",
          "September 19",
          "September 20",
          "September 21",
          "September 22",
          "September 23",
          "September 24",
          "September 25",
          "September 26",
          "September 27",
          "September 28",
          "September 29",
          "September 30",
          "October 01",
          "October 02",
          "October 03",
          "October 04",
          "October 05",
          "October 06",
          "October 07",
          "October 08",
          "October 09",
          "October 10",
          "October 11",
          "October 12",
          "October 13",
          "October 14",
          "October 15",
          "October 16",
          "October 17",
          "October 18",
          "October 19",
          "October 20",
          "October 21",
          "October 22",
          "October 23",
          "October 24",
          "October 25",
          "October 26",
          "October 27",
          "October 28",
          "October 29",
          "October 30",
          "October 31",
          "November 01",
          "November 02",
          "November 03",
          "November 04",
          "November 05",
          "November 06",
          "November 07",
          "November 08",
          "November 09",
          "November 10",
          "November 11",
          "November 12",
          "November 13",
          "November 14",
          "November 15",
          "November 16",
          "November 17",
          "November 18",
          "November 19",
          "November 20",
          "November 21",
          "November 22",
          "November 23",
          "November 24",
          "November 25",
          "November 26",
          "November 27",
          "November 28",
          "November 29",
          "November 30",
          "December 01",
          "December 02",
          "December 03",
          "December 04",
          "December 05",
          "December 06",
          "December 07",
          "December 08",
          "December 09",
          "December 10",
          "December 11",
          "December 12",
          "December 13",
          "December 14",
          "December 15",
          "December 16",
          "December 17",
          "December 18",
          "December 19",
          "December 20",
          "December 21",
          "December 22",
          "December 23",
          "December 24",
          "December 25",
          "December 26",
          "December 27",
          "December 28",
          "December 29",
          "December 30",
          "December 31"
         ],
         "y": [
          5.166666666666667,
          5,
          4.833333333333333,
          5.166666666666667,
          4.833333333333333,
          4.833333333333333,
          4.666666666666667,
          4.666666666666667,
          4.666666666666667,
          4.5,
          4.666666666666667,
          4.5,
          4.333333333333333,
          4.166666666666667,
          4,
          4.666666666666667,
          5.5,
          5.333333333333333,
          5.5,
          5.166666666666667,
          4.833333333333333,
          5.166666666666667,
          5.166666666666667,
          5.5,
          5,
          5.166666666666667,
          5.666666666666667,
          5.833333333333333,
          6.333333333333333,
          5.833333333333333,
          5.833333333333333,
          5.166666666666667,
          4.833333333333333,
          5.166666666666667,
          5.166666666666667,
          6,
          6.166666666666667,
          6.333333333333333,
          5.666666666666667,
          5.666666666666667,
          5.666666666666667,
          6.333333333333333,
          6.166666666666667,
          5.5,
          5.833333333333333,
          5.833333333333333,
          5.666666666666667,
          5.333333333333333,
          5.666666666666667,
          5.666666666666667,
          5.5,
          5.666666666666667,
          5.166666666666667,
          4.833333333333333,
          5.833333333333333,
          5.666666666666667,
          6,
          6,
          6,
          7.5,
          5.5,
          4.666666666666667,
          4.5,
          4.5,
          6.285714285714286,
          6.714285714285714,
          7.714285714285714,
          8,
          8.285714285714286,
          7.428571428571429,
          7.142857142857143,
          7,
          8.142857142857142,
          7.428571428571429,
          6.428571428571429,
          6.714285714285714,
          6.428571428571429,
          6.428571428571429,
          7.142857142857143,
          6.428571428571429,
          5.714285714285714,
          5.428571428571429,
          6,
          7.285714285714286,
          7.428571428571429,
          7.428571428571429,
          7.571428571428571,
          7.285714285714286,
          8,
          8.285714285714286,
          8.142857142857142,
          4.857142857142857,
          4.428571428571429,
          5,
          5.142857142857143,
          4.714285714285714,
          5.857142857142857,
          8.285714285714286,
          9,
          12.428571428571429,
          13.857142857142858,
          13.714285714285714,
          13.142857142857142,
          16.142857142857142,
          16.428571428571427,
          19.285714285714285,
          21,
          19.857142857142858,
          21.857142857142858,
          23.714285714285715,
          27,
          32.142857142857146,
          40,
          45.142857142857146,
          49.857142857142854,
          49.57142857142857,
          50.285714285714285,
          53.857142857142854,
          52.714285714285715,
          49.857142857142854,
          43.57142857142857,
          42.42857142857143,
          41.857142857142854,
          44.57142857142857,
          48.714285714285715,
          60.57142857142857,
          59.142857142857146,
          55.57142857142857,
          60.714285714285715,
          112,
          94.71428571428571,
          82.71428571428571,
          71.85714285714286,
          68.57142857142857,
          65.14285714285714,
          71,
          69.5,
          63.166666666666664,
          79.5,
          106.66666666666667,
          113.83333333333333,
          113.16666666666667,
          126.33333333333333,
          130.5,
          130.33333333333334,
          158.16666666666666,
          156.66666666666666,
          136.33333333333334,
          118.5,
          92.33333333333333,
          83.33333333333333,
          83.16666666666667,
          81.16666666666667,
          73.16666666666667,
          68.33333333333333,
          84.33333333333333,
          93.16666666666667,
          91,
          92,
          101.33333333333333,
          83.33333333333333,
          80,
          80.83333333333333,
          92.5,
          89.33333333333333,
          91.5,
          91.16666666666667,
          86.66666666666667,
          91,
          93.16666666666667,
          99.66666666666667,
          100.16666666666667,
          96.5,
          97.66666666666667,
          91.33333333333333,
          86.5,
          77.66666666666667,
          68,
          62,
          58.5,
          62.666666666666664,
          61.333333333333336,
          60.166666666666664,
          59.333333333333336,
          44,
          38.666666666666664,
          41.5,
          40,
          34,
          33.333333333333336,
          33.166666666666664,
          33.333333333333336,
          31.333333333333332,
          26.666666666666668,
          25.833333333333332,
          25.333333333333332,
          27.5,
          27.166666666666668,
          24.333333333333332,
          21.833333333333332,
          19,
          17.5,
          17.666666666666668,
          16.333333333333332,
          15.166666666666666,
          14.166666666666666,
          13.333333333333334,
          13.666666666666666,
          12.166666666666666,
          10.666666666666666,
          11,
          14.666666666666666,
          21.333333333333332,
          19,
          11.833333333333334,
          13.666666666666666,
          12.333333333333334,
          11.5,
          10.333333333333334,
          8,
          8.166666666666666,
          7.166666666666667,
          9.5,
          11,
          9.666666666666666,
          8,
          7.166666666666667,
          7.333333333333333,
          6.666666666666667,
          6.166666666666667,
          6,
          6.166666666666667,
          5.666666666666667,
          5,
          4.833333333333333,
          4.833333333333333,
          5,
          4.833333333333333,
          4.5,
          4.666666666666667,
          5.666666666666667,
          5.166666666666667,
          5,
          5.833333333333333,
          6.166666666666667,
          5.666666666666667,
          5.166666666666667,
          6.333333333333333,
          6.833333333333333,
          7.166666666666667,
          7.5,
          6.5,
          6.166666666666667,
          6.833333333333333,
          9.166666666666666,
          8.666666666666666,
          7.166666666666667,
          6.666666666666667,
          5.666666666666667,
          5.5,
          5.333333333333333,
          5,
          4.333333333333333,
          4.166666666666667,
          4.166666666666667,
          4,
          4.833333333333333,
          5,
          5,
          6,
          5,
          5.166666666666667,
          5.833333333333333,
          6,
          5.166666666666667,
          5.833333333333333,
          6.166666666666667,
          6.333333333333333,
          6.333333333333333,
          6.833333333333333,
          6.166666666666667,
          6.166666666666667,
          9.166666666666666,
          8.666666666666666,
          9.333333333333334,
          8.666666666666666,
          8.5,
          8.333333333333334,
          8,
          7.666666666666667,
          7.166666666666667,
          7,
          7.333333333333333,
          7.333333333333333,
          7.666666666666667,
          7.166666666666667,
          6.833333333333333,
          7.666666666666667,
          8.333333333333334,
          8.333333333333334,
          8.5,
          9,
          9.166666666666666,
          10.666666666666666,
          11.666666666666666,
          11.166666666666666,
          11,
          10.333333333333334,
          10,
          10.5,
          10.333333333333334,
          10.666666666666666,
          10.333333333333334,
          9.833333333333334,
          9.333333333333334,
          10.833333333333334,
          9.833333333333334,
          10,
          9.666666666666666,
          8.333333333333334,
          7.833333333333333,
          7,
          6.833333333333333,
          6.666666666666667,
          6.5,
          6,
          5.5,
          5.833333333333333,
          5.666666666666667,
          5.166666666666667,
          4.5,
          4.5,
          4.833333333333333,
          5.333333333333333,
          5.666666666666667,
          5.166666666666667,
          5.833333333333333,
          5.333333333333333,
          5.333333333333333,
          5.333333333333333,
          4.833333333333333,
          4.833333333333333,
          5.666666666666667,
          6.166666666666667,
          6,
          5.666666666666667,
          5.5,
          5.166666666666667,
          4.5,
          4.833333333333333,
          5.166666666666667,
          4.5,
          5,
          5.333333333333333,
          5.5,
          5,
          4.833333333333333,
          4.833333333333333,
          4.666666666666667,
          4.666666666666667,
          4.833333333333333,
          4.666666666666667,
          5.333333333333333,
          5.166666666666667,
          4.833333333333333,
          5
         ]
        },
        {
         "line": {
          "color": "rgb(231, 29, 53)",
          "dash": "dot",
          "width": 1
         },
         "name": "Max CFS for the Day<br>(Last 10 Years)",
         "type": "scatter",
         "x": [
          "January 01",
          "January 02",
          "January 03",
          "January 04",
          "January 05",
          "January 06",
          "January 07",
          "January 08",
          "January 09",
          "January 10",
          "January 11",
          "January 12",
          "January 13",
          "January 14",
          "January 15",
          "January 16",
          "January 17",
          "January 18",
          "January 19",
          "January 20",
          "January 21",
          "January 22",
          "January 23",
          "January 24",
          "January 25",
          "January 26",
          "January 27",
          "January 28",
          "January 29",
          "January 30",
          "January 31",
          "February 01",
          "February 02",
          "February 03",
          "February 04",
          "February 05",
          "February 06",
          "February 07",
          "February 08",
          "February 09",
          "February 10",
          "February 11",
          "February 12",
          "February 13",
          "February 14",
          "February 15",
          "February 16",
          "February 17",
          "February 18",
          "February 19",
          "February 20",
          "February 21",
          "February 22",
          "February 23",
          "February 24",
          "February 25",
          "February 26",
          "February 27",
          "February 28",
          "February 29",
          "March 01",
          "March 02",
          "March 03",
          "March 04",
          "March 05",
          "March 06",
          "March 07",
          "March 08",
          "March 09",
          "March 10",
          "March 11",
          "March 12",
          "March 13",
          "March 14",
          "March 15",
          "March 16",
          "March 17",
          "March 18",
          "March 19",
          "March 20",
          "March 21",
          "March 22",
          "March 23",
          "March 24",
          "March 25",
          "March 26",
          "March 27",
          "March 28",
          "March 29",
          "March 30",
          "March 31",
          "April 01",
          "April 02",
          "April 03",
          "April 04",
          "April 05",
          "April 06",
          "April 07",
          "April 08",
          "April 09",
          "April 10",
          "April 11",
          "April 12",
          "April 13",
          "April 14",
          "April 15",
          "April 16",
          "April 17",
          "April 18",
          "April 19",
          "April 20",
          "April 21",
          "April 22",
          "April 23",
          "April 24",
          "April 25",
          "April 26",
          "April 27",
          "April 28",
          "April 29",
          "April 30",
          "May 01",
          "May 02",
          "May 03",
          "May 04",
          "May 05",
          "May 06",
          "May 07",
          "May 08",
          "May 09",
          "May 10",
          "May 11",
          "May 12",
          "May 13",
          "May 14",
          "May 15",
          "May 16",
          "May 17",
          "May 18",
          "May 19",
          "May 20",
          "May 21",
          "May 22",
          "May 23",
          "May 24",
          "May 25",
          "May 26",
          "May 27",
          "May 28",
          "May 29",
          "May 30",
          "May 31",
          "June 01",
          "June 02",
          "June 03",
          "June 04",
          "June 05",
          "June 06",
          "June 07",
          "June 08",
          "June 09",
          "June 10",
          "June 11",
          "June 12",
          "June 13",
          "June 14",
          "June 15",
          "June 16",
          "June 17",
          "June 18",
          "June 19",
          "June 20",
          "June 21",
          "June 22",
          "June 23",
          "June 24",
          "June 25",
          "June 26",
          "June 27",
          "June 28",
          "June 29",
          "June 30",
          "July 01",
          "July 02",
          "July 03",
          "July 04",
          "July 05",
          "July 06",
          "July 07",
          "July 08",
          "July 09",
          "July 10",
          "July 11",
          "July 12",
          "July 13",
          "July 14",
          "July 15",
          "July 16",
          "July 17",
          "July 18",
          "July 19",
          "July 20",
          "July 21",
          "July 22",
          "July 23",
          "July 24",
          "July 25",
          "July 26",
          "July 27",
          "July 28",
          "July 29",
          "July 30",
          "July 31",
          "August 01",
          "August 02",
          "August 03",
          "August 04",
          "August 05",
          "August 06",
          "August 07",
          "August 08",
          "August 09",
          "August 10",
          "August 11",
          "August 12",
          "August 13",
          "August 14",
          "August 15",
          "August 16",
          "August 17",
          "August 18",
          "August 19",
          "August 20",
          "August 21",
          "August 22",
          "August 23",
          "August 24",
          "August 25",
          "August 26",
          "August 27",
          "August 28",
          "August 29",
          "August 30",
          "August 31",
          "September 01",
          "September 02",
          "September 03",
          "September 04",
          "September 05",
          "September 06",
          "September 07",
          "September 08",
          "September 09",
          "September 10",
          "September 11",
          "September 12",
          "September 13",
          "September 14",
          "September 15",
          "September 16",
          "September 17",
          "September 18",
          "September 19",
          "September 20",
          "September 21",
          "September 22",
          "September 23",
          "September 24",
          "September 25",
          "September 26",
          "September 27",
          "September 28",
          "September 29",
          "September 30",
          "October 01",
          "October 02",
          "October 03",
          "October 04",
          "October 05",
          "October 06",
          "October 07",
          "October 08",
          "October 09",
          "October 10",
          "October 11",
          "October 12",
          "October 13",
          "October 14",
          "October 15",
          "October 16",
          "October 17",
          "October 18",
          "October 19",
          "October 20",
          "October 21",
          "October 22",
          "October 23",
          "October 24",
          "October 25",
          "October 26",
          "October 27",
          "October 28",
          "October 29",
          "October 30",
          "October 31",
          "November 01",
          "November 02",
          "November 03",
          "November 04",
          "November 05",
          "November 06",
          "November 07",
          "November 08",
          "November 09",
          "November 10",
          "November 11",
          "November 12",
          "November 13",
          "November 14",
          "November 15",
          "November 16",
          "November 17",
          "November 18",
          "November 19",
          "November 20",
          "November 21",
          "November 22",
          "November 23",
          "November 24",
          "November 25",
          "November 26",
          "November 27",
          "November 28",
          "November 29",
          "November 30",
          "December 01",
          "December 02",
          "December 03",
          "December 04",
          "December 05",
          "December 06",
          "December 07",
          "December 08",
          "December 09",
          "December 10",
          "December 11",
          "December 12",
          "December 13",
          "December 14",
          "December 15",
          "December 16",
          "December 17",
          "December 18",
          "December 19",
          "December 20",
          "December 21",
          "December 22",
          "December 23",
          "December 24",
          "December 25",
          "December 26",
          "December 27",
          "December 28",
          "December 29",
          "December 30",
          "December 31"
         ],
         "y": [
          9,
          8,
          8,
          7,
          7,
          7,
          7,
          6,
          6,
          7,
          6,
          6,
          7,
          6,
          6,
          7,
          10,
          10,
          10,
          10,
          10,
          10,
          11,
          12,
          12,
          12,
          12,
          14,
          16,
          14,
          12,
          11,
          11,
          12,
          11,
          14,
          14,
          14,
          13,
          12,
          11,
          12,
          11,
          10,
          10,
          10,
          11,
          10,
          10,
          10,
          10,
          10,
          10,
          9,
          12,
          10,
          10,
          10,
          10,
          9,
          10,
          9,
          9,
          9,
          14,
          14,
          23,
          24,
          25,
          25,
          26,
          24,
          28,
          27,
          21,
          21,
          23,
          22,
          23,
          21,
          18,
          18,
          18,
          20,
          19,
          18,
          19,
          16,
          18,
          19,
          19,
          8,
          7,
          9,
          9,
          9,
          14,
          34,
          32,
          34,
          40,
          39,
          39,
          66,
          62,
          71,
          66,
          58,
          56,
          58,
          69,
          85,
          102,
          114,
          113,
          107,
          102,
          126,
          126,
          118,
          124,
          134,
          136,
          132,
          135,
          219,
          209,
          184,
          254,
          566,
          447,
          312,
          243,
          220,
          192,
          166,
          138,
          88,
          144,
          229,
          297,
          268,
          257,
          252,
          248,
          324,
          305,
          219,
          166,
          150,
          128,
          133,
          121,
          100,
          105,
          185,
          223,
          204,
          190,
          181,
          178,
          180,
          181,
          222,
          210,
          209,
          197,
          191,
          191,
          181,
          173,
          172,
          168,
          165,
          161,
          154,
          152,
          144,
          138,
          134,
          136,
          126,
          119,
          142,
          101,
          90,
          98,
          101,
          97,
          103,
          113,
          117,
          106,
          94,
          86,
          78,
          71,
          64,
          54,
          52,
          47,
          43,
          43,
          41,
          42,
          41,
          38,
          37,
          38,
          37,
          38,
          52,
          96,
          83,
          48,
          35,
          32,
          36,
          33,
          19,
          17,
          15,
          18,
          28,
          24,
          20,
          19,
          19,
          17,
          11,
          7,
          8,
          7,
          7,
          7,
          9,
          9,
          7,
          6,
          8,
          10,
          8,
          9,
          15,
          17,
          14,
          14,
          19,
          21,
          20,
          23,
          18,
          17,
          23,
          36,
          32,
          25,
          21,
          17,
          17,
          18,
          15,
          13,
          10,
          9,
          9,
          11,
          11,
          10,
          9,
          11,
          12,
          12,
          13,
          12,
          12,
          15,
          18,
          17,
          14,
          14,
          12,
          26,
          23,
          24,
          22,
          21,
          20,
          19,
          17,
          14,
          13,
          14,
          13,
          13,
          12,
          12,
          16,
          17,
          15,
          17,
          21,
          19,
          22,
          26,
          25,
          25,
          25,
          25,
          26,
          27,
          28,
          26,
          25,
          24,
          23,
          22,
          19,
          21,
          15,
          14,
          12,
          10,
          10,
          10,
          9,
          9,
          11,
          10,
          9,
          8,
          6,
          7,
          9,
          10,
          10,
          10,
          8,
          8,
          9,
          8,
          8,
          12,
          12,
          10,
          11,
          10,
          9,
          9,
          8,
          10,
          7,
          9,
          11,
          12,
          10,
          9,
          9,
          9,
          8,
          8,
          7,
          8,
          8,
          8,
          8
         ]
        },
        {
         "line": {
          "color": "rgb(30, 100, 46)",
          "dash": "dot",
          "width": 1
         },
         "name": "Min CFS for the Day<br>(Last 10 Years)",
         "type": "scatter",
         "x": [
          "January 01",
          "January 02",
          "January 03",
          "January 04",
          "January 05",
          "January 06",
          "January 07",
          "January 08",
          "January 09",
          "January 10",
          "January 11",
          "January 12",
          "January 13",
          "January 14",
          "January 15",
          "January 16",
          "January 17",
          "January 18",
          "January 19",
          "January 20",
          "January 21",
          "January 22",
          "January 23",
          "January 24",
          "January 25",
          "January 26",
          "January 27",
          "January 28",
          "January 29",
          "January 30",
          "January 31",
          "February 01",
          "February 02",
          "February 03",
          "February 04",
          "February 05",
          "February 06",
          "February 07",
          "February 08",
          "February 09",
          "February 10",
          "February 11",
          "February 12",
          "February 13",
          "February 14",
          "February 15",
          "February 16",
          "February 17",
          "February 18",
          "February 19",
          "February 20",
          "February 21",
          "February 22",
          "February 23",
          "February 24",
          "February 25",
          "February 26",
          "February 27",
          "February 28",
          "February 29",
          "March 01",
          "March 02",
          "March 03",
          "March 04",
          "March 05",
          "March 06",
          "March 07",
          "March 08",
          "March 09",
          "March 10",
          "March 11",
          "March 12",
          "March 13",
          "March 14",
          "March 15",
          "March 16",
          "March 17",
          "March 18",
          "March 19",
          "March 20",
          "March 21",
          "March 22",
          "March 23",
          "March 24",
          "March 25",
          "March 26",
          "March 27",
          "March 28",
          "March 29",
          "March 30",
          "March 31",
          "April 01",
          "April 02",
          "April 03",
          "April 04",
          "April 05",
          "April 06",
          "April 07",
          "April 08",
          "April 09",
          "April 10",
          "April 11",
          "April 12",
          "April 13",
          "April 14",
          "April 15",
          "April 16",
          "April 17",
          "April 18",
          "April 19",
          "April 20",
          "April 21",
          "April 22",
          "April 23",
          "April 24",
          "April 25",
          "April 26",
          "April 27",
          "April 28",
          "April 29",
          "April 30",
          "May 01",
          "May 02",
          "May 03",
          "May 04",
          "May 05",
          "May 06",
          "May 07",
          "May 08",
          "May 09",
          "May 10",
          "May 11",
          "May 12",
          "May 13",
          "May 14",
          "May 15",
          "May 16",
          "May 17",
          "May 18",
          "May 19",
          "May 20",
          "May 21",
          "May 22",
          "May 23",
          "May 24",
          "May 25",
          "May 26",
          "May 27",
          "May 28",
          "May 29",
          "May 30",
          "May 31",
          "June 01",
          "June 02",
          "June 03",
          "June 04",
          "June 05",
          "June 06",
          "June 07",
          "June 08",
          "June 09",
          "June 10",
          "June 11",
          "June 12",
          "June 13",
          "June 14",
          "June 15",
          "June 16",
          "June 17",
          "June 18",
          "June 19",
          "June 20",
          "June 21",
          "June 22",
          "June 23",
          "June 24",
          "June 25",
          "June 26",
          "June 27",
          "June 28",
          "June 29",
          "June 30",
          "July 01",
          "July 02",
          "July 03",
          "July 04",
          "July 05",
          "July 06",
          "July 07",
          "July 08",
          "July 09",
          "July 10",
          "July 11",
          "July 12",
          "July 13",
          "July 14",
          "July 15",
          "July 16",
          "July 17",
          "July 18",
          "July 19",
          "July 20",
          "July 21",
          "July 22",
          "July 23",
          "July 24",
          "July 25",
          "July 26",
          "July 27",
          "July 28",
          "July 29",
          "July 30",
          "July 31",
          "August 01",
          "August 02",
          "August 03",
          "August 04",
          "August 05",
          "August 06",
          "August 07",
          "August 08",
          "August 09",
          "August 10",
          "August 11",
          "August 12",
          "August 13",
          "August 14",
          "August 15",
          "August 16",
          "August 17",
          "August 18",
          "August 19",
          "August 20",
          "August 21",
          "August 22",
          "August 23",
          "August 24",
          "August 25",
          "August 26",
          "August 27",
          "August 28",
          "August 29",
          "August 30",
          "August 31",
          "September 01",
          "September 02",
          "September 03",
          "September 04",
          "September 05",
          "September 06",
          "September 07",
          "September 08",
          "September 09",
          "September 10",
          "September 11",
          "September 12",
          "September 13",
          "September 14",
          "September 15",
          "September 16",
          "September 17",
          "September 18",
          "September 19",
          "September 20",
          "September 21",
          "September 22",
          "September 23",
          "September 24",
          "September 25",
          "September 26",
          "September 27",
          "September 28",
          "September 29",
          "September 30",
          "October 01",
          "October 02",
          "October 03",
          "October 04",
          "October 05",
          "October 06",
          "October 07",
          "October 08",
          "October 09",
          "October 10",
          "October 11",
          "October 12",
          "October 13",
          "October 14",
          "October 15",
          "October 16",
          "October 17",
          "October 18",
          "October 19",
          "October 20",
          "October 21",
          "October 22",
          "October 23",
          "October 24",
          "October 25",
          "October 26",
          "October 27",
          "October 28",
          "October 29",
          "October 30",
          "October 31",
          "November 01",
          "November 02",
          "November 03",
          "November 04",
          "November 05",
          "November 06",
          "November 07",
          "November 08",
          "November 09",
          "November 10",
          "November 11",
          "November 12",
          "November 13",
          "November 14",
          "November 15",
          "November 16",
          "November 17",
          "November 18",
          "November 19",
          "November 20",
          "November 21",
          "November 22",
          "November 23",
          "November 24",
          "November 25",
          "November 26",
          "November 27",
          "November 28",
          "November 29",
          "November 30",
          "December 01",
          "December 02",
          "December 03",
          "December 04",
          "December 05",
          "December 06",
          "December 07",
          "December 08",
          "December 09",
          "December 10",
          "December 11",
          "December 12",
          "December 13",
          "December 14",
          "December 15",
          "December 16",
          "December 17",
          "December 18",
          "December 19",
          "December 20",
          "December 21",
          "December 22",
          "December 23",
          "December 24",
          "December 25",
          "December 26",
          "December 27",
          "December 28",
          "December 29",
          "December 30",
          "December 31"
         ],
         "y": [
          2,
          2,
          2,
          2,
          1,
          2,
          2,
          2,
          2,
          2,
          2,
          2,
          1,
          1,
          1,
          2,
          1,
          1,
          1,
          1,
          1,
          1,
          1,
          1,
          1,
          1,
          1,
          2,
          2,
          1,
          2,
          1,
          1,
          1,
          2,
          2,
          1,
          2,
          1,
          2,
          2,
          2,
          2,
          2,
          2,
          2,
          2,
          2,
          2,
          2,
          2,
          2,
          2,
          1,
          2,
          2,
          2,
          2,
          2,
          6,
          2,
          1,
          1,
          1,
          1,
          1,
          1,
          1,
          1,
          1,
          1,
          1,
          1,
          1,
          1,
          1,
          1,
          1,
          1,
          1,
          1,
          1,
          1,
          1,
          1,
          1,
          1,
          1,
          1,
          1,
          1,
          1,
          1,
          1,
          2,
          2,
          2,
          1,
          2,
          3,
          2,
          2,
          1,
          1,
          1,
          3,
          3,
          3,
          3,
          3,
          3,
          3,
          3,
          3,
          4,
          4,
          4,
          4,
          4,
          4,
          4,
          4,
          4,
          4,
          3,
          4,
          4,
          6,
          6,
          6,
          5,
          5,
          12,
          9,
          5,
          29,
          28,
          30,
          18,
          10,
          10,
          15,
          15,
          26,
          32,
          46,
          49,
          49,
          45,
          44,
          39,
          30,
          31,
          38,
          39,
          39,
          32,
          16,
          14,
          17,
          20,
          18,
          16,
          13,
          10,
          12,
          13,
          12,
          14,
          32,
          48,
          44,
          34,
          28,
          25,
          26,
          24,
          12,
          9,
          12,
          10,
          11,
          10,
          6,
          8,
          5,
          4,
          4,
          3,
          3,
          3,
          5,
          5,
          4,
          3,
          4,
          5,
          4,
          3,
          3,
          3,
          3,
          2,
          3,
          3,
          4,
          4,
          4,
          4,
          4,
          4,
          4,
          3,
          3,
          3,
          3,
          3,
          3,
          4,
          4,
          3,
          4,
          2,
          2,
          2,
          2,
          2,
          3,
          3,
          4,
          4,
          4,
          5,
          3,
          3,
          2,
          3,
          4,
          3,
          3,
          3,
          2,
          2,
          3,
          3,
          3,
          3,
          3,
          3,
          3,
          3,
          3,
          2,
          2,
          2,
          2,
          1,
          1,
          1,
          1,
          1,
          1,
          1,
          1,
          2,
          2,
          2,
          2,
          1,
          2,
          2,
          2,
          2,
          2,
          2,
          1,
          1,
          1,
          2,
          3,
          2,
          2,
          2,
          2,
          2,
          2,
          2,
          2,
          2,
          2,
          2,
          2,
          2,
          2,
          2,
          2,
          2,
          2,
          2,
          2,
          2,
          2,
          3,
          7,
          8,
          6,
          6,
          5,
          4,
          4,
          4,
          4,
          4,
          4,
          4,
          4,
          3,
          3,
          3,
          3,
          3,
          3,
          3,
          3,
          3,
          3,
          3,
          3,
          3,
          3,
          2,
          3,
          3,
          3,
          3,
          3,
          3,
          3,
          3,
          3,
          2,
          2,
          2,
          3,
          3,
          3,
          2,
          2,
          2,
          2,
          2,
          2,
          2,
          2,
          2,
          2,
          2,
          2,
          2,
          2,
          2,
          2,
          2,
          2,
          2,
          2
         ]
        },
        {
         "line": {
          "color": "navy",
          "width": 2
         },
         "name": "Mean CFS for the Day<br>(2020)",
         "type": "scatter",
         "x": [
          "January 01",
          "January 02",
          "January 03",
          "January 04",
          "January 05",
          "January 06",
          "January 07",
          "January 08",
          "January 09",
          "January 10",
          "January 11",
          "January 12",
          "January 13",
          "January 14",
          "January 15",
          "January 16",
          "January 17",
          "January 18",
          "January 19",
          "January 20",
          "January 21",
          "January 22",
          "January 23",
          "January 24",
          "January 25",
          "January 26",
          "January 27",
          "January 28",
          "January 29",
          "January 30",
          "January 31",
          "February 01",
          "February 02",
          "February 03",
          "February 04",
          "February 05",
          "February 06",
          "February 07",
          "February 08",
          "February 09",
          "February 10",
          "February 11",
          "February 12",
          "February 13",
          "February 14",
          "February 15",
          "February 16",
          "February 17",
          "February 18",
          "February 19",
          "February 20",
          "February 21",
          "February 22",
          "February 23",
          "February 24",
          "February 25",
          "February 26",
          "February 27",
          "February 28",
          "February 29",
          "March 01",
          "March 02",
          "March 03",
          "March 04",
          "March 05",
          "March 06",
          "March 07",
          "March 08",
          "March 09",
          "March 10",
          "March 11",
          "March 12",
          "March 13",
          "March 14",
          "March 15",
          "March 16",
          "March 17",
          "March 18",
          "March 19",
          "March 20",
          "March 21",
          "March 22",
          "March 23",
          "March 24",
          "March 25",
          "March 26",
          "March 27",
          "March 28",
          "March 29",
          "March 30",
          "March 31",
          "April 01",
          "April 02",
          "April 03",
          "April 04",
          "April 05",
          "April 06",
          "April 07",
          "April 08",
          "April 09",
          "April 10",
          "April 11",
          "April 12",
          "April 13",
          "April 14",
          "April 15",
          "April 16",
          "April 17",
          "April 18",
          "April 19",
          "April 20",
          "April 21",
          "April 22",
          "April 23",
          "April 24",
          "April 25",
          "April 26",
          "April 27",
          "April 28",
          "April 29",
          "April 30",
          "May 01",
          "May 02",
          "May 03",
          "May 04",
          "May 05",
          "May 06",
          "May 07",
          "May 08",
          "May 09",
          "May 10",
          "May 11",
          "May 12",
          "May 13"
         ],
         "y": [
          9,
          8,
          7,
          7,
          6,
          6,
          5,
          6,
          6,
          5,
          5,
          5,
          5,
          5,
          5,
          6,
          7,
          6,
          7,
          7,
          6,
          7,
          6,
          6,
          6,
          6,
          7,
          6,
          7,
          6,
          6,
          6,
          5,
          5,
          4,
          5,
          6,
          5,
          4,
          5,
          5,
          6,
          6,
          5,
          5,
          5,
          5,
          5,
          5,
          5,
          5,
          6,
          6,
          6,
          6,
          5,
          5,
          6,
          6,
          6,
          6,
          5,
          5,
          5,
          6,
          6,
          7,
          8,
          8,
          8,
          7,
          7,
          7,
          6,
          6,
          6,
          3,
          3,
          7,
          6,
          5,
          5,
          4,
          4,
          4,
          4,
          4,
          4,
          4,
          4,
          4,
          4,
          4,
          4,
          4,
          4,
          4,
          4,
          4,
          4,
          4,
          4,
          4,
          4,
          4,
          5,
          7,
          6,
          13,
          18,
          26,
          8,
          10,
          20,
          52,
          53,
          51,
          53,
          63,
          66,
          67,
          56,
          64,
          74,
          73,
          59,
          47,
          33,
          20,
          12,
          5,
          6,
          12,
          9
         ]
        }
       ],
       "layout": {
        "font": {
         "color": "#7f7f7f",
         "family": "Courier New, monospace",
         "size": 12
        },
        "template": {
         "data": {
          "bar": [
           {
            "error_x": {
             "color": "#2a3f5f"
            },
            "error_y": {
             "color": "#2a3f5f"
            },
            "marker": {
             "line": {
              "color": "#E5ECF6",
              "width": 0.5
             }
            },
            "type": "bar"
           }
          ],
          "barpolar": [
           {
            "marker": {
             "line": {
              "color": "#E5ECF6",
              "width": 0.5
             }
            },
            "type": "barpolar"
           }
          ],
          "carpet": [
           {
            "aaxis": {
             "endlinecolor": "#2a3f5f",
             "gridcolor": "white",
             "linecolor": "white",
             "minorgridcolor": "white",
             "startlinecolor": "#2a3f5f"
            },
            "baxis": {
             "endlinecolor": "#2a3f5f",
             "gridcolor": "white",
             "linecolor": "white",
             "minorgridcolor": "white",
             "startlinecolor": "#2a3f5f"
            },
            "type": "carpet"
           }
          ],
          "choropleth": [
           {
            "colorbar": {
             "outlinewidth": 0,
             "ticks": ""
            },
            "type": "choropleth"
           }
          ],
          "contour": [
           {
            "colorbar": {
             "outlinewidth": 0,
             "ticks": ""
            },
            "colorscale": [
             [
              0,
              "#0d0887"
             ],
             [
              0.1111111111111111,
              "#46039f"
             ],
             [
              0.2222222222222222,
              "#7201a8"
             ],
             [
              0.3333333333333333,
              "#9c179e"
             ],
             [
              0.4444444444444444,
              "#bd3786"
             ],
             [
              0.5555555555555556,
              "#d8576b"
             ],
             [
              0.6666666666666666,
              "#ed7953"
             ],
             [
              0.7777777777777778,
              "#fb9f3a"
             ],
             [
              0.8888888888888888,
              "#fdca26"
             ],
             [
              1,
              "#f0f921"
             ]
            ],
            "type": "contour"
           }
          ],
          "contourcarpet": [
           {
            "colorbar": {
             "outlinewidth": 0,
             "ticks": ""
            },
            "type": "contourcarpet"
           }
          ],
          "heatmap": [
           {
            "colorbar": {
             "outlinewidth": 0,
             "ticks": ""
            },
            "colorscale": [
             [
              0,
              "#0d0887"
             ],
             [
              0.1111111111111111,
              "#46039f"
             ],
             [
              0.2222222222222222,
              "#7201a8"
             ],
             [
              0.3333333333333333,
              "#9c179e"
             ],
             [
              0.4444444444444444,
              "#bd3786"
             ],
             [
              0.5555555555555556,
              "#d8576b"
             ],
             [
              0.6666666666666666,
              "#ed7953"
             ],
             [
              0.7777777777777778,
              "#fb9f3a"
             ],
             [
              0.8888888888888888,
              "#fdca26"
             ],
             [
              1,
              "#f0f921"
             ]
            ],
            "type": "heatmap"
           }
          ],
          "heatmapgl": [
           {
            "colorbar": {
             "outlinewidth": 0,
             "ticks": ""
            },
            "colorscale": [
             [
              0,
              "#0d0887"
             ],
             [
              0.1111111111111111,
              "#46039f"
             ],
             [
              0.2222222222222222,
              "#7201a8"
             ],
             [
              0.3333333333333333,
              "#9c179e"
             ],
             [
              0.4444444444444444,
              "#bd3786"
             ],
             [
              0.5555555555555556,
              "#d8576b"
             ],
             [
              0.6666666666666666,
              "#ed7953"
             ],
             [
              0.7777777777777778,
              "#fb9f3a"
             ],
             [
              0.8888888888888888,
              "#fdca26"
             ],
             [
              1,
              "#f0f921"
             ]
            ],
            "type": "heatmapgl"
           }
          ],
          "histogram": [
           {
            "marker": {
             "colorbar": {
              "outlinewidth": 0,
              "ticks": ""
             }
            },
            "type": "histogram"
           }
          ],
          "histogram2d": [
           {
            "colorbar": {
             "outlinewidth": 0,
             "ticks": ""
            },
            "colorscale": [
             [
              0,
              "#0d0887"
             ],
             [
              0.1111111111111111,
              "#46039f"
             ],
             [
              0.2222222222222222,
              "#7201a8"
             ],
             [
              0.3333333333333333,
              "#9c179e"
             ],
             [
              0.4444444444444444,
              "#bd3786"
             ],
             [
              0.5555555555555556,
              "#d8576b"
             ],
             [
              0.6666666666666666,
              "#ed7953"
             ],
             [
              0.7777777777777778,
              "#fb9f3a"
             ],
             [
              0.8888888888888888,
              "#fdca26"
             ],
             [
              1,
              "#f0f921"
             ]
            ],
            "type": "histogram2d"
           }
          ],
          "histogram2dcontour": [
           {
            "colorbar": {
             "outlinewidth": 0,
             "ticks": ""
            },
            "colorscale": [
             [
              0,
              "#0d0887"
             ],
             [
              0.1111111111111111,
              "#46039f"
             ],
             [
              0.2222222222222222,
              "#7201a8"
             ],
             [
              0.3333333333333333,
              "#9c179e"
             ],
             [
              0.4444444444444444,
              "#bd3786"
             ],
             [
              0.5555555555555556,
              "#d8576b"
             ],
             [
              0.6666666666666666,
              "#ed7953"
             ],
             [
              0.7777777777777778,
              "#fb9f3a"
             ],
             [
              0.8888888888888888,
              "#fdca26"
             ],
             [
              1,
              "#f0f921"
             ]
            ],
            "type": "histogram2dcontour"
           }
          ],
          "mesh3d": [
           {
            "colorbar": {
             "outlinewidth": 0,
             "ticks": ""
            },
            "type": "mesh3d"
           }
          ],
          "parcoords": [
           {
            "line": {
             "colorbar": {
              "outlinewidth": 0,
              "ticks": ""
             }
            },
            "type": "parcoords"
           }
          ],
          "pie": [
           {
            "automargin": true,
            "type": "pie"
           }
          ],
          "scatter": [
           {
            "marker": {
             "colorbar": {
              "outlinewidth": 0,
              "ticks": ""
             }
            },
            "type": "scatter"
           }
          ],
          "scatter3d": [
           {
            "line": {
             "colorbar": {
              "outlinewidth": 0,
              "ticks": ""
             }
            },
            "marker": {
             "colorbar": {
              "outlinewidth": 0,
              "ticks": ""
             }
            },
            "type": "scatter3d"
           }
          ],
          "scattercarpet": [
           {
            "marker": {
             "colorbar": {
              "outlinewidth": 0,
              "ticks": ""
             }
            },
            "type": "scattercarpet"
           }
          ],
          "scattergeo": [
           {
            "marker": {
             "colorbar": {
              "outlinewidth": 0,
              "ticks": ""
             }
            },
            "type": "scattergeo"
           }
          ],
          "scattergl": [
           {
            "marker": {
             "colorbar": {
              "outlinewidth": 0,
              "ticks": ""
             }
            },
            "type": "scattergl"
           }
          ],
          "scattermapbox": [
           {
            "marker": {
             "colorbar": {
              "outlinewidth": 0,
              "ticks": ""
             }
            },
            "type": "scattermapbox"
           }
          ],
          "scatterpolar": [
           {
            "marker": {
             "colorbar": {
              "outlinewidth": 0,
              "ticks": ""
             }
            },
            "type": "scatterpolar"
           }
          ],
          "scatterpolargl": [
           {
            "marker": {
             "colorbar": {
              "outlinewidth": 0,
              "ticks": ""
             }
            },
            "type": "scatterpolargl"
           }
          ],
          "scatterternary": [
           {
            "marker": {
             "colorbar": {
              "outlinewidth": 0,
              "ticks": ""
             }
            },
            "type": "scatterternary"
           }
          ],
          "surface": [
           {
            "colorbar": {
             "outlinewidth": 0,
             "ticks": ""
            },
            "colorscale": [
             [
              0,
              "#0d0887"
             ],
             [
              0.1111111111111111,
              "#46039f"
             ],
             [
              0.2222222222222222,
              "#7201a8"
             ],
             [
              0.3333333333333333,
              "#9c179e"
             ],
             [
              0.4444444444444444,
              "#bd3786"
             ],
             [
              0.5555555555555556,
              "#d8576b"
             ],
             [
              0.6666666666666666,
              "#ed7953"
             ],
             [
              0.7777777777777778,
              "#fb9f3a"
             ],
             [
              0.8888888888888888,
              "#fdca26"
             ],
             [
              1,
              "#f0f921"
             ]
            ],
            "type": "surface"
           }
          ],
          "table": [
           {
            "cells": {
             "fill": {
              "color": "#EBF0F8"
             },
             "line": {
              "color": "white"
             }
            },
            "header": {
             "fill": {
              "color": "#C8D4E3"
             },
             "line": {
              "color": "white"
             }
            },
            "type": "table"
           }
          ]
         },
         "layout": {
          "annotationdefaults": {
           "arrowcolor": "#2a3f5f",
           "arrowhead": 0,
           "arrowwidth": 1
          },
          "coloraxis": {
           "colorbar": {
            "outlinewidth": 0,
            "ticks": ""
           }
          },
          "colorscale": {
           "diverging": [
            [
             0,
             "#8e0152"
            ],
            [
             0.1,
             "#c51b7d"
            ],
            [
             0.2,
             "#de77ae"
            ],
            [
             0.3,
             "#f1b6da"
            ],
            [
             0.4,
             "#fde0ef"
            ],
            [
             0.5,
             "#f7f7f7"
            ],
            [
             0.6,
             "#e6f5d0"
            ],
            [
             0.7,
             "#b8e186"
            ],
            [
             0.8,
             "#7fbc41"
            ],
            [
             0.9,
             "#4d9221"
            ],
            [
             1,
             "#276419"
            ]
           ],
           "sequential": [
            [
             0,
             "#0d0887"
            ],
            [
             0.1111111111111111,
             "#46039f"
            ],
            [
             0.2222222222222222,
             "#7201a8"
            ],
            [
             0.3333333333333333,
             "#9c179e"
            ],
            [
             0.4444444444444444,
             "#bd3786"
            ],
            [
             0.5555555555555556,
             "#d8576b"
            ],
            [
             0.6666666666666666,
             "#ed7953"
            ],
            [
             0.7777777777777778,
             "#fb9f3a"
            ],
            [
             0.8888888888888888,
             "#fdca26"
            ],
            [
             1,
             "#f0f921"
            ]
           ],
           "sequentialminus": [
            [
             0,
             "#0d0887"
            ],
            [
             0.1111111111111111,
             "#46039f"
            ],
            [
             0.2222222222222222,
             "#7201a8"
            ],
            [
             0.3333333333333333,
             "#9c179e"
            ],
            [
             0.4444444444444444,
             "#bd3786"
            ],
            [
             0.5555555555555556,
             "#d8576b"
            ],
            [
             0.6666666666666666,
             "#ed7953"
            ],
            [
             0.7777777777777778,
             "#fb9f3a"
            ],
            [
             0.8888888888888888,
             "#fdca26"
            ],
            [
             1,
             "#f0f921"
            ]
           ]
          },
          "colorway": [
           "#636efa",
           "#EF553B",
           "#00cc96",
           "#ab63fa",
           "#FFA15A",
           "#19d3f3",
           "#FF6692",
           "#B6E880",
           "#FF97FF",
           "#FECB52"
          ],
          "font": {
           "color": "#2a3f5f"
          },
          "geo": {
           "bgcolor": "white",
           "lakecolor": "white",
           "landcolor": "#E5ECF6",
           "showlakes": true,
           "showland": true,
           "subunitcolor": "white"
          },
          "hoverlabel": {
           "align": "left"
          },
          "hovermode": "closest",
          "mapbox": {
           "style": "light"
          },
          "paper_bgcolor": "white",
          "plot_bgcolor": "#E5ECF6",
          "polar": {
           "angularaxis": {
            "gridcolor": "white",
            "linecolor": "white",
            "ticks": ""
           },
           "bgcolor": "#E5ECF6",
           "radialaxis": {
            "gridcolor": "white",
            "linecolor": "white",
            "ticks": ""
           }
          },
          "scene": {
           "xaxis": {
            "backgroundcolor": "#E5ECF6",
            "gridcolor": "white",
            "gridwidth": 2,
            "linecolor": "white",
            "showbackground": true,
            "ticks": "",
            "zerolinecolor": "white"
           },
           "yaxis": {
            "backgroundcolor": "#E5ECF6",
            "gridcolor": "white",
            "gridwidth": 2,
            "linecolor": "white",
            "showbackground": true,
            "ticks": "",
            "zerolinecolor": "white"
           },
           "zaxis": {
            "backgroundcolor": "#E5ECF6",
            "gridcolor": "white",
            "gridwidth": 2,
            "linecolor": "white",
            "showbackground": true,
            "ticks": "",
            "zerolinecolor": "white"
           }
          },
          "shapedefaults": {
           "line": {
            "color": "#2a3f5f"
           }
          },
          "ternary": {
           "aaxis": {
            "gridcolor": "white",
            "linecolor": "white",
            "ticks": ""
           },
           "baxis": {
            "gridcolor": "white",
            "linecolor": "white",
            "ticks": ""
           },
           "bgcolor": "#E5ECF6",
           "caxis": {
            "gridcolor": "white",
            "linecolor": "white",
            "ticks": ""
           }
          },
          "title": {
           "x": 0.05
          },
          "xaxis": {
           "automargin": true,
           "gridcolor": "white",
           "linecolor": "white",
           "ticks": "",
           "title": {
            "standoff": 15
           },
           "zerolinecolor": "white",
           "zerolinewidth": 2
          },
          "yaxis": {
           "automargin": true,
           "gridcolor": "white",
           "linecolor": "white",
           "ticks": "",
           "title": {
            "standoff": 15
           },
           "zerolinecolor": "white",
           "zerolinewidth": 2
          }
         }
        },
        "title": {
         "text": "CFS for Left Hand Creek At Hover Road Near Longmont, Co<br>Coordinates: 40.13427778, -105.1308194"
        },
        "yaxis": {
         "title": {
          "text": "Cubic Feet per Second (CFS)"
         }
        }
       }
      },
      "text/html": [
       "<div>\n",
       "        \n",
       "        \n",
       "            <div id=\"55603d8b-3271-4a09-b5f8-6d61f5541602\" class=\"plotly-graph-div\" style=\"height:525px; width:100%;\"></div>\n",
       "            <script type=\"text/javascript\">\n",
       "                require([\"plotly\"], function(Plotly) {\n",
       "                    window.PLOTLYENV=window.PLOTLYENV || {};\n",
       "                    \n",
       "                if (document.getElementById(\"55603d8b-3271-4a09-b5f8-6d61f5541602\")) {\n",
       "                    Plotly.newPlot(\n",
       "                        '55603d8b-3271-4a09-b5f8-6d61f5541602',\n",
       "                        [{\"line\": {\"color\": \"orange\", \"width\": 2}, \"name\": \"Mean CFS for the Day<br>(Last 10 Years)\", \"type\": \"scatter\", \"x\": [\"January 01\", \"January 02\", \"January 03\", \"January 04\", \"January 05\", \"January 06\", \"January 07\", \"January 08\", \"January 09\", \"January 10\", \"January 11\", \"January 12\", \"January 13\", \"January 14\", \"January 15\", \"January 16\", \"January 17\", \"January 18\", \"January 19\", \"January 20\", \"January 21\", \"January 22\", \"January 23\", \"January 24\", \"January 25\", \"January 26\", \"January 27\", \"January 28\", \"January 29\", \"January 30\", \"January 31\", \"February 01\", \"February 02\", \"February 03\", \"February 04\", \"February 05\", \"February 06\", \"February 07\", \"February 08\", \"February 09\", \"February 10\", \"February 11\", \"February 12\", \"February 13\", \"February 14\", \"February 15\", \"February 16\", \"February 17\", \"February 18\", \"February 19\", \"February 20\", \"February 21\", \"February 22\", \"February 23\", \"February 24\", \"February 25\", \"February 26\", \"February 27\", \"February 28\", \"February 29\", \"March 01\", \"March 02\", \"March 03\", \"March 04\", \"March 05\", \"March 06\", \"March 07\", \"March 08\", \"March 09\", \"March 10\", \"March 11\", \"March 12\", \"March 13\", \"March 14\", \"March 15\", \"March 16\", \"March 17\", \"March 18\", \"March 19\", \"March 20\", \"March 21\", \"March 22\", \"March 23\", \"March 24\", \"March 25\", \"March 26\", \"March 27\", \"March 28\", \"March 29\", \"March 30\", \"March 31\", \"April 01\", \"April 02\", \"April 03\", \"April 04\", \"April 05\", \"April 06\", \"April 07\", \"April 08\", \"April 09\", \"April 10\", \"April 11\", \"April 12\", \"April 13\", \"April 14\", \"April 15\", \"April 16\", \"April 17\", \"April 18\", \"April 19\", \"April 20\", \"April 21\", \"April 22\", \"April 23\", \"April 24\", \"April 25\", \"April 26\", \"April 27\", \"April 28\", \"April 29\", \"April 30\", \"May 01\", \"May 02\", \"May 03\", \"May 04\", \"May 05\", \"May 06\", \"May 07\", \"May 08\", \"May 09\", \"May 10\", \"May 11\", \"May 12\", \"May 13\", \"May 14\", \"May 15\", \"May 16\", \"May 17\", \"May 18\", \"May 19\", \"May 20\", \"May 21\", \"May 22\", \"May 23\", \"May 24\", \"May 25\", \"May 26\", \"May 27\", \"May 28\", \"May 29\", \"May 30\", \"May 31\", \"June 01\", \"June 02\", \"June 03\", \"June 04\", \"June 05\", \"June 06\", \"June 07\", \"June 08\", \"June 09\", \"June 10\", \"June 11\", \"June 12\", \"June 13\", \"June 14\", \"June 15\", \"June 16\", \"June 17\", \"June 18\", \"June 19\", \"June 20\", \"June 21\", \"June 22\", \"June 23\", \"June 24\", \"June 25\", \"June 26\", \"June 27\", \"June 28\", \"June 29\", \"June 30\", \"July 01\", \"July 02\", \"July 03\", \"July 04\", \"July 05\", \"July 06\", \"July 07\", \"July 08\", \"July 09\", \"July 10\", \"July 11\", \"July 12\", \"July 13\", \"July 14\", \"July 15\", \"July 16\", \"July 17\", \"July 18\", \"July 19\", \"July 20\", \"July 21\", \"July 22\", \"July 23\", \"July 24\", \"July 25\", \"July 26\", \"July 27\", \"July 28\", \"July 29\", \"July 30\", \"July 31\", \"August 01\", \"August 02\", \"August 03\", \"August 04\", \"August 05\", \"August 06\", \"August 07\", \"August 08\", \"August 09\", \"August 10\", \"August 11\", \"August 12\", \"August 13\", \"August 14\", \"August 15\", \"August 16\", \"August 17\", \"August 18\", \"August 19\", \"August 20\", \"August 21\", \"August 22\", \"August 23\", \"August 24\", \"August 25\", \"August 26\", \"August 27\", \"August 28\", \"August 29\", \"August 30\", \"August 31\", \"September 01\", \"September 02\", \"September 03\", \"September 04\", \"September 05\", \"September 06\", \"September 07\", \"September 08\", \"September 09\", \"September 10\", \"September 11\", \"September 12\", \"September 13\", \"September 14\", \"September 15\", \"September 16\", \"September 17\", \"September 18\", \"September 19\", \"September 20\", \"September 21\", \"September 22\", \"September 23\", \"September 24\", \"September 25\", \"September 26\", \"September 27\", \"September 28\", \"September 29\", \"September 30\", \"October 01\", \"October 02\", \"October 03\", \"October 04\", \"October 05\", \"October 06\", \"October 07\", \"October 08\", \"October 09\", \"October 10\", \"October 11\", \"October 12\", \"October 13\", \"October 14\", \"October 15\", \"October 16\", \"October 17\", \"October 18\", \"October 19\", \"October 20\", \"October 21\", \"October 22\", \"October 23\", \"October 24\", \"October 25\", \"October 26\", \"October 27\", \"October 28\", \"October 29\", \"October 30\", \"October 31\", \"November 01\", \"November 02\", \"November 03\", \"November 04\", \"November 05\", \"November 06\", \"November 07\", \"November 08\", \"November 09\", \"November 10\", \"November 11\", \"November 12\", \"November 13\", \"November 14\", \"November 15\", \"November 16\", \"November 17\", \"November 18\", \"November 19\", \"November 20\", \"November 21\", \"November 22\", \"November 23\", \"November 24\", \"November 25\", \"November 26\", \"November 27\", \"November 28\", \"November 29\", \"November 30\", \"December 01\", \"December 02\", \"December 03\", \"December 04\", \"December 05\", \"December 06\", \"December 07\", \"December 08\", \"December 09\", \"December 10\", \"December 11\", \"December 12\", \"December 13\", \"December 14\", \"December 15\", \"December 16\", \"December 17\", \"December 18\", \"December 19\", \"December 20\", \"December 21\", \"December 22\", \"December 23\", \"December 24\", \"December 25\", \"December 26\", \"December 27\", \"December 28\", \"December 29\", \"December 30\", \"December 31\"], \"y\": [5.166666666666667, 5.0, 4.833333333333333, 5.166666666666667, 4.833333333333333, 4.833333333333333, 4.666666666666667, 4.666666666666667, 4.666666666666667, 4.5, 4.666666666666667, 4.5, 4.333333333333333, 4.166666666666667, 4.0, 4.666666666666667, 5.5, 5.333333333333333, 5.5, 5.166666666666667, 4.833333333333333, 5.166666666666667, 5.166666666666667, 5.5, 5.0, 5.166666666666667, 5.666666666666667, 5.833333333333333, 6.333333333333333, 5.833333333333333, 5.833333333333333, 5.166666666666667, 4.833333333333333, 5.166666666666667, 5.166666666666667, 6.0, 6.166666666666667, 6.333333333333333, 5.666666666666667, 5.666666666666667, 5.666666666666667, 6.333333333333333, 6.166666666666667, 5.5, 5.833333333333333, 5.833333333333333, 5.666666666666667, 5.333333333333333, 5.666666666666667, 5.666666666666667, 5.5, 5.666666666666667, 5.166666666666667, 4.833333333333333, 5.833333333333333, 5.666666666666667, 6.0, 6.0, 6.0, 7.5, 5.5, 4.666666666666667, 4.5, 4.5, 6.285714285714286, 6.714285714285714, 7.714285714285714, 8.0, 8.285714285714286, 7.428571428571429, 7.142857142857143, 7.0, 8.142857142857142, 7.428571428571429, 6.428571428571429, 6.714285714285714, 6.428571428571429, 6.428571428571429, 7.142857142857143, 6.428571428571429, 5.714285714285714, 5.428571428571429, 6.0, 7.285714285714286, 7.428571428571429, 7.428571428571429, 7.571428571428571, 7.285714285714286, 8.0, 8.285714285714286, 8.142857142857142, 4.857142857142857, 4.428571428571429, 5.0, 5.142857142857143, 4.714285714285714, 5.857142857142857, 8.285714285714286, 9.0, 12.428571428571429, 13.857142857142858, 13.714285714285714, 13.142857142857142, 16.142857142857142, 16.428571428571427, 19.285714285714285, 21.0, 19.857142857142858, 21.857142857142858, 23.714285714285715, 27.0, 32.142857142857146, 40.0, 45.142857142857146, 49.857142857142854, 49.57142857142857, 50.285714285714285, 53.857142857142854, 52.714285714285715, 49.857142857142854, 43.57142857142857, 42.42857142857143, 41.857142857142854, 44.57142857142857, 48.714285714285715, 60.57142857142857, 59.142857142857146, 55.57142857142857, 60.714285714285715, 112.0, 94.71428571428571, 82.71428571428571, 71.85714285714286, 68.57142857142857, 65.14285714285714, 71.0, 69.5, 63.166666666666664, 79.5, 106.66666666666667, 113.83333333333333, 113.16666666666667, 126.33333333333333, 130.5, 130.33333333333334, 158.16666666666666, 156.66666666666666, 136.33333333333334, 118.5, 92.33333333333333, 83.33333333333333, 83.16666666666667, 81.16666666666667, 73.16666666666667, 68.33333333333333, 84.33333333333333, 93.16666666666667, 91.0, 92.0, 101.33333333333333, 83.33333333333333, 80.0, 80.83333333333333, 92.5, 89.33333333333333, 91.5, 91.16666666666667, 86.66666666666667, 91.0, 93.16666666666667, 99.66666666666667, 100.16666666666667, 96.5, 97.66666666666667, 91.33333333333333, 86.5, 77.66666666666667, 68.0, 62.0, 58.5, 62.666666666666664, 61.333333333333336, 60.166666666666664, 59.333333333333336, 44.0, 38.666666666666664, 41.5, 40.0, 34.0, 33.333333333333336, 33.166666666666664, 33.333333333333336, 31.333333333333332, 26.666666666666668, 25.833333333333332, 25.333333333333332, 27.5, 27.166666666666668, 24.333333333333332, 21.833333333333332, 19.0, 17.5, 17.666666666666668, 16.333333333333332, 15.166666666666666, 14.166666666666666, 13.333333333333334, 13.666666666666666, 12.166666666666666, 10.666666666666666, 11.0, 14.666666666666666, 21.333333333333332, 19.0, 11.833333333333334, 13.666666666666666, 12.333333333333334, 11.5, 10.333333333333334, 8.0, 8.166666666666666, 7.166666666666667, 9.5, 11.0, 9.666666666666666, 8.0, 7.166666666666667, 7.333333333333333, 6.666666666666667, 6.166666666666667, 6.0, 6.166666666666667, 5.666666666666667, 5.0, 4.833333333333333, 4.833333333333333, 5.0, 4.833333333333333, 4.5, 4.666666666666667, 5.666666666666667, 5.166666666666667, 5.0, 5.833333333333333, 6.166666666666667, 5.666666666666667, 5.166666666666667, 6.333333333333333, 6.833333333333333, 7.166666666666667, 7.5, 6.5, 6.166666666666667, 6.833333333333333, 9.166666666666666, 8.666666666666666, 7.166666666666667, 6.666666666666667, 5.666666666666667, 5.5, 5.333333333333333, 5.0, 4.333333333333333, 4.166666666666667, 4.166666666666667, 4.0, 4.833333333333333, 5.0, 5.0, 6.0, 5.0, 5.166666666666667, 5.833333333333333, 6.0, 5.166666666666667, 5.833333333333333, 6.166666666666667, 6.333333333333333, 6.333333333333333, 6.833333333333333, 6.166666666666667, 6.166666666666667, 9.166666666666666, 8.666666666666666, 9.333333333333334, 8.666666666666666, 8.5, 8.333333333333334, 8.0, 7.666666666666667, 7.166666666666667, 7.0, 7.333333333333333, 7.333333333333333, 7.666666666666667, 7.166666666666667, 6.833333333333333, 7.666666666666667, 8.333333333333334, 8.333333333333334, 8.5, 9.0, 9.166666666666666, 10.666666666666666, 11.666666666666666, 11.166666666666666, 11.0, 10.333333333333334, 10.0, 10.5, 10.333333333333334, 10.666666666666666, 10.333333333333334, 9.833333333333334, 9.333333333333334, 10.833333333333334, 9.833333333333334, 10.0, 9.666666666666666, 8.333333333333334, 7.833333333333333, 7.0, 6.833333333333333, 6.666666666666667, 6.5, 6.0, 5.5, 5.833333333333333, 5.666666666666667, 5.166666666666667, 4.5, 4.5, 4.833333333333333, 5.333333333333333, 5.666666666666667, 5.166666666666667, 5.833333333333333, 5.333333333333333, 5.333333333333333, 5.333333333333333, 4.833333333333333, 4.833333333333333, 5.666666666666667, 6.166666666666667, 6.0, 5.666666666666667, 5.5, 5.166666666666667, 4.5, 4.833333333333333, 5.166666666666667, 4.5, 5.0, 5.333333333333333, 5.5, 5.0, 4.833333333333333, 4.833333333333333, 4.666666666666667, 4.666666666666667, 4.833333333333333, 4.666666666666667, 5.333333333333333, 5.166666666666667, 4.833333333333333, 5.0]}, {\"line\": {\"color\": \"rgb(231, 29, 53)\", \"dash\": \"dot\", \"width\": 1}, \"name\": \"Max CFS for the Day<br>(Last 10 Years)\", \"type\": \"scatter\", \"x\": [\"January 01\", \"January 02\", \"January 03\", \"January 04\", \"January 05\", \"January 06\", \"January 07\", \"January 08\", \"January 09\", \"January 10\", \"January 11\", \"January 12\", \"January 13\", \"January 14\", \"January 15\", \"January 16\", \"January 17\", \"January 18\", \"January 19\", \"January 20\", \"January 21\", \"January 22\", \"January 23\", \"January 24\", \"January 25\", \"January 26\", \"January 27\", \"January 28\", \"January 29\", \"January 30\", \"January 31\", \"February 01\", \"February 02\", \"February 03\", \"February 04\", \"February 05\", \"February 06\", \"February 07\", \"February 08\", \"February 09\", \"February 10\", \"February 11\", \"February 12\", \"February 13\", \"February 14\", \"February 15\", \"February 16\", \"February 17\", \"February 18\", \"February 19\", \"February 20\", \"February 21\", \"February 22\", \"February 23\", \"February 24\", \"February 25\", \"February 26\", \"February 27\", \"February 28\", \"February 29\", \"March 01\", \"March 02\", \"March 03\", \"March 04\", \"March 05\", \"March 06\", \"March 07\", \"March 08\", \"March 09\", \"March 10\", \"March 11\", \"March 12\", \"March 13\", \"March 14\", \"March 15\", \"March 16\", \"March 17\", \"March 18\", \"March 19\", \"March 20\", \"March 21\", \"March 22\", \"March 23\", \"March 24\", \"March 25\", \"March 26\", \"March 27\", \"March 28\", \"March 29\", \"March 30\", \"March 31\", \"April 01\", \"April 02\", \"April 03\", \"April 04\", \"April 05\", \"April 06\", \"April 07\", \"April 08\", \"April 09\", \"April 10\", \"April 11\", \"April 12\", \"April 13\", \"April 14\", \"April 15\", \"April 16\", \"April 17\", \"April 18\", \"April 19\", \"April 20\", \"April 21\", \"April 22\", \"April 23\", \"April 24\", \"April 25\", \"April 26\", \"April 27\", \"April 28\", \"April 29\", \"April 30\", \"May 01\", \"May 02\", \"May 03\", \"May 04\", \"May 05\", \"May 06\", \"May 07\", \"May 08\", \"May 09\", \"May 10\", \"May 11\", \"May 12\", \"May 13\", \"May 14\", \"May 15\", \"May 16\", \"May 17\", \"May 18\", \"May 19\", \"May 20\", \"May 21\", \"May 22\", \"May 23\", \"May 24\", \"May 25\", \"May 26\", \"May 27\", \"May 28\", \"May 29\", \"May 30\", \"May 31\", \"June 01\", \"June 02\", \"June 03\", \"June 04\", \"June 05\", \"June 06\", \"June 07\", \"June 08\", \"June 09\", \"June 10\", \"June 11\", \"June 12\", \"June 13\", \"June 14\", \"June 15\", \"June 16\", \"June 17\", \"June 18\", \"June 19\", \"June 20\", \"June 21\", \"June 22\", \"June 23\", \"June 24\", \"June 25\", \"June 26\", \"June 27\", \"June 28\", \"June 29\", \"June 30\", \"July 01\", \"July 02\", \"July 03\", \"July 04\", \"July 05\", \"July 06\", \"July 07\", \"July 08\", \"July 09\", \"July 10\", \"July 11\", \"July 12\", \"July 13\", \"July 14\", \"July 15\", \"July 16\", \"July 17\", \"July 18\", \"July 19\", \"July 20\", \"July 21\", \"July 22\", \"July 23\", \"July 24\", \"July 25\", \"July 26\", \"July 27\", \"July 28\", \"July 29\", \"July 30\", \"July 31\", \"August 01\", \"August 02\", \"August 03\", \"August 04\", \"August 05\", \"August 06\", \"August 07\", \"August 08\", \"August 09\", \"August 10\", \"August 11\", \"August 12\", \"August 13\", \"August 14\", \"August 15\", \"August 16\", \"August 17\", \"August 18\", \"August 19\", \"August 20\", \"August 21\", \"August 22\", \"August 23\", \"August 24\", \"August 25\", \"August 26\", \"August 27\", \"August 28\", \"August 29\", \"August 30\", \"August 31\", \"September 01\", \"September 02\", \"September 03\", \"September 04\", \"September 05\", \"September 06\", \"September 07\", \"September 08\", \"September 09\", \"September 10\", \"September 11\", \"September 12\", \"September 13\", \"September 14\", \"September 15\", \"September 16\", \"September 17\", \"September 18\", \"September 19\", \"September 20\", \"September 21\", \"September 22\", \"September 23\", \"September 24\", \"September 25\", \"September 26\", \"September 27\", \"September 28\", \"September 29\", \"September 30\", \"October 01\", \"October 02\", \"October 03\", \"October 04\", \"October 05\", \"October 06\", \"October 07\", \"October 08\", \"October 09\", \"October 10\", \"October 11\", \"October 12\", \"October 13\", \"October 14\", \"October 15\", \"October 16\", \"October 17\", \"October 18\", \"October 19\", \"October 20\", \"October 21\", \"October 22\", \"October 23\", \"October 24\", \"October 25\", \"October 26\", \"October 27\", \"October 28\", \"October 29\", \"October 30\", \"October 31\", \"November 01\", \"November 02\", \"November 03\", \"November 04\", \"November 05\", \"November 06\", \"November 07\", \"November 08\", \"November 09\", \"November 10\", \"November 11\", \"November 12\", \"November 13\", \"November 14\", \"November 15\", \"November 16\", \"November 17\", \"November 18\", \"November 19\", \"November 20\", \"November 21\", \"November 22\", \"November 23\", \"November 24\", \"November 25\", \"November 26\", \"November 27\", \"November 28\", \"November 29\", \"November 30\", \"December 01\", \"December 02\", \"December 03\", \"December 04\", \"December 05\", \"December 06\", \"December 07\", \"December 08\", \"December 09\", \"December 10\", \"December 11\", \"December 12\", \"December 13\", \"December 14\", \"December 15\", \"December 16\", \"December 17\", \"December 18\", \"December 19\", \"December 20\", \"December 21\", \"December 22\", \"December 23\", \"December 24\", \"December 25\", \"December 26\", \"December 27\", \"December 28\", \"December 29\", \"December 30\", \"December 31\"], \"y\": [9.0, 8.0, 8.0, 7.0, 7.0, 7.0, 7.0, 6.0, 6.0, 7.0, 6.0, 6.0, 7.0, 6.0, 6.0, 7.0, 10.0, 10.0, 10.0, 10.0, 10.0, 10.0, 11.0, 12.0, 12.0, 12.0, 12.0, 14.0, 16.0, 14.0, 12.0, 11.0, 11.0, 12.0, 11.0, 14.0, 14.0, 14.0, 13.0, 12.0, 11.0, 12.0, 11.0, 10.0, 10.0, 10.0, 11.0, 10.0, 10.0, 10.0, 10.0, 10.0, 10.0, 9.0, 12.0, 10.0, 10.0, 10.0, 10.0, 9.0, 10.0, 9.0, 9.0, 9.0, 14.0, 14.0, 23.0, 24.0, 25.0, 25.0, 26.0, 24.0, 28.0, 27.0, 21.0, 21.0, 23.0, 22.0, 23.0, 21.0, 18.0, 18.0, 18.0, 20.0, 19.0, 18.0, 19.0, 16.0, 18.0, 19.0, 19.0, 8.0, 7.0, 9.0, 9.0, 9.0, 14.0, 34.0, 32.0, 34.0, 40.0, 39.0, 39.0, 66.0, 62.0, 71.0, 66.0, 58.0, 56.0, 58.0, 69.0, 85.0, 102.0, 114.0, 113.0, 107.0, 102.0, 126.0, 126.0, 118.0, 124.0, 134.0, 136.0, 132.0, 135.0, 219.0, 209.0, 184.0, 254.0, 566.0, 447.0, 312.0, 243.0, 220.0, 192.0, 166.0, 138.0, 88.0, 144.0, 229.0, 297.0, 268.0, 257.0, 252.0, 248.0, 324.0, 305.0, 219.0, 166.0, 150.0, 128.0, 133.0, 121.0, 100.0, 105.0, 185.0, 223.0, 204.0, 190.0, 181.0, 178.0, 180.0, 181.0, 222.0, 210.0, 209.0, 197.0, 191.0, 191.0, 181.0, 173.0, 172.0, 168.0, 165.0, 161.0, 154.0, 152.0, 144.0, 138.0, 134.0, 136.0, 126.0, 119.0, 142.0, 101.0, 90.0, 98.0, 101.0, 97.0, 103.0, 113.0, 117.0, 106.0, 94.0, 86.0, 78.0, 71.0, 64.0, 54.0, 52.0, 47.0, 43.0, 43.0, 41.0, 42.0, 41.0, 38.0, 37.0, 38.0, 37.0, 38.0, 52.0, 96.0, 83.0, 48.0, 35.0, 32.0, 36.0, 33.0, 19.0, 17.0, 15.0, 18.0, 28.0, 24.0, 20.0, 19.0, 19.0, 17.0, 11.0, 7.0, 8.0, 7.0, 7.0, 7.0, 9.0, 9.0, 7.0, 6.0, 8.0, 10.0, 8.0, 9.0, 15.0, 17.0, 14.0, 14.0, 19.0, 21.0, 20.0, 23.0, 18.0, 17.0, 23.0, 36.0, 32.0, 25.0, 21.0, 17.0, 17.0, 18.0, 15.0, 13.0, 10.0, 9.0, 9.0, 11.0, 11.0, 10.0, 9.0, 11.0, 12.0, 12.0, 13.0, 12.0, 12.0, 15.0, 18.0, 17.0, 14.0, 14.0, 12.0, 26.0, 23.0, 24.0, 22.0, 21.0, 20.0, 19.0, 17.0, 14.0, 13.0, 14.0, 13.0, 13.0, 12.0, 12.0, 16.0, 17.0, 15.0, 17.0, 21.0, 19.0, 22.0, 26.0, 25.0, 25.0, 25.0, 25.0, 26.0, 27.0, 28.0, 26.0, 25.0, 24.0, 23.0, 22.0, 19.0, 21.0, 15.0, 14.0, 12.0, 10.0, 10.0, 10.0, 9.0, 9.0, 11.0, 10.0, 9.0, 8.0, 6.0, 7.0, 9.0, 10.0, 10.0, 10.0, 8.0, 8.0, 9.0, 8.0, 8.0, 12.0, 12.0, 10.0, 11.0, 10.0, 9.0, 9.0, 8.0, 10.0, 7.0, 9.0, 11.0, 12.0, 10.0, 9.0, 9.0, 9.0, 8.0, 8.0, 7.0, 8.0, 8.0, 8.0, 8.0]}, {\"line\": {\"color\": \"rgb(30, 100, 46)\", \"dash\": \"dot\", \"width\": 1}, \"name\": \"Min CFS for the Day<br>(Last 10 Years)\", \"type\": \"scatter\", \"x\": [\"January 01\", \"January 02\", \"January 03\", \"January 04\", \"January 05\", \"January 06\", \"January 07\", \"January 08\", \"January 09\", \"January 10\", \"January 11\", \"January 12\", \"January 13\", \"January 14\", \"January 15\", \"January 16\", \"January 17\", \"January 18\", \"January 19\", \"January 20\", \"January 21\", \"January 22\", \"January 23\", \"January 24\", \"January 25\", \"January 26\", \"January 27\", \"January 28\", \"January 29\", \"January 30\", \"January 31\", \"February 01\", \"February 02\", \"February 03\", \"February 04\", \"February 05\", \"February 06\", \"February 07\", \"February 08\", \"February 09\", \"February 10\", \"February 11\", \"February 12\", \"February 13\", \"February 14\", \"February 15\", \"February 16\", \"February 17\", \"February 18\", \"February 19\", \"February 20\", \"February 21\", \"February 22\", \"February 23\", \"February 24\", \"February 25\", \"February 26\", \"February 27\", \"February 28\", \"February 29\", \"March 01\", \"March 02\", \"March 03\", \"March 04\", \"March 05\", \"March 06\", \"March 07\", \"March 08\", \"March 09\", \"March 10\", \"March 11\", \"March 12\", \"March 13\", \"March 14\", \"March 15\", \"March 16\", \"March 17\", \"March 18\", \"March 19\", \"March 20\", \"March 21\", \"March 22\", \"March 23\", \"March 24\", \"March 25\", \"March 26\", \"March 27\", \"March 28\", \"March 29\", \"March 30\", \"March 31\", \"April 01\", \"April 02\", \"April 03\", \"April 04\", \"April 05\", \"April 06\", \"April 07\", \"April 08\", \"April 09\", \"April 10\", \"April 11\", \"April 12\", \"April 13\", \"April 14\", \"April 15\", \"April 16\", \"April 17\", \"April 18\", \"April 19\", \"April 20\", \"April 21\", \"April 22\", \"April 23\", \"April 24\", \"April 25\", \"April 26\", \"April 27\", \"April 28\", \"April 29\", \"April 30\", \"May 01\", \"May 02\", \"May 03\", \"May 04\", \"May 05\", \"May 06\", \"May 07\", \"May 08\", \"May 09\", \"May 10\", \"May 11\", \"May 12\", \"May 13\", \"May 14\", \"May 15\", \"May 16\", \"May 17\", \"May 18\", \"May 19\", \"May 20\", \"May 21\", \"May 22\", \"May 23\", \"May 24\", \"May 25\", \"May 26\", \"May 27\", \"May 28\", \"May 29\", \"May 30\", \"May 31\", \"June 01\", \"June 02\", \"June 03\", \"June 04\", \"June 05\", \"June 06\", \"June 07\", \"June 08\", \"June 09\", \"June 10\", \"June 11\", \"June 12\", \"June 13\", \"June 14\", \"June 15\", \"June 16\", \"June 17\", \"June 18\", \"June 19\", \"June 20\", \"June 21\", \"June 22\", \"June 23\", \"June 24\", \"June 25\", \"June 26\", \"June 27\", \"June 28\", \"June 29\", \"June 30\", \"July 01\", \"July 02\", \"July 03\", \"July 04\", \"July 05\", \"July 06\", \"July 07\", \"July 08\", \"July 09\", \"July 10\", \"July 11\", \"July 12\", \"July 13\", \"July 14\", \"July 15\", \"July 16\", \"July 17\", \"July 18\", \"July 19\", \"July 20\", \"July 21\", \"July 22\", \"July 23\", \"July 24\", \"July 25\", \"July 26\", \"July 27\", \"July 28\", \"July 29\", \"July 30\", \"July 31\", \"August 01\", \"August 02\", \"August 03\", \"August 04\", \"August 05\", \"August 06\", \"August 07\", \"August 08\", \"August 09\", \"August 10\", \"August 11\", \"August 12\", \"August 13\", \"August 14\", \"August 15\", \"August 16\", \"August 17\", \"August 18\", \"August 19\", \"August 20\", \"August 21\", \"August 22\", \"August 23\", \"August 24\", \"August 25\", \"August 26\", \"August 27\", \"August 28\", \"August 29\", \"August 30\", \"August 31\", \"September 01\", \"September 02\", \"September 03\", \"September 04\", \"September 05\", \"September 06\", \"September 07\", \"September 08\", \"September 09\", \"September 10\", \"September 11\", \"September 12\", \"September 13\", \"September 14\", \"September 15\", \"September 16\", \"September 17\", \"September 18\", \"September 19\", \"September 20\", \"September 21\", \"September 22\", \"September 23\", \"September 24\", \"September 25\", \"September 26\", \"September 27\", \"September 28\", \"September 29\", \"September 30\", \"October 01\", \"October 02\", \"October 03\", \"October 04\", \"October 05\", \"October 06\", \"October 07\", \"October 08\", \"October 09\", \"October 10\", \"October 11\", \"October 12\", \"October 13\", \"October 14\", \"October 15\", \"October 16\", \"October 17\", \"October 18\", \"October 19\", \"October 20\", \"October 21\", \"October 22\", \"October 23\", \"October 24\", \"October 25\", \"October 26\", \"October 27\", \"October 28\", \"October 29\", \"October 30\", \"October 31\", \"November 01\", \"November 02\", \"November 03\", \"November 04\", \"November 05\", \"November 06\", \"November 07\", \"November 08\", \"November 09\", \"November 10\", \"November 11\", \"November 12\", \"November 13\", \"November 14\", \"November 15\", \"November 16\", \"November 17\", \"November 18\", \"November 19\", \"November 20\", \"November 21\", \"November 22\", \"November 23\", \"November 24\", \"November 25\", \"November 26\", \"November 27\", \"November 28\", \"November 29\", \"November 30\", \"December 01\", \"December 02\", \"December 03\", \"December 04\", \"December 05\", \"December 06\", \"December 07\", \"December 08\", \"December 09\", \"December 10\", \"December 11\", \"December 12\", \"December 13\", \"December 14\", \"December 15\", \"December 16\", \"December 17\", \"December 18\", \"December 19\", \"December 20\", \"December 21\", \"December 22\", \"December 23\", \"December 24\", \"December 25\", \"December 26\", \"December 27\", \"December 28\", \"December 29\", \"December 30\", \"December 31\"], \"y\": [2.0, 2.0, 2.0, 2.0, 1.0, 2.0, 2.0, 2.0, 2.0, 2.0, 2.0, 2.0, 1.0, 1.0, 1.0, 2.0, 1.0, 1.0, 1.0, 1.0, 1.0, 1.0, 1.0, 1.0, 1.0, 1.0, 1.0, 2.0, 2.0, 1.0, 2.0, 1.0, 1.0, 1.0, 2.0, 2.0, 1.0, 2.0, 1.0, 2.0, 2.0, 2.0, 2.0, 2.0, 2.0, 2.0, 2.0, 2.0, 2.0, 2.0, 2.0, 2.0, 2.0, 1.0, 2.0, 2.0, 2.0, 2.0, 2.0, 6.0, 2.0, 1.0, 1.0, 1.0, 1.0, 1.0, 1.0, 1.0, 1.0, 1.0, 1.0, 1.0, 1.0, 1.0, 1.0, 1.0, 1.0, 1.0, 1.0, 1.0, 1.0, 1.0, 1.0, 1.0, 1.0, 1.0, 1.0, 1.0, 1.0, 1.0, 1.0, 1.0, 1.0, 1.0, 2.0, 2.0, 2.0, 1.0, 2.0, 3.0, 2.0, 2.0, 1.0, 1.0, 1.0, 3.0, 3.0, 3.0, 3.0, 3.0, 3.0, 3.0, 3.0, 3.0, 4.0, 4.0, 4.0, 4.0, 4.0, 4.0, 4.0, 4.0, 4.0, 4.0, 3.0, 4.0, 4.0, 6.0, 6.0, 6.0, 5.0, 5.0, 12.0, 9.0, 5.0, 29.0, 28.0, 30.0, 18.0, 10.0, 10.0, 15.0, 15.0, 26.0, 32.0, 46.0, 49.0, 49.0, 45.0, 44.0, 39.0, 30.0, 31.0, 38.0, 39.0, 39.0, 32.0, 16.0, 14.0, 17.0, 20.0, 18.0, 16.0, 13.0, 10.0, 12.0, 13.0, 12.0, 14.0, 32.0, 48.0, 44.0, 34.0, 28.0, 25.0, 26.0, 24.0, 12.0, 9.0, 12.0, 10.0, 11.0, 10.0, 6.0, 8.0, 5.0, 4.0, 4.0, 3.0, 3.0, 3.0, 5.0, 5.0, 4.0, 3.0, 4.0, 5.0, 4.0, 3.0, 3.0, 3.0, 3.0, 2.0, 3.0, 3.0, 4.0, 4.0, 4.0, 4.0, 4.0, 4.0, 4.0, 3.0, 3.0, 3.0, 3.0, 3.0, 3.0, 4.0, 4.0, 3.0, 4.0, 2.0, 2.0, 2.0, 2.0, 2.0, 3.0, 3.0, 4.0, 4.0, 4.0, 5.0, 3.0, 3.0, 2.0, 3.0, 4.0, 3.0, 3.0, 3.0, 2.0, 2.0, 3.0, 3.0, 3.0, 3.0, 3.0, 3.0, 3.0, 3.0, 3.0, 2.0, 2.0, 2.0, 2.0, 1.0, 1.0, 1.0, 1.0, 1.0, 1.0, 1.0, 1.0, 2.0, 2.0, 2.0, 2.0, 1.0, 2.0, 2.0, 2.0, 2.0, 2.0, 2.0, 1.0, 1.0, 1.0, 2.0, 3.0, 2.0, 2.0, 2.0, 2.0, 2.0, 2.0, 2.0, 2.0, 2.0, 2.0, 2.0, 2.0, 2.0, 2.0, 2.0, 2.0, 2.0, 2.0, 2.0, 2.0, 2.0, 2.0, 3.0, 7.0, 8.0, 6.0, 6.0, 5.0, 4.0, 4.0, 4.0, 4.0, 4.0, 4.0, 4.0, 4.0, 3.0, 3.0, 3.0, 3.0, 3.0, 3.0, 3.0, 3.0, 3.0, 3.0, 3.0, 3.0, 3.0, 3.0, 2.0, 3.0, 3.0, 3.0, 3.0, 3.0, 3.0, 3.0, 3.0, 3.0, 2.0, 2.0, 2.0, 3.0, 3.0, 3.0, 2.0, 2.0, 2.0, 2.0, 2.0, 2.0, 2.0, 2.0, 2.0, 2.0, 2.0, 2.0, 2.0, 2.0, 2.0, 2.0, 2.0, 2.0, 2.0, 2.0]}, {\"line\": {\"color\": \"navy\", \"width\": 2}, \"name\": \"Mean CFS for the Day<br>(2020)\", \"type\": \"scatter\", \"x\": [\"January 01\", \"January 02\", \"January 03\", \"January 04\", \"January 05\", \"January 06\", \"January 07\", \"January 08\", \"January 09\", \"January 10\", \"January 11\", \"January 12\", \"January 13\", \"January 14\", \"January 15\", \"January 16\", \"January 17\", \"January 18\", \"January 19\", \"January 20\", \"January 21\", \"January 22\", \"January 23\", \"January 24\", \"January 25\", \"January 26\", \"January 27\", \"January 28\", \"January 29\", \"January 30\", \"January 31\", \"February 01\", \"February 02\", \"February 03\", \"February 04\", \"February 05\", \"February 06\", \"February 07\", \"February 08\", \"February 09\", \"February 10\", \"February 11\", \"February 12\", \"February 13\", \"February 14\", \"February 15\", \"February 16\", \"February 17\", \"February 18\", \"February 19\", \"February 20\", \"February 21\", \"February 22\", \"February 23\", \"February 24\", \"February 25\", \"February 26\", \"February 27\", \"February 28\", \"February 29\", \"March 01\", \"March 02\", \"March 03\", \"March 04\", \"March 05\", \"March 06\", \"March 07\", \"March 08\", \"March 09\", \"March 10\", \"March 11\", \"March 12\", \"March 13\", \"March 14\", \"March 15\", \"March 16\", \"March 17\", \"March 18\", \"March 19\", \"March 20\", \"March 21\", \"March 22\", \"March 23\", \"March 24\", \"March 25\", \"March 26\", \"March 27\", \"March 28\", \"March 29\", \"March 30\", \"March 31\", \"April 01\", \"April 02\", \"April 03\", \"April 04\", \"April 05\", \"April 06\", \"April 07\", \"April 08\", \"April 09\", \"April 10\", \"April 11\", \"April 12\", \"April 13\", \"April 14\", \"April 15\", \"April 16\", \"April 17\", \"April 18\", \"April 19\", \"April 20\", \"April 21\", \"April 22\", \"April 23\", \"April 24\", \"April 25\", \"April 26\", \"April 27\", \"April 28\", \"April 29\", \"April 30\", \"May 01\", \"May 02\", \"May 03\", \"May 04\", \"May 05\", \"May 06\", \"May 07\", \"May 08\", \"May 09\", \"May 10\", \"May 11\", \"May 12\", \"May 13\"], \"y\": [9.0, 8.0, 7.0, 7.0, 6.0, 6.0, 5.0, 6.0, 6.0, 5.0, 5.0, 5.0, 5.0, 5.0, 5.0, 6.0, 7.0, 6.0, 7.0, 7.0, 6.0, 7.0, 6.0, 6.0, 6.0, 6.0, 7.0, 6.0, 7.0, 6.0, 6.0, 6.0, 5.0, 5.0, 4.0, 5.0, 6.0, 5.0, 4.0, 5.0, 5.0, 6.0, 6.0, 5.0, 5.0, 5.0, 5.0, 5.0, 5.0, 5.0, 5.0, 6.0, 6.0, 6.0, 6.0, 5.0, 5.0, 6.0, 6.0, 6.0, 6.0, 5.0, 5.0, 5.0, 6.0, 6.0, 7.0, 8.0, 8.0, 8.0, 7.0, 7.0, 7.0, 6.0, 6.0, 6.0, 3.0, 3.0, 7.0, 6.0, 5.0, 5.0, 4.0, 4.0, 4.0, 4.0, 4.0, 4.0, 4.0, 4.0, 4.0, 4.0, 4.0, 4.0, 4.0, 4.0, 4.0, 4.0, 4.0, 4.0, 4.0, 4.0, 4.0, 4.0, 4.0, 5.0, 7.0, 6.0, 13.0, 18.0, 26.0, 8.0, 10.0, 20.0, 52.0, 53.0, 51.0, 53.0, 63.0, 66.0, 67.0, 56.0, 64.0, 74.0, 73.0, 59.0, 47.0, 33.0, 20.0, 12.0, 5.0, 6.0, 12.0, 9.0]}],\n",
       "                        {\"font\": {\"color\": \"#7f7f7f\", \"family\": \"Courier New, monospace\", \"size\": 12}, \"template\": {\"data\": {\"bar\": [{\"error_x\": {\"color\": \"#2a3f5f\"}, \"error_y\": {\"color\": \"#2a3f5f\"}, \"marker\": {\"line\": {\"color\": \"#E5ECF6\", \"width\": 0.5}}, \"type\": \"bar\"}], \"barpolar\": [{\"marker\": {\"line\": {\"color\": \"#E5ECF6\", \"width\": 0.5}}, \"type\": \"barpolar\"}], \"carpet\": [{\"aaxis\": {\"endlinecolor\": \"#2a3f5f\", \"gridcolor\": \"white\", \"linecolor\": \"white\", \"minorgridcolor\": \"white\", \"startlinecolor\": \"#2a3f5f\"}, \"baxis\": {\"endlinecolor\": \"#2a3f5f\", \"gridcolor\": \"white\", \"linecolor\": \"white\", \"minorgridcolor\": \"white\", \"startlinecolor\": \"#2a3f5f\"}, \"type\": \"carpet\"}], \"choropleth\": [{\"colorbar\": {\"outlinewidth\": 0, \"ticks\": \"\"}, \"type\": \"choropleth\"}], \"contour\": [{\"colorbar\": {\"outlinewidth\": 0, \"ticks\": \"\"}, \"colorscale\": [[0.0, \"#0d0887\"], [0.1111111111111111, \"#46039f\"], [0.2222222222222222, \"#7201a8\"], [0.3333333333333333, \"#9c179e\"], [0.4444444444444444, \"#bd3786\"], [0.5555555555555556, \"#d8576b\"], [0.6666666666666666, \"#ed7953\"], [0.7777777777777778, \"#fb9f3a\"], [0.8888888888888888, \"#fdca26\"], [1.0, \"#f0f921\"]], \"type\": \"contour\"}], \"contourcarpet\": [{\"colorbar\": {\"outlinewidth\": 0, \"ticks\": \"\"}, \"type\": \"contourcarpet\"}], \"heatmap\": [{\"colorbar\": {\"outlinewidth\": 0, \"ticks\": \"\"}, \"colorscale\": [[0.0, \"#0d0887\"], [0.1111111111111111, \"#46039f\"], [0.2222222222222222, \"#7201a8\"], [0.3333333333333333, \"#9c179e\"], [0.4444444444444444, \"#bd3786\"], [0.5555555555555556, \"#d8576b\"], [0.6666666666666666, \"#ed7953\"], [0.7777777777777778, \"#fb9f3a\"], [0.8888888888888888, \"#fdca26\"], [1.0, \"#f0f921\"]], \"type\": \"heatmap\"}], \"heatmapgl\": [{\"colorbar\": {\"outlinewidth\": 0, \"ticks\": \"\"}, \"colorscale\": [[0.0, \"#0d0887\"], [0.1111111111111111, \"#46039f\"], [0.2222222222222222, \"#7201a8\"], [0.3333333333333333, \"#9c179e\"], [0.4444444444444444, \"#bd3786\"], [0.5555555555555556, \"#d8576b\"], [0.6666666666666666, \"#ed7953\"], [0.7777777777777778, \"#fb9f3a\"], [0.8888888888888888, \"#fdca26\"], [1.0, \"#f0f921\"]], \"type\": \"heatmapgl\"}], \"histogram\": [{\"marker\": {\"colorbar\": {\"outlinewidth\": 0, \"ticks\": \"\"}}, \"type\": \"histogram\"}], \"histogram2d\": [{\"colorbar\": {\"outlinewidth\": 0, \"ticks\": \"\"}, \"colorscale\": [[0.0, \"#0d0887\"], [0.1111111111111111, \"#46039f\"], [0.2222222222222222, \"#7201a8\"], [0.3333333333333333, \"#9c179e\"], [0.4444444444444444, \"#bd3786\"], [0.5555555555555556, \"#d8576b\"], [0.6666666666666666, \"#ed7953\"], [0.7777777777777778, \"#fb9f3a\"], [0.8888888888888888, \"#fdca26\"], [1.0, \"#f0f921\"]], \"type\": \"histogram2d\"}], \"histogram2dcontour\": [{\"colorbar\": {\"outlinewidth\": 0, \"ticks\": \"\"}, \"colorscale\": [[0.0, \"#0d0887\"], [0.1111111111111111, \"#46039f\"], [0.2222222222222222, \"#7201a8\"], [0.3333333333333333, \"#9c179e\"], [0.4444444444444444, \"#bd3786\"], [0.5555555555555556, \"#d8576b\"], [0.6666666666666666, \"#ed7953\"], [0.7777777777777778, \"#fb9f3a\"], [0.8888888888888888, \"#fdca26\"], [1.0, \"#f0f921\"]], \"type\": \"histogram2dcontour\"}], \"mesh3d\": [{\"colorbar\": {\"outlinewidth\": 0, \"ticks\": \"\"}, \"type\": \"mesh3d\"}], \"parcoords\": [{\"line\": {\"colorbar\": {\"outlinewidth\": 0, \"ticks\": \"\"}}, \"type\": \"parcoords\"}], \"pie\": [{\"automargin\": true, \"type\": \"pie\"}], \"scatter\": [{\"marker\": {\"colorbar\": {\"outlinewidth\": 0, \"ticks\": \"\"}}, \"type\": \"scatter\"}], \"scatter3d\": [{\"line\": {\"colorbar\": {\"outlinewidth\": 0, \"ticks\": \"\"}}, \"marker\": {\"colorbar\": {\"outlinewidth\": 0, \"ticks\": \"\"}}, \"type\": \"scatter3d\"}], \"scattercarpet\": [{\"marker\": {\"colorbar\": {\"outlinewidth\": 0, \"ticks\": \"\"}}, \"type\": \"scattercarpet\"}], \"scattergeo\": [{\"marker\": {\"colorbar\": {\"outlinewidth\": 0, \"ticks\": \"\"}}, \"type\": \"scattergeo\"}], \"scattergl\": [{\"marker\": {\"colorbar\": {\"outlinewidth\": 0, \"ticks\": \"\"}}, \"type\": \"scattergl\"}], \"scattermapbox\": [{\"marker\": {\"colorbar\": {\"outlinewidth\": 0, \"ticks\": \"\"}}, \"type\": \"scattermapbox\"}], \"scatterpolar\": [{\"marker\": {\"colorbar\": {\"outlinewidth\": 0, \"ticks\": \"\"}}, \"type\": \"scatterpolar\"}], \"scatterpolargl\": [{\"marker\": {\"colorbar\": {\"outlinewidth\": 0, \"ticks\": \"\"}}, \"type\": \"scatterpolargl\"}], \"scatterternary\": [{\"marker\": {\"colorbar\": {\"outlinewidth\": 0, \"ticks\": \"\"}}, \"type\": \"scatterternary\"}], \"surface\": [{\"colorbar\": {\"outlinewidth\": 0, \"ticks\": \"\"}, \"colorscale\": [[0.0, \"#0d0887\"], [0.1111111111111111, \"#46039f\"], [0.2222222222222222, \"#7201a8\"], [0.3333333333333333, \"#9c179e\"], [0.4444444444444444, \"#bd3786\"], [0.5555555555555556, \"#d8576b\"], [0.6666666666666666, \"#ed7953\"], [0.7777777777777778, \"#fb9f3a\"], [0.8888888888888888, \"#fdca26\"], [1.0, \"#f0f921\"]], \"type\": \"surface\"}], \"table\": [{\"cells\": {\"fill\": {\"color\": \"#EBF0F8\"}, \"line\": {\"color\": \"white\"}}, \"header\": {\"fill\": {\"color\": \"#C8D4E3\"}, \"line\": {\"color\": \"white\"}}, \"type\": \"table\"}]}, \"layout\": {\"annotationdefaults\": {\"arrowcolor\": \"#2a3f5f\", \"arrowhead\": 0, \"arrowwidth\": 1}, \"coloraxis\": {\"colorbar\": {\"outlinewidth\": 0, \"ticks\": \"\"}}, \"colorscale\": {\"diverging\": [[0, \"#8e0152\"], [0.1, \"#c51b7d\"], [0.2, \"#de77ae\"], [0.3, \"#f1b6da\"], [0.4, \"#fde0ef\"], [0.5, \"#f7f7f7\"], [0.6, \"#e6f5d0\"], [0.7, \"#b8e186\"], [0.8, \"#7fbc41\"], [0.9, \"#4d9221\"], [1, \"#276419\"]], \"sequential\": [[0.0, \"#0d0887\"], [0.1111111111111111, \"#46039f\"], [0.2222222222222222, \"#7201a8\"], [0.3333333333333333, \"#9c179e\"], [0.4444444444444444, \"#bd3786\"], [0.5555555555555556, \"#d8576b\"], [0.6666666666666666, \"#ed7953\"], [0.7777777777777778, \"#fb9f3a\"], [0.8888888888888888, \"#fdca26\"], [1.0, \"#f0f921\"]], \"sequentialminus\": [[0.0, \"#0d0887\"], [0.1111111111111111, \"#46039f\"], [0.2222222222222222, \"#7201a8\"], [0.3333333333333333, \"#9c179e\"], [0.4444444444444444, \"#bd3786\"], [0.5555555555555556, \"#d8576b\"], [0.6666666666666666, \"#ed7953\"], [0.7777777777777778, \"#fb9f3a\"], [0.8888888888888888, \"#fdca26\"], [1.0, \"#f0f921\"]]}, \"colorway\": [\"#636efa\", \"#EF553B\", \"#00cc96\", \"#ab63fa\", \"#FFA15A\", \"#19d3f3\", \"#FF6692\", \"#B6E880\", \"#FF97FF\", \"#FECB52\"], \"font\": {\"color\": \"#2a3f5f\"}, \"geo\": {\"bgcolor\": \"white\", \"lakecolor\": \"white\", \"landcolor\": \"#E5ECF6\", \"showlakes\": true, \"showland\": true, \"subunitcolor\": \"white\"}, \"hoverlabel\": {\"align\": \"left\"}, \"hovermode\": \"closest\", \"mapbox\": {\"style\": \"light\"}, \"paper_bgcolor\": \"white\", \"plot_bgcolor\": \"#E5ECF6\", \"polar\": {\"angularaxis\": {\"gridcolor\": \"white\", \"linecolor\": \"white\", \"ticks\": \"\"}, \"bgcolor\": \"#E5ECF6\", \"radialaxis\": {\"gridcolor\": \"white\", \"linecolor\": \"white\", \"ticks\": \"\"}}, \"scene\": {\"xaxis\": {\"backgroundcolor\": \"#E5ECF6\", \"gridcolor\": \"white\", \"gridwidth\": 2, \"linecolor\": \"white\", \"showbackground\": true, \"ticks\": \"\", \"zerolinecolor\": \"white\"}, \"yaxis\": {\"backgroundcolor\": \"#E5ECF6\", \"gridcolor\": \"white\", \"gridwidth\": 2, \"linecolor\": \"white\", \"showbackground\": true, \"ticks\": \"\", \"zerolinecolor\": \"white\"}, \"zaxis\": {\"backgroundcolor\": \"#E5ECF6\", \"gridcolor\": \"white\", \"gridwidth\": 2, \"linecolor\": \"white\", \"showbackground\": true, \"ticks\": \"\", \"zerolinecolor\": \"white\"}}, \"shapedefaults\": {\"line\": {\"color\": \"#2a3f5f\"}}, \"ternary\": {\"aaxis\": {\"gridcolor\": \"white\", \"linecolor\": \"white\", \"ticks\": \"\"}, \"baxis\": {\"gridcolor\": \"white\", \"linecolor\": \"white\", \"ticks\": \"\"}, \"bgcolor\": \"#E5ECF6\", \"caxis\": {\"gridcolor\": \"white\", \"linecolor\": \"white\", \"ticks\": \"\"}}, \"title\": {\"x\": 0.05}, \"xaxis\": {\"automargin\": true, \"gridcolor\": \"white\", \"linecolor\": \"white\", \"ticks\": \"\", \"title\": {\"standoff\": 15}, \"zerolinecolor\": \"white\", \"zerolinewidth\": 2}, \"yaxis\": {\"automargin\": true, \"gridcolor\": \"white\", \"linecolor\": \"white\", \"ticks\": \"\", \"title\": {\"standoff\": 15}, \"zerolinecolor\": \"white\", \"zerolinewidth\": 2}}}, \"title\": {\"text\": \"CFS for Left Hand Creek At Hover Road Near Longmont, Co<br>Coordinates: 40.13427778, -105.1308194\"}, \"yaxis\": {\"title\": {\"text\": \"Cubic Feet per Second (CFS)\"}}},\n",
       "                        {\"responsive\": true}\n",
       "                    ).then(function(){\n",
       "                            \n",
       "var gd = document.getElementById('55603d8b-3271-4a09-b5f8-6d61f5541602');\n",
       "var x = new MutationObserver(function (mutations, observer) {{\n",
       "        var display = window.getComputedStyle(gd).display;\n",
       "        if (!display || display === 'none') {{\n",
       "            console.log([gd, 'removed!']);\n",
       "            Plotly.purge(gd);\n",
       "            observer.disconnect();\n",
       "        }}\n",
       "}});\n",
       "\n",
       "// Listen for the removal of the full notebook cells\n",
       "var notebookContainer = gd.closest('#notebook-container');\n",
       "if (notebookContainer) {{\n",
       "    x.observe(notebookContainer, {childList: true});\n",
       "}}\n",
       "\n",
       "// Listen for the clearing of the current output cell\n",
       "var outputEl = gd.closest('.output');\n",
       "if (outputEl) {{\n",
       "    x.observe(outputEl, {childList: true});\n",
       "}}\n",
       "\n",
       "                        })\n",
       "                };\n",
       "                });\n",
       "            </script>\n",
       "        </div>"
      ]
     },
     "metadata": {},
     "output_type": "display_data"
    }
   ],
   "source": [
    "import plotly.graph_objects as go\n",
    "fig = go.Figure()\n",
    "\n",
    "fig.add_trace(go.Scatter(x=his_cfs_df['new_day'], y=his_cfs_df['mean_cfs'], name='Mean CFS for the Day<br>(Last 10 Years)',\n",
    "                         line=dict(color='orange', width=2)))\n",
    "\n",
    "fig.add_trace(go.Scatter(x=max_cfs_df['new_day'], y=max_cfs_df['max_cfs'], name='Max CFS for the Day<br>(Last 10 Years)',\n",
    "                         line=dict(color=\"rgb(231, 29, 53)\", width=1, dash='dot')))\n",
    "\n",
    "fig.add_trace(go.Scatter(x=min_cfs_df['new_day'], y=min_cfs_df['min_cfs'], name='Min CFS for the Day<br>(Last 10 Years)',\n",
    "                         line=dict(color=\"rgb(30, 100, 46)\", width=1, dash='dot')))\n",
    "\n",
    "fig.add_trace(go.Scatter(x=rec_cfs_df['new_day'], y=rec_cfs_df['mean_cfs'], name='Mean CFS for the Day<br>(2020)',\n",
    "                         line=dict(color=\"navy\", width=2)))\n",
    "\n",
    "fig.update_layout(\n",
    "    title_text=\"CFS for {}<br>Coordinates: {}, {}\".format(site_name.title(), lat, lon),\n",
    "    font=dict(family='Courier New, monospace', size=12, color='#7f7f7f'),\n",
    "    yaxis_title=\"Cubic Feet per Second (CFS)\"\n",
    ")\n",
    "fig.show()"
   ]
  },
  {
   "cell_type": "code",
   "execution_count": 27,
   "metadata": {},
   "outputs": [],
   "source": [
    "#fig.write_html(r\"Z:\\Dev\\CFS_Charts\\index.html\")"
   ]
  },
  {
   "cell_type": "code",
   "execution_count": 33,
   "metadata": {},
   "outputs": [
    {
     "data": {
      "application/vnd.plotly.v1+json": {
       "config": {
        "plotlyServerURL": "https://plot.ly"
       },
       "data": [
        {
         "lat": [
          39.65202778
         ],
         "lon": [
          -105.17325
         ],
         "marker": {
          "color": "red",
          "size": 20
         },
         "mode": "markers",
         "text": [
          "BEAR CREEK ABOVE BEAR CREEK LAKE NEAR MORRISON, CO"
         ],
         "type": "scattermapbox"
        }
       ],
       "layout": {
        "mapbox": {
         "center": {
          "lat": 39.65202778,
          "lon": -105.17325
         },
         "style": "open-street-map",
         "zoom": 13
        },
        "template": {
         "data": {
          "bar": [
           {
            "error_x": {
             "color": "#2a3f5f"
            },
            "error_y": {
             "color": "#2a3f5f"
            },
            "marker": {
             "line": {
              "color": "#E5ECF6",
              "width": 0.5
             }
            },
            "type": "bar"
           }
          ],
          "barpolar": [
           {
            "marker": {
             "line": {
              "color": "#E5ECF6",
              "width": 0.5
             }
            },
            "type": "barpolar"
           }
          ],
          "carpet": [
           {
            "aaxis": {
             "endlinecolor": "#2a3f5f",
             "gridcolor": "white",
             "linecolor": "white",
             "minorgridcolor": "white",
             "startlinecolor": "#2a3f5f"
            },
            "baxis": {
             "endlinecolor": "#2a3f5f",
             "gridcolor": "white",
             "linecolor": "white",
             "minorgridcolor": "white",
             "startlinecolor": "#2a3f5f"
            },
            "type": "carpet"
           }
          ],
          "choropleth": [
           {
            "colorbar": {
             "outlinewidth": 0,
             "ticks": ""
            },
            "type": "choropleth"
           }
          ],
          "contour": [
           {
            "colorbar": {
             "outlinewidth": 0,
             "ticks": ""
            },
            "colorscale": [
             [
              0,
              "#0d0887"
             ],
             [
              0.1111111111111111,
              "#46039f"
             ],
             [
              0.2222222222222222,
              "#7201a8"
             ],
             [
              0.3333333333333333,
              "#9c179e"
             ],
             [
              0.4444444444444444,
              "#bd3786"
             ],
             [
              0.5555555555555556,
              "#d8576b"
             ],
             [
              0.6666666666666666,
              "#ed7953"
             ],
             [
              0.7777777777777778,
              "#fb9f3a"
             ],
             [
              0.8888888888888888,
              "#fdca26"
             ],
             [
              1,
              "#f0f921"
             ]
            ],
            "type": "contour"
           }
          ],
          "contourcarpet": [
           {
            "colorbar": {
             "outlinewidth": 0,
             "ticks": ""
            },
            "type": "contourcarpet"
           }
          ],
          "heatmap": [
           {
            "colorbar": {
             "outlinewidth": 0,
             "ticks": ""
            },
            "colorscale": [
             [
              0,
              "#0d0887"
             ],
             [
              0.1111111111111111,
              "#46039f"
             ],
             [
              0.2222222222222222,
              "#7201a8"
             ],
             [
              0.3333333333333333,
              "#9c179e"
             ],
             [
              0.4444444444444444,
              "#bd3786"
             ],
             [
              0.5555555555555556,
              "#d8576b"
             ],
             [
              0.6666666666666666,
              "#ed7953"
             ],
             [
              0.7777777777777778,
              "#fb9f3a"
             ],
             [
              0.8888888888888888,
              "#fdca26"
             ],
             [
              1,
              "#f0f921"
             ]
            ],
            "type": "heatmap"
           }
          ],
          "heatmapgl": [
           {
            "colorbar": {
             "outlinewidth": 0,
             "ticks": ""
            },
            "colorscale": [
             [
              0,
              "#0d0887"
             ],
             [
              0.1111111111111111,
              "#46039f"
             ],
             [
              0.2222222222222222,
              "#7201a8"
             ],
             [
              0.3333333333333333,
              "#9c179e"
             ],
             [
              0.4444444444444444,
              "#bd3786"
             ],
             [
              0.5555555555555556,
              "#d8576b"
             ],
             [
              0.6666666666666666,
              "#ed7953"
             ],
             [
              0.7777777777777778,
              "#fb9f3a"
             ],
             [
              0.8888888888888888,
              "#fdca26"
             ],
             [
              1,
              "#f0f921"
             ]
            ],
            "type": "heatmapgl"
           }
          ],
          "histogram": [
           {
            "marker": {
             "colorbar": {
              "outlinewidth": 0,
              "ticks": ""
             }
            },
            "type": "histogram"
           }
          ],
          "histogram2d": [
           {
            "colorbar": {
             "outlinewidth": 0,
             "ticks": ""
            },
            "colorscale": [
             [
              0,
              "#0d0887"
             ],
             [
              0.1111111111111111,
              "#46039f"
             ],
             [
              0.2222222222222222,
              "#7201a8"
             ],
             [
              0.3333333333333333,
              "#9c179e"
             ],
             [
              0.4444444444444444,
              "#bd3786"
             ],
             [
              0.5555555555555556,
              "#d8576b"
             ],
             [
              0.6666666666666666,
              "#ed7953"
             ],
             [
              0.7777777777777778,
              "#fb9f3a"
             ],
             [
              0.8888888888888888,
              "#fdca26"
             ],
             [
              1,
              "#f0f921"
             ]
            ],
            "type": "histogram2d"
           }
          ],
          "histogram2dcontour": [
           {
            "colorbar": {
             "outlinewidth": 0,
             "ticks": ""
            },
            "colorscale": [
             [
              0,
              "#0d0887"
             ],
             [
              0.1111111111111111,
              "#46039f"
             ],
             [
              0.2222222222222222,
              "#7201a8"
             ],
             [
              0.3333333333333333,
              "#9c179e"
             ],
             [
              0.4444444444444444,
              "#bd3786"
             ],
             [
              0.5555555555555556,
              "#d8576b"
             ],
             [
              0.6666666666666666,
              "#ed7953"
             ],
             [
              0.7777777777777778,
              "#fb9f3a"
             ],
             [
              0.8888888888888888,
              "#fdca26"
             ],
             [
              1,
              "#f0f921"
             ]
            ],
            "type": "histogram2dcontour"
           }
          ],
          "mesh3d": [
           {
            "colorbar": {
             "outlinewidth": 0,
             "ticks": ""
            },
            "type": "mesh3d"
           }
          ],
          "parcoords": [
           {
            "line": {
             "colorbar": {
              "outlinewidth": 0,
              "ticks": ""
             }
            },
            "type": "parcoords"
           }
          ],
          "pie": [
           {
            "automargin": true,
            "type": "pie"
           }
          ],
          "scatter": [
           {
            "marker": {
             "colorbar": {
              "outlinewidth": 0,
              "ticks": ""
             }
            },
            "type": "scatter"
           }
          ],
          "scatter3d": [
           {
            "line": {
             "colorbar": {
              "outlinewidth": 0,
              "ticks": ""
             }
            },
            "marker": {
             "colorbar": {
              "outlinewidth": 0,
              "ticks": ""
             }
            },
            "type": "scatter3d"
           }
          ],
          "scattercarpet": [
           {
            "marker": {
             "colorbar": {
              "outlinewidth": 0,
              "ticks": ""
             }
            },
            "type": "scattercarpet"
           }
          ],
          "scattergeo": [
           {
            "marker": {
             "colorbar": {
              "outlinewidth": 0,
              "ticks": ""
             }
            },
            "type": "scattergeo"
           }
          ],
          "scattergl": [
           {
            "marker": {
             "colorbar": {
              "outlinewidth": 0,
              "ticks": ""
             }
            },
            "type": "scattergl"
           }
          ],
          "scattermapbox": [
           {
            "marker": {
             "colorbar": {
              "outlinewidth": 0,
              "ticks": ""
             }
            },
            "type": "scattermapbox"
           }
          ],
          "scatterpolar": [
           {
            "marker": {
             "colorbar": {
              "outlinewidth": 0,
              "ticks": ""
             }
            },
            "type": "scatterpolar"
           }
          ],
          "scatterpolargl": [
           {
            "marker": {
             "colorbar": {
              "outlinewidth": 0,
              "ticks": ""
             }
            },
            "type": "scatterpolargl"
           }
          ],
          "scatterternary": [
           {
            "marker": {
             "colorbar": {
              "outlinewidth": 0,
              "ticks": ""
             }
            },
            "type": "scatterternary"
           }
          ],
          "surface": [
           {
            "colorbar": {
             "outlinewidth": 0,
             "ticks": ""
            },
            "colorscale": [
             [
              0,
              "#0d0887"
             ],
             [
              0.1111111111111111,
              "#46039f"
             ],
             [
              0.2222222222222222,
              "#7201a8"
             ],
             [
              0.3333333333333333,
              "#9c179e"
             ],
             [
              0.4444444444444444,
              "#bd3786"
             ],
             [
              0.5555555555555556,
              "#d8576b"
             ],
             [
              0.6666666666666666,
              "#ed7953"
             ],
             [
              0.7777777777777778,
              "#fb9f3a"
             ],
             [
              0.8888888888888888,
              "#fdca26"
             ],
             [
              1,
              "#f0f921"
             ]
            ],
            "type": "surface"
           }
          ],
          "table": [
           {
            "cells": {
             "fill": {
              "color": "#EBF0F8"
             },
             "line": {
              "color": "white"
             }
            },
            "header": {
             "fill": {
              "color": "#C8D4E3"
             },
             "line": {
              "color": "white"
             }
            },
            "type": "table"
           }
          ]
         },
         "layout": {
          "annotationdefaults": {
           "arrowcolor": "#2a3f5f",
           "arrowhead": 0,
           "arrowwidth": 1
          },
          "coloraxis": {
           "colorbar": {
            "outlinewidth": 0,
            "ticks": ""
           }
          },
          "colorscale": {
           "diverging": [
            [
             0,
             "#8e0152"
            ],
            [
             0.1,
             "#c51b7d"
            ],
            [
             0.2,
             "#de77ae"
            ],
            [
             0.3,
             "#f1b6da"
            ],
            [
             0.4,
             "#fde0ef"
            ],
            [
             0.5,
             "#f7f7f7"
            ],
            [
             0.6,
             "#e6f5d0"
            ],
            [
             0.7,
             "#b8e186"
            ],
            [
             0.8,
             "#7fbc41"
            ],
            [
             0.9,
             "#4d9221"
            ],
            [
             1,
             "#276419"
            ]
           ],
           "sequential": [
            [
             0,
             "#0d0887"
            ],
            [
             0.1111111111111111,
             "#46039f"
            ],
            [
             0.2222222222222222,
             "#7201a8"
            ],
            [
             0.3333333333333333,
             "#9c179e"
            ],
            [
             0.4444444444444444,
             "#bd3786"
            ],
            [
             0.5555555555555556,
             "#d8576b"
            ],
            [
             0.6666666666666666,
             "#ed7953"
            ],
            [
             0.7777777777777778,
             "#fb9f3a"
            ],
            [
             0.8888888888888888,
             "#fdca26"
            ],
            [
             1,
             "#f0f921"
            ]
           ],
           "sequentialminus": [
            [
             0,
             "#0d0887"
            ],
            [
             0.1111111111111111,
             "#46039f"
            ],
            [
             0.2222222222222222,
             "#7201a8"
            ],
            [
             0.3333333333333333,
             "#9c179e"
            ],
            [
             0.4444444444444444,
             "#bd3786"
            ],
            [
             0.5555555555555556,
             "#d8576b"
            ],
            [
             0.6666666666666666,
             "#ed7953"
            ],
            [
             0.7777777777777778,
             "#fb9f3a"
            ],
            [
             0.8888888888888888,
             "#fdca26"
            ],
            [
             1,
             "#f0f921"
            ]
           ]
          },
          "colorway": [
           "#636efa",
           "#EF553B",
           "#00cc96",
           "#ab63fa",
           "#FFA15A",
           "#19d3f3",
           "#FF6692",
           "#B6E880",
           "#FF97FF",
           "#FECB52"
          ],
          "font": {
           "color": "#2a3f5f"
          },
          "geo": {
           "bgcolor": "white",
           "lakecolor": "white",
           "landcolor": "#E5ECF6",
           "showlakes": true,
           "showland": true,
           "subunitcolor": "white"
          },
          "hoverlabel": {
           "align": "left"
          },
          "hovermode": "closest",
          "mapbox": {
           "style": "light"
          },
          "paper_bgcolor": "white",
          "plot_bgcolor": "#E5ECF6",
          "polar": {
           "angularaxis": {
            "gridcolor": "white",
            "linecolor": "white",
            "ticks": ""
           },
           "bgcolor": "#E5ECF6",
           "radialaxis": {
            "gridcolor": "white",
            "linecolor": "white",
            "ticks": ""
           }
          },
          "scene": {
           "xaxis": {
            "backgroundcolor": "#E5ECF6",
            "gridcolor": "white",
            "gridwidth": 2,
            "linecolor": "white",
            "showbackground": true,
            "ticks": "",
            "zerolinecolor": "white"
           },
           "yaxis": {
            "backgroundcolor": "#E5ECF6",
            "gridcolor": "white",
            "gridwidth": 2,
            "linecolor": "white",
            "showbackground": true,
            "ticks": "",
            "zerolinecolor": "white"
           },
           "zaxis": {
            "backgroundcolor": "#E5ECF6",
            "gridcolor": "white",
            "gridwidth": 2,
            "linecolor": "white",
            "showbackground": true,
            "ticks": "",
            "zerolinecolor": "white"
           }
          },
          "shapedefaults": {
           "line": {
            "color": "#2a3f5f"
           }
          },
          "ternary": {
           "aaxis": {
            "gridcolor": "white",
            "linecolor": "white",
            "ticks": ""
           },
           "baxis": {
            "gridcolor": "white",
            "linecolor": "white",
            "ticks": ""
           },
           "bgcolor": "#E5ECF6",
           "caxis": {
            "gridcolor": "white",
            "linecolor": "white",
            "ticks": ""
           }
          },
          "title": {
           "x": 0.05
          },
          "xaxis": {
           "automargin": true,
           "gridcolor": "white",
           "linecolor": "white",
           "ticks": "",
           "title": {
            "standoff": 15
           },
           "zerolinecolor": "white",
           "zerolinewidth": 2
          },
          "yaxis": {
           "automargin": true,
           "gridcolor": "white",
           "linecolor": "white",
           "ticks": "",
           "title": {
            "standoff": 15
           },
           "zerolinecolor": "white",
           "zerolinewidth": 2
          }
         }
        }
       }
      },
      "text/html": [
       "<div>\n",
       "        \n",
       "        \n",
       "            <div id=\"999577c8-85cf-4061-80ea-a34f49e28d44\" class=\"plotly-graph-div\" style=\"height:525px; width:100%;\"></div>\n",
       "            <script type=\"text/javascript\">\n",
       "                require([\"plotly\"], function(Plotly) {\n",
       "                    window.PLOTLYENV=window.PLOTLYENV || {};\n",
       "                    \n",
       "                if (document.getElementById(\"999577c8-85cf-4061-80ea-a34f49e28d44\")) {\n",
       "                    Plotly.newPlot(\n",
       "                        '999577c8-85cf-4061-80ea-a34f49e28d44',\n",
       "                        [{\"lat\": [39.65202778], \"lon\": [-105.17325], \"marker\": {\"color\": \"red\", \"size\": 20}, \"mode\": \"markers\", \"text\": [\"BEAR CREEK ABOVE BEAR CREEK LAKE NEAR MORRISON, CO\"], \"type\": \"scattermapbox\"}],\n",
       "                        {\"mapbox\": {\"center\": {\"lat\": 39.65202778, \"lon\": -105.17325}, \"style\": \"open-street-map\", \"zoom\": 13}, \"template\": {\"data\": {\"bar\": [{\"error_x\": {\"color\": \"#2a3f5f\"}, \"error_y\": {\"color\": \"#2a3f5f\"}, \"marker\": {\"line\": {\"color\": \"#E5ECF6\", \"width\": 0.5}}, \"type\": \"bar\"}], \"barpolar\": [{\"marker\": {\"line\": {\"color\": \"#E5ECF6\", \"width\": 0.5}}, \"type\": \"barpolar\"}], \"carpet\": [{\"aaxis\": {\"endlinecolor\": \"#2a3f5f\", \"gridcolor\": \"white\", \"linecolor\": \"white\", \"minorgridcolor\": \"white\", \"startlinecolor\": \"#2a3f5f\"}, \"baxis\": {\"endlinecolor\": \"#2a3f5f\", \"gridcolor\": \"white\", \"linecolor\": \"white\", \"minorgridcolor\": \"white\", \"startlinecolor\": \"#2a3f5f\"}, \"type\": \"carpet\"}], \"choropleth\": [{\"colorbar\": {\"outlinewidth\": 0, \"ticks\": \"\"}, \"type\": \"choropleth\"}], \"contour\": [{\"colorbar\": {\"outlinewidth\": 0, \"ticks\": \"\"}, \"colorscale\": [[0.0, \"#0d0887\"], [0.1111111111111111, \"#46039f\"], [0.2222222222222222, \"#7201a8\"], [0.3333333333333333, \"#9c179e\"], [0.4444444444444444, \"#bd3786\"], [0.5555555555555556, \"#d8576b\"], [0.6666666666666666, \"#ed7953\"], [0.7777777777777778, \"#fb9f3a\"], [0.8888888888888888, \"#fdca26\"], [1.0, \"#f0f921\"]], \"type\": \"contour\"}], \"contourcarpet\": [{\"colorbar\": {\"outlinewidth\": 0, \"ticks\": \"\"}, \"type\": \"contourcarpet\"}], \"heatmap\": [{\"colorbar\": {\"outlinewidth\": 0, \"ticks\": \"\"}, \"colorscale\": [[0.0, \"#0d0887\"], [0.1111111111111111, \"#46039f\"], [0.2222222222222222, \"#7201a8\"], [0.3333333333333333, \"#9c179e\"], [0.4444444444444444, \"#bd3786\"], [0.5555555555555556, \"#d8576b\"], [0.6666666666666666, \"#ed7953\"], [0.7777777777777778, \"#fb9f3a\"], [0.8888888888888888, \"#fdca26\"], [1.0, \"#f0f921\"]], \"type\": \"heatmap\"}], \"heatmapgl\": [{\"colorbar\": {\"outlinewidth\": 0, \"ticks\": \"\"}, \"colorscale\": [[0.0, \"#0d0887\"], [0.1111111111111111, \"#46039f\"], [0.2222222222222222, \"#7201a8\"], [0.3333333333333333, \"#9c179e\"], [0.4444444444444444, \"#bd3786\"], [0.5555555555555556, \"#d8576b\"], [0.6666666666666666, \"#ed7953\"], [0.7777777777777778, \"#fb9f3a\"], [0.8888888888888888, \"#fdca26\"], [1.0, \"#f0f921\"]], \"type\": \"heatmapgl\"}], \"histogram\": [{\"marker\": {\"colorbar\": {\"outlinewidth\": 0, \"ticks\": \"\"}}, \"type\": \"histogram\"}], \"histogram2d\": [{\"colorbar\": {\"outlinewidth\": 0, \"ticks\": \"\"}, \"colorscale\": [[0.0, \"#0d0887\"], [0.1111111111111111, \"#46039f\"], [0.2222222222222222, \"#7201a8\"], [0.3333333333333333, \"#9c179e\"], [0.4444444444444444, \"#bd3786\"], [0.5555555555555556, \"#d8576b\"], [0.6666666666666666, \"#ed7953\"], [0.7777777777777778, \"#fb9f3a\"], [0.8888888888888888, \"#fdca26\"], [1.0, \"#f0f921\"]], \"type\": \"histogram2d\"}], \"histogram2dcontour\": [{\"colorbar\": {\"outlinewidth\": 0, \"ticks\": \"\"}, \"colorscale\": [[0.0, \"#0d0887\"], [0.1111111111111111, \"#46039f\"], [0.2222222222222222, \"#7201a8\"], [0.3333333333333333, \"#9c179e\"], [0.4444444444444444, \"#bd3786\"], [0.5555555555555556, \"#d8576b\"], [0.6666666666666666, \"#ed7953\"], [0.7777777777777778, \"#fb9f3a\"], [0.8888888888888888, \"#fdca26\"], [1.0, \"#f0f921\"]], \"type\": \"histogram2dcontour\"}], \"mesh3d\": [{\"colorbar\": {\"outlinewidth\": 0, \"ticks\": \"\"}, \"type\": \"mesh3d\"}], \"parcoords\": [{\"line\": {\"colorbar\": {\"outlinewidth\": 0, \"ticks\": \"\"}}, \"type\": \"parcoords\"}], \"pie\": [{\"automargin\": true, \"type\": \"pie\"}], \"scatter\": [{\"marker\": {\"colorbar\": {\"outlinewidth\": 0, \"ticks\": \"\"}}, \"type\": \"scatter\"}], \"scatter3d\": [{\"line\": {\"colorbar\": {\"outlinewidth\": 0, \"ticks\": \"\"}}, \"marker\": {\"colorbar\": {\"outlinewidth\": 0, \"ticks\": \"\"}}, \"type\": \"scatter3d\"}], \"scattercarpet\": [{\"marker\": {\"colorbar\": {\"outlinewidth\": 0, \"ticks\": \"\"}}, \"type\": \"scattercarpet\"}], \"scattergeo\": [{\"marker\": {\"colorbar\": {\"outlinewidth\": 0, \"ticks\": \"\"}}, \"type\": \"scattergeo\"}], \"scattergl\": [{\"marker\": {\"colorbar\": {\"outlinewidth\": 0, \"ticks\": \"\"}}, \"type\": \"scattergl\"}], \"scattermapbox\": [{\"marker\": {\"colorbar\": {\"outlinewidth\": 0, \"ticks\": \"\"}}, \"type\": \"scattermapbox\"}], \"scatterpolar\": [{\"marker\": {\"colorbar\": {\"outlinewidth\": 0, \"ticks\": \"\"}}, \"type\": \"scatterpolar\"}], \"scatterpolargl\": [{\"marker\": {\"colorbar\": {\"outlinewidth\": 0, \"ticks\": \"\"}}, \"type\": \"scatterpolargl\"}], \"scatterternary\": [{\"marker\": {\"colorbar\": {\"outlinewidth\": 0, \"ticks\": \"\"}}, \"type\": \"scatterternary\"}], \"surface\": [{\"colorbar\": {\"outlinewidth\": 0, \"ticks\": \"\"}, \"colorscale\": [[0.0, \"#0d0887\"], [0.1111111111111111, \"#46039f\"], [0.2222222222222222, \"#7201a8\"], [0.3333333333333333, \"#9c179e\"], [0.4444444444444444, \"#bd3786\"], [0.5555555555555556, \"#d8576b\"], [0.6666666666666666, \"#ed7953\"], [0.7777777777777778, \"#fb9f3a\"], [0.8888888888888888, \"#fdca26\"], [1.0, \"#f0f921\"]], \"type\": \"surface\"}], \"table\": [{\"cells\": {\"fill\": {\"color\": \"#EBF0F8\"}, \"line\": {\"color\": \"white\"}}, \"header\": {\"fill\": {\"color\": \"#C8D4E3\"}, \"line\": {\"color\": \"white\"}}, \"type\": \"table\"}]}, \"layout\": {\"annotationdefaults\": {\"arrowcolor\": \"#2a3f5f\", \"arrowhead\": 0, \"arrowwidth\": 1}, \"coloraxis\": {\"colorbar\": {\"outlinewidth\": 0, \"ticks\": \"\"}}, \"colorscale\": {\"diverging\": [[0, \"#8e0152\"], [0.1, \"#c51b7d\"], [0.2, \"#de77ae\"], [0.3, \"#f1b6da\"], [0.4, \"#fde0ef\"], [0.5, \"#f7f7f7\"], [0.6, \"#e6f5d0\"], [0.7, \"#b8e186\"], [0.8, \"#7fbc41\"], [0.9, \"#4d9221\"], [1, \"#276419\"]], \"sequential\": [[0.0, \"#0d0887\"], [0.1111111111111111, \"#46039f\"], [0.2222222222222222, \"#7201a8\"], [0.3333333333333333, \"#9c179e\"], [0.4444444444444444, \"#bd3786\"], [0.5555555555555556, \"#d8576b\"], [0.6666666666666666, \"#ed7953\"], [0.7777777777777778, \"#fb9f3a\"], [0.8888888888888888, \"#fdca26\"], [1.0, \"#f0f921\"]], \"sequentialminus\": [[0.0, \"#0d0887\"], [0.1111111111111111, \"#46039f\"], [0.2222222222222222, \"#7201a8\"], [0.3333333333333333, \"#9c179e\"], [0.4444444444444444, \"#bd3786\"], [0.5555555555555556, \"#d8576b\"], [0.6666666666666666, \"#ed7953\"], [0.7777777777777778, \"#fb9f3a\"], [0.8888888888888888, \"#fdca26\"], [1.0, \"#f0f921\"]]}, \"colorway\": [\"#636efa\", \"#EF553B\", \"#00cc96\", \"#ab63fa\", \"#FFA15A\", \"#19d3f3\", \"#FF6692\", \"#B6E880\", \"#FF97FF\", \"#FECB52\"], \"font\": {\"color\": \"#2a3f5f\"}, \"geo\": {\"bgcolor\": \"white\", \"lakecolor\": \"white\", \"landcolor\": \"#E5ECF6\", \"showlakes\": true, \"showland\": true, \"subunitcolor\": \"white\"}, \"hoverlabel\": {\"align\": \"left\"}, \"hovermode\": \"closest\", \"mapbox\": {\"style\": \"light\"}, \"paper_bgcolor\": \"white\", \"plot_bgcolor\": \"#E5ECF6\", \"polar\": {\"angularaxis\": {\"gridcolor\": \"white\", \"linecolor\": \"white\", \"ticks\": \"\"}, \"bgcolor\": \"#E5ECF6\", \"radialaxis\": {\"gridcolor\": \"white\", \"linecolor\": \"white\", \"ticks\": \"\"}}, \"scene\": {\"xaxis\": {\"backgroundcolor\": \"#E5ECF6\", \"gridcolor\": \"white\", \"gridwidth\": 2, \"linecolor\": \"white\", \"showbackground\": true, \"ticks\": \"\", \"zerolinecolor\": \"white\"}, \"yaxis\": {\"backgroundcolor\": \"#E5ECF6\", \"gridcolor\": \"white\", \"gridwidth\": 2, \"linecolor\": \"white\", \"showbackground\": true, \"ticks\": \"\", \"zerolinecolor\": \"white\"}, \"zaxis\": {\"backgroundcolor\": \"#E5ECF6\", \"gridcolor\": \"white\", \"gridwidth\": 2, \"linecolor\": \"white\", \"showbackground\": true, \"ticks\": \"\", \"zerolinecolor\": \"white\"}}, \"shapedefaults\": {\"line\": {\"color\": \"#2a3f5f\"}}, \"ternary\": {\"aaxis\": {\"gridcolor\": \"white\", \"linecolor\": \"white\", \"ticks\": \"\"}, \"baxis\": {\"gridcolor\": \"white\", \"linecolor\": \"white\", \"ticks\": \"\"}, \"bgcolor\": \"#E5ECF6\", \"caxis\": {\"gridcolor\": \"white\", \"linecolor\": \"white\", \"ticks\": \"\"}}, \"title\": {\"x\": 0.05}, \"xaxis\": {\"automargin\": true, \"gridcolor\": \"white\", \"linecolor\": \"white\", \"ticks\": \"\", \"title\": {\"standoff\": 15}, \"zerolinecolor\": \"white\", \"zerolinewidth\": 2}, \"yaxis\": {\"automargin\": true, \"gridcolor\": \"white\", \"linecolor\": \"white\", \"ticks\": \"\", \"title\": {\"standoff\": 15}, \"zerolinecolor\": \"white\", \"zerolinewidth\": 2}}}},\n",
       "                        {\"responsive\": true}\n",
       "                    ).then(function(){\n",
       "                            \n",
       "var gd = document.getElementById('999577c8-85cf-4061-80ea-a34f49e28d44');\n",
       "var x = new MutationObserver(function (mutations, observer) {{\n",
       "        var display = window.getComputedStyle(gd).display;\n",
       "        if (!display || display === 'none') {{\n",
       "            console.log([gd, 'removed!']);\n",
       "            Plotly.purge(gd);\n",
       "            observer.disconnect();\n",
       "        }}\n",
       "}});\n",
       "\n",
       "// Listen for the removal of the full notebook cells\n",
       "var notebookContainer = gd.closest('#notebook-container');\n",
       "if (notebookContainer) {{\n",
       "    x.observe(notebookContainer, {childList: true});\n",
       "}}\n",
       "\n",
       "// Listen for the clearing of the current output cell\n",
       "var outputEl = gd.closest('.output');\n",
       "if (outputEl) {{\n",
       "    x.observe(outputEl, {childList: true});\n",
       "}}\n",
       "\n",
       "                        })\n",
       "                };\n",
       "                });\n",
       "            </script>\n",
       "        </div>"
      ]
     },
     "metadata": {},
     "output_type": "display_data"
    }
   ],
   "source": [
    "locs = pd.DataFrame({'lat': [lat], 'lon': [lon], 'site_name': [site_name]})\n",
    "\n",
    "m_fig = go.Figure(go.Scattermapbox(\n",
    "    lat=locs[\"lat\"],\n",
    "    lon=locs[\"lon\"],\n",
    "    mode=\"markers\",\n",
    "    marker=go.scattermapbox.Marker(\n",
    "        size=20,\n",
    "        color='red'\n",
    "    ),\n",
    "    text=locs[\"site_name\"]\n",
    "))\n",
    "\n",
    "m_fig.update_layout(\n",
    "    mapbox_style=\"open-street-map\",\n",
    "    mapbox=dict(\n",
    "        center=dict(\n",
    "        lat=lat,\n",
    "        lon=lon\n",
    "        ),\n",
    "        zoom=13\n",
    "    )\n",
    "    \n",
    ")\n",
    "m_fig.show()"
   ]
  },
  {
   "cell_type": "code",
   "execution_count": 34,
   "metadata": {},
   "outputs": [
    {
     "data": {
      "application/vnd.plotly.v1+json": {
       "config": {
        "plotlyServerURL": "https://plot.ly"
       },
       "data": [
        {
         "lat": [
          39.65202778
         ],
         "lon": [
          -105.17325
         ],
         "marker": {
          "color": "red",
          "size": 20
         },
         "mode": "markers",
         "showlegend": false,
         "subplot": "mapbox",
         "text": [
          "BEAR CREEK ABOVE BEAR CREEK LAKE NEAR MORRISON, CO"
         ],
         "type": "scattermapbox"
        },
        {
         "line": {
          "color": "orange",
          "width": 2
         },
         "name": "Mean CFS for the Day<br>(Last 10 Years)",
         "type": "scatter",
         "x": [
          "April 01",
          "April 02",
          "April 03",
          "April 04",
          "April 05",
          "April 06",
          "April 07",
          "April 08",
          "April 09",
          "April 10",
          "April 11",
          "April 12",
          "April 13",
          "April 14",
          "April 15",
          "April 16",
          "April 17",
          "April 18",
          "April 19",
          "April 20",
          "April 21",
          "April 22",
          "April 23",
          "April 24",
          "April 25",
          "April 26",
          "April 27",
          "April 28",
          "April 29",
          "April 30",
          "May 01",
          "May 02",
          "May 03",
          "May 04",
          "May 05",
          "May 06",
          "May 07",
          "May 08",
          "May 09",
          "May 10",
          "May 11",
          "May 12",
          "May 13",
          "May 14",
          "May 15",
          "May 16",
          "May 17",
          "May 18",
          "May 19",
          "May 20",
          "May 21",
          "May 22",
          "May 23",
          "May 24",
          "May 25",
          "May 26",
          "May 27",
          "May 28",
          "May 29",
          "May 30",
          "May 31",
          "June 01",
          "June 02",
          "June 03",
          "June 04",
          "June 05",
          "June 06",
          "June 07",
          "June 08",
          "June 09",
          "June 10",
          "June 11",
          "June 12",
          "June 13",
          "June 14",
          "June 15",
          "June 16",
          "June 17",
          "June 18",
          "June 19",
          "June 20",
          "June 21",
          "June 22",
          "June 23",
          "June 24",
          "June 25",
          "June 26",
          "June 27",
          "June 28",
          "June 29",
          "June 30",
          "July 01",
          "July 02",
          "July 03",
          "July 04",
          "July 05",
          "July 06",
          "July 07",
          "July 08",
          "July 09",
          "July 10",
          "July 11",
          "July 12",
          "July 13",
          "July 14",
          "July 15",
          "July 16",
          "July 17",
          "July 18",
          "July 19",
          "July 20",
          "July 21",
          "July 22",
          "July 23",
          "July 24",
          "July 25",
          "July 26",
          "July 27",
          "July 28",
          "July 29",
          "July 30",
          "July 31",
          "August 01",
          "August 02",
          "August 03",
          "August 04",
          "August 05",
          "August 06",
          "August 07",
          "August 08",
          "August 09",
          "August 10",
          "August 11",
          "August 12",
          "August 13",
          "August 14",
          "August 15",
          "August 16",
          "August 17",
          "August 18",
          "August 19",
          "August 20",
          "August 21",
          "August 22",
          "August 23",
          "August 24",
          "August 25",
          "August 26",
          "August 27",
          "August 28",
          "August 29",
          "August 30",
          "August 31",
          "September 01",
          "September 02",
          "September 03",
          "September 04",
          "September 05",
          "September 06",
          "September 07",
          "September 08",
          "September 09",
          "September 10",
          "September 11",
          "September 12",
          "September 13",
          "September 14",
          "September 15",
          "September 16",
          "September 17",
          "September 18",
          "September 19",
          "September 20",
          "September 21",
          "September 22",
          "September 23",
          "September 24",
          "September 25",
          "September 26",
          "September 27",
          "September 28",
          "September 29",
          "September 30"
         ],
         "xaxis": "x",
         "y": [
          11.555555555555555,
          11.333333333333334,
          14,
          13.88888888888889,
          14.88888888888889,
          14.88888888888889,
          15.555555555555555,
          16.333333333333332,
          17.333333333333332,
          17.555555555555557,
          19.333333333333332,
          18.444444444444443,
          18.88888888888889,
          18.22222222222222,
          20.88888888888889,
          24.77777777777778,
          25.444444444444443,
          27,
          30.11111111111111,
          32.55555555555556,
          38,
          46.55555555555556,
          55.666666666666664,
          59,
          54.111111111111114,
          56,
          55.333333333333336,
          52,
          55.111111111111114,
          56.77777777777778,
          61,
          63.333333333333336,
          67.88888888888889,
          75.11111111111111,
          98.33333333333333,
          105.22222222222223,
          100.22222222222223,
          105.33333333333333,
          150.33333333333334,
          149,
          144.22222222222223,
          117.88888888888889,
          102.55555555555556,
          98.33333333333333,
          101.375,
          96,
          94.625,
          99.25,
          128.625,
          124.875,
          125.125,
          128.875,
          135.75,
          133.25,
          137.125,
          128.375,
          120.375,
          115.875,
          111.75,
          109.625,
          98.875,
          97.125,
          94.75,
          96.375,
          94,
          102.125,
          116.625,
          106.75,
          99.75,
          94.75,
          92.875,
          102,
          111.25,
          104.75,
          104.5,
          93.625,
          97.125,
          89.375,
          90.5,
          80,
          82.375,
          76.5,
          74.125,
          70.375,
          63.125,
          61.625,
          57.75,
          51.75,
          46.75,
          43.375,
          43.5,
          51,
          53.75,
          47.125,
          43.125,
          47.625,
          46.25,
          49.75,
          57.625,
          55.375,
          50.625,
          47.125,
          53.875,
          61.875,
          62.125,
          55.625,
          53.375,
          51.25,
          42.625,
          40.375,
          41.25,
          43.375,
          40.875,
          35.75,
          35,
          33.375,
          38.75,
          42.875,
          34.75,
          31.75,
          36.125,
          38.125,
          32.875,
          31.125,
          33.5,
          30.5,
          31.25,
          29.875,
          27,
          28.75,
          29,
          25.125,
          25.375,
          33,
          25.375,
          24.75,
          25.625,
          23.375,
          23.625,
          19.875,
          19.375,
          19.25,
          19.25,
          18.5,
          21.125,
          18.5,
          17.125,
          19.75,
          21.625,
          20.875,
          16.75,
          17.25,
          17,
          16.875,
          15,
          14.375,
          13.375,
          18.125,
          19.125,
          16.25,
          15.75,
          18.875,
          30.125,
          62.25,
          95.25,
          194.75,
          144.375,
          157.25,
          173,
          127.5,
          106.625,
          88.25,
          83,
          69.625,
          62.125,
          54.5,
          41.25,
          32.875,
          30.625,
          32.5,
          36.625,
          39.625,
          41.285714285714285
         ],
         "yaxis": "y"
        },
        {
         "line": {
          "color": "rgb(231, 29, 53)",
          "dash": "dot",
          "width": 1
         },
         "name": "Max CFS for the Day<br>(Last 10 Years)",
         "type": "scatter",
         "x": [
          "April 01",
          "April 02",
          "April 03",
          "April 04",
          "April 05",
          "April 06",
          "April 07",
          "April 08",
          "April 09",
          "April 10",
          "April 11",
          "April 12",
          "April 13",
          "April 14",
          "April 15",
          "April 16",
          "April 17",
          "April 18",
          "April 19",
          "April 20",
          "April 21",
          "April 22",
          "April 23",
          "April 24",
          "April 25",
          "April 26",
          "April 27",
          "April 28",
          "April 29",
          "April 30",
          "May 01",
          "May 02",
          "May 03",
          "May 04",
          "May 05",
          "May 06",
          "May 07",
          "May 08",
          "May 09",
          "May 10",
          "May 11",
          "May 12",
          "May 13",
          "May 14",
          "May 15",
          "May 16",
          "May 17",
          "May 18",
          "May 19",
          "May 20",
          "May 21",
          "May 22",
          "May 23",
          "May 24",
          "May 25",
          "May 26",
          "May 27",
          "May 28",
          "May 29",
          "May 30",
          "May 31",
          "June 01",
          "June 02",
          "June 03",
          "June 04",
          "June 05",
          "June 06",
          "June 07",
          "June 08",
          "June 09",
          "June 10",
          "June 11",
          "June 12",
          "June 13",
          "June 14",
          "June 15",
          "June 16",
          "June 17",
          "June 18",
          "June 19",
          "June 20",
          "June 21",
          "June 22",
          "June 23",
          "June 24",
          "June 25",
          "June 26",
          "June 27",
          "June 28",
          "June 29",
          "June 30",
          "July 01",
          "July 02",
          "July 03",
          "July 04",
          "July 05",
          "July 06",
          "July 07",
          "July 08",
          "July 09",
          "July 10",
          "July 11",
          "July 12",
          "July 13",
          "July 14",
          "July 15",
          "July 16",
          "July 17",
          "July 18",
          "July 19",
          "July 20",
          "July 21",
          "July 22",
          "July 23",
          "July 24",
          "July 25",
          "July 26",
          "July 27",
          "July 28",
          "July 29",
          "July 30",
          "July 31",
          "August 01",
          "August 02",
          "August 03",
          "August 04",
          "August 05",
          "August 06",
          "August 07",
          "August 08",
          "August 09",
          "August 10",
          "August 11",
          "August 12",
          "August 13",
          "August 14",
          "August 15",
          "August 16",
          "August 17",
          "August 18",
          "August 19",
          "August 20",
          "August 21",
          "August 22",
          "August 23",
          "August 24",
          "August 25",
          "August 26",
          "August 27",
          "August 28",
          "August 29",
          "August 30",
          "August 31",
          "September 01",
          "September 02",
          "September 03",
          "September 04",
          "September 05",
          "September 06",
          "September 07",
          "September 08",
          "September 09",
          "September 10",
          "September 11",
          "September 12",
          "September 13",
          "September 14",
          "September 15",
          "September 16",
          "September 17",
          "September 18",
          "September 19",
          "September 20",
          "September 21",
          "September 22",
          "September 23",
          "September 24",
          "September 25",
          "September 26",
          "September 27",
          "September 28",
          "September 29",
          "September 30"
         ],
         "xaxis": "x",
         "y": [
          47,
          54,
          64,
          65,
          66,
          58,
          61,
          63,
          63,
          64,
          78,
          73,
          70,
          68,
          76,
          94,
          86,
          88,
          90,
          100,
          139,
          199,
          243,
          259,
          231,
          214,
          186,
          167,
          173,
          196,
          234,
          255,
          245,
          334,
          529,
          581,
          513,
          543,
          915,
          917,
          808,
          616,
          503,
          427,
          350,
          311,
          294,
          284,
          546,
          528,
          511,
          538,
          557,
          542,
          516,
          476,
          403,
          372,
          334,
          323,
          280,
          281,
          269,
          283,
          287,
          333,
          418,
          353,
          318,
          304,
          333,
          435,
          512,
          448,
          460,
          411,
          456,
          391,
          361,
          324,
          289,
          259,
          242,
          219,
          214,
          229,
          222,
          198,
          169,
          157,
          145,
          150,
          170,
          140,
          127,
          154,
          153,
          203,
          228,
          241,
          221,
          187,
          171,
          185,
          188,
          169,
          156,
          141,
          133,
          132,
          130,
          153,
          148,
          127,
          122,
          127,
          118,
          112,
          92,
          85,
          87,
          113,
          88,
          80,
          82,
          73,
          67,
          66,
          55,
          57,
          52,
          52,
          58,
          89,
          52,
          57,
          60,
          57,
          66,
          53,
          45,
          43,
          45,
          34,
          38,
          35,
          25,
          48,
          60,
          52,
          36,
          34,
          41,
          35,
          37,
          37,
          33,
          47,
          47,
          35,
          26,
          57,
          152,
          420,
          679,
          1480,
          1080,
          1170,
          1310,
          949,
          786,
          651,
          611,
          502,
          415,
          364,
          254,
          199,
          181,
          180,
          206,
          217,
          189
         ],
         "yaxis": "y"
        },
        {
         "line": {
          "color": "rgb(30, 100, 46)",
          "dash": "dot",
          "width": 1
         },
         "name": "Min CFS for the Day<br>(Last 10 Years)",
         "type": "scatter",
         "x": [
          "April 01",
          "April 02",
          "April 03",
          "April 04",
          "April 05",
          "April 06",
          "April 07",
          "April 08",
          "April 09",
          "April 10",
          "April 11",
          "April 12",
          "April 13",
          "April 14",
          "April 15",
          "April 16",
          "April 17",
          "April 18",
          "April 19",
          "April 20",
          "April 21",
          "April 22",
          "April 23",
          "April 24",
          "April 25",
          "April 26",
          "April 27",
          "April 28",
          "April 29",
          "April 30",
          "May 01",
          "May 02",
          "May 03",
          "May 04",
          "May 05",
          "May 06",
          "May 07",
          "May 08",
          "May 09",
          "May 10",
          "May 11",
          "May 12",
          "May 13",
          "May 14",
          "May 15",
          "May 16",
          "May 17",
          "May 18",
          "May 19",
          "May 20",
          "May 21",
          "May 22",
          "May 23",
          "May 24",
          "May 25",
          "May 26",
          "May 27",
          "May 28",
          "May 29",
          "May 30",
          "May 31",
          "June 01",
          "June 02",
          "June 03",
          "June 04",
          "June 05",
          "June 06",
          "June 07",
          "June 08",
          "June 09",
          "June 10",
          "June 11",
          "June 12",
          "June 13",
          "June 14",
          "June 15",
          "June 16",
          "June 17",
          "June 18",
          "June 19",
          "June 20",
          "June 21",
          "June 22",
          "June 23",
          "June 24",
          "June 25",
          "June 26",
          "June 27",
          "June 28",
          "June 29",
          "June 30",
          "July 01",
          "July 02",
          "July 03",
          "July 04",
          "July 05",
          "July 06",
          "July 07",
          "July 08",
          "July 09",
          "July 10",
          "July 11",
          "July 12",
          "July 13",
          "July 14",
          "July 15",
          "July 16",
          "July 17",
          "July 18",
          "July 19",
          "July 20",
          "July 21",
          "July 22",
          "July 23",
          "July 24",
          "July 25",
          "July 26",
          "July 27",
          "July 28",
          "July 29",
          "July 30",
          "July 31",
          "August 01",
          "August 02",
          "August 03",
          "August 04",
          "August 05",
          "August 06",
          "August 07",
          "August 08",
          "August 09",
          "August 10",
          "August 11",
          "August 12",
          "August 13",
          "August 14",
          "August 15",
          "August 16",
          "August 17",
          "August 18",
          "August 19",
          "August 20",
          "August 21",
          "August 22",
          "August 23",
          "August 24",
          "August 25",
          "August 26",
          "August 27",
          "August 28",
          "August 29",
          "August 30",
          "August 31",
          "September 01",
          "September 02",
          "September 03",
          "September 04",
          "September 05",
          "September 06",
          "September 07",
          "September 08",
          "September 09",
          "September 10",
          "September 11",
          "September 12",
          "September 13",
          "September 14",
          "September 15",
          "September 16",
          "September 17",
          "September 18",
          "September 19",
          "September 20",
          "September 21",
          "September 22",
          "September 23",
          "September 24",
          "September 25",
          "September 26",
          "September 27",
          "September 28",
          "September 29",
          "September 30"
         ],
         "xaxis": "x",
         "y": [
          1,
          1,
          2,
          2,
          4,
          3,
          2,
          2,
          3,
          2,
          3,
          3,
          2,
          4,
          4,
          5,
          7,
          5,
          4,
          6,
          5,
          5,
          3,
          5,
          5,
          5,
          5,
          5,
          7,
          3,
          8,
          7,
          5,
          5,
          5,
          5,
          4,
          6,
          8,
          9,
          23,
          13,
          9,
          18,
          21,
          14,
          18,
          26,
          28,
          28,
          21,
          17,
          14,
          8,
          18,
          18,
          17,
          19,
          28,
          21,
          19,
          18,
          15,
          16,
          15,
          13,
          13,
          12,
          10,
          9,
          9,
          7,
          6,
          6,
          6,
          5,
          5,
          14,
          13,
          12,
          10,
          11,
          11,
          10,
          10,
          10,
          7,
          6,
          5,
          4,
          3,
          4,
          4,
          2,
          2,
          3,
          4,
          3,
          2,
          2,
          2,
          3,
          2,
          3,
          4,
          3,
          12,
          8,
          5,
          2,
          1,
          2,
          3,
          6,
          6,
          7,
          10,
          8,
          6,
          8,
          7,
          6,
          3,
          4,
          4,
          4,
          3,
          3,
          2,
          3,
          2,
          2,
          2,
          2,
          2,
          1,
          5,
          5,
          2,
          1,
          2,
          1,
          2,
          6,
          5,
          2,
          2,
          1,
          1,
          1,
          2,
          3,
          2,
          2,
          1,
          3,
          2,
          7,
          7,
          9,
          7,
          7,
          8,
          5,
          6,
          3,
          3,
          3,
          3,
          3,
          3,
          3,
          3,
          3,
          3,
          3,
          2,
          2,
          4,
          3,
          3,
          3,
          2
         ],
         "yaxis": "y"
        },
        {
         "line": {
          "color": "navy",
          "width": 2
         },
         "name": "Mean CFS for the Day<br>(2020)",
         "type": "scatter",
         "x": [
          "April 01",
          "April 02",
          "April 03",
          "April 04",
          "April 05",
          "April 06",
          "April 07",
          "April 08",
          "April 09",
          "April 10",
          "April 11",
          "April 12",
          "April 13",
          "April 14",
          "April 15",
          "April 16",
          "April 17",
          "April 18",
          "April 19",
          "April 20",
          "April 21",
          "April 22",
          "April 23",
          "April 24",
          "April 25",
          "April 26",
          "April 27",
          "April 28",
          "April 29",
          "April 30",
          "May 01",
          "May 02",
          "May 03",
          "May 04",
          "May 05",
          "May 06",
          "May 07",
          "May 08",
          "May 09",
          "May 10",
          "May 11",
          "May 12",
          "May 13"
         ],
         "xaxis": "x",
         "y": [
          5,
          5,
          3,
          3,
          11,
          18,
          17,
          17,
          18,
          19,
          21,
          25,
          23,
          19,
          23,
          31,
          24,
          34,
          34,
          30,
          27,
          25,
          21,
          20,
          21,
          20,
          23,
          29,
          30,
          33,
          32,
          38,
          42,
          42,
          36,
          28,
          27,
          26,
          26,
          24,
          25,
          25,
          22
         ],
         "yaxis": "y"
        }
       ],
       "layout": {
        "font": {
         "color": "#7f7f7f",
         "family": "Courier New, monospace",
         "size": 10
        },
        "mapbox": {
         "center": {
          "lat": 39.65202778,
          "lon": -105.17325
         },
         "domain": {
          "x": [
           0,
           0.225
          ],
          "y": [
           0,
           1
          ]
         },
         "style": "open-street-map",
         "zoom": 11
        },
        "template": {
         "data": {
          "bar": [
           {
            "error_x": {
             "color": "#2a3f5f"
            },
            "error_y": {
             "color": "#2a3f5f"
            },
            "marker": {
             "line": {
              "color": "#E5ECF6",
              "width": 0.5
             }
            },
            "type": "bar"
           }
          ],
          "barpolar": [
           {
            "marker": {
             "line": {
              "color": "#E5ECF6",
              "width": 0.5
             }
            },
            "type": "barpolar"
           }
          ],
          "carpet": [
           {
            "aaxis": {
             "endlinecolor": "#2a3f5f",
             "gridcolor": "white",
             "linecolor": "white",
             "minorgridcolor": "white",
             "startlinecolor": "#2a3f5f"
            },
            "baxis": {
             "endlinecolor": "#2a3f5f",
             "gridcolor": "white",
             "linecolor": "white",
             "minorgridcolor": "white",
             "startlinecolor": "#2a3f5f"
            },
            "type": "carpet"
           }
          ],
          "choropleth": [
           {
            "colorbar": {
             "outlinewidth": 0,
             "ticks": ""
            },
            "type": "choropleth"
           }
          ],
          "contour": [
           {
            "colorbar": {
             "outlinewidth": 0,
             "ticks": ""
            },
            "colorscale": [
             [
              0,
              "#0d0887"
             ],
             [
              0.1111111111111111,
              "#46039f"
             ],
             [
              0.2222222222222222,
              "#7201a8"
             ],
             [
              0.3333333333333333,
              "#9c179e"
             ],
             [
              0.4444444444444444,
              "#bd3786"
             ],
             [
              0.5555555555555556,
              "#d8576b"
             ],
             [
              0.6666666666666666,
              "#ed7953"
             ],
             [
              0.7777777777777778,
              "#fb9f3a"
             ],
             [
              0.8888888888888888,
              "#fdca26"
             ],
             [
              1,
              "#f0f921"
             ]
            ],
            "type": "contour"
           }
          ],
          "contourcarpet": [
           {
            "colorbar": {
             "outlinewidth": 0,
             "ticks": ""
            },
            "type": "contourcarpet"
           }
          ],
          "heatmap": [
           {
            "colorbar": {
             "outlinewidth": 0,
             "ticks": ""
            },
            "colorscale": [
             [
              0,
              "#0d0887"
             ],
             [
              0.1111111111111111,
              "#46039f"
             ],
             [
              0.2222222222222222,
              "#7201a8"
             ],
             [
              0.3333333333333333,
              "#9c179e"
             ],
             [
              0.4444444444444444,
              "#bd3786"
             ],
             [
              0.5555555555555556,
              "#d8576b"
             ],
             [
              0.6666666666666666,
              "#ed7953"
             ],
             [
              0.7777777777777778,
              "#fb9f3a"
             ],
             [
              0.8888888888888888,
              "#fdca26"
             ],
             [
              1,
              "#f0f921"
             ]
            ],
            "type": "heatmap"
           }
          ],
          "heatmapgl": [
           {
            "colorbar": {
             "outlinewidth": 0,
             "ticks": ""
            },
            "colorscale": [
             [
              0,
              "#0d0887"
             ],
             [
              0.1111111111111111,
              "#46039f"
             ],
             [
              0.2222222222222222,
              "#7201a8"
             ],
             [
              0.3333333333333333,
              "#9c179e"
             ],
             [
              0.4444444444444444,
              "#bd3786"
             ],
             [
              0.5555555555555556,
              "#d8576b"
             ],
             [
              0.6666666666666666,
              "#ed7953"
             ],
             [
              0.7777777777777778,
              "#fb9f3a"
             ],
             [
              0.8888888888888888,
              "#fdca26"
             ],
             [
              1,
              "#f0f921"
             ]
            ],
            "type": "heatmapgl"
           }
          ],
          "histogram": [
           {
            "marker": {
             "colorbar": {
              "outlinewidth": 0,
              "ticks": ""
             }
            },
            "type": "histogram"
           }
          ],
          "histogram2d": [
           {
            "colorbar": {
             "outlinewidth": 0,
             "ticks": ""
            },
            "colorscale": [
             [
              0,
              "#0d0887"
             ],
             [
              0.1111111111111111,
              "#46039f"
             ],
             [
              0.2222222222222222,
              "#7201a8"
             ],
             [
              0.3333333333333333,
              "#9c179e"
             ],
             [
              0.4444444444444444,
              "#bd3786"
             ],
             [
              0.5555555555555556,
              "#d8576b"
             ],
             [
              0.6666666666666666,
              "#ed7953"
             ],
             [
              0.7777777777777778,
              "#fb9f3a"
             ],
             [
              0.8888888888888888,
              "#fdca26"
             ],
             [
              1,
              "#f0f921"
             ]
            ],
            "type": "histogram2d"
           }
          ],
          "histogram2dcontour": [
           {
            "colorbar": {
             "outlinewidth": 0,
             "ticks": ""
            },
            "colorscale": [
             [
              0,
              "#0d0887"
             ],
             [
              0.1111111111111111,
              "#46039f"
             ],
             [
              0.2222222222222222,
              "#7201a8"
             ],
             [
              0.3333333333333333,
              "#9c179e"
             ],
             [
              0.4444444444444444,
              "#bd3786"
             ],
             [
              0.5555555555555556,
              "#d8576b"
             ],
             [
              0.6666666666666666,
              "#ed7953"
             ],
             [
              0.7777777777777778,
              "#fb9f3a"
             ],
             [
              0.8888888888888888,
              "#fdca26"
             ],
             [
              1,
              "#f0f921"
             ]
            ],
            "type": "histogram2dcontour"
           }
          ],
          "mesh3d": [
           {
            "colorbar": {
             "outlinewidth": 0,
             "ticks": ""
            },
            "type": "mesh3d"
           }
          ],
          "parcoords": [
           {
            "line": {
             "colorbar": {
              "outlinewidth": 0,
              "ticks": ""
             }
            },
            "type": "parcoords"
           }
          ],
          "pie": [
           {
            "automargin": true,
            "type": "pie"
           }
          ],
          "scatter": [
           {
            "marker": {
             "colorbar": {
              "outlinewidth": 0,
              "ticks": ""
             }
            },
            "type": "scatter"
           }
          ],
          "scatter3d": [
           {
            "line": {
             "colorbar": {
              "outlinewidth": 0,
              "ticks": ""
             }
            },
            "marker": {
             "colorbar": {
              "outlinewidth": 0,
              "ticks": ""
             }
            },
            "type": "scatter3d"
           }
          ],
          "scattercarpet": [
           {
            "marker": {
             "colorbar": {
              "outlinewidth": 0,
              "ticks": ""
             }
            },
            "type": "scattercarpet"
           }
          ],
          "scattergeo": [
           {
            "marker": {
             "colorbar": {
              "outlinewidth": 0,
              "ticks": ""
             }
            },
            "type": "scattergeo"
           }
          ],
          "scattergl": [
           {
            "marker": {
             "colorbar": {
              "outlinewidth": 0,
              "ticks": ""
             }
            },
            "type": "scattergl"
           }
          ],
          "scattermapbox": [
           {
            "marker": {
             "colorbar": {
              "outlinewidth": 0,
              "ticks": ""
             }
            },
            "type": "scattermapbox"
           }
          ],
          "scatterpolar": [
           {
            "marker": {
             "colorbar": {
              "outlinewidth": 0,
              "ticks": ""
             }
            },
            "type": "scatterpolar"
           }
          ],
          "scatterpolargl": [
           {
            "marker": {
             "colorbar": {
              "outlinewidth": 0,
              "ticks": ""
             }
            },
            "type": "scatterpolargl"
           }
          ],
          "scatterternary": [
           {
            "marker": {
             "colorbar": {
              "outlinewidth": 0,
              "ticks": ""
             }
            },
            "type": "scatterternary"
           }
          ],
          "surface": [
           {
            "colorbar": {
             "outlinewidth": 0,
             "ticks": ""
            },
            "colorscale": [
             [
              0,
              "#0d0887"
             ],
             [
              0.1111111111111111,
              "#46039f"
             ],
             [
              0.2222222222222222,
              "#7201a8"
             ],
             [
              0.3333333333333333,
              "#9c179e"
             ],
             [
              0.4444444444444444,
              "#bd3786"
             ],
             [
              0.5555555555555556,
              "#d8576b"
             ],
             [
              0.6666666666666666,
              "#ed7953"
             ],
             [
              0.7777777777777778,
              "#fb9f3a"
             ],
             [
              0.8888888888888888,
              "#fdca26"
             ],
             [
              1,
              "#f0f921"
             ]
            ],
            "type": "surface"
           }
          ],
          "table": [
           {
            "cells": {
             "fill": {
              "color": "#EBF0F8"
             },
             "line": {
              "color": "white"
             }
            },
            "header": {
             "fill": {
              "color": "#C8D4E3"
             },
             "line": {
              "color": "white"
             }
            },
            "type": "table"
           }
          ]
         },
         "layout": {
          "annotationdefaults": {
           "arrowcolor": "#2a3f5f",
           "arrowhead": 0,
           "arrowwidth": 1
          },
          "coloraxis": {
           "colorbar": {
            "outlinewidth": 0,
            "ticks": ""
           }
          },
          "colorscale": {
           "diverging": [
            [
             0,
             "#8e0152"
            ],
            [
             0.1,
             "#c51b7d"
            ],
            [
             0.2,
             "#de77ae"
            ],
            [
             0.3,
             "#f1b6da"
            ],
            [
             0.4,
             "#fde0ef"
            ],
            [
             0.5,
             "#f7f7f7"
            ],
            [
             0.6,
             "#e6f5d0"
            ],
            [
             0.7,
             "#b8e186"
            ],
            [
             0.8,
             "#7fbc41"
            ],
            [
             0.9,
             "#4d9221"
            ],
            [
             1,
             "#276419"
            ]
           ],
           "sequential": [
            [
             0,
             "#0d0887"
            ],
            [
             0.1111111111111111,
             "#46039f"
            ],
            [
             0.2222222222222222,
             "#7201a8"
            ],
            [
             0.3333333333333333,
             "#9c179e"
            ],
            [
             0.4444444444444444,
             "#bd3786"
            ],
            [
             0.5555555555555556,
             "#d8576b"
            ],
            [
             0.6666666666666666,
             "#ed7953"
            ],
            [
             0.7777777777777778,
             "#fb9f3a"
            ],
            [
             0.8888888888888888,
             "#fdca26"
            ],
            [
             1,
             "#f0f921"
            ]
           ],
           "sequentialminus": [
            [
             0,
             "#0d0887"
            ],
            [
             0.1111111111111111,
             "#46039f"
            ],
            [
             0.2222222222222222,
             "#7201a8"
            ],
            [
             0.3333333333333333,
             "#9c179e"
            ],
            [
             0.4444444444444444,
             "#bd3786"
            ],
            [
             0.5555555555555556,
             "#d8576b"
            ],
            [
             0.6666666666666666,
             "#ed7953"
            ],
            [
             0.7777777777777778,
             "#fb9f3a"
            ],
            [
             0.8888888888888888,
             "#fdca26"
            ],
            [
             1,
             "#f0f921"
            ]
           ]
          },
          "colorway": [
           "#636efa",
           "#EF553B",
           "#00cc96",
           "#ab63fa",
           "#FFA15A",
           "#19d3f3",
           "#FF6692",
           "#B6E880",
           "#FF97FF",
           "#FECB52"
          ],
          "font": {
           "color": "#2a3f5f"
          },
          "geo": {
           "bgcolor": "white",
           "lakecolor": "white",
           "landcolor": "#E5ECF6",
           "showlakes": true,
           "showland": true,
           "subunitcolor": "white"
          },
          "hoverlabel": {
           "align": "left"
          },
          "hovermode": "closest",
          "mapbox": {
           "style": "light"
          },
          "paper_bgcolor": "white",
          "plot_bgcolor": "#E5ECF6",
          "polar": {
           "angularaxis": {
            "gridcolor": "white",
            "linecolor": "white",
            "ticks": ""
           },
           "bgcolor": "#E5ECF6",
           "radialaxis": {
            "gridcolor": "white",
            "linecolor": "white",
            "ticks": ""
           }
          },
          "scene": {
           "xaxis": {
            "backgroundcolor": "#E5ECF6",
            "gridcolor": "white",
            "gridwidth": 2,
            "linecolor": "white",
            "showbackground": true,
            "ticks": "",
            "zerolinecolor": "white"
           },
           "yaxis": {
            "backgroundcolor": "#E5ECF6",
            "gridcolor": "white",
            "gridwidth": 2,
            "linecolor": "white",
            "showbackground": true,
            "ticks": "",
            "zerolinecolor": "white"
           },
           "zaxis": {
            "backgroundcolor": "#E5ECF6",
            "gridcolor": "white",
            "gridwidth": 2,
            "linecolor": "white",
            "showbackground": true,
            "ticks": "",
            "zerolinecolor": "white"
           }
          },
          "shapedefaults": {
           "line": {
            "color": "#2a3f5f"
           }
          },
          "ternary": {
           "aaxis": {
            "gridcolor": "white",
            "linecolor": "white",
            "ticks": ""
           },
           "baxis": {
            "gridcolor": "white",
            "linecolor": "white",
            "ticks": ""
           },
           "bgcolor": "#E5ECF6",
           "caxis": {
            "gridcolor": "white",
            "linecolor": "white",
            "ticks": ""
           }
          },
          "title": {
           "x": 0.05
          },
          "xaxis": {
           "automargin": true,
           "gridcolor": "white",
           "linecolor": "white",
           "ticks": "",
           "title": {
            "standoff": 15
           },
           "zerolinecolor": "white",
           "zerolinewidth": 2
          },
          "yaxis": {
           "automargin": true,
           "gridcolor": "white",
           "linecolor": "white",
           "ticks": "",
           "title": {
            "standoff": 15
           },
           "zerolinecolor": "white",
           "zerolinewidth": 2
          }
         }
        },
        "title": {
         "text": "CFS for Bear Creek Above Bear Creek Lake Near Morrison, Co<br>Coordinates: 39.65202778, -105.17325"
        },
        "xaxis": {
         "anchor": "y",
         "domain": [
          0.325,
          1
         ]
        },
        "yaxis": {
         "anchor": "x",
         "domain": [
          0,
          1
         ],
         "title": {
          "text": "Cubic Feet per Second (CFS)"
         }
        }
       }
      },
      "text/html": [
       "<div>\n",
       "        \n",
       "        \n",
       "            <div id=\"3d8d7463-b1a3-42b9-8cef-b0764ae7ce09\" class=\"plotly-graph-div\" style=\"height:525px; width:100%;\"></div>\n",
       "            <script type=\"text/javascript\">\n",
       "                require([\"plotly\"], function(Plotly) {\n",
       "                    window.PLOTLYENV=window.PLOTLYENV || {};\n",
       "                    \n",
       "                if (document.getElementById(\"3d8d7463-b1a3-42b9-8cef-b0764ae7ce09\")) {\n",
       "                    Plotly.newPlot(\n",
       "                        '3d8d7463-b1a3-42b9-8cef-b0764ae7ce09',\n",
       "                        [{\"lat\": [39.65202778], \"lon\": [-105.17325], \"marker\": {\"color\": \"red\", \"size\": 20}, \"mode\": \"markers\", \"showlegend\": false, \"subplot\": \"mapbox\", \"text\": [\"BEAR CREEK ABOVE BEAR CREEK LAKE NEAR MORRISON, CO\"], \"type\": \"scattermapbox\"}, {\"line\": {\"color\": \"orange\", \"width\": 2}, \"name\": \"Mean CFS for the Day<br>(Last 10 Years)\", \"type\": \"scatter\", \"x\": [\"April 01\", \"April 02\", \"April 03\", \"April 04\", \"April 05\", \"April 06\", \"April 07\", \"April 08\", \"April 09\", \"April 10\", \"April 11\", \"April 12\", \"April 13\", \"April 14\", \"April 15\", \"April 16\", \"April 17\", \"April 18\", \"April 19\", \"April 20\", \"April 21\", \"April 22\", \"April 23\", \"April 24\", \"April 25\", \"April 26\", \"April 27\", \"April 28\", \"April 29\", \"April 30\", \"May 01\", \"May 02\", \"May 03\", \"May 04\", \"May 05\", \"May 06\", \"May 07\", \"May 08\", \"May 09\", \"May 10\", \"May 11\", \"May 12\", \"May 13\", \"May 14\", \"May 15\", \"May 16\", \"May 17\", \"May 18\", \"May 19\", \"May 20\", \"May 21\", \"May 22\", \"May 23\", \"May 24\", \"May 25\", \"May 26\", \"May 27\", \"May 28\", \"May 29\", \"May 30\", \"May 31\", \"June 01\", \"June 02\", \"June 03\", \"June 04\", \"June 05\", \"June 06\", \"June 07\", \"June 08\", \"June 09\", \"June 10\", \"June 11\", \"June 12\", \"June 13\", \"June 14\", \"June 15\", \"June 16\", \"June 17\", \"June 18\", \"June 19\", \"June 20\", \"June 21\", \"June 22\", \"June 23\", \"June 24\", \"June 25\", \"June 26\", \"June 27\", \"June 28\", \"June 29\", \"June 30\", \"July 01\", \"July 02\", \"July 03\", \"July 04\", \"July 05\", \"July 06\", \"July 07\", \"July 08\", \"July 09\", \"July 10\", \"July 11\", \"July 12\", \"July 13\", \"July 14\", \"July 15\", \"July 16\", \"July 17\", \"July 18\", \"July 19\", \"July 20\", \"July 21\", \"July 22\", \"July 23\", \"July 24\", \"July 25\", \"July 26\", \"July 27\", \"July 28\", \"July 29\", \"July 30\", \"July 31\", \"August 01\", \"August 02\", \"August 03\", \"August 04\", \"August 05\", \"August 06\", \"August 07\", \"August 08\", \"August 09\", \"August 10\", \"August 11\", \"August 12\", \"August 13\", \"August 14\", \"August 15\", \"August 16\", \"August 17\", \"August 18\", \"August 19\", \"August 20\", \"August 21\", \"August 22\", \"August 23\", \"August 24\", \"August 25\", \"August 26\", \"August 27\", \"August 28\", \"August 29\", \"August 30\", \"August 31\", \"September 01\", \"September 02\", \"September 03\", \"September 04\", \"September 05\", \"September 06\", \"September 07\", \"September 08\", \"September 09\", \"September 10\", \"September 11\", \"September 12\", \"September 13\", \"September 14\", \"September 15\", \"September 16\", \"September 17\", \"September 18\", \"September 19\", \"September 20\", \"September 21\", \"September 22\", \"September 23\", \"September 24\", \"September 25\", \"September 26\", \"September 27\", \"September 28\", \"September 29\", \"September 30\"], \"xaxis\": \"x\", \"y\": [11.555555555555555, 11.333333333333334, 14.0, 13.88888888888889, 14.88888888888889, 14.88888888888889, 15.555555555555555, 16.333333333333332, 17.333333333333332, 17.555555555555557, 19.333333333333332, 18.444444444444443, 18.88888888888889, 18.22222222222222, 20.88888888888889, 24.77777777777778, 25.444444444444443, 27.0, 30.11111111111111, 32.55555555555556, 38.0, 46.55555555555556, 55.666666666666664, 59.0, 54.111111111111114, 56.0, 55.333333333333336, 52.0, 55.111111111111114, 56.77777777777778, 61.0, 63.333333333333336, 67.88888888888889, 75.11111111111111, 98.33333333333333, 105.22222222222223, 100.22222222222223, 105.33333333333333, 150.33333333333334, 149.0, 144.22222222222223, 117.88888888888889, 102.55555555555556, 98.33333333333333, 101.375, 96.0, 94.625, 99.25, 128.625, 124.875, 125.125, 128.875, 135.75, 133.25, 137.125, 128.375, 120.375, 115.875, 111.75, 109.625, 98.875, 97.125, 94.75, 96.375, 94.0, 102.125, 116.625, 106.75, 99.75, 94.75, 92.875, 102.0, 111.25, 104.75, 104.5, 93.625, 97.125, 89.375, 90.5, 80.0, 82.375, 76.5, 74.125, 70.375, 63.125, 61.625, 57.75, 51.75, 46.75, 43.375, 43.5, 51.0, 53.75, 47.125, 43.125, 47.625, 46.25, 49.75, 57.625, 55.375, 50.625, 47.125, 53.875, 61.875, 62.125, 55.625, 53.375, 51.25, 42.625, 40.375, 41.25, 43.375, 40.875, 35.75, 35.0, 33.375, 38.75, 42.875, 34.75, 31.75, 36.125, 38.125, 32.875, 31.125, 33.5, 30.5, 31.25, 29.875, 27.0, 28.75, 29.0, 25.125, 25.375, 33.0, 25.375, 24.75, 25.625, 23.375, 23.625, 19.875, 19.375, 19.25, 19.25, 18.5, 21.125, 18.5, 17.125, 19.75, 21.625, 20.875, 16.75, 17.25, 17.0, 16.875, 15.0, 14.375, 13.375, 18.125, 19.125, 16.25, 15.75, 18.875, 30.125, 62.25, 95.25, 194.75, 144.375, 157.25, 173.0, 127.5, 106.625, 88.25, 83.0, 69.625, 62.125, 54.5, 41.25, 32.875, 30.625, 32.5, 36.625, 39.625, 41.285714285714285], \"yaxis\": \"y\"}, {\"line\": {\"color\": \"rgb(231, 29, 53)\", \"dash\": \"dot\", \"width\": 1}, \"name\": \"Max CFS for the Day<br>(Last 10 Years)\", \"type\": \"scatter\", \"x\": [\"April 01\", \"April 02\", \"April 03\", \"April 04\", \"April 05\", \"April 06\", \"April 07\", \"April 08\", \"April 09\", \"April 10\", \"April 11\", \"April 12\", \"April 13\", \"April 14\", \"April 15\", \"April 16\", \"April 17\", \"April 18\", \"April 19\", \"April 20\", \"April 21\", \"April 22\", \"April 23\", \"April 24\", \"April 25\", \"April 26\", \"April 27\", \"April 28\", \"April 29\", \"April 30\", \"May 01\", \"May 02\", \"May 03\", \"May 04\", \"May 05\", \"May 06\", \"May 07\", \"May 08\", \"May 09\", \"May 10\", \"May 11\", \"May 12\", \"May 13\", \"May 14\", \"May 15\", \"May 16\", \"May 17\", \"May 18\", \"May 19\", \"May 20\", \"May 21\", \"May 22\", \"May 23\", \"May 24\", \"May 25\", \"May 26\", \"May 27\", \"May 28\", \"May 29\", \"May 30\", \"May 31\", \"June 01\", \"June 02\", \"June 03\", \"June 04\", \"June 05\", \"June 06\", \"June 07\", \"June 08\", \"June 09\", \"June 10\", \"June 11\", \"June 12\", \"June 13\", \"June 14\", \"June 15\", \"June 16\", \"June 17\", \"June 18\", \"June 19\", \"June 20\", \"June 21\", \"June 22\", \"June 23\", \"June 24\", \"June 25\", \"June 26\", \"June 27\", \"June 28\", \"June 29\", \"June 30\", \"July 01\", \"July 02\", \"July 03\", \"July 04\", \"July 05\", \"July 06\", \"July 07\", \"July 08\", \"July 09\", \"July 10\", \"July 11\", \"July 12\", \"July 13\", \"July 14\", \"July 15\", \"July 16\", \"July 17\", \"July 18\", \"July 19\", \"July 20\", \"July 21\", \"July 22\", \"July 23\", \"July 24\", \"July 25\", \"July 26\", \"July 27\", \"July 28\", \"July 29\", \"July 30\", \"July 31\", \"August 01\", \"August 02\", \"August 03\", \"August 04\", \"August 05\", \"August 06\", \"August 07\", \"August 08\", \"August 09\", \"August 10\", \"August 11\", \"August 12\", \"August 13\", \"August 14\", \"August 15\", \"August 16\", \"August 17\", \"August 18\", \"August 19\", \"August 20\", \"August 21\", \"August 22\", \"August 23\", \"August 24\", \"August 25\", \"August 26\", \"August 27\", \"August 28\", \"August 29\", \"August 30\", \"August 31\", \"September 01\", \"September 02\", \"September 03\", \"September 04\", \"September 05\", \"September 06\", \"September 07\", \"September 08\", \"September 09\", \"September 10\", \"September 11\", \"September 12\", \"September 13\", \"September 14\", \"September 15\", \"September 16\", \"September 17\", \"September 18\", \"September 19\", \"September 20\", \"September 21\", \"September 22\", \"September 23\", \"September 24\", \"September 25\", \"September 26\", \"September 27\", \"September 28\", \"September 29\", \"September 30\"], \"xaxis\": \"x\", \"y\": [47.0, 54.0, 64.0, 65.0, 66.0, 58.0, 61.0, 63.0, 63.0, 64.0, 78.0, 73.0, 70.0, 68.0, 76.0, 94.0, 86.0, 88.0, 90.0, 100.0, 139.0, 199.0, 243.0, 259.0, 231.0, 214.0, 186.0, 167.0, 173.0, 196.0, 234.0, 255.0, 245.0, 334.0, 529.0, 581.0, 513.0, 543.0, 915.0, 917.0, 808.0, 616.0, 503.0, 427.0, 350.0, 311.0, 294.0, 284.0, 546.0, 528.0, 511.0, 538.0, 557.0, 542.0, 516.0, 476.0, 403.0, 372.0, 334.0, 323.0, 280.0, 281.0, 269.0, 283.0, 287.0, 333.0, 418.0, 353.0, 318.0, 304.0, 333.0, 435.0, 512.0, 448.0, 460.0, 411.0, 456.0, 391.0, 361.0, 324.0, 289.0, 259.0, 242.0, 219.0, 214.0, 229.0, 222.0, 198.0, 169.0, 157.0, 145.0, 150.0, 170.0, 140.0, 127.0, 154.0, 153.0, 203.0, 228.0, 241.0, 221.0, 187.0, 171.0, 185.0, 188.0, 169.0, 156.0, 141.0, 133.0, 132.0, 130.0, 153.0, 148.0, 127.0, 122.0, 127.0, 118.0, 112.0, 92.0, 85.0, 87.0, 113.0, 88.0, 80.0, 82.0, 73.0, 67.0, 66.0, 55.0, 57.0, 52.0, 52.0, 58.0, 89.0, 52.0, 57.0, 60.0, 57.0, 66.0, 53.0, 45.0, 43.0, 45.0, 34.0, 38.0, 35.0, 25.0, 48.0, 60.0, 52.0, 36.0, 34.0, 41.0, 35.0, 37.0, 37.0, 33.0, 47.0, 47.0, 35.0, 26.0, 57.0, 152.0, 420.0, 679.0, 1480.0, 1080.0, 1170.0, 1310.0, 949.0, 786.0, 651.0, 611.0, 502.0, 415.0, 364.0, 254.0, 199.0, 181.0, 180.0, 206.0, 217.0, 189.0], \"yaxis\": \"y\"}, {\"line\": {\"color\": \"rgb(30, 100, 46)\", \"dash\": \"dot\", \"width\": 1}, \"name\": \"Min CFS for the Day<br>(Last 10 Years)\", \"type\": \"scatter\", \"x\": [\"April 01\", \"April 02\", \"April 03\", \"April 04\", \"April 05\", \"April 06\", \"April 07\", \"April 08\", \"April 09\", \"April 10\", \"April 11\", \"April 12\", \"April 13\", \"April 14\", \"April 15\", \"April 16\", \"April 17\", \"April 18\", \"April 19\", \"April 20\", \"April 21\", \"April 22\", \"April 23\", \"April 24\", \"April 25\", \"April 26\", \"April 27\", \"April 28\", \"April 29\", \"April 30\", \"May 01\", \"May 02\", \"May 03\", \"May 04\", \"May 05\", \"May 06\", \"May 07\", \"May 08\", \"May 09\", \"May 10\", \"May 11\", \"May 12\", \"May 13\", \"May 14\", \"May 15\", \"May 16\", \"May 17\", \"May 18\", \"May 19\", \"May 20\", \"May 21\", \"May 22\", \"May 23\", \"May 24\", \"May 25\", \"May 26\", \"May 27\", \"May 28\", \"May 29\", \"May 30\", \"May 31\", \"June 01\", \"June 02\", \"June 03\", \"June 04\", \"June 05\", \"June 06\", \"June 07\", \"June 08\", \"June 09\", \"June 10\", \"June 11\", \"June 12\", \"June 13\", \"June 14\", \"June 15\", \"June 16\", \"June 17\", \"June 18\", \"June 19\", \"June 20\", \"June 21\", \"June 22\", \"June 23\", \"June 24\", \"June 25\", \"June 26\", \"June 27\", \"June 28\", \"June 29\", \"June 30\", \"July 01\", \"July 02\", \"July 03\", \"July 04\", \"July 05\", \"July 06\", \"July 07\", \"July 08\", \"July 09\", \"July 10\", \"July 11\", \"July 12\", \"July 13\", \"July 14\", \"July 15\", \"July 16\", \"July 17\", \"July 18\", \"July 19\", \"July 20\", \"July 21\", \"July 22\", \"July 23\", \"July 24\", \"July 25\", \"July 26\", \"July 27\", \"July 28\", \"July 29\", \"July 30\", \"July 31\", \"August 01\", \"August 02\", \"August 03\", \"August 04\", \"August 05\", \"August 06\", \"August 07\", \"August 08\", \"August 09\", \"August 10\", \"August 11\", \"August 12\", \"August 13\", \"August 14\", \"August 15\", \"August 16\", \"August 17\", \"August 18\", \"August 19\", \"August 20\", \"August 21\", \"August 22\", \"August 23\", \"August 24\", \"August 25\", \"August 26\", \"August 27\", \"August 28\", \"August 29\", \"August 30\", \"August 31\", \"September 01\", \"September 02\", \"September 03\", \"September 04\", \"September 05\", \"September 06\", \"September 07\", \"September 08\", \"September 09\", \"September 10\", \"September 11\", \"September 12\", \"September 13\", \"September 14\", \"September 15\", \"September 16\", \"September 17\", \"September 18\", \"September 19\", \"September 20\", \"September 21\", \"September 22\", \"September 23\", \"September 24\", \"September 25\", \"September 26\", \"September 27\", \"September 28\", \"September 29\", \"September 30\"], \"xaxis\": \"x\", \"y\": [1.0, 1.0, 2.0, 2.0, 4.0, 3.0, 2.0, 2.0, 3.0, 2.0, 3.0, 3.0, 2.0, 4.0, 4.0, 5.0, 7.0, 5.0, 4.0, 6.0, 5.0, 5.0, 3.0, 5.0, 5.0, 5.0, 5.0, 5.0, 7.0, 3.0, 8.0, 7.0, 5.0, 5.0, 5.0, 5.0, 4.0, 6.0, 8.0, 9.0, 23.0, 13.0, 9.0, 18.0, 21.0, 14.0, 18.0, 26.0, 28.0, 28.0, 21.0, 17.0, 14.0, 8.0, 18.0, 18.0, 17.0, 19.0, 28.0, 21.0, 19.0, 18.0, 15.0, 16.0, 15.0, 13.0, 13.0, 12.0, 10.0, 9.0, 9.0, 7.0, 6.0, 6.0, 6.0, 5.0, 5.0, 14.0, 13.0, 12.0, 10.0, 11.0, 11.0, 10.0, 10.0, 10.0, 7.0, 6.0, 5.0, 4.0, 3.0, 4.0, 4.0, 2.0, 2.0, 3.0, 4.0, 3.0, 2.0, 2.0, 2.0, 3.0, 2.0, 3.0, 4.0, 3.0, 12.0, 8.0, 5.0, 2.0, 1.0, 2.0, 3.0, 6.0, 6.0, 7.0, 10.0, 8.0, 6.0, 8.0, 7.0, 6.0, 3.0, 4.0, 4.0, 4.0, 3.0, 3.0, 2.0, 3.0, 2.0, 2.0, 2.0, 2.0, 2.0, 1.0, 5.0, 5.0, 2.0, 1.0, 2.0, 1.0, 2.0, 6.0, 5.0, 2.0, 2.0, 1.0, 1.0, 1.0, 2.0, 3.0, 2.0, 2.0, 1.0, 3.0, 2.0, 7.0, 7.0, 9.0, 7.0, 7.0, 8.0, 5.0, 6.0, 3.0, 3.0, 3.0, 3.0, 3.0, 3.0, 3.0, 3.0, 3.0, 3.0, 3.0, 2.0, 2.0, 4.0, 3.0, 3.0, 3.0, 2.0], \"yaxis\": \"y\"}, {\"line\": {\"color\": \"navy\", \"width\": 2}, \"name\": \"Mean CFS for the Day<br>(2020)\", \"type\": \"scatter\", \"x\": [\"April 01\", \"April 02\", \"April 03\", \"April 04\", \"April 05\", \"April 06\", \"April 07\", \"April 08\", \"April 09\", \"April 10\", \"April 11\", \"April 12\", \"April 13\", \"April 14\", \"April 15\", \"April 16\", \"April 17\", \"April 18\", \"April 19\", \"April 20\", \"April 21\", \"April 22\", \"April 23\", \"April 24\", \"April 25\", \"April 26\", \"April 27\", \"April 28\", \"April 29\", \"April 30\", \"May 01\", \"May 02\", \"May 03\", \"May 04\", \"May 05\", \"May 06\", \"May 07\", \"May 08\", \"May 09\", \"May 10\", \"May 11\", \"May 12\", \"May 13\"], \"xaxis\": \"x\", \"y\": [5.0, 5.0, 3.0, 3.0, 11.0, 18.0, 17.0, 17.0, 18.0, 19.0, 21.0, 25.0, 23.0, 19.0, 23.0, 31.0, 24.0, 34.0, 34.0, 30.0, 27.0, 25.0, 21.0, 20.0, 21.0, 20.0, 23.0, 29.0, 30.0, 33.0, 32.0, 38.0, 42.0, 42.0, 36.0, 28.0, 27.0, 26.0, 26.0, 24.0, 25.0, 25.0, 22.0], \"yaxis\": \"y\"}],\n",
       "                        {\"font\": {\"color\": \"#7f7f7f\", \"family\": \"Courier New, monospace\", \"size\": 10}, \"mapbox\": {\"center\": {\"lat\": 39.65202778, \"lon\": -105.17325}, \"domain\": {\"x\": [0.0, 0.225], \"y\": [0.0, 1.0]}, \"style\": \"open-street-map\", \"zoom\": 11}, \"template\": {\"data\": {\"bar\": [{\"error_x\": {\"color\": \"#2a3f5f\"}, \"error_y\": {\"color\": \"#2a3f5f\"}, \"marker\": {\"line\": {\"color\": \"#E5ECF6\", \"width\": 0.5}}, \"type\": \"bar\"}], \"barpolar\": [{\"marker\": {\"line\": {\"color\": \"#E5ECF6\", \"width\": 0.5}}, \"type\": \"barpolar\"}], \"carpet\": [{\"aaxis\": {\"endlinecolor\": \"#2a3f5f\", \"gridcolor\": \"white\", \"linecolor\": \"white\", \"minorgridcolor\": \"white\", \"startlinecolor\": \"#2a3f5f\"}, \"baxis\": {\"endlinecolor\": \"#2a3f5f\", \"gridcolor\": \"white\", \"linecolor\": \"white\", \"minorgridcolor\": \"white\", \"startlinecolor\": \"#2a3f5f\"}, \"type\": \"carpet\"}], \"choropleth\": [{\"colorbar\": {\"outlinewidth\": 0, \"ticks\": \"\"}, \"type\": \"choropleth\"}], \"contour\": [{\"colorbar\": {\"outlinewidth\": 0, \"ticks\": \"\"}, \"colorscale\": [[0.0, \"#0d0887\"], [0.1111111111111111, \"#46039f\"], [0.2222222222222222, \"#7201a8\"], [0.3333333333333333, \"#9c179e\"], [0.4444444444444444, \"#bd3786\"], [0.5555555555555556, \"#d8576b\"], [0.6666666666666666, \"#ed7953\"], [0.7777777777777778, \"#fb9f3a\"], [0.8888888888888888, \"#fdca26\"], [1.0, \"#f0f921\"]], \"type\": \"contour\"}], \"contourcarpet\": [{\"colorbar\": {\"outlinewidth\": 0, \"ticks\": \"\"}, \"type\": \"contourcarpet\"}], \"heatmap\": [{\"colorbar\": {\"outlinewidth\": 0, \"ticks\": \"\"}, \"colorscale\": [[0.0, \"#0d0887\"], [0.1111111111111111, \"#46039f\"], [0.2222222222222222, \"#7201a8\"], [0.3333333333333333, \"#9c179e\"], [0.4444444444444444, \"#bd3786\"], [0.5555555555555556, \"#d8576b\"], [0.6666666666666666, \"#ed7953\"], [0.7777777777777778, \"#fb9f3a\"], [0.8888888888888888, \"#fdca26\"], [1.0, \"#f0f921\"]], \"type\": \"heatmap\"}], \"heatmapgl\": [{\"colorbar\": {\"outlinewidth\": 0, \"ticks\": \"\"}, \"colorscale\": [[0.0, \"#0d0887\"], [0.1111111111111111, \"#46039f\"], [0.2222222222222222, \"#7201a8\"], [0.3333333333333333, \"#9c179e\"], [0.4444444444444444, \"#bd3786\"], [0.5555555555555556, \"#d8576b\"], [0.6666666666666666, \"#ed7953\"], [0.7777777777777778, \"#fb9f3a\"], [0.8888888888888888, \"#fdca26\"], [1.0, \"#f0f921\"]], \"type\": \"heatmapgl\"}], \"histogram\": [{\"marker\": {\"colorbar\": {\"outlinewidth\": 0, \"ticks\": \"\"}}, \"type\": \"histogram\"}], \"histogram2d\": [{\"colorbar\": {\"outlinewidth\": 0, \"ticks\": \"\"}, \"colorscale\": [[0.0, \"#0d0887\"], [0.1111111111111111, \"#46039f\"], [0.2222222222222222, \"#7201a8\"], [0.3333333333333333, \"#9c179e\"], [0.4444444444444444, \"#bd3786\"], [0.5555555555555556, \"#d8576b\"], [0.6666666666666666, \"#ed7953\"], [0.7777777777777778, \"#fb9f3a\"], [0.8888888888888888, \"#fdca26\"], [1.0, \"#f0f921\"]], \"type\": \"histogram2d\"}], \"histogram2dcontour\": [{\"colorbar\": {\"outlinewidth\": 0, \"ticks\": \"\"}, \"colorscale\": [[0.0, \"#0d0887\"], [0.1111111111111111, \"#46039f\"], [0.2222222222222222, \"#7201a8\"], [0.3333333333333333, \"#9c179e\"], [0.4444444444444444, \"#bd3786\"], [0.5555555555555556, \"#d8576b\"], [0.6666666666666666, \"#ed7953\"], [0.7777777777777778, \"#fb9f3a\"], [0.8888888888888888, \"#fdca26\"], [1.0, \"#f0f921\"]], \"type\": \"histogram2dcontour\"}], \"mesh3d\": [{\"colorbar\": {\"outlinewidth\": 0, \"ticks\": \"\"}, \"type\": \"mesh3d\"}], \"parcoords\": [{\"line\": {\"colorbar\": {\"outlinewidth\": 0, \"ticks\": \"\"}}, \"type\": \"parcoords\"}], \"pie\": [{\"automargin\": true, \"type\": \"pie\"}], \"scatter\": [{\"marker\": {\"colorbar\": {\"outlinewidth\": 0, \"ticks\": \"\"}}, \"type\": \"scatter\"}], \"scatter3d\": [{\"line\": {\"colorbar\": {\"outlinewidth\": 0, \"ticks\": \"\"}}, \"marker\": {\"colorbar\": {\"outlinewidth\": 0, \"ticks\": \"\"}}, \"type\": \"scatter3d\"}], \"scattercarpet\": [{\"marker\": {\"colorbar\": {\"outlinewidth\": 0, \"ticks\": \"\"}}, \"type\": \"scattercarpet\"}], \"scattergeo\": [{\"marker\": {\"colorbar\": {\"outlinewidth\": 0, \"ticks\": \"\"}}, \"type\": \"scattergeo\"}], \"scattergl\": [{\"marker\": {\"colorbar\": {\"outlinewidth\": 0, \"ticks\": \"\"}}, \"type\": \"scattergl\"}], \"scattermapbox\": [{\"marker\": {\"colorbar\": {\"outlinewidth\": 0, \"ticks\": \"\"}}, \"type\": \"scattermapbox\"}], \"scatterpolar\": [{\"marker\": {\"colorbar\": {\"outlinewidth\": 0, \"ticks\": \"\"}}, \"type\": \"scatterpolar\"}], \"scatterpolargl\": [{\"marker\": {\"colorbar\": {\"outlinewidth\": 0, \"ticks\": \"\"}}, \"type\": \"scatterpolargl\"}], \"scatterternary\": [{\"marker\": {\"colorbar\": {\"outlinewidth\": 0, \"ticks\": \"\"}}, \"type\": \"scatterternary\"}], \"surface\": [{\"colorbar\": {\"outlinewidth\": 0, \"ticks\": \"\"}, \"colorscale\": [[0.0, \"#0d0887\"], [0.1111111111111111, \"#46039f\"], [0.2222222222222222, \"#7201a8\"], [0.3333333333333333, \"#9c179e\"], [0.4444444444444444, \"#bd3786\"], [0.5555555555555556, \"#d8576b\"], [0.6666666666666666, \"#ed7953\"], [0.7777777777777778, \"#fb9f3a\"], [0.8888888888888888, \"#fdca26\"], [1.0, \"#f0f921\"]], \"type\": \"surface\"}], \"table\": [{\"cells\": {\"fill\": {\"color\": \"#EBF0F8\"}, \"line\": {\"color\": \"white\"}}, \"header\": {\"fill\": {\"color\": \"#C8D4E3\"}, \"line\": {\"color\": \"white\"}}, \"type\": \"table\"}]}, \"layout\": {\"annotationdefaults\": {\"arrowcolor\": \"#2a3f5f\", \"arrowhead\": 0, \"arrowwidth\": 1}, \"coloraxis\": {\"colorbar\": {\"outlinewidth\": 0, \"ticks\": \"\"}}, \"colorscale\": {\"diverging\": [[0, \"#8e0152\"], [0.1, \"#c51b7d\"], [0.2, \"#de77ae\"], [0.3, \"#f1b6da\"], [0.4, \"#fde0ef\"], [0.5, \"#f7f7f7\"], [0.6, \"#e6f5d0\"], [0.7, \"#b8e186\"], [0.8, \"#7fbc41\"], [0.9, \"#4d9221\"], [1, \"#276419\"]], \"sequential\": [[0.0, \"#0d0887\"], [0.1111111111111111, \"#46039f\"], [0.2222222222222222, \"#7201a8\"], [0.3333333333333333, \"#9c179e\"], [0.4444444444444444, \"#bd3786\"], [0.5555555555555556, \"#d8576b\"], [0.6666666666666666, \"#ed7953\"], [0.7777777777777778, \"#fb9f3a\"], [0.8888888888888888, \"#fdca26\"], [1.0, \"#f0f921\"]], \"sequentialminus\": [[0.0, \"#0d0887\"], [0.1111111111111111, \"#46039f\"], [0.2222222222222222, \"#7201a8\"], [0.3333333333333333, \"#9c179e\"], [0.4444444444444444, \"#bd3786\"], [0.5555555555555556, \"#d8576b\"], [0.6666666666666666, \"#ed7953\"], [0.7777777777777778, \"#fb9f3a\"], [0.8888888888888888, \"#fdca26\"], [1.0, \"#f0f921\"]]}, \"colorway\": [\"#636efa\", \"#EF553B\", \"#00cc96\", \"#ab63fa\", \"#FFA15A\", \"#19d3f3\", \"#FF6692\", \"#B6E880\", \"#FF97FF\", \"#FECB52\"], \"font\": {\"color\": \"#2a3f5f\"}, \"geo\": {\"bgcolor\": \"white\", \"lakecolor\": \"white\", \"landcolor\": \"#E5ECF6\", \"showlakes\": true, \"showland\": true, \"subunitcolor\": \"white\"}, \"hoverlabel\": {\"align\": \"left\"}, \"hovermode\": \"closest\", \"mapbox\": {\"style\": \"light\"}, \"paper_bgcolor\": \"white\", \"plot_bgcolor\": \"#E5ECF6\", \"polar\": {\"angularaxis\": {\"gridcolor\": \"white\", \"linecolor\": \"white\", \"ticks\": \"\"}, \"bgcolor\": \"#E5ECF6\", \"radialaxis\": {\"gridcolor\": \"white\", \"linecolor\": \"white\", \"ticks\": \"\"}}, \"scene\": {\"xaxis\": {\"backgroundcolor\": \"#E5ECF6\", \"gridcolor\": \"white\", \"gridwidth\": 2, \"linecolor\": \"white\", \"showbackground\": true, \"ticks\": \"\", \"zerolinecolor\": \"white\"}, \"yaxis\": {\"backgroundcolor\": \"#E5ECF6\", \"gridcolor\": \"white\", \"gridwidth\": 2, \"linecolor\": \"white\", \"showbackground\": true, \"ticks\": \"\", \"zerolinecolor\": \"white\"}, \"zaxis\": {\"backgroundcolor\": \"#E5ECF6\", \"gridcolor\": \"white\", \"gridwidth\": 2, \"linecolor\": \"white\", \"showbackground\": true, \"ticks\": \"\", \"zerolinecolor\": \"white\"}}, \"shapedefaults\": {\"line\": {\"color\": \"#2a3f5f\"}}, \"ternary\": {\"aaxis\": {\"gridcolor\": \"white\", \"linecolor\": \"white\", \"ticks\": \"\"}, \"baxis\": {\"gridcolor\": \"white\", \"linecolor\": \"white\", \"ticks\": \"\"}, \"bgcolor\": \"#E5ECF6\", \"caxis\": {\"gridcolor\": \"white\", \"linecolor\": \"white\", \"ticks\": \"\"}}, \"title\": {\"x\": 0.05}, \"xaxis\": {\"automargin\": true, \"gridcolor\": \"white\", \"linecolor\": \"white\", \"ticks\": \"\", \"title\": {\"standoff\": 15}, \"zerolinecolor\": \"white\", \"zerolinewidth\": 2}, \"yaxis\": {\"automargin\": true, \"gridcolor\": \"white\", \"linecolor\": \"white\", \"ticks\": \"\", \"title\": {\"standoff\": 15}, \"zerolinecolor\": \"white\", \"zerolinewidth\": 2}}}, \"title\": {\"text\": \"CFS for Bear Creek Above Bear Creek Lake Near Morrison, Co<br>Coordinates: 39.65202778, -105.17325\"}, \"xaxis\": {\"anchor\": \"y\", \"domain\": [0.325, 1.0]}, \"yaxis\": {\"anchor\": \"x\", \"domain\": [0.0, 1.0], \"title\": {\"text\": \"Cubic Feet per Second (CFS)\"}}},\n",
       "                        {\"responsive\": true}\n",
       "                    ).then(function(){\n",
       "                            \n",
       "var gd = document.getElementById('3d8d7463-b1a3-42b9-8cef-b0764ae7ce09');\n",
       "var x = new MutationObserver(function (mutations, observer) {{\n",
       "        var display = window.getComputedStyle(gd).display;\n",
       "        if (!display || display === 'none') {{\n",
       "            console.log([gd, 'removed!']);\n",
       "            Plotly.purge(gd);\n",
       "            observer.disconnect();\n",
       "        }}\n",
       "}});\n",
       "\n",
       "// Listen for the removal of the full notebook cells\n",
       "var notebookContainer = gd.closest('#notebook-container');\n",
       "if (notebookContainer) {{\n",
       "    x.observe(notebookContainer, {childList: true});\n",
       "}}\n",
       "\n",
       "// Listen for the clearing of the current output cell\n",
       "var outputEl = gd.closest('.output');\n",
       "if (outputEl) {{\n",
       "    x.observe(outputEl, {childList: true});\n",
       "}}\n",
       "\n",
       "                        })\n",
       "                };\n",
       "                });\n",
       "            </script>\n",
       "        </div>"
      ]
     },
     "metadata": {},
     "output_type": "display_data"
    }
   ],
   "source": [
    "fig = make_subplots(\n",
    "    rows=1, cols=2,\n",
    "    column_widths=[0.25, 0.75],\n",
    "    specs=[[{\"type\": \"mapbox\"}, {\"type\": \"xy\"}]]\n",
    ")\n",
    "\n",
    "fig.add_trace(go.Scattermapbox(\n",
    "    lat=locs[\"lat\"],\n",
    "    lon=locs[\"lon\"],\n",
    "    mode=\"markers\",\n",
    "    showlegend=False,\n",
    "    marker=go.scattermapbox.Marker(\n",
    "        size=20,\n",
    "        color='red'\n",
    "    ),\n",
    "    text=locs[\"site_name\"]\n",
    "    ),row=1,col=1).update_layout(\n",
    "        mapbox_style=\"open-street-map\",\n",
    "        mapbox=dict(\n",
    "            center=dict(\n",
    "            lat=lat,\n",
    "            lon=lon\n",
    "            ),\n",
    "            zoom=11\n",
    "        )\n",
    "    \n",
    ")\n",
    "\n",
    "fig.add_trace(go.Scatter(x=his_cfs_df['new_day'], y=his_cfs_df['mean_cfs'], name='Mean CFS for the Day<br>(Last 10 Years)',\n",
    "                         line=dict(color='orange', width=2)),row=1,col=2)\n",
    "\n",
    "fig.add_trace(go.Scatter(x=max_cfs_df['new_day'], y=max_cfs_df['max_cfs'], name='Max CFS for the Day<br>(Last 10 Years)',\n",
    "                         line=dict(color=\"rgb(231, 29, 53)\", width=1, dash='dot')),row=1,col=2)\n",
    "\n",
    "fig.add_trace(go.Scatter(x=min_cfs_df['new_day'], y=min_cfs_df['min_cfs'], name='Min CFS for the Day<br>(Last 10 Years)',\n",
    "                         line=dict(color=\"rgb(30, 100, 46)\", width=1, dash='dot')),row=1,col=2)\n",
    "\n",
    "fig.add_trace(go.Scatter(x=rec_cfs_df['new_day'], y=rec_cfs_df['mean_cfs'], name='Mean CFS for the Day<br>(2020)',\n",
    "                         line=dict(color=\"navy\", width=2)),row=1,col=2).update_layout(\n",
    "                                                                            title_text=\"CFS for {}<br>Coordinates: {}, {}\".format(site_name.title(), lat, lon),\n",
    "                                                                            font=dict(family='Courier New, monospace', size=10, color='#7f7f7f'),\n",
    "                                                                            yaxis_title=\"Cubic Feet per Second (CFS)\")\n",
    "\n",
    "fig.show()"
   ]
  },
  {
   "cell_type": "code",
   "execution_count": 35,
   "metadata": {},
   "outputs": [],
   "source": [
    "fig.write_html(r\"Z:\\Dev\\CFS_Charts\\bear_creek_above_Mor.html\")"
   ]
  },
  {
   "cell_type": "code",
   "execution_count": null,
   "metadata": {},
   "outputs": [],
   "source": []
  },
  {
   "cell_type": "code",
   "execution_count": null,
   "metadata": {},
   "outputs": [],
   "source": []
  }
 ],
 "metadata": {
  "kernelspec": {
   "display_name": "Python 3",
   "language": "python",
   "name": "python3"
  },
  "language_info": {
   "codemirror_mode": {
    "name": "ipython",
    "version": 3
   },
   "file_extension": ".py",
   "mimetype": "text/x-python",
   "name": "python",
   "nbconvert_exporter": "python",
   "pygments_lexer": "ipython3",
   "version": "3.8.0"
  }
 },
 "nbformat": 4,
 "nbformat_minor": 4
}
